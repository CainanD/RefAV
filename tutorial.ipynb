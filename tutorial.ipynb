{
 "cells": [
  {
   "cell_type": "markdown",
   "metadata": {},
   "source": [
    "### RefAV Tutorial\n",
    "To start, we separate the scenario mining ground truth annotations into separate log folders.\n",
    "\n",
    "At the same time, we create the ground truth .pkl files we can use to evaluate performance later. "
   ]
  },
  {
   "cell_type": "code",
   "execution_count": null,
   "metadata": {},
   "outputs": [],
   "source": [
    "from pathlib import Path\n",
    "import os\n",
    "from refAV.paths import SM_DATA_DIR\n",
    "from refAV.dataset_conversion import separate_scenario_mining_annotations, create_gt_mining_pkls_parallel\n",
    "\n",
    "sm_val_feather = Path('av2_sm_downloads/scenario_mining_val_annotations.feather')\n",
    "separate_scenario_mining_annotations(sm_val_feather, SM_DATA_DIR / 'val')\n",
    "create_gt_mining_pkls_parallel(sm_val_feather, SM_DATA_DIR / 'val', num_processes=max(1, int(.9*os.cpu_count())))"
   ]
  },
  {
   "cell_type": "markdown",
   "metadata": {},
   "source": [
    "RefAV takes any base set of predicted tracks runs a set of filtering operations to identify the relevant portions of each track.\n",
    "The baseline uses the track predictions from the winner of the 2024  AV2 End-to-End Forecasting challenge: Le3DE2E. This block downloads the track predictions for the val set from Hugging Face."
   ]
  },
  {
   "cell_type": "code",
   "execution_count": null,
   "metadata": {},
   "outputs": [],
   "source": [
    "from huggingface_hub import hf_hub_download\n",
    "from refAV.dataset_conversion import pickle_to_feather\n",
    "from refAV.paths import SM_PRED_DIR, AV2_DATA_DIR\n",
    "from pathlib import Path\n",
    "\n",
    "repo_id = \"CainanD/AV2_Tracker_Predictions\"\n",
    "filename = \"Le3DE2E_tracking_predictions_val.pkl\"\n",
    "tracker_predictions_dir = 'tracker_predictions'\n",
    "\n",
    "hf_hub_download(repo_id, filename, repo_type='dataset', local_dir=tracker_predictions_dir)\n",
    "\n",
    "tracking_val_predictions = Path(tracker_predictions_dir + '/' + filename)\n",
    "sm_val_feather = Path('av2_sm_downloads/scenario_mining_val_annotations.feather')\n",
    "\n",
    "pickle_to_feather(AV2_DATA_DIR / 'val', tracking_val_predictions, SM_PRED_DIR / 'val')"
   ]
  },
  {
   "cell_type": "markdown",
   "metadata": {},
   "source": [
    "RefAV works by constructing compositional functions that can be used to define a scenario.\n",
    "\n",
    "Here is an example of using the compositional functions to define a scenario corresponding \n",
    "to a \"moving vehicle behind another vehicle being crossed by a jaywalking pedestrian'. "
   ]
  },
  {
   "cell_type": "code",
   "execution_count": null,
   "metadata": {},
   "outputs": [],
   "source": [
    "from refAV.utils import *\n",
    "from refAV.paths import SM_PRED_DIR, SM_DATA_DIR\n",
    "from IPython.display import Video\n",
    "\n",
    "dataset_dir = SM_DATA_DIR / 'val'\n",
    "output_dir = SM_PRED_DIR / 'val'\n",
    "log_id = '0b86f508-5df9-4a46-bc59-5b9536dbde9f'\n",
    "log_dir = dataset_dir / log_id\n",
    "\n",
    "description = 'vehicle behind another vehicle being crossed by a jaywalking pedestrian'\n",
    "\n",
    "peds = get_objects_of_category(log_dir, category='PEDESTRIAN')\n",
    "peds_on_road = on_road(peds, log_dir)\n",
    "jaywalking_peds = scenario_not(at_pedestrian_crossing)(peds_on_road, log_dir)\n",
    "\n",
    "vehicles = get_objects_of_category(log_dir, category='VEHICLE')\n",
    "moving_vehicles = scenario_and([in_drivable_area(vehicles, log_dir), scenario_not(stationary)(vehicles, log_dir)])\n",
    "crossed_vehicles = being_crossed_by(moving_vehicles, jaywalking_peds, log_dir)\n",
    "behind_crossed_vehicle = get_objects_in_relative_direction(crossed_vehicles, moving_vehicles, log_dir,\n",
    "\t\t\t\t\t\t\t\t\t\t\tdirection='backward', max_number=1, within_distance=25)\n",
    "\n",
    "#Output scenario outputs a .pkl and .mp4 for the predicted tracks during that scenario\n",
    "output_scenario(behind_crossed_vehicle, description, log_dir, output_dir, visualize=True)\n",
    "\n",
    "Video('output/sm_predictions/val/0b86f508-5df9-4a46-bc59-5b9536dbde9f/scenario visualizations/vehicle behind another vehicle being crossed by a jaywalking pedestrian_n6.mp4')"
   ]
  },
  {
   "cell_type": "markdown",
   "metadata": {},
   "source": [
    "Now we know how to define a scenario, let's let an LLM do it for us.\n",
    "\n",
    "Using this function requires an [Anthropic API](https://www.anthropic.com/api) key!\n",
    "\n",
    "Since this can get quite expensive,\n",
    "we provide the predicted scenario definitions in the output/llm_scenario_predictions folder."
   ]
  },
  {
   "cell_type": "code",
   "execution_count": null,
   "metadata": {},
   "outputs": [],
   "source": [
    "from refAV.scenario_prediction import predict_scenario_from_description\n",
    "from refAV.paths import LLM_DEF_DIR\n",
    "\n",
    "prompt = 'vehicle heading toward ego from the side while at an intersection'\n",
    "predict_scenario_from_description(prompt, LLM_DEF_DIR)\n",
    "\n",
    "with open(LLM_DEF_DIR/(prompt + '.txt'), 'r') as def_file:\n",
    "    definition_text = def_file.read()\n",
    "    print(definition_text)"
   ]
  },
  {
   "cell_type": "markdown",
   "metadata": {},
   "source": [
    "With the basics out of the way, let's run evaluation on the entire validation dataset.\n",
    "The create_base_prediction function calls the LLM scenario definition generator and the\n",
    " runs the defintion to find instance of the prompt.\n",
    "  It can take quite a bit of time to go through all of the logs."
   ]
  },
  {
   "cell_type": "code",
   "execution_count": null,
   "metadata": {},
   "outputs": [
    {
     "name": "stderr",
     "output_type": "stream",
     "text": [
      "85/149:  20%|██        | 2/10 [59:12<4:37:59, 2084.92s/it]"
     ]
    },
    {
     "name": "stdout",
     "output_type": "stream",
     "text": [
      "Scenario pkl file for group of three people_a060c4c1 saved successfully.\n",
      "/home/crdavids/Trinity-Sync/refbot/output/sm_predictions/val/a060c4c1-b9fc-39c1-9d30-d93a124c9066/vehicle with multiple pedestrians to the left_a060c4c1_claude-3-5-sonnet_predictions.pkl\n",
      "Cached scenario prediction found\n"
     ]
    },
    {
     "name": "stderr",
     "output_type": "stream",
     "text": [
      "85/149:  30%|███       | 3/10 [1:03:44<2:26:40, 1257.16s/it]"
     ]
    },
    {
     "name": "stdout",
     "output_type": "stream",
     "text": [
      "Scenario pkl file for vehicle with multiple pedestrians to the left_a060c4c1 saved successfully.\n",
      "/home/crdavids/Trinity-Sync/refbot/output/sm_predictions/val/a060c4c1-b9fc-39c1-9d30-d93a124c9066/the active vehicle in front of the the vehicle ahead_a060c4c1_claude-3-5-sonnet_predictions.pkl\n",
      "the active vehicle in front of the the vehicle ahead definition saved to output/llm_scenario_predictions/claude-3-5-sonnet\n"
     ]
    },
    {
     "name": "stderr",
     "output_type": "stream",
     "text": [
      "85/149:  40%|████      | 4/10 [1:04:05<1:16:53, 768.89s/it] "
     ]
    },
    {
     "name": "stdout",
     "output_type": "stream",
     "text": [
      "Scenario pkl file for the active vehicle in front of the vehicle ahead_a060c4c1 saved successfully.\n",
      "/home/crdavids/Trinity-Sync/refbot/output/sm_predictions/val/a060c4c1-b9fc-39c1-9d30-d93a124c9066/multiple pedestrians crossing ahead_a060c4c1_claude-3-5-sonnet_predictions.pkl\n",
      "Cached scenario prediction found\n"
     ]
    },
    {
     "name": "stderr",
     "output_type": "stream",
     "text": [
      "85/149:  50%|█████     | 5/10 [1:05:30<43:31, 522.37s/it]  "
     ]
    },
    {
     "name": "stdout",
     "output_type": "stream",
     "text": [
      "Scenario pkl file for multiple pedestrians crossing ahead_a060c4c1 saved successfully.\n",
      "/home/crdavids/Trinity-Sync/refbot/output/sm_predictions/val/a060c4c1-b9fc-39c1-9d30-d93a124c9066/pedestrian crossing at bollard_a060c4c1_claude-3-5-sonnet_predictions.pkl\n",
      "Cached scenario prediction found\n"
     ]
    },
    {
     "name": "stderr",
     "output_type": "stream",
     "text": [
      "85/149:  60%|██████    | 6/10 [1:13:23<33:43, 505.82s/it]"
     ]
    },
    {
     "name": "stdout",
     "output_type": "stream",
     "text": [
      "Scenario pkl file for pedestrian crossing at bollard_a060c4c1 saved successfully.\n",
      "/home/crdavids/Trinity-Sync/refbot/output/sm_predictions/val/a060c4c1-b9fc-39c1-9d30-d93a124c9066/group of people_a060c4c1_claude-3-5-sonnet_predictions.pkl\n",
      "Cached scenario prediction found\n"
     ]
    },
    {
     "name": "stderr",
     "output_type": "stream",
     "text": [
      "85/149:  70%|███████   | 7/10 [1:48:53<51:50, 1036.80s/it]"
     ]
    },
    {
     "name": "stdout",
     "output_type": "stream",
     "text": [
      "Scenario pkl file for group of people_a060c4c1 saved successfully.\n",
      "/home/crdavids/Trinity-Sync/refbot/output/sm_predictions/val/a060c4c1-b9fc-39c1-9d30-d93a124c9066/stopped vehicle facing a turning vehicle between 5-20 meters away_a060c4c1_claude-3-5-sonnet_predictions.pkl\n",
      "Cached scenario prediction found\n"
     ]
    },
    {
     "name": "stderr",
     "output_type": "stream",
     "text": [
      "85/149:  80%|████████  | 8/10 [1:49:09<23:43, 711.68s/it] "
     ]
    },
    {
     "name": "stdout",
     "output_type": "stream",
     "text": [
      "Scenario pkl file for stopped vehicle facing a turning vehicle between 5-20 meters away_a060c4c1 saved successfully.\n",
      "/home/crdavids/Trinity-Sync/refbot/output/sm_predictions/val/a060c4c1-b9fc-39c1-9d30-d93a124c9066/any vehicle in front of stop sign_a060c4c1_claude-3-5-sonnet_predictions.pkl\n",
      "Cached scenario prediction found\n"
     ]
    },
    {
     "name": "stderr",
     "output_type": "stream",
     "text": [
      "85/149:  90%|█████████ | 9/10 [1:49:29<08:15, 495.42s/it]"
     ]
    },
    {
     "name": "stdout",
     "output_type": "stream",
     "text": [
      "Scenario pkl file for any vehicle in front of stop sign_a060c4c1 saved successfully.\n",
      "Default scenario prediction correctly generated.\n",
      "/home/crdavids/Trinity-Sync/refbot/output/sm_predictions/val/a060c4c1-b9fc-39c1-9d30-d93a124c9066/vehicle with multiple bicycles ahead_a060c4c1_claude-3-5-sonnet_predictions.pkl\n",
      "Cached scenario prediction found\n"
     ]
    },
    {
     "name": "stderr",
     "output_type": "stream",
     "text": [
      "85/149: 100%|██████████| 10/10 [1:49:42<00:00, 658.24s/it]\n"
     ]
    },
    {
     "name": "stdout",
     "output_type": "stream",
     "text": [
      "Scenario pkl file for vehicle with multiple bicycles ahead_a060c4c1 saved successfully.\n",
      "a1589ae2-2678-310e-91cc-c4b512cd7fa5\n"
     ]
    },
    {
     "name": "stderr",
     "output_type": "stream",
     "text": [
      "86/149:   0%|          | 0/4 [00:00<?, ?it/s]"
     ]
    },
    {
     "name": "stdout",
     "output_type": "stream",
     "text": [
      "/home/crdavids/Trinity-Sync/refbot/output/sm_predictions/val/a1589ae2-2678-310e-91cc-c4b512cd7fa5/object that hasn't moved_a1589ae2_claude-3-5-sonnet_predictions.pkl\n",
      "Cached scenario prediction found\n"
     ]
    },
    {
     "name": "stderr",
     "output_type": "stream",
     "text": [
      "86/149:  25%|██▌       | 1/4 [00:03<00:10,  3.63s/it]"
     ]
    },
    {
     "name": "stdout",
     "output_type": "stream",
     "text": [
      "Scenario pkl file for object that hasn't moved_a1589ae2 saved successfully.\n",
      "Default scenario prediction correctly generated.\n",
      "/home/crdavids/Trinity-Sync/refbot/output/sm_predictions/val/a1589ae2-2678-310e-91cc-c4b512cd7fa5/braking vehicle_a1589ae2_claude-3-5-sonnet_predictions.pkl\n",
      "Cached scenario prediction found\n"
     ]
    },
    {
     "name": "stderr",
     "output_type": "stream",
     "text": [
      "86/149:  50%|█████     | 2/4 [00:08<00:08,  4.21s/it]"
     ]
    },
    {
     "name": "stdout",
     "output_type": "stream",
     "text": [
      "Scenario pkl file for braking vehicle_a1589ae2 saved successfully.\n",
      "/home/crdavids/Trinity-Sync/refbot/output/sm_predictions/val/a1589ae2-2678-310e-91cc-c4b512cd7fa5/parked vehicle_a1589ae2_claude-3-5-sonnet_predictions.pkl\n",
      "Cached scenario prediction found\n"
     ]
    },
    {
     "name": "stderr",
     "output_type": "stream",
     "text": [
      "86/149:  75%|███████▌  | 3/4 [00:13<00:04,  4.77s/it]"
     ]
    },
    {
     "name": "stdout",
     "output_type": "stream",
     "text": [
      "Scenario pkl file for parked vehicle_a1589ae2 saved successfully.\n",
      "/home/crdavids/Trinity-Sync/refbot/output/sm_predictions/val/a1589ae2-2678-310e-91cc-c4b512cd7fa5/any vehicle in front of stop sign_a1589ae2_claude-3-5-sonnet_predictions.pkl\n",
      "Cached scenario prediction found\n",
      "Correct lane segment not found for stop sign!\n",
      "Correct lane segment not found for stop sign!\n"
     ]
    },
    {
     "name": "stderr",
     "output_type": "stream",
     "text": [
      "86/149: 100%|██████████| 4/4 [00:32<00:00,  8.09s/it]\n"
     ]
    },
    {
     "name": "stdout",
     "output_type": "stream",
     "text": [
      "Scenario pkl file for any vehicle in front of stop sign_a1589ae2 saved successfully.\n",
      "Default scenario prediction correctly generated.\n",
      "a33a44fb-6008-3dc2-b7c5-2d27b70741e8\n"
     ]
    },
    {
     "name": "stderr",
     "output_type": "stream",
     "text": [
      "87/149:   0%|          | 0/9 [00:00<?, ?it/s]"
     ]
    },
    {
     "name": "stdout",
     "output_type": "stream",
     "text": [
      "/home/crdavids/Trinity-Sync/refbot/output/sm_predictions/val/a33a44fb-6008-3dc2-b7c5-2d27b70741e8/dog_a33a44fb_claude-3-5-sonnet_predictions.pkl\n",
      "Cached scenario prediction found\n"
     ]
    },
    {
     "name": "stderr",
     "output_type": "stream",
     "text": [
      "87/149:  11%|█         | 1/9 [00:05<00:42,  5.32s/it]"
     ]
    },
    {
     "name": "stdout",
     "output_type": "stream",
     "text": [
      "Scenario pkl file for dog_a33a44fb saved successfully.\n",
      "/home/crdavids/Trinity-Sync/refbot/output/sm_predictions/val/a33a44fb-6008-3dc2-b7c5-2d27b70741e8/dog near an intersection_a33a44fb_claude-3-5-sonnet_predictions.pkl\n",
      "Cached scenario prediction found\n"
     ]
    },
    {
     "name": "stderr",
     "output_type": "stream",
     "text": [
      "87/149:  22%|██▏       | 2/9 [00:11<00:39,  5.67s/it]"
     ]
    },
    {
     "name": "stdout",
     "output_type": "stream",
     "text": [
      "Scenario pkl file for dog near an intersection_a33a44fb saved successfully.\n",
      "/home/crdavids/Trinity-Sync/refbot/output/sm_predictions/val/a33a44fb-6008-3dc2-b7c5-2d27b70741e8/stopped vehicle facing a turning vehicle between 5-20 meters away_a33a44fb_claude-3-5-sonnet_predictions.pkl\n",
      "Cached scenario prediction found\n"
     ]
    },
    {
     "name": "stderr",
     "output_type": "stream",
     "text": [
      "87/149:  33%|███▎      | 3/9 [00:29<01:07, 11.31s/it]"
     ]
    },
    {
     "name": "stdout",
     "output_type": "stream",
     "text": [
      "Scenario pkl file for stopped vehicle facing a turning vehicle between 5-20 meters away_a33a44fb saved successfully.\n",
      "/home/crdavids/Trinity-Sync/refbot/output/sm_predictions/val/a33a44fb-6008-3dc2-b7c5-2d27b70741e8/vehicle two vehicles ahead is changing lanes_a33a44fb_claude-3-5-sonnet_predictions.pkl\n",
      "Cached scenario prediction found\n"
     ]
    },
    {
     "name": "stderr",
     "output_type": "stream",
     "text": [
      "87/149:  44%|████▍     | 4/9 [00:39<00:55, 11.05s/it]"
     ]
    },
    {
     "name": "stdout",
     "output_type": "stream",
     "text": [
      "Scenario pkl file for vehicle two vehicles ahead is changing lanes_a33a44fb saved successfully.\n",
      "/home/crdavids/Trinity-Sync/refbot/output/sm_predictions/val/a33a44fb-6008-3dc2-b7c5-2d27b70741e8/ego vehicle following vehicle being overtaken on right_a33a44fb_claude-3-5-sonnet_predictions.pkl\n",
      "Cached scenario prediction found\n"
     ]
    },
    {
     "name": "stderr",
     "output_type": "stream",
     "text": [
      "87/149:  56%|█████▌    | 5/9 [00:53<00:47, 11.87s/it]"
     ]
    },
    {
     "name": "stdout",
     "output_type": "stream",
     "text": [
      "Scenario pkl file for ego vehicle following vehicle being overtaken on right_a33a44fb saved successfully.\n",
      "/home/crdavids/Trinity-Sync/refbot/output/sm_predictions/val/a33a44fb-6008-3dc2-b7c5-2d27b70741e8/pedestrians over 30 meters away_a33a44fb_claude-3-5-sonnet_predictions.pkl\n",
      "Cached scenario prediction found\n"
     ]
    },
    {
     "name": "stderr",
     "output_type": "stream",
     "text": [
      "87/149:  67%|██████▋   | 6/9 [00:59<00:29,  9.88s/it]"
     ]
    },
    {
     "name": "stdout",
     "output_type": "stream",
     "text": [
      "Scenario pkl file for pedestrians over 30 meters away_a33a44fb saved successfully.\n",
      "Default scenario prediction correctly generated.\n",
      "/home/crdavids/Trinity-Sync/refbot/output/sm_predictions/val/a33a44fb-6008-3dc2-b7c5-2d27b70741e8/dog near pedestrian_a33a44fb_claude-3-5-sonnet_predictions.pkl\n",
      "Cached scenario prediction found\n"
     ]
    },
    {
     "name": "stderr",
     "output_type": "stream",
     "text": [
      "87/149:  78%|███████▊  | 7/9 [01:07<00:18,  9.22s/it]"
     ]
    },
    {
     "name": "stdout",
     "output_type": "stream",
     "text": [
      "Scenario pkl file for dog near pedestrian_a33a44fb saved successfully.\n",
      "/home/crdavids/Trinity-Sync/refbot/output/sm_predictions/val/a33a44fb-6008-3dc2-b7c5-2d27b70741e8/passenger vehicle swerving left_a33a44fb_claude-3-5-sonnet_predictions.pkl\n",
      "Cached scenario prediction found\n"
     ]
    },
    {
     "name": "stderr",
     "output_type": "stream",
     "text": [
      "87/149:  89%|████████▉ | 8/9 [01:16<00:09,  9.38s/it]"
     ]
    },
    {
     "name": "stdout",
     "output_type": "stream",
     "text": [
      "Scenario pkl file for passenger vehicle swerving left_a33a44fb saved successfully.\n",
      "/home/crdavids/Trinity-Sync/refbot/output/sm_predictions/val/a33a44fb-6008-3dc2-b7c5-2d27b70741e8/ego vehicle in dense traffic with lane-changing vehicles_a33a44fb_claude-3-5-sonnet_predictions.pkl\n",
      "Cached scenario prediction found\n"
     ]
    },
    {
     "name": "stderr",
     "output_type": "stream",
     "text": [
      "87/149: 100%|██████████| 9/9 [01:26<00:00,  9.63s/it]\n"
     ]
    },
    {
     "name": "stdout",
     "output_type": "stream",
     "text": [
      "Scenario pkl file for ego vehicle in dense traffic with lane-changing vehicles_a33a44fb saved successfully.\n",
      "a7636fca-4d9e-3052-bef2-af0ce5d1df74\n"
     ]
    },
    {
     "name": "stderr",
     "output_type": "stream",
     "text": [
      "88/149:   0%|          | 0/9 [00:00<?, ?it/s]"
     ]
    },
    {
     "name": "stdout",
     "output_type": "stream",
     "text": [
      "/home/crdavids/Trinity-Sync/refbot/output/sm_predictions/val/a7636fca-4d9e-3052-bef2-af0ce5d1df74/box trucks within 10 meters of an intersection_a7636fca_claude-3-5-sonnet_predictions.pkl\n",
      "Cached scenario prediction found\n"
     ]
    },
    {
     "name": "stderr",
     "output_type": "stream",
     "text": [
      "88/149:  11%|█         | 1/9 [00:06<00:55,  6.93s/it]"
     ]
    },
    {
     "name": "stdout",
     "output_type": "stream",
     "text": [
      "Scenario pkl file for box trucks within 10 meters of an intersection_a7636fca saved successfully.\n",
      "/home/crdavids/Trinity-Sync/refbot/output/sm_predictions/val/a7636fca-4d9e-3052-bef2-af0ce5d1df74/accelerating passenger vehicle_a7636fca_claude-3-5-sonnet_predictions.pkl\n",
      "Cached scenario prediction found\n"
     ]
    },
    {
     "name": "stderr",
     "output_type": "stream",
     "text": [
      "88/149:  22%|██▏       | 2/9 [00:15<00:55,  7.94s/it]"
     ]
    },
    {
     "name": "stdout",
     "output_type": "stream",
     "text": [
      "Scenario pkl file for accelerating passenger vehicle_a7636fca saved successfully.\n",
      "/home/crdavids/Trinity-Sync/refbot/output/sm_predictions/val/a7636fca-4d9e-3052-bef2-af0ce5d1df74/two cars back from the ego vehicle_a7636fca_claude-3-5-sonnet_predictions.pkl\n",
      "Cached scenario prediction found\n"
     ]
    },
    {
     "name": "stderr",
     "output_type": "stream",
     "text": [
      "88/149:  33%|███▎      | 3/9 [00:33<01:14, 12.49s/it]"
     ]
    },
    {
     "name": "stdout",
     "output_type": "stream",
     "text": [
      "Scenario pkl file for two cars back from the ego vehicle_a7636fca saved successfully.\n",
      "/home/crdavids/Trinity-Sync/refbot/output/sm_predictions/val/a7636fca-4d9e-3052-bef2-af0ce5d1df74/passenger vehicle turning right_a7636fca_claude-3-5-sonnet_predictions.pkl\n",
      "Cached scenario prediction found\n"
     ]
    },
    {
     "name": "stderr",
     "output_type": "stream",
     "text": [
      "88/149:  44%|████▍     | 4/9 [00:40<00:51, 10.29s/it]"
     ]
    },
    {
     "name": "stdout",
     "output_type": "stream",
     "text": [
      "Scenario pkl file for passenger vehicle turning right_a7636fca saved successfully.\n",
      "/home/crdavids/Trinity-Sync/refbot/output/sm_predictions/val/a7636fca-4d9e-3052-bef2-af0ce5d1df74/ego vehicle two cars ahead of another vehicle_a7636fca_claude-3-5-sonnet_predictions.pkl\n",
      "Cached scenario prediction found\n"
     ]
    },
    {
     "name": "stderr",
     "output_type": "stream",
     "text": [
      "88/149:  56%|█████▌    | 5/9 [00:47<00:36,  9.11s/it]"
     ]
    },
    {
     "name": "stdout",
     "output_type": "stream",
     "text": [
      "Scenario pkl file for ego vehicle two cars ahead of another vehicle_a7636fca saved successfully.\n",
      "/home/crdavids/Trinity-Sync/refbot/output/sm_predictions/val/a7636fca-4d9e-3052-bef2-af0ce5d1df74/passenger vehicle turning left at intersection_a7636fca_claude-3-5-sonnet_predictions.pkl\n",
      "Cached scenario prediction found\n"
     ]
    },
    {
     "name": "stderr",
     "output_type": "stream",
     "text": [
      "88/149:  67%|██████▋   | 6/9 [00:54<00:25,  8.55s/it]"
     ]
    },
    {
     "name": "stdout",
     "output_type": "stream",
     "text": [
      "Scenario pkl file for passenger vehicle turning left at intersection_a7636fca saved successfully.\n",
      "/home/crdavids/Trinity-Sync/refbot/output/sm_predictions/val/a7636fca-4d9e-3052-bef2-af0ce5d1df74/passenger vehicle swerving left_a7636fca_claude-3-5-sonnet_predictions.pkl\n",
      "Cached scenario prediction found\n"
     ]
    },
    {
     "name": "stderr",
     "output_type": "stream",
     "text": [
      "88/149:  78%|███████▊  | 7/9 [01:04<00:17,  8.92s/it]"
     ]
    },
    {
     "name": "stdout",
     "output_type": "stream",
     "text": [
      "Scenario pkl file for passenger vehicle swerving left_a7636fca saved successfully.\n",
      "/home/crdavids/Trinity-Sync/refbot/output/sm_predictions/val/a7636fca-4d9e-3052-bef2-af0ce5d1df74/truck without trailer_a7636fca_claude-3-5-sonnet_predictions.pkl\n",
      "Cached scenario prediction found\n"
     ]
    },
    {
     "name": "stderr",
     "output_type": "stream",
     "text": [
      "88/149:  89%|████████▉ | 8/9 [01:11<00:08,  8.17s/it]"
     ]
    },
    {
     "name": "stdout",
     "output_type": "stream",
     "text": [
      "Scenario pkl file for truck without trailer_a7636fca saved successfully.\n",
      "Default scenario prediction correctly generated.\n",
      "/home/crdavids/Trinity-Sync/refbot/output/sm_predictions/val/a7636fca-4d9e-3052-bef2-af0ce5d1df74/car turning right_a7636fca_claude-3-5-sonnet_predictions.pkl\n",
      "Cached scenario prediction found\n"
     ]
    },
    {
     "name": "stderr",
     "output_type": "stream",
     "text": [
      "88/149: 100%|██████████| 9/9 [01:18<00:00,  8.70s/it]\n"
     ]
    },
    {
     "name": "stdout",
     "output_type": "stream",
     "text": [
      "Scenario pkl file for car turning right_a7636fca saved successfully.\n",
      "a91d4c7b-bf55-3a0e-9eba-1a43577bcca8\n"
     ]
    },
    {
     "name": "stderr",
     "output_type": "stream",
     "text": [
      "89/149:   0%|          | 0/10 [00:00<?, ?it/s]"
     ]
    },
    {
     "name": "stdout",
     "output_type": "stream",
     "text": [
      "/home/crdavids/Trinity-Sync/refbot/output/sm_predictions/val/a91d4c7b-bf55-3a0e-9eba-1a43577bcca8/vehicle two cars ahead is changing lanes_a91d4c7b_claude-3-5-sonnet_predictions.pkl\n",
      "Cached scenario prediction found\n"
     ]
    },
    {
     "name": "stderr",
     "output_type": "stream",
     "text": [
      "89/149:  10%|█         | 1/10 [00:27<04:11, 27.91s/it]"
     ]
    },
    {
     "name": "stdout",
     "output_type": "stream",
     "text": [
      "Scenario pkl file for vehicle two cars ahead is changing lanes_a91d4c7b saved successfully.\n",
      "/home/crdavids/Trinity-Sync/refbot/output/sm_predictions/val/a91d4c7b-bf55-3a0e-9eba-1a43577bcca8/box truck changing lanes to the left_a91d4c7b_claude-3-5-sonnet_predictions.pkl\n",
      "Cached scenario prediction found\n"
     ]
    },
    {
     "name": "stderr",
     "output_type": "stream",
     "text": [
      "89/149:  20%|██        | 2/10 [00:33<02:00, 15.01s/it]"
     ]
    },
    {
     "name": "stdout",
     "output_type": "stream",
     "text": [
      "Scenario pkl file for box truck changing lanes to the left_a91d4c7b saved successfully.\n",
      "/home/crdavids/Trinity-Sync/refbot/output/sm_predictions/val/a91d4c7b-bf55-3a0e-9eba-1a43577bcca8/ego vehicle merging between two regular vehicles_a91d4c7b_claude-3-5-sonnet_predictions.pkl\n",
      "ego vehicle merging between two regular vehicles definition saved to output/llm_scenario_predictions/claude-3-5-sonnet\n"
     ]
    },
    {
     "name": "stderr",
     "output_type": "stream",
     "text": [
      "89/149:  30%|███       | 3/10 [00:51<01:54, 16.31s/it]"
     ]
    },
    {
     "name": "stdout",
     "output_type": "stream",
     "text": [
      "Scenario pkl file for ego vehicle merging between two regular vehicles_a91d4c7b saved successfully.\n",
      "/home/crdavids/Trinity-Sync/refbot/output/sm_predictions/val/a91d4c7b-bf55-3a0e-9eba-1a43577bcca8/box trucks within 10 meters of an intersection_a91d4c7b_claude-3-5-sonnet_predictions.pkl\n",
      "Cached scenario prediction found\n"
     ]
    },
    {
     "name": "stderr",
     "output_type": "stream",
     "text": [
      "89/149:  40%|████      | 4/10 [00:57<01:11, 11.99s/it]"
     ]
    },
    {
     "name": "stdout",
     "output_type": "stream",
     "text": [
      "Scenario pkl file for box trucks within 10 meters of an intersection_a91d4c7b saved successfully.\n",
      "/home/crdavids/Trinity-Sync/refbot/output/sm_predictions/val/a91d4c7b-bf55-3a0e-9eba-1a43577bcca8/box truck with multiple construction cones to its right_a91d4c7b_claude-3-5-sonnet_predictions.pkl\n",
      "Cached scenario prediction found\n"
     ]
    },
    {
     "name": "stderr",
     "output_type": "stream",
     "text": [
      "89/149:  50%|█████     | 5/10 [01:04<00:51, 10.34s/it]"
     ]
    },
    {
     "name": "stdout",
     "output_type": "stream",
     "text": [
      "Scenario pkl file for box truck with multiple construction cones to its right_a91d4c7b saved successfully.\n",
      "/home/crdavids/Trinity-Sync/refbot/output/sm_predictions/val/a91d4c7b-bf55-3a0e-9eba-1a43577bcca8/accelerating vehicle changing lanes to the right_a91d4c7b_claude-3-5-sonnet_predictions.pkl\n",
      "Cached scenario prediction found\n"
     ]
    },
    {
     "name": "stderr",
     "output_type": "stream",
     "text": [
      "89/149:  60%|██████    | 6/10 [01:15<00:42, 10.54s/it]"
     ]
    },
    {
     "name": "stdout",
     "output_type": "stream",
     "text": [
      "Scenario pkl file for accelerating vehicle changing lanes to the right_a91d4c7b saved successfully.\n",
      "/home/crdavids/Trinity-Sync/refbot/output/sm_predictions/val/a91d4c7b-bf55-3a0e-9eba-1a43577bcca8/vehicle with multiple construction cones on the left side_a91d4c7b_claude-3-5-sonnet_predictions.pkl\n",
      "Cached scenario prediction found\n"
     ]
    },
    {
     "name": "stderr",
     "output_type": "stream",
     "text": [
      "89/149:  70%|███████   | 7/10 [01:45<00:51, 17.02s/it]"
     ]
    },
    {
     "name": "stdout",
     "output_type": "stream",
     "text": [
      "Scenario pkl file for vehicle with multiple construction cones on the left side_a91d4c7b saved successfully.\n",
      "/home/crdavids/Trinity-Sync/refbot/output/sm_predictions/val/a91d4c7b-bf55-3a0e-9eba-1a43577bcca8/vehicle facing the ego vehicle_a91d4c7b_claude-3-5-sonnet_predictions.pkl\n",
      "Cached scenario prediction found\n"
     ]
    },
    {
     "name": "stderr",
     "output_type": "stream",
     "text": [
      "89/149:  80%|████████  | 8/10 [01:58<00:31, 15.57s/it]"
     ]
    },
    {
     "name": "stdout",
     "output_type": "stream",
     "text": [
      "Scenario pkl file for vehicle facing the ego vehicle_a91d4c7b saved successfully.\n",
      "/home/crdavids/Trinity-Sync/refbot/output/sm_predictions/val/a91d4c7b-bf55-3a0e-9eba-1a43577bcca8/pedestrians over 30 meters away_a91d4c7b_claude-3-5-sonnet_predictions.pkl\n",
      "Cached scenario prediction found\n"
     ]
    },
    {
     "name": "stderr",
     "output_type": "stream",
     "text": [
      "89/149:  90%|█████████ | 9/10 [02:03<00:12, 12.44s/it]"
     ]
    },
    {
     "name": "stdout",
     "output_type": "stream",
     "text": [
      "Scenario pkl file for pedestrians over 30 meters away_a91d4c7b saved successfully.\n",
      "Default scenario prediction correctly generated.\n",
      "/home/crdavids/Trinity-Sync/refbot/output/sm_predictions/val/a91d4c7b-bf55-3a0e-9eba-1a43577bcca8/ego vehicle changing lanes to the right with a vehicle ahead_a91d4c7b_claude-3-5-sonnet_predictions.pkl\n",
      "Cached scenario prediction found\n"
     ]
    },
    {
     "name": "stderr",
     "output_type": "stream",
     "text": [
      "89/149: 100%|██████████| 10/10 [02:16<00:00, 13.70s/it]\n"
     ]
    },
    {
     "name": "stdout",
     "output_type": "stream",
     "text": [
      "Scenario pkl file for ego vehicle changing lanes to the right with a vehicle ahead_a91d4c7b saved successfully.\n",
      "adf9a841-e0db-30ab-b5b3-bf0b61658e1e\n"
     ]
    },
    {
     "name": "stderr",
     "output_type": "stream",
     "text": [
      "90/149:   0%|          | 0/9 [00:00<?, ?it/s]"
     ]
    },
    {
     "name": "stdout",
     "output_type": "stream",
     "text": [
      "/home/crdavids/Trinity-Sync/refbot/output/sm_predictions/val/adf9a841-e0db-30ab-b5b3-bf0b61658e1e/pedestrian near bollard_adf9a841_claude-3-5-sonnet_predictions.pkl\n",
      "Cached scenario prediction found\n"
     ]
    },
    {
     "name": "stderr",
     "output_type": "stream",
     "text": [
      "90/149:  11%|█         | 1/9 [00:18<02:27, 18.43s/it]"
     ]
    },
    {
     "name": "stdout",
     "output_type": "stream",
     "text": [
      "Scenario pkl file for pedestrian near bollard_adf9a841 saved successfully.\n",
      "/home/crdavids/Trinity-Sync/refbot/output/sm_predictions/val/adf9a841-e0db-30ab-b5b3-bf0b61658e1e/vehicle two vehicles ahead is turning_adf9a841_claude-3-5-sonnet_predictions.pkl\n",
      "Cached scenario prediction found\n"
     ]
    },
    {
     "name": "stderr",
     "output_type": "stream",
     "text": [
      "90/149:  22%|██▏       | 2/9 [00:29<01:40, 14.34s/it]"
     ]
    },
    {
     "name": "stdout",
     "output_type": "stream",
     "text": [
      "Scenario pkl file for vehicle two vehicles ahead is turning_adf9a841 saved successfully.\n",
      "/home/crdavids/Trinity-Sync/refbot/output/sm_predictions/val/adf9a841-e0db-30ab-b5b3-bf0b61658e1e/vehicle with multiple pedestrians to the left_adf9a841_claude-3-5-sonnet_predictions.pkl\n",
      "Cached scenario prediction found\n"
     ]
    },
    {
     "name": "stderr",
     "output_type": "stream",
     "text": [
      "90/149:  33%|███▎      | 3/9 [01:00<02:09, 21.63s/it]"
     ]
    },
    {
     "name": "stdout",
     "output_type": "stream",
     "text": [
      "Scenario pkl file for vehicle with multiple pedestrians to the left_adf9a841 saved successfully.\n",
      "/home/crdavids/Trinity-Sync/refbot/output/sm_predictions/val/adf9a841-e0db-30ab-b5b3-bf0b61658e1e/ego vehicle with parked bicycles ahead_adf9a841_claude-3-5-sonnet_predictions.pkl\n",
      "Cached scenario prediction found\n"
     ]
    },
    {
     "name": "stderr",
     "output_type": "stream",
     "text": [
      "90/149:  44%|████▍     | 4/9 [01:07<01:20, 16.10s/it]"
     ]
    },
    {
     "name": "stdout",
     "output_type": "stream",
     "text": [
      "Scenario pkl file for ego vehicle with parked bicycles ahead_adf9a841 saved successfully.\n",
      "/home/crdavids/Trinity-Sync/refbot/output/sm_predictions/val/adf9a841-e0db-30ab-b5b3-bf0b61658e1e/pedestrian facing toward ego vehicle_adf9a841_claude-3-5-sonnet_predictions.pkl\n",
      "Cached scenario prediction found\n"
     ]
    },
    {
     "name": "stderr",
     "output_type": "stream",
     "text": [
      "90/149:  56%|█████▌    | 5/9 [01:16<00:53, 13.34s/it]"
     ]
    },
    {
     "name": "stdout",
     "output_type": "stream",
     "text": [
      "Scenario pkl file for pedestrian facing toward ego vehicle_adf9a841 saved successfully.\n",
      "/home/crdavids/Trinity-Sync/refbot/output/sm_predictions/val/adf9a841-e0db-30ab-b5b3-bf0b61658e1e/vehicle with a bicycle to its right_adf9a841_claude-3-5-sonnet_predictions.pkl\n",
      "Cached scenario prediction found\n"
     ]
    },
    {
     "name": "stderr",
     "output_type": "stream",
     "text": [
      "90/149:  67%|██████▋   | 6/9 [01:35<00:45, 15.19s/it]"
     ]
    },
    {
     "name": "stdout",
     "output_type": "stream",
     "text": [
      "Scenario pkl file for vehicle with a bicycle to its right_adf9a841 saved successfully.\n",
      "/home/crdavids/Trinity-Sync/refbot/output/sm_predictions/val/adf9a841-e0db-30ab-b5b3-bf0b61658e1e/accelerating passenger vehicle_adf9a841_claude-3-5-sonnet_predictions.pkl\n",
      "Cached scenario prediction found\n"
     ]
    },
    {
     "name": "stderr",
     "output_type": "stream",
     "text": [
      "90/149:  78%|███████▊  | 7/9 [01:43<00:26, 13.04s/it]"
     ]
    },
    {
     "name": "stdout",
     "output_type": "stream",
     "text": [
      "Scenario pkl file for accelerating passenger vehicle_adf9a841 saved successfully.\n",
      "/home/crdavids/Trinity-Sync/refbot/output/sm_predictions/val/adf9a841-e0db-30ab-b5b3-bf0b61658e1e/the vehicle two cars in front of the ego vehicle_adf9a841_claude-3-5-sonnet_predictions.pkl\n",
      "Cached scenario prediction found\n"
     ]
    },
    {
     "name": "stderr",
     "output_type": "stream",
     "text": [
      "90/149:  89%|████████▉ | 8/9 [02:08<00:16, 16.78s/it]"
     ]
    },
    {
     "name": "stdout",
     "output_type": "stream",
     "text": [
      "Scenario pkl file for the vehicle two cars in front of the ego vehicle_adf9a841 saved successfully.\n",
      "/home/crdavids/Trinity-Sync/refbot/output/sm_predictions/val/adf9a841-e0db-30ab-b5b3-bf0b61658e1e/parked vehicle_adf9a841_claude-3-5-sonnet_predictions.pkl\n",
      "Cached scenario prediction found\n"
     ]
    },
    {
     "name": "stderr",
     "output_type": "stream",
     "text": [
      "90/149: 100%|██████████| 9/9 [02:16<00:00, 15.17s/it]\n"
     ]
    },
    {
     "name": "stdout",
     "output_type": "stream",
     "text": [
      "Scenario pkl file for parked vehicle_adf9a841 saved successfully.\n",
      "b19f3c1a-a84a-3a2d-8d1b-8a4ae201020b\n"
     ]
    },
    {
     "name": "stderr",
     "output_type": "stream",
     "text": [
      "91/149:   0%|          | 0/10 [00:00<?, ?it/s]"
     ]
    },
    {
     "name": "stdout",
     "output_type": "stream",
     "text": [
      "/home/crdavids/Trinity-Sync/refbot/output/sm_predictions/val/b19f3c1a-a84a-3a2d-8d1b-8a4ae201020b/two cars back from the ego vehicle_b19f3c1a_claude-3-5-sonnet_predictions.pkl\n",
      "Cached scenario prediction found\n"
     ]
    },
    {
     "name": "stderr",
     "output_type": "stream",
     "text": [
      "91/149:  10%|█         | 1/10 [00:15<02:18, 15.40s/it]"
     ]
    },
    {
     "name": "stdout",
     "output_type": "stream",
     "text": [
      "Scenario pkl file for two cars back from the ego vehicle_b19f3c1a saved successfully.\n",
      "/home/crdavids/Trinity-Sync/refbot/output/sm_predictions/val/b19f3c1a-a84a-3a2d-8d1b-8a4ae201020b/bus with at least 3 pedestrians within 5 meters_b19f3c1a_claude-3-5-sonnet_predictions.pkl\n",
      "Cached scenario prediction found\n"
     ]
    },
    {
     "name": "stderr",
     "output_type": "stream",
     "text": [
      "91/149:  20%|██        | 2/10 [00:26<01:43, 12.94s/it]"
     ]
    },
    {
     "name": "stdout",
     "output_type": "stream",
     "text": [
      "Scenario pkl file for bus with at least 3 pedestrians within 5 meters_b19f3c1a saved successfully.\n",
      "Default scenario prediction correctly generated.\n",
      "/home/crdavids/Trinity-Sync/refbot/output/sm_predictions/val/b19f3c1a-a84a-3a2d-8d1b-8a4ae201020b/bus with multiple pedestrians waiting on the right side_b19f3c1a_claude-3-5-sonnet_predictions.pkl\n",
      "Cached scenario prediction found\n"
     ]
    },
    {
     "name": "stderr",
     "output_type": "stream",
     "text": [
      "91/149:  30%|███       | 3/10 [00:37<01:23, 11.92s/it]"
     ]
    },
    {
     "name": "stdout",
     "output_type": "stream",
     "text": [
      "Scenario pkl file for bus with multiple pedestrians waiting on the right side_b19f3c1a saved successfully.\n",
      "/home/crdavids/Trinity-Sync/refbot/output/sm_predictions/val/b19f3c1a-a84a-3a2d-8d1b-8a4ae201020b/the vehicle two cars in front of the ego vehicle_b19f3c1a_claude-3-5-sonnet_predictions.pkl\n",
      "Cached scenario prediction found\n"
     ]
    },
    {
     "name": "stderr",
     "output_type": "stream",
     "text": [
      "91/149:  40%|████      | 4/10 [01:06<01:52, 18.77s/it]"
     ]
    },
    {
     "name": "stdout",
     "output_type": "stream",
     "text": [
      "Scenario pkl file for the vehicle two cars in front of the ego vehicle_b19f3c1a saved successfully.\n",
      "/home/crdavids/Trinity-Sync/refbot/output/sm_predictions/val/b19f3c1a-a84a-3a2d-8d1b-8a4ae201020b/group of three people_b19f3c1a_claude-3-5-sonnet_predictions.pkl\n",
      "Cached scenario prediction found\n"
     ]
    },
    {
     "name": "stderr",
     "output_type": "stream",
     "text": [
      "91/149:  50%|█████     | 5/10 [01:52<02:23, 28.67s/it]"
     ]
    },
    {
     "name": "stdout",
     "output_type": "stream",
     "text": [
      "Scenario pkl file for group of three people_b19f3c1a saved successfully.\n",
      "/home/crdavids/Trinity-Sync/refbot/output/sm_predictions/val/b19f3c1a-a84a-3a2d-8d1b-8a4ae201020b/a group of people_b19f3c1a_claude-3-5-sonnet_predictions.pkl\n",
      "Cached scenario prediction found\n"
     ]
    },
    {
     "name": "stderr",
     "output_type": "stream",
     "text": [
      "91/149:  60%|██████    | 6/10 [02:26<02:01, 30.43s/it]"
     ]
    },
    {
     "name": "stdout",
     "output_type": "stream",
     "text": [
      "Scenario pkl file for a group of people_b19f3c1a saved successfully.\n",
      "/home/crdavids/Trinity-Sync/refbot/output/sm_predictions/val/b19f3c1a-a84a-3a2d-8d1b-8a4ae201020b/vehicle directly facing a moving pedestrian from 5-15 meters away_b19f3c1a_claude-3-5-sonnet_predictions.pkl\n",
      "Cached scenario prediction found\n"
     ]
    },
    {
     "name": "stderr",
     "output_type": "stream",
     "text": [
      "91/149:  70%|███████   | 7/10 [02:41<01:16, 25.36s/it]"
     ]
    },
    {
     "name": "stdout",
     "output_type": "stream",
     "text": [
      "Scenario pkl file for vehicle directly facing a moving pedestrian from 5-15 meters away_b19f3c1a saved successfully.\n",
      "/home/crdavids/Trinity-Sync/refbot/output/sm_predictions/val/b19f3c1a-a84a-3a2d-8d1b-8a4ae201020b/pedestrian facing toward the bus_b19f3c1a_claude-3-5-sonnet_predictions.pkl\n",
      "Cached scenario prediction found\n"
     ]
    },
    {
     "name": "stderr",
     "output_type": "stream",
     "text": [
      "91/149:  80%|████████  | 8/10 [02:56<00:44, 22.08s/it]"
     ]
    },
    {
     "name": "stdout",
     "output_type": "stream",
     "text": [
      "Scenario pkl file for pedestrian facing toward the bus_b19f3c1a saved successfully.\n",
      "/home/crdavids/Trinity-Sync/refbot/output/sm_predictions/val/b19f3c1a-a84a-3a2d-8d1b-8a4ae201020b/group of people_b19f3c1a_claude-3-5-sonnet_predictions.pkl\n",
      "Cached scenario prediction found\n"
     ]
    },
    {
     "name": "stderr",
     "output_type": "stream",
     "text": [
      "91/149:  90%|█████████ | 9/10 [03:30<00:25, 25.72s/it]"
     ]
    },
    {
     "name": "stdout",
     "output_type": "stream",
     "text": [
      "Scenario pkl file for group of people_b19f3c1a saved successfully.\n",
      "/home/crdavids/Trinity-Sync/refbot/output/sm_predictions/val/b19f3c1a-a84a-3a2d-8d1b-8a4ae201020b/vehicle behind another vehicle that has a pedestrian on its right side_b19f3c1a_claude-3-5-sonnet_predictions.pkl\n",
      "Cached scenario prediction found\n"
     ]
    },
    {
     "name": "stderr",
     "output_type": "stream",
     "text": [
      "91/149: 100%|██████████| 10/10 [04:28<00:00, 26.82s/it]\n"
     ]
    },
    {
     "name": "stdout",
     "output_type": "stream",
     "text": [
      "Scenario pkl file for vehicle behind another vehicle that has a pedestrian on its right side_b19f3c1a saved successfully.\n",
      "b2053fdc-0b94-30bc-aee7-5bc6fb7e9f52\n"
     ]
    },
    {
     "name": "stderr",
     "output_type": "stream",
     "text": [
      "92/149:   0%|          | 0/9 [00:00<?, ?it/s]"
     ]
    },
    {
     "name": "stdout",
     "output_type": "stream",
     "text": [
      "/home/crdavids/Trinity-Sync/refbot/output/sm_predictions/val/b2053fdc-0b94-30bc-aee7-5bc6fb7e9f52/ego vehicle two cars ahead of another vehicle_b2053fdc_claude-3-5-sonnet_predictions.pkl\n",
      "Cached scenario prediction found\n"
     ]
    },
    {
     "name": "stderr",
     "output_type": "stream",
     "text": [
      "92/149:  11%|█         | 1/9 [00:15<02:07, 15.96s/it]"
     ]
    },
    {
     "name": "stdout",
     "output_type": "stream",
     "text": [
      "Scenario pkl file for ego vehicle two cars ahead of another vehicle_b2053fdc saved successfully.\n",
      "/home/crdavids/Trinity-Sync/refbot/output/sm_predictions/val/b2053fdc-0b94-30bc-aee7-5bc6fb7e9f52/making a left lane change while there is a vehicle to the right_b2053fdc_claude-3-5-sonnet_predictions.pkl\n",
      "Cached scenario prediction found\n"
     ]
    },
    {
     "name": "stderr",
     "output_type": "stream",
     "text": [
      "92/149:  22%|██▏       | 2/9 [00:27<01:33, 13.40s/it]"
     ]
    },
    {
     "name": "stdout",
     "output_type": "stream",
     "text": [
      "Scenario pkl file for making a left lane change while there is a vehicle to the right_b2053fdc saved successfully.\n",
      "/home/crdavids/Trinity-Sync/refbot/output/sm_predictions/val/b2053fdc-0b94-30bc-aee7-5bc6fb7e9f52/at least active 2 vehicles within 15 meters behind ego vehicle_b2053fdc_claude-3-5-sonnet_predictions.pkl\n",
      "at least active 2 vehicles within 15 meters behind ego vehicle definition saved to output/llm_scenario_predictions/claude-3-5-sonnet\n"
     ]
    },
    {
     "name": "stderr",
     "output_type": "stream",
     "text": [
      "92/149:  33%|███▎      | 3/9 [00:41<01:22, 13.75s/it]"
     ]
    },
    {
     "name": "stdout",
     "output_type": "stream",
     "text": [
      "Scenario pkl file for at least 2 active vehicles within 15 meters behind ego vehicle_b2053fdc saved successfully.\n",
      "/home/crdavids/Trinity-Sync/refbot/output/sm_predictions/val/b2053fdc-0b94-30bc-aee7-5bc6fb7e9f52/object that hasn't moved_b2053fdc_claude-3-5-sonnet_predictions.pkl\n",
      "Cached scenario prediction found\n"
     ]
    },
    {
     "name": "stderr",
     "output_type": "stream",
     "text": [
      "92/149:  44%|████▍     | 4/9 [00:46<00:51, 10.36s/it]"
     ]
    },
    {
     "name": "stdout",
     "output_type": "stream",
     "text": [
      "Scenario pkl file for object that hasn't moved_b2053fdc saved successfully.\n",
      "Default scenario prediction correctly generated.\n",
      "/home/crdavids/Trinity-Sync/refbot/output/sm_predictions/val/b2053fdc-0b94-30bc-aee7-5bc6fb7e9f52/accelerating vehicle changing lanes to the right_b2053fdc_claude-3-5-sonnet_predictions.pkl\n",
      "Cached scenario prediction found\n"
     ]
    },
    {
     "name": "stderr",
     "output_type": "stream",
     "text": [
      "92/149:  56%|█████▌    | 5/9 [00:57<00:41, 10.48s/it]"
     ]
    },
    {
     "name": "stdout",
     "output_type": "stream",
     "text": [
      "Scenario pkl file for accelerating vehicle changing lanes to the right_b2053fdc saved successfully.\n",
      "/home/crdavids/Trinity-Sync/refbot/output/sm_predictions/val/b2053fdc-0b94-30bc-aee7-5bc6fb7e9f52/parked vehicle_b2053fdc_claude-3-5-sonnet_predictions.pkl\n",
      "Cached scenario prediction found\n"
     ]
    },
    {
     "name": "stderr",
     "output_type": "stream",
     "text": [
      "92/149:  67%|██████▋   | 6/9 [01:04<00:27,  9.19s/it]"
     ]
    },
    {
     "name": "stdout",
     "output_type": "stream",
     "text": [
      "Scenario pkl file for parked vehicle_b2053fdc saved successfully.\n",
      "/home/crdavids/Trinity-Sync/refbot/output/sm_predictions/val/b2053fdc-0b94-30bc-aee7-5bc6fb7e9f52/left lane change while there is a vehicle to the left_b2053fdc_claude-3-5-sonnet_predictions.pkl\n",
      "Cached scenario prediction found\n"
     ]
    },
    {
     "name": "stderr",
     "output_type": "stream",
     "text": [
      "92/149:  78%|███████▊  | 7/9 [01:14<00:18,  9.45s/it]"
     ]
    },
    {
     "name": "stdout",
     "output_type": "stream",
     "text": [
      "Scenario pkl file for left lane change while there is a vehicle to the left_b2053fdc saved successfully.\n",
      "/home/crdavids/Trinity-Sync/refbot/output/sm_predictions/val/b2053fdc-0b94-30bc-aee7-5bc6fb7e9f52/pedestrian facing toward ego vehicle_b2053fdc_claude-3-5-sonnet_predictions.pkl\n",
      "Cached scenario prediction found\n"
     ]
    },
    {
     "name": "stderr",
     "output_type": "stream",
     "text": [
      "92/149:  89%|████████▉ | 8/9 [01:21<00:08,  8.87s/it]"
     ]
    },
    {
     "name": "stdout",
     "output_type": "stream",
     "text": [
      "Scenario pkl file for pedestrian facing toward ego vehicle_b2053fdc saved successfully.\n",
      "/home/crdavids/Trinity-Sync/refbot/output/sm_predictions/val/b2053fdc-0b94-30bc-aee7-5bc6fb7e9f52/passenger vehicle turning left at intersection_b2053fdc_claude-3-5-sonnet_predictions.pkl\n",
      "Cached scenario prediction found\n"
     ]
    },
    {
     "name": "stderr",
     "output_type": "stream",
     "text": [
      "92/149: 100%|██████████| 9/9 [01:28<00:00,  9.87s/it]\n"
     ]
    },
    {
     "name": "stdout",
     "output_type": "stream",
     "text": [
      "Scenario pkl file for passenger vehicle turning left at intersection_b2053fdc saved successfully.\n",
      "b213af37-7d89-342d-ae39-8a3c72159a01\n"
     ]
    },
    {
     "name": "stderr",
     "output_type": "stream",
     "text": [
      "93/149:   0%|          | 0/11 [00:00<?, ?it/s]"
     ]
    },
    {
     "name": "stdout",
     "output_type": "stream",
     "text": [
      "/home/crdavids/Trinity-Sync/refbot/output/sm_predictions/val/b213af37-7d89-342d-ae39-8a3c72159a01/construction item on road_b213af37_claude-3-5-sonnet_predictions.pkl\n",
      "Cached scenario prediction found\n"
     ]
    },
    {
     "name": "stderr",
     "output_type": "stream",
     "text": [
      "93/149:   9%|▉         | 1/11 [00:12<02:00, 12.02s/it]"
     ]
    },
    {
     "name": "stdout",
     "output_type": "stream",
     "text": [
      "Scenario pkl file for construction item on road_b213af37 saved successfully.\n",
      "/home/crdavids/Trinity-Sync/refbot/output/sm_predictions/val/b213af37-7d89-342d-ae39-8a3c72159a01/ego vehicle approaching stopped delivery truck_b213af37_claude-3-5-sonnet_predictions.pkl\n",
      "Cached scenario prediction found\n"
     ]
    },
    {
     "name": "stderr",
     "output_type": "stream",
     "text": [
      "93/149:  18%|█▊        | 2/11 [00:20<01:26,  9.65s/it]"
     ]
    },
    {
     "name": "stdout",
     "output_type": "stream",
     "text": [
      "Scenario pkl file for ego vehicle approaching stopped delivery truck_b213af37 saved successfully.\n",
      "/home/crdavids/Trinity-Sync/refbot/output/sm_predictions/val/b213af37-7d89-342d-ae39-8a3c72159a01/vehicles being passed by a motorcycle on either side_b213af37_claude-3-5-sonnet_predictions.pkl\n",
      "Cached scenario prediction found\n"
     ]
    },
    {
     "name": "stderr",
     "output_type": "stream",
     "text": [
      "93/149:  27%|██▋       | 3/11 [00:30<01:20, 10.02s/it]"
     ]
    },
    {
     "name": "stdout",
     "output_type": "stream",
     "text": [
      "Scenario pkl file for vehicles being passed by a motorcycle on either side_b213af37 saved successfully.\n",
      "/home/crdavids/Trinity-Sync/refbot/output/sm_predictions/val/b213af37-7d89-342d-ae39-8a3c72159a01/vehicle approaching multiple pedestrians at crosswalk_b213af37_claude-3-5-sonnet_predictions.pkl\n",
      "Cached scenario prediction found\n"
     ]
    },
    {
     "name": "stderr",
     "output_type": "stream",
     "text": [
      "93/149:  36%|███▋      | 4/11 [00:42<01:14, 10.65s/it]"
     ]
    },
    {
     "name": "stdout",
     "output_type": "stream",
     "text": [
      "Scenario pkl file for vehicle approaching multiple pedestrians at crosswalk_b213af37 saved successfully.\n",
      "/home/crdavids/Trinity-Sync/refbot/output/sm_predictions/val/b213af37-7d89-342d-ae39-8a3c72159a01/ego vehicle near construction barrel_b213af37_claude-3-5-sonnet_predictions.pkl\n",
      "Cached scenario prediction found\n"
     ]
    },
    {
     "name": "stderr",
     "output_type": "stream",
     "text": [
      "93/149:  45%|████▌     | 5/11 [00:51<01:01, 10.23s/it]"
     ]
    },
    {
     "name": "stdout",
     "output_type": "stream",
     "text": [
      "Scenario pkl file for ego vehicle near construction barrel_b213af37 saved successfully.\n",
      "/home/crdavids/Trinity-Sync/refbot/output/sm_predictions/val/b213af37-7d89-342d-ae39-8a3c72159a01/truck without trailer_b213af37_claude-3-5-sonnet_predictions.pkl\n",
      "Cached scenario prediction found\n"
     ]
    },
    {
     "name": "stderr",
     "output_type": "stream",
     "text": [
      "93/149:  55%|█████▍    | 6/11 [01:00<00:48,  9.70s/it]"
     ]
    },
    {
     "name": "stdout",
     "output_type": "stream",
     "text": [
      "Scenario pkl file for truck without trailer_b213af37 saved successfully.\n",
      "Default scenario prediction correctly generated.\n",
      "/home/crdavids/Trinity-Sync/refbot/output/sm_predictions/val/b213af37-7d89-342d-ae39-8a3c72159a01/ego vehicle approaching construction barrels with a vehicle turning right ahead_b213af37_claude-3-5-sonnet_predictions.pkl\n",
      "Cached scenario prediction found\n"
     ]
    },
    {
     "name": "stderr",
     "output_type": "stream",
     "text": [
      "93/149:  64%|██████▎   | 7/11 [01:18<00:49, 12.41s/it]"
     ]
    },
    {
     "name": "stdout",
     "output_type": "stream",
     "text": [
      "Scenario pkl file for ego vehicle approaching construction barrels with a vehicle turning right ahead_b213af37 saved successfully.\n",
      "/home/crdavids/Trinity-Sync/refbot/output/sm_predictions/val/b213af37-7d89-342d-ae39-8a3c72159a01/vehicle with multiple construction cones on the left side_b213af37_claude-3-5-sonnet_predictions.pkl\n",
      "Cached scenario prediction found\n"
     ]
    },
    {
     "name": "stderr",
     "output_type": "stream",
     "text": [
      "93/149:  73%|███████▎  | 8/11 [02:25<01:29, 29.94s/it]"
     ]
    },
    {
     "name": "stdout",
     "output_type": "stream",
     "text": [
      "Scenario pkl file for vehicle with multiple construction cones on the left side_b213af37 saved successfully.\n",
      "/home/crdavids/Trinity-Sync/refbot/output/sm_predictions/val/b213af37-7d89-342d-ae39-8a3c72159a01/box truck with multiple construction cones to its right_b213af37_claude-3-5-sonnet_predictions.pkl\n",
      "Cached scenario prediction found\n"
     ]
    },
    {
     "name": "stderr",
     "output_type": "stream",
     "text": [
      "93/149:  82%|████████▏ | 9/11 [02:37<00:48, 24.42s/it]"
     ]
    },
    {
     "name": "stdout",
     "output_type": "stream",
     "text": [
      "Scenario pkl file for box truck with multiple construction cones to its right_b213af37 saved successfully.\n",
      "/home/crdavids/Trinity-Sync/refbot/output/sm_predictions/val/b213af37-7d89-342d-ae39-8a3c72159a01/box trucks within 10 meters of an intersection_b213af37_claude-3-5-sonnet_predictions.pkl\n",
      "Cached scenario prediction found\n"
     ]
    },
    {
     "name": "stderr",
     "output_type": "stream",
     "text": [
      "93/149:  91%|█████████ | 10/11 [02:45<00:19, 19.29s/it]"
     ]
    },
    {
     "name": "stdout",
     "output_type": "stream",
     "text": [
      "Scenario pkl file for box trucks within 10 meters of an intersection_b213af37 saved successfully.\n",
      "/home/crdavids/Trinity-Sync/refbot/output/sm_predictions/val/b213af37-7d89-342d-ae39-8a3c72159a01/parked box trucks_b213af37_claude-3-5-sonnet_predictions.pkl\n",
      "Cached scenario prediction found\n"
     ]
    },
    {
     "name": "stderr",
     "output_type": "stream",
     "text": [
      "93/149: 100%|██████████| 11/11 [02:53<00:00, 15.78s/it]\n"
     ]
    },
    {
     "name": "stdout",
     "output_type": "stream",
     "text": [
      "Scenario pkl file for parked box trucks_b213af37 saved successfully.\n",
      "b50c4763-5d1e-37f4-a009-2244aeebabcd\n"
     ]
    },
    {
     "name": "stderr",
     "output_type": "stream",
     "text": [
      "94/149:   0%|          | 0/10 [00:00<?, ?it/s]"
     ]
    },
    {
     "name": "stdout",
     "output_type": "stream",
     "text": [
      "/home/crdavids/Trinity-Sync/refbot/output/sm_predictions/val/b50c4763-5d1e-37f4-a009-2244aeebabcd/vehicle being followed by ego vehilce while being overtaken on right_b50c4763_claude-3-5-sonnet_predictions.pkl\n",
      "vehicle being followed by ego vehilce while being overtaken on right definition saved to output/llm_scenario_predictions/claude-3-5-sonnet\n"
     ]
    },
    {
     "name": "stderr",
     "output_type": "stream",
     "text": [
      "94/149:  10%|█         | 1/10 [00:17<02:33, 17.03s/it]"
     ]
    },
    {
     "name": "stdout",
     "output_type": "stream",
     "text": [
      "Scenario pkl file for vehicle being followed by ego vehicle while being overtaken on right_b50c4763 saved successfully.\n",
      "/home/crdavids/Trinity-Sync/refbot/output/sm_predictions/val/b50c4763-5d1e-37f4-a009-2244aeebabcd/group of pedestrians ahead of the ego vehicle_b50c4763_claude-3-5-sonnet_predictions.pkl\n",
      "Cached scenario prediction found\n"
     ]
    },
    {
     "name": "stderr",
     "output_type": "stream",
     "text": [
      "94/149:  20%|██        | 2/10 [00:26<01:40, 12.53s/it]"
     ]
    },
    {
     "name": "stdout",
     "output_type": "stream",
     "text": [
      "Scenario pkl file for group of pedestrians ahead of the ego vehicle_b50c4763 saved successfully.\n",
      "/home/crdavids/Trinity-Sync/refbot/output/sm_predictions/val/b50c4763-5d1e-37f4-a009-2244aeebabcd/vehicle two vehicles ahead is changing lanes_b50c4763_claude-3-5-sonnet_predictions.pkl\n",
      "Cached scenario prediction found\n"
     ]
    },
    {
     "name": "stderr",
     "output_type": "stream",
     "text": [
      "94/149:  30%|███       | 3/10 [00:40<01:34, 13.46s/it]"
     ]
    },
    {
     "name": "stdout",
     "output_type": "stream",
     "text": [
      "Scenario pkl file for vehicle two vehicles ahead is changing lanes_b50c4763 saved successfully.\n",
      "/home/crdavids/Trinity-Sync/refbot/output/sm_predictions/val/b50c4763-5d1e-37f4-a009-2244aeebabcd/a group of people_b50c4763_claude-3-5-sonnet_predictions.pkl\n",
      "Cached scenario prediction found\n"
     ]
    },
    {
     "name": "stderr",
     "output_type": "stream",
     "text": [
      "94/149:  40%|████      | 4/10 [01:08<01:53, 18.86s/it]"
     ]
    },
    {
     "name": "stdout",
     "output_type": "stream",
     "text": [
      "Scenario pkl file for a group of people_b50c4763 saved successfully.\n",
      "/home/crdavids/Trinity-Sync/refbot/output/sm_predictions/val/b50c4763-5d1e-37f4-a009-2244aeebabcd/group of people_b50c4763_claude-3-5-sonnet_predictions.pkl\n",
      "Cached scenario prediction found\n"
     ]
    },
    {
     "name": "stderr",
     "output_type": "stream",
     "text": [
      "94/149:  50%|█████     | 5/10 [01:34<01:48, 21.70s/it]"
     ]
    },
    {
     "name": "stdout",
     "output_type": "stream",
     "text": [
      "Scenario pkl file for group of people_b50c4763 saved successfully.\n",
      "/home/crdavids/Trinity-Sync/refbot/output/sm_predictions/val/b50c4763-5d1e-37f4-a009-2244aeebabcd/motorcycle between two vehicles_b50c4763_claude-3-5-sonnet_predictions.pkl\n",
      "Cached scenario prediction found\n"
     ]
    },
    {
     "name": "stderr",
     "output_type": "stream",
     "text": [
      "94/149:  60%|██████    | 6/10 [01:43<01:08, 17.21s/it]"
     ]
    },
    {
     "name": "stdout",
     "output_type": "stream",
     "text": [
      "Scenario pkl file for motorcycle between two vehicles_b50c4763 saved successfully.\n",
      "/home/crdavids/Trinity-Sync/refbot/output/sm_predictions/val/b50c4763-5d1e-37f4-a009-2244aeebabcd/any vehicle in front of stop sign_b50c4763_claude-3-5-sonnet_predictions.pkl\n",
      "Cached scenario prediction found\n"
     ]
    },
    {
     "name": "stderr",
     "output_type": "stream",
     "text": [
      "94/149:  70%|███████   | 7/10 [02:19<01:09, 23.27s/it]"
     ]
    },
    {
     "name": "stdout",
     "output_type": "stream",
     "text": [
      "Scenario pkl file for any vehicle in front of stop sign_b50c4763 saved successfully.\n",
      "Default scenario prediction correctly generated.\n",
      "/home/crdavids/Trinity-Sync/refbot/output/sm_predictions/val/b50c4763-5d1e-37f4-a009-2244aeebabcd/motorcycle between stopped vehicles_b50c4763_claude-3-5-sonnet_predictions.pkl\n",
      "Cached scenario prediction found\n"
     ]
    },
    {
     "name": "stderr",
     "output_type": "stream",
     "text": [
      "94/149:  80%|████████  | 8/10 [02:26<00:36, 18.37s/it]"
     ]
    },
    {
     "name": "stdout",
     "output_type": "stream",
     "text": [
      "Scenario pkl file for motorcycle between stopped vehicles_b50c4763 saved successfully.\n",
      "/home/crdavids/Trinity-Sync/refbot/output/sm_predictions/val/b50c4763-5d1e-37f4-a009-2244aeebabcd/passenger vehicle turning right_b50c4763_claude-3-5-sonnet_predictions.pkl\n",
      "Cached scenario prediction found\n"
     ]
    },
    {
     "name": "stderr",
     "output_type": "stream",
     "text": [
      "94/149:  90%|█████████ | 9/10 [02:34<00:14, 14.88s/it]"
     ]
    },
    {
     "name": "stdout",
     "output_type": "stream",
     "text": [
      "Scenario pkl file for passenger vehicle turning right_b50c4763 saved successfully.\n",
      "/home/crdavids/Trinity-Sync/refbot/output/sm_predictions/val/b50c4763-5d1e-37f4-a009-2244aeebabcd/vehicle two cars ahead is changing lanes_b50c4763_claude-3-5-sonnet_predictions.pkl\n",
      "Cached scenario prediction found\n"
     ]
    },
    {
     "name": "stderr",
     "output_type": "stream",
     "text": [
      "94/149: 100%|██████████| 10/10 [02:49<00:00, 16.96s/it]\n"
     ]
    },
    {
     "name": "stdout",
     "output_type": "stream",
     "text": [
      "Scenario pkl file for vehicle two cars ahead is changing lanes_b50c4763 saved successfully.\n",
      "b5a7ff7e-d74a-3be6-b95d-3fc0042215f6\n"
     ]
    },
    {
     "name": "stderr",
     "output_type": "stream",
     "text": [
      "95/149:   0%|          | 0/10 [00:00<?, ?it/s]"
     ]
    },
    {
     "name": "stdout",
     "output_type": "stream",
     "text": [
      "/home/crdavids/Trinity-Sync/refbot/output/sm_predictions/val/b5a7ff7e-d74a-3be6-b95d-3fc0042215f6/accelerating vehicle changing lanes to the right_b5a7ff7e_claude-3-5-sonnet_predictions.pkl\n",
      "Cached scenario prediction found\n"
     ]
    },
    {
     "name": "stderr",
     "output_type": "stream",
     "text": [
      "95/149:  10%|█         | 1/10 [00:13<02:03, 13.69s/it]"
     ]
    },
    {
     "name": "stdout",
     "output_type": "stream",
     "text": [
      "Scenario pkl file for accelerating vehicle changing lanes to the right_b5a7ff7e saved successfully.\n",
      "/home/crdavids/Trinity-Sync/refbot/output/sm_predictions/val/b5a7ff7e-d74a-3be6-b95d-3fc0042215f6/vehicle directly facing a moving pedestrian from 5-15 meters away_b5a7ff7e_claude-3-5-sonnet_predictions.pkl\n",
      "Cached scenario prediction found\n"
     ]
    },
    {
     "name": "stderr",
     "output_type": "stream",
     "text": [
      "95/149:  20%|██        | 2/10 [00:25<01:42, 12.87s/it]"
     ]
    },
    {
     "name": "stdout",
     "output_type": "stream",
     "text": [
      "Scenario pkl file for vehicle directly facing a moving pedestrian from 5-15 meters away_b5a7ff7e saved successfully.\n",
      "/home/crdavids/Trinity-Sync/refbot/output/sm_predictions/val/b5a7ff7e-d74a-3be6-b95d-3fc0042215f6/stopped vehicle facing a turning vehicle between 5-20 meters away_b5a7ff7e_claude-3-5-sonnet_predictions.pkl\n",
      "Cached scenario prediction found\n"
     ]
    },
    {
     "name": "stderr",
     "output_type": "stream",
     "text": [
      "95/149:  30%|███       | 3/10 [00:40<01:35, 13.69s/it]"
     ]
    },
    {
     "name": "stdout",
     "output_type": "stream",
     "text": [
      "Scenario pkl file for stopped vehicle facing a turning vehicle between 5-20 meters away_b5a7ff7e saved successfully.\n",
      "/home/crdavids/Trinity-Sync/refbot/output/sm_predictions/val/b5a7ff7e-d74a-3be6-b95d-3fc0042215f6/vehicle two cars ahead is being crossed by a pedestrian_b5a7ff7e_claude-3-5-sonnet_predictions.pkl\n",
      "Cached scenario prediction found\n"
     ]
    },
    {
     "name": "stderr",
     "output_type": "stream",
     "text": [
      "95/149:  40%|████      | 4/10 [01:06<01:50, 18.40s/it]"
     ]
    },
    {
     "name": "stdout",
     "output_type": "stream",
     "text": [
      "Scenario pkl file for vehicle two cars ahead is being crossed by a pedestrian_b5a7ff7e saved successfully.\n",
      "/home/crdavids/Trinity-Sync/refbot/output/sm_predictions/val/b5a7ff7e-d74a-3be6-b95d-3fc0042215f6/ego vehicle approaching crossing pedestrians_b5a7ff7e_claude-3-5-sonnet_predictions.pkl\n",
      "Cached scenario prediction found\n"
     ]
    },
    {
     "name": "stderr",
     "output_type": "stream",
     "text": [
      "95/149:  50%|█████     | 5/10 [01:19<01:22, 16.54s/it]"
     ]
    },
    {
     "name": "stdout",
     "output_type": "stream",
     "text": [
      "Scenario pkl file for ego vehicle approaching crossing pedestrians_b5a7ff7e saved successfully.\n",
      "/home/crdavids/Trinity-Sync/refbot/output/sm_predictions/val/b5a7ff7e-d74a-3be6-b95d-3fc0042215f6/vehicle two vehicles ahead is being crossed by a pedestrian_b5a7ff7e_claude-3-5-sonnet_predictions.pkl\n",
      "Cached scenario prediction found\n"
     ]
    },
    {
     "name": "stderr",
     "output_type": "stream",
     "text": [
      "95/149:  60%|██████    | 6/10 [03:41<03:56, 59.09s/it]"
     ]
    },
    {
     "name": "stdout",
     "output_type": "stream",
     "text": [
      "Scenario pkl file for vehicle two vehicles ahead is being crossed by a pedestrian_b5a7ff7e saved successfully.\n",
      "/home/crdavids/Trinity-Sync/refbot/output/sm_predictions/val/b5a7ff7e-d74a-3be6-b95d-3fc0042215f6/pedestrian facing toward the bus_b5a7ff7e_claude-3-5-sonnet_predictions.pkl\n",
      "Cached scenario prediction found\n"
     ]
    },
    {
     "name": "stderr",
     "output_type": "stream",
     "text": [
      "95/149:  70%|███████   | 7/10 [03:58<02:16, 45.45s/it]"
     ]
    },
    {
     "name": "stdout",
     "output_type": "stream",
     "text": [
      "Scenario pkl file for pedestrian facing toward the bus_b5a7ff7e saved successfully.\n",
      "/home/crdavids/Trinity-Sync/refbot/output/sm_predictions/val/b5a7ff7e-d74a-3be6-b95d-3fc0042215f6/vehicle two cars ahead is braking_b5a7ff7e_claude-3-5-sonnet_predictions.pkl\n",
      "Cached scenario prediction found\n"
     ]
    },
    {
     "name": "stderr",
     "output_type": "stream",
     "text": [
      "95/149:  80%|████████  | 8/10 [04:44<01:31, 45.55s/it]"
     ]
    },
    {
     "name": "stdout",
     "output_type": "stream",
     "text": [
      "Scenario pkl file for vehicle two cars ahead is braking_b5a7ff7e saved successfully.\n",
      "/home/crdavids/Trinity-Sync/refbot/output/sm_predictions/val/b5a7ff7e-d74a-3be6-b95d-3fc0042215f6/passenger vehicle turning left at intersection_b5a7ff7e_claude-3-5-sonnet_predictions.pkl\n",
      "Cached scenario prediction found\n"
     ]
    },
    {
     "name": "stderr",
     "output_type": "stream",
     "text": [
      "95/149:  90%|█████████ | 9/10 [04:53<00:34, 34.32s/it]"
     ]
    },
    {
     "name": "stdout",
     "output_type": "stream",
     "text": [
      "Scenario pkl file for passenger vehicle turning left at intersection_b5a7ff7e saved successfully.\n",
      "/home/crdavids/Trinity-Sync/refbot/output/sm_predictions/val/b5a7ff7e-d74a-3be6-b95d-3fc0042215f6/ego vehicle with parked bicycles ahead_b5a7ff7e_claude-3-5-sonnet_predictions.pkl\n",
      "Cached scenario prediction found\n"
     ]
    },
    {
     "name": "stderr",
     "output_type": "stream",
     "text": [
      "95/149: 100%|██████████| 10/10 [05:02<00:00, 30.25s/it]\n"
     ]
    },
    {
     "name": "stdout",
     "output_type": "stream",
     "text": [
      "Scenario pkl file for ego vehicle with parked bicycles ahead_b5a7ff7e saved successfully.\n",
      "b6500255-eba3-3f77-acfd-626c07aa8621\n"
     ]
    },
    {
     "name": "stderr",
     "output_type": "stream",
     "text": [
      "96/149:   0%|          | 0/10 [00:00<?, ?it/s]"
     ]
    },
    {
     "name": "stdout",
     "output_type": "stream",
     "text": [
      "/home/crdavids/Trinity-Sync/refbot/output/sm_predictions/val/b6500255-eba3-3f77-acfd-626c07aa8621/motorcycle between two vehicles_b6500255_claude-3-5-sonnet_predictions.pkl\n",
      "Cached scenario prediction found\n"
     ]
    },
    {
     "name": "stderr",
     "output_type": "stream",
     "text": [
      "96/149:  10%|█         | 1/10 [00:09<01:22,  9.15s/it]"
     ]
    },
    {
     "name": "stdout",
     "output_type": "stream",
     "text": [
      "Scenario pkl file for motorcycle between two vehicles_b6500255 saved successfully.\n",
      "/home/crdavids/Trinity-Sync/refbot/output/sm_predictions/val/b6500255-eba3-3f77-acfd-626c07aa8621/motorcycle between stopped vehicles_b6500255_claude-3-5-sonnet_predictions.pkl\n",
      "Cached scenario prediction found\n"
     ]
    },
    {
     "name": "stderr",
     "output_type": "stream",
     "text": [
      "96/149:  20%|██        | 2/10 [00:18<01:14,  9.28s/it]"
     ]
    },
    {
     "name": "stdout",
     "output_type": "stream",
     "text": [
      "Scenario pkl file for motorcycle between stopped vehicles_b6500255 saved successfully.\n",
      "/home/crdavids/Trinity-Sync/refbot/output/sm_predictions/val/b6500255-eba3-3f77-acfd-626c07aa8621/passenger vehicle turning left at intersection_b6500255_claude-3-5-sonnet_predictions.pkl\n",
      "Cached scenario prediction found\n"
     ]
    },
    {
     "name": "stderr",
     "output_type": "stream",
     "text": [
      "96/149:  30%|███       | 3/10 [00:27<01:05,  9.29s/it]"
     ]
    },
    {
     "name": "stdout",
     "output_type": "stream",
     "text": [
      "Scenario pkl file for passenger vehicle turning left at intersection_b6500255 saved successfully.\n",
      "/home/crdavids/Trinity-Sync/refbot/output/sm_predictions/val/b6500255-eba3-3f77-acfd-626c07aa8621/moving bus to the front-left of the ego vehicle_b6500255_claude-3-5-sonnet_predictions.pkl\n",
      "Cached scenario prediction found\n"
     ]
    },
    {
     "name": "stderr",
     "output_type": "stream",
     "text": [
      "96/149:  40%|████      | 4/10 [00:35<00:51,  8.57s/it]"
     ]
    },
    {
     "name": "stdout",
     "output_type": "stream",
     "text": [
      "Scenario pkl file for moving bus to the front-left of the ego vehicle_b6500255 saved successfully.\n",
      "/home/crdavids/Trinity-Sync/refbot/output/sm_predictions/val/b6500255-eba3-3f77-acfd-626c07aa8621/ego vehicle near construction cone_b6500255_claude-3-5-sonnet_predictions.pkl\n",
      "Cached scenario prediction found\n"
     ]
    },
    {
     "name": "stderr",
     "output_type": "stream",
     "text": [
      "96/149:  50%|█████     | 5/10 [00:43<00:42,  8.51s/it]"
     ]
    },
    {
     "name": "stdout",
     "output_type": "stream",
     "text": [
      "Scenario pkl file for ego vehicle near construction cone_b6500255 saved successfully.\n",
      "/home/crdavids/Trinity-Sync/refbot/output/sm_predictions/val/b6500255-eba3-3f77-acfd-626c07aa8621/pedestrian near construction cone_b6500255_claude-3-5-sonnet_predictions.pkl\n",
      "Cached scenario prediction found\n"
     ]
    },
    {
     "name": "stderr",
     "output_type": "stream",
     "text": [
      "96/149:  60%|██████    | 6/10 [01:02<00:47, 11.90s/it]"
     ]
    },
    {
     "name": "stdout",
     "output_type": "stream",
     "text": [
      "Scenario pkl file for pedestrian near construction cone_b6500255 saved successfully.\n",
      "/home/crdavids/Trinity-Sync/refbot/output/sm_predictions/val/b6500255-eba3-3f77-acfd-626c07aa8621/ego vehicle with vehicles on both sides_b6500255_claude-3-5-sonnet_predictions.pkl\n",
      "Cached scenario prediction found\n"
     ]
    },
    {
     "name": "stderr",
     "output_type": "stream",
     "text": [
      "96/149:  70%|███████   | 7/10 [01:17<00:39, 13.14s/it]"
     ]
    },
    {
     "name": "stdout",
     "output_type": "stream",
     "text": [
      "Scenario pkl file for ego vehicle with vehicles on both sides_b6500255 saved successfully.\n",
      "/home/crdavids/Trinity-Sync/refbot/output/sm_predictions/val/b6500255-eba3-3f77-acfd-626c07aa8621/vehicle with multiple pedestrians to the left_b6500255_claude-3-5-sonnet_predictions.pkl\n",
      "Cached scenario prediction found\n"
     ]
    },
    {
     "name": "stderr",
     "output_type": "stream",
     "text": [
      "96/149:  80%|████████  | 8/10 [02:15<00:54, 27.33s/it]"
     ]
    },
    {
     "name": "stdout",
     "output_type": "stream",
     "text": [
      "Scenario pkl file for vehicle with multiple pedestrians to the left_b6500255 saved successfully.\n",
      "/home/crdavids/Trinity-Sync/refbot/output/sm_predictions/val/b6500255-eba3-3f77-acfd-626c07aa8621/bus within 5 meters to either side of ego vehicle_b6500255_claude-3-5-sonnet_predictions.pkl\n",
      "Cached scenario prediction found\n"
     ]
    },
    {
     "name": "stderr",
     "output_type": "stream",
     "text": [
      "96/149:  90%|█████████ | 9/10 [02:23<00:21, 21.14s/it]"
     ]
    },
    {
     "name": "stdout",
     "output_type": "stream",
     "text": [
      "Scenario pkl file for bus within 5 meters to either side of ego vehicle_b6500255 saved successfully.\n",
      "/home/crdavids/Trinity-Sync/refbot/output/sm_predictions/val/b6500255-eba3-3f77-acfd-626c07aa8621/pedestrian facing toward the bus_b6500255_claude-3-5-sonnet_predictions.pkl\n",
      "Cached scenario prediction found\n"
     ]
    },
    {
     "name": "stderr",
     "output_type": "stream",
     "text": [
      "96/149: 100%|██████████| 10/10 [02:40<00:00, 16.01s/it]\n"
     ]
    },
    {
     "name": "stdout",
     "output_type": "stream",
     "text": [
      "Scenario pkl file for pedestrian facing toward the bus_b6500255 saved successfully.\n",
      "b6e967f6-92bc-3bf5-99c9-1b0c4649fd67\n"
     ]
    },
    {
     "name": "stderr",
     "output_type": "stream",
     "text": [
      "97/149:   0%|          | 0/10 [00:00<?, ?it/s]"
     ]
    },
    {
     "name": "stdout",
     "output_type": "stream",
     "text": [
      "/home/crdavids/Trinity-Sync/refbot/output/sm_predictions/val/b6e967f6-92bc-3bf5-99c9-1b0c4649fd67/pedestrian on intersection not using a crosswalk_b6e967f6_claude-3-5-sonnet_predictions.pkl\n",
      "Cached scenario prediction found\n"
     ]
    },
    {
     "name": "stderr",
     "output_type": "stream",
     "text": [
      "97/149:  10%|█         | 1/10 [00:09<01:28,  9.78s/it]"
     ]
    },
    {
     "name": "stdout",
     "output_type": "stream",
     "text": [
      "Scenario pkl file for pedestrian on intersection not using a crosswalk_b6e967f6 saved successfully.\n",
      "/home/crdavids/Trinity-Sync/refbot/output/sm_predictions/val/b6e967f6-92bc-3bf5-99c9-1b0c4649fd67/vehicle two vehicles ahead is braking_b6e967f6_claude-3-5-sonnet_predictions.pkl\n",
      "Cached scenario prediction found\n"
     ]
    },
    {
     "name": "stderr",
     "output_type": "stream",
     "text": [
      "97/149:  20%|██        | 2/10 [00:58<04:19, 32.42s/it]"
     ]
    },
    {
     "name": "stdout",
     "output_type": "stream",
     "text": [
      "Scenario pkl file for vehicle two vehicles ahead is braking_b6e967f6 saved successfully.\n",
      "/home/crdavids/Trinity-Sync/refbot/output/sm_predictions/val/b6e967f6-92bc-3bf5-99c9-1b0c4649fd67/accelerating vehicle changing lanes to the right_b6e967f6_claude-3-5-sonnet_predictions.pkl\n",
      "Cached scenario prediction found\n"
     ]
    },
    {
     "name": "stderr",
     "output_type": "stream",
     "text": [
      "97/149:  30%|███       | 3/10 [01:09<02:39, 22.86s/it]"
     ]
    },
    {
     "name": "stdout",
     "output_type": "stream",
     "text": [
      "Scenario pkl file for accelerating vehicle changing lanes to the right_b6e967f6 saved successfully.\n",
      "/home/crdavids/Trinity-Sync/refbot/output/sm_predictions/val/b6e967f6-92bc-3bf5-99c9-1b0c4649fd67/oncoming vehicle changing lanes_b6e967f6_claude-3-5-sonnet_predictions.pkl\n",
      "Cached scenario prediction found\n"
     ]
    },
    {
     "name": "stderr",
     "output_type": "stream",
     "text": [
      "97/149:  40%|████      | 4/10 [01:21<01:50, 18.42s/it]"
     ]
    },
    {
     "name": "stdout",
     "output_type": "stream",
     "text": [
      "Scenario pkl file for oncoming vehicle changing lanes_b6e967f6 saved successfully.\n",
      "/home/crdavids/Trinity-Sync/refbot/output/sm_predictions/val/b6e967f6-92bc-3bf5-99c9-1b0c4649fd67/vehicle facing toward parked vehicles_b6e967f6_claude-3-5-sonnet_predictions.pkl\n",
      "Cached scenario prediction found\n"
     ]
    },
    {
     "name": "stderr",
     "output_type": "stream",
     "text": [
      "97/149:  50%|█████     | 5/10 [01:37<01:29, 17.84s/it]"
     ]
    },
    {
     "name": "stdout",
     "output_type": "stream",
     "text": [
      "Scenario pkl file for vehicle facing toward parked vehicles_b6e967f6 saved successfully.\n",
      "/home/crdavids/Trinity-Sync/refbot/output/sm_predictions/val/b6e967f6-92bc-3bf5-99c9-1b0c4649fd67/vehicle to the back right of the ego vehicle_b6e967f6_claude-3-5-sonnet_predictions.pkl\n",
      "Cached scenario prediction found\n"
     ]
    },
    {
     "name": "stderr",
     "output_type": "stream",
     "text": [
      "97/149:  60%|██████    | 6/10 [01:49<01:02, 15.58s/it]"
     ]
    },
    {
     "name": "stdout",
     "output_type": "stream",
     "text": [
      "Scenario pkl file for vehicle to the back right of the ego vehicle_b6e967f6 saved successfully.\n",
      "/home/crdavids/Trinity-Sync/refbot/output/sm_predictions/val/b6e967f6-92bc-3bf5-99c9-1b0c4649fd67/pedestrian near construction cone_b6e967f6_claude-3-5-sonnet_predictions.pkl\n",
      "Cached scenario prediction found\n"
     ]
    },
    {
     "name": "stderr",
     "output_type": "stream",
     "text": [
      "97/149:  70%|███████   | 7/10 [02:03<00:45, 15.07s/it]"
     ]
    },
    {
     "name": "stdout",
     "output_type": "stream",
     "text": [
      "Scenario pkl file for pedestrian near construction cone_b6e967f6 saved successfully.\n",
      "/home/crdavids/Trinity-Sync/refbot/output/sm_predictions/val/b6e967f6-92bc-3bf5-99c9-1b0c4649fd67/vehicle being crossed by a pedestrian_b6e967f6_claude-3-5-sonnet_predictions.pkl\n",
      "Cached scenario prediction found\n"
     ]
    },
    {
     "name": "stderr",
     "output_type": "stream",
     "text": [
      "97/149:  80%|████████  | 8/10 [03:10<01:03, 31.75s/it]"
     ]
    },
    {
     "name": "stdout",
     "output_type": "stream",
     "text": [
      "Scenario pkl file for vehicle being crossed by a pedestrian_b6e967f6 saved successfully.\n",
      "/home/crdavids/Trinity-Sync/refbot/output/sm_predictions/val/b6e967f6-92bc-3bf5-99c9-1b0c4649fd67/vehicle being followed by ego vehilce while being overtaken on right_b6e967f6_claude-3-5-sonnet_predictions.pkl\n",
      "vehicle being followed by ego vehilce while being overtaken on right definition saved to output/llm_scenario_predictions/claude-3-5-sonnet\n"
     ]
    },
    {
     "name": "stderr",
     "output_type": "stream",
     "text": [
      "97/149:  90%|█████████ | 9/10 [03:26<00:26, 26.69s/it]"
     ]
    },
    {
     "name": "stdout",
     "output_type": "stream",
     "text": [
      "Scenario pkl file for vehicle being followed by ego vehicle while being overtaken on right_b6e967f6 saved successfully.\n",
      "/home/crdavids/Trinity-Sync/refbot/output/sm_predictions/val/b6e967f6-92bc-3bf5-99c9-1b0c4649fd67/car turning right_b6e967f6_claude-3-5-sonnet_predictions.pkl\n",
      "Cached scenario prediction found\n"
     ]
    },
    {
     "name": "stderr",
     "output_type": "stream",
     "text": [
      "97/149: 100%|██████████| 10/10 [03:34<00:00, 21.45s/it]\n"
     ]
    },
    {
     "name": "stdout",
     "output_type": "stream",
     "text": [
      "Scenario pkl file for car turning right_b6e967f6 saved successfully.\n",
      "b8489c02-60d0-3f44-a3b4-9de62830d666\n"
     ]
    },
    {
     "name": "stderr",
     "output_type": "stream",
     "text": [
      "98/149:   0%|          | 0/10 [00:00<?, ?it/s]"
     ]
    },
    {
     "name": "stdout",
     "output_type": "stream",
     "text": [
      "/home/crdavids/Trinity-Sync/refbot/output/sm_predictions/val/b8489c02-60d0-3f44-a3b4-9de62830d666/vehicle with a bicycle to its right_b8489c02_claude-3-5-sonnet_predictions.pkl\n",
      "Cached scenario prediction found\n"
     ]
    },
    {
     "name": "stderr",
     "output_type": "stream",
     "text": [
      "98/149:  10%|█         | 1/10 [00:16<02:27, 16.43s/it]"
     ]
    },
    {
     "name": "stdout",
     "output_type": "stream",
     "text": [
      "Scenario pkl file for vehicle with a bicycle to its right_b8489c02 saved successfully.\n",
      "/home/crdavids/Trinity-Sync/refbot/output/sm_predictions/val/b8489c02-60d0-3f44-a3b4-9de62830d666/motorcyclist_b8489c02_claude-3-5-sonnet_predictions.pkl\n",
      "Cached scenario prediction found\n"
     ]
    },
    {
     "name": "stderr",
     "output_type": "stream",
     "text": [
      "98/149:  20%|██        | 2/10 [00:24<01:30, 11.30s/it]"
     ]
    },
    {
     "name": "stdout",
     "output_type": "stream",
     "text": [
      "Scenario pkl file for motorcyclist_b8489c02 saved successfully.\n",
      "/home/crdavids/Trinity-Sync/refbot/output/sm_predictions/val/b8489c02-60d0-3f44-a3b4-9de62830d666/pedestrian crossing in front of vehicle at crosswalk_b8489c02_claude-3-5-sonnet_predictions.pkl\n",
      "Cached scenario prediction found\n"
     ]
    },
    {
     "name": "stderr",
     "output_type": "stream",
     "text": [
      "98/149:  30%|███       | 3/10 [00:43<01:44, 14.98s/it]"
     ]
    },
    {
     "name": "stdout",
     "output_type": "stream",
     "text": [
      "Scenario pkl file for pedestrian crossing in front of vehicle at crosswalk_b8489c02 saved successfully.\n",
      "Default scenario prediction correctly generated.\n",
      "/home/crdavids/Trinity-Sync/refbot/output/sm_predictions/val/b8489c02-60d0-3f44-a3b4-9de62830d666/vehicle facing a group of three or more pedestrians at a crosswalk within 10 meters_b8489c02_claude-3-5-sonnet_predictions.pkl\n",
      "Cached scenario prediction found\n"
     ]
    },
    {
     "name": "stderr",
     "output_type": "stream",
     "text": [
      "98/149:  40%|████      | 4/10 [00:55<01:22, 13.74s/it]"
     ]
    },
    {
     "name": "stdout",
     "output_type": "stream",
     "text": [
      "Scenario pkl file for vehicle facing a group of three or more pedestrians at a crosswalk within 10 meters_b8489c02 saved successfully.\n",
      "/home/crdavids/Trinity-Sync/refbot/output/sm_predictions/val/b8489c02-60d0-3f44-a3b4-9de62830d666/ego vehicle approaching pedestrian at crosswalk_b8489c02_claude-3-5-sonnet_predictions.pkl\n",
      "Cached scenario prediction found\n"
     ]
    },
    {
     "name": "stderr",
     "output_type": "stream",
     "text": [
      "98/149:  50%|█████     | 5/10 [01:05<01:02, 12.53s/it]"
     ]
    },
    {
     "name": "stdout",
     "output_type": "stream",
     "text": [
      "Scenario pkl file for ego vehicle approaching pedestrian at crosswalk_b8489c02 saved successfully.\n",
      "/home/crdavids/Trinity-Sync/refbot/output/sm_predictions/val/b8489c02-60d0-3f44-a3b4-9de62830d666/accelerating vehicle changing lanes to the right_b8489c02_claude-3-5-sonnet_predictions.pkl\n",
      "Cached scenario prediction found\n"
     ]
    },
    {
     "name": "stderr",
     "output_type": "stream",
     "text": [
      "98/149:  60%|██████    | 6/10 [01:16<00:47, 11.98s/it]"
     ]
    },
    {
     "name": "stdout",
     "output_type": "stream",
     "text": [
      "Scenario pkl file for accelerating vehicle changing lanes to the right_b8489c02 saved successfully.\n",
      "/home/crdavids/Trinity-Sync/refbot/output/sm_predictions/val/b8489c02-60d0-3f44-a3b4-9de62830d666/vehicle approaching multiple pedestrians at crosswalk_b8489c02_claude-3-5-sonnet_predictions.pkl\n",
      "Cached scenario prediction found\n"
     ]
    },
    {
     "name": "stderr",
     "output_type": "stream",
     "text": [
      "98/149:  70%|███████   | 7/10 [01:28<00:35, 11.90s/it]"
     ]
    },
    {
     "name": "stdout",
     "output_type": "stream",
     "text": [
      "Scenario pkl file for vehicle approaching multiple pedestrians at crosswalk_b8489c02 saved successfully.\n",
      "/home/crdavids/Trinity-Sync/refbot/output/sm_predictions/val/b8489c02-60d0-3f44-a3b4-9de62830d666/motorcycle or pedestrian within 5 meters to the right of the ego vehicle_b8489c02_claude-3-5-sonnet_predictions.pkl\n",
      "Cached scenario prediction found\n"
     ]
    },
    {
     "name": "stderr",
     "output_type": "stream",
     "text": [
      "98/149:  80%|████████  | 8/10 [01:43<00:25, 12.82s/it]"
     ]
    },
    {
     "name": "stdout",
     "output_type": "stream",
     "text": [
      "Scenario pkl file for motorcycle or pedestrian within 5 meters to the right of the ego vehicle_b8489c02 saved successfully.\n",
      "/home/crdavids/Trinity-Sync/refbot/output/sm_predictions/val/b8489c02-60d0-3f44-a3b4-9de62830d666/bicycle following closely behind a vehicle_b8489c02_claude-3-5-sonnet_predictions.pkl\n",
      "Cached scenario prediction found\n"
     ]
    },
    {
     "name": "stderr",
     "output_type": "stream",
     "text": [
      "98/149:  90%|█████████ | 9/10 [02:03<00:15, 15.21s/it]"
     ]
    },
    {
     "name": "stdout",
     "output_type": "stream",
     "text": [
      "Scenario pkl file for bicycle following closely behind a vehicle_b8489c02 saved successfully.\n",
      "/home/crdavids/Trinity-Sync/refbot/output/sm_predictions/val/b8489c02-60d0-3f44-a3b4-9de62830d666/vehicles being passed by a motorcycle on either side_b8489c02_claude-3-5-sonnet_predictions.pkl\n",
      "Cached scenario prediction found\n"
     ]
    },
    {
     "name": "stderr",
     "output_type": "stream",
     "text": [
      "98/149: 100%|██████████| 10/10 [02:12<00:00, 13.27s/it]\n"
     ]
    },
    {
     "name": "stdout",
     "output_type": "stream",
     "text": [
      "Scenario pkl file for vehicles being passed by a motorcycle on either side_b8489c02 saved successfully.\n",
      "b87683ae-14c5-321f-8af3-623e7bafc3a7\n"
     ]
    },
    {
     "name": "stderr",
     "output_type": "stream",
     "text": [
      "99/149:   0%|          | 0/11 [00:00<?, ?it/s]"
     ]
    },
    {
     "name": "stdout",
     "output_type": "stream",
     "text": [
      "/home/crdavids/Trinity-Sync/refbot/output/sm_predictions/val/b87683ae-14c5-321f-8af3-623e7bafc3a7/vehicle facing the ego vehicle_b87683ae_claude-3-5-sonnet_predictions.pkl\n",
      "Cached scenario prediction found\n"
     ]
    },
    {
     "name": "stderr",
     "output_type": "stream",
     "text": [
      "99/149:   9%|▉         | 1/11 [00:11<01:53, 11.36s/it]"
     ]
    },
    {
     "name": "stdout",
     "output_type": "stream",
     "text": [
      "Scenario pkl file for vehicle facing the ego vehicle_b87683ae saved successfully.\n",
      "/home/crdavids/Trinity-Sync/refbot/output/sm_predictions/val/b87683ae-14c5-321f-8af3-623e7bafc3a7/vehicle accelerating more than two meters per second_b87683ae_claude-3-5-sonnet_predictions.pkl\n",
      "Cached scenario prediction found\n"
     ]
    },
    {
     "name": "stderr",
     "output_type": "stream",
     "text": [
      "99/149:  18%|█▊        | 2/11 [00:18<01:20,  8.99s/it]"
     ]
    },
    {
     "name": "stdout",
     "output_type": "stream",
     "text": [
      "Scenario pkl file for vehicle accelerating more than two meters per second_b87683ae saved successfully.\n",
      "/home/crdavids/Trinity-Sync/refbot/output/sm_predictions/val/b87683ae-14c5-321f-8af3-623e7bafc3a7/vehicle directly facing a moving pedestrian from 5-15 meters away_b87683ae_claude-3-5-sonnet_predictions.pkl\n",
      "Cached scenario prediction found\n"
     ]
    },
    {
     "name": "stderr",
     "output_type": "stream",
     "text": [
      "99/149:  27%|██▋       | 3/11 [00:27<01:11,  8.95s/it]"
     ]
    },
    {
     "name": "stdout",
     "output_type": "stream",
     "text": [
      "Scenario pkl file for vehicle directly facing a moving pedestrian from 5-15 meters away_b87683ae saved successfully.\n",
      "/home/crdavids/Trinity-Sync/refbot/output/sm_predictions/val/b87683ae-14c5-321f-8af3-623e7bafc3a7/vehicle two vehicles ahead is braking_b87683ae_claude-3-5-sonnet_predictions.pkl\n",
      "Cached scenario prediction found\n"
     ]
    },
    {
     "name": "stderr",
     "output_type": "stream",
     "text": [
      "99/149:  36%|███▋      | 4/11 [01:22<03:08, 26.96s/it]"
     ]
    },
    {
     "name": "stdout",
     "output_type": "stream",
     "text": [
      "Scenario pkl file for vehicle two vehicles ahead is braking_b87683ae saved successfully.\n",
      "/home/crdavids/Trinity-Sync/refbot/output/sm_predictions/val/b87683ae-14c5-321f-8af3-623e7bafc3a7/box truck with multiple construction cones to its right_b87683ae_claude-3-5-sonnet_predictions.pkl\n",
      "Cached scenario prediction found\n"
     ]
    },
    {
     "name": "stderr",
     "output_type": "stream",
     "text": [
      "99/149:  45%|████▌     | 5/11 [01:28<01:57, 19.58s/it]"
     ]
    },
    {
     "name": "stdout",
     "output_type": "stream",
     "text": [
      "Scenario pkl file for box truck with multiple construction cones to its right_b87683ae saved successfully.\n",
      "/home/crdavids/Trinity-Sync/refbot/output/sm_predictions/val/b87683ae-14c5-321f-8af3-623e7bafc3a7/motorcyclist traveling opposite to bicycle traffic_b87683ae_claude-3-5-sonnet_predictions.pkl\n",
      "motorcyclist traveling opposite to bicycle traffic definition saved to output/llm_scenario_predictions/claude-3-5-sonnet\n"
     ]
    },
    {
     "name": "stderr",
     "output_type": "stream",
     "text": [
      "99/149:  55%|█████▍    | 6/11 [01:42<01:28, 17.80s/it]"
     ]
    },
    {
     "name": "stdout",
     "output_type": "stream",
     "text": [
      "Scenario pkl file for motorcyclist traveling opposite to bicycle traffic_b87683ae saved successfully.\n",
      "/home/crdavids/Trinity-Sync/refbot/output/sm_predictions/val/b87683ae-14c5-321f-8af3-623e7bafc3a7/ego vehicle changing lanes to the left_b87683ae_claude-3-5-sonnet_predictions.pkl\n",
      "Cached scenario prediction found\n"
     ]
    },
    {
     "name": "stderr",
     "output_type": "stream",
     "text": [
      "99/149:  64%|██████▎   | 7/11 [01:49<00:56, 14.03s/it]"
     ]
    },
    {
     "name": "stdout",
     "output_type": "stream",
     "text": [
      "Scenario pkl file for ego vehicle changing lanes to the left_b87683ae saved successfully.\n",
      "/home/crdavids/Trinity-Sync/refbot/output/sm_predictions/val/b87683ae-14c5-321f-8af3-623e7bafc3a7/box truck changing lanes to the right_b87683ae_claude-3-5-sonnet_predictions.pkl\n",
      "Cached scenario prediction found\n"
     ]
    },
    {
     "name": "stderr",
     "output_type": "stream",
     "text": [
      "99/149:  73%|███████▎  | 8/11 [01:55<00:34, 11.47s/it]"
     ]
    },
    {
     "name": "stdout",
     "output_type": "stream",
     "text": [
      "Scenario pkl file for box truck changing lanes to the right_b87683ae saved successfully.\n",
      "/home/crdavids/Trinity-Sync/refbot/output/sm_predictions/val/b87683ae-14c5-321f-8af3-623e7bafc3a7/pedestrians over 30 meters away_b87683ae_claude-3-5-sonnet_predictions.pkl\n",
      "Cached scenario prediction found\n"
     ]
    },
    {
     "name": "stderr",
     "output_type": "stream",
     "text": [
      "99/149:  82%|████████▏ | 9/11 [02:01<00:19,  9.74s/it]"
     ]
    },
    {
     "name": "stdout",
     "output_type": "stream",
     "text": [
      "Scenario pkl file for pedestrians over 30 meters away_b87683ae saved successfully.\n",
      "Default scenario prediction correctly generated.\n",
      "/home/crdavids/Trinity-Sync/refbot/output/sm_predictions/val/b87683ae-14c5-321f-8af3-623e7bafc3a7/box truck braking in front of ego vehicle_b87683ae_claude-3-5-sonnet_predictions.pkl\n",
      "Cached scenario prediction found\n"
     ]
    },
    {
     "name": "stderr",
     "output_type": "stream",
     "text": [
      "99/149:  91%|█████████ | 10/11 [02:06<00:08,  8.47s/it]"
     ]
    },
    {
     "name": "stdout",
     "output_type": "stream",
     "text": [
      "Scenario pkl file for box truck braking in front of ego vehicle_b87683ae saved successfully.\n",
      "/home/crdavids/Trinity-Sync/refbot/output/sm_predictions/val/b87683ae-14c5-321f-8af3-623e7bafc3a7/box trucks within 10 meters of an intersection_b87683ae_claude-3-5-sonnet_predictions.pkl\n",
      "Cached scenario prediction found\n"
     ]
    },
    {
     "name": "stderr",
     "output_type": "stream",
     "text": [
      "99/149: 100%|██████████| 11/11 [02:12<00:00, 12.02s/it]\n"
     ]
    },
    {
     "name": "stdout",
     "output_type": "stream",
     "text": [
      "Scenario pkl file for box trucks within 10 meters of an intersection_b87683ae saved successfully.\n",
      "ba67827f-6b99-3d2a-96ab-7c829eb999bb\n"
     ]
    },
    {
     "name": "stderr",
     "output_type": "stream",
     "text": [
      "100/149:   0%|          | 0/10 [00:00<?, ?it/s]"
     ]
    },
    {
     "name": "stdout",
     "output_type": "stream",
     "text": [
      "/home/crdavids/Trinity-Sync/refbot/output/sm_predictions/val/ba67827f-6b99-3d2a-96ab-7c829eb999bb/left lane change while there is a vehicle to the left_ba67827f_claude-3-5-sonnet_predictions.pkl\n",
      "Cached scenario prediction found\n"
     ]
    },
    {
     "name": "stderr",
     "output_type": "stream",
     "text": [
      "100/149:  10%|█         | 1/10 [00:12<01:51, 12.41s/it]"
     ]
    },
    {
     "name": "stdout",
     "output_type": "stream",
     "text": [
      "Scenario pkl file for left lane change while there is a vehicle to the left_ba67827f saved successfully.\n",
      "/home/crdavids/Trinity-Sync/refbot/output/sm_predictions/val/ba67827f-6b99-3d2a-96ab-7c829eb999bb/vehicle behind another vehicle that has a pedestrian on its right side_ba67827f_claude-3-5-sonnet_predictions.pkl\n",
      "Cached scenario prediction found\n"
     ]
    },
    {
     "name": "stderr",
     "output_type": "stream",
     "text": [
      "100/149:  20%|██        | 2/10 [01:02<04:34, 34.36s/it]"
     ]
    },
    {
     "name": "stdout",
     "output_type": "stream",
     "text": [
      "Scenario pkl file for vehicle behind another vehicle that has a pedestrian on its right side_ba67827f saved successfully.\n",
      "/home/crdavids/Trinity-Sync/refbot/output/sm_predictions/val/ba67827f-6b99-3d2a-96ab-7c829eb999bb/oncoming vehicle changing lanes_ba67827f_claude-3-5-sonnet_predictions.pkl\n",
      "Cached scenario prediction found\n"
     ]
    },
    {
     "name": "stderr",
     "output_type": "stream",
     "text": [
      "100/149:  30%|███       | 3/10 [01:17<02:58, 25.46s/it]"
     ]
    },
    {
     "name": "stdout",
     "output_type": "stream",
     "text": [
      "Scenario pkl file for oncoming vehicle changing lanes_ba67827f saved successfully.\n",
      "/home/crdavids/Trinity-Sync/refbot/output/sm_predictions/val/ba67827f-6b99-3d2a-96ab-7c829eb999bb/bicycle facing toward a vehicle_ba67827f_claude-3-5-sonnet_predictions.pkl\n",
      "Cached scenario prediction found\n"
     ]
    },
    {
     "name": "stderr",
     "output_type": "stream",
     "text": [
      "100/149:  40%|████      | 4/10 [01:25<01:52, 18.78s/it]"
     ]
    },
    {
     "name": "stdout",
     "output_type": "stream",
     "text": [
      "Scenario pkl file for bicycle facing toward a vehicle_ba67827f saved successfully.\n",
      "/home/crdavids/Trinity-Sync/refbot/output/sm_predictions/val/ba67827f-6b99-3d2a-96ab-7c829eb999bb/vehicle two cars ahead is braking_ba67827f_claude-3-5-sonnet_predictions.pkl\n",
      "Cached scenario prediction found\n"
     ]
    },
    {
     "name": "stderr",
     "output_type": "stream",
     "text": [
      "100/149:  50%|█████     | 5/10 [03:14<04:15, 51.20s/it]"
     ]
    },
    {
     "name": "stdout",
     "output_type": "stream",
     "text": [
      "Scenario pkl file for vehicle two cars ahead is braking_ba67827f saved successfully.\n",
      "/home/crdavids/Trinity-Sync/refbot/output/sm_predictions/val/ba67827f-6b99-3d2a-96ab-7c829eb999bb/ego vehicle with parked bicycles ahead_ba67827f_claude-3-5-sonnet_predictions.pkl\n",
      "Cached scenario prediction found\n"
     ]
    },
    {
     "name": "stderr",
     "output_type": "stream",
     "text": [
      "100/149:  60%|██████    | 6/10 [03:21<02:24, 36.11s/it]"
     ]
    },
    {
     "name": "stdout",
     "output_type": "stream",
     "text": [
      "Scenario pkl file for ego vehicle with parked bicycles ahead_ba67827f saved successfully.\n",
      "/home/crdavids/Trinity-Sync/refbot/output/sm_predictions/val/ba67827f-6b99-3d2a-96ab-7c829eb999bb/bicycle between two vehicles traveling in same direction_ba67827f_claude-3-5-sonnet_predictions.pkl\n",
      "Cached scenario prediction found\n"
     ]
    },
    {
     "name": "stderr",
     "output_type": "stream",
     "text": [
      "100/149:  70%|███████   | 7/10 [03:30<01:22, 27.53s/it]"
     ]
    },
    {
     "name": "stdout",
     "output_type": "stream",
     "text": [
      "Scenario pkl file for bicycle between two vehicles traveling in same direction_ba67827f saved successfully.\n",
      "/home/crdavids/Trinity-Sync/refbot/output/sm_predictions/val/ba67827f-6b99-3d2a-96ab-7c829eb999bb/any vehicle in front of stop sign_ba67827f_claude-3-5-sonnet_predictions.pkl\n",
      "Cached scenario prediction found\n"
     ]
    },
    {
     "name": "stderr",
     "output_type": "stream",
     "text": [
      "100/149:  80%|████████  | 8/10 [03:58<00:54, 27.50s/it]"
     ]
    },
    {
     "name": "stdout",
     "output_type": "stream",
     "text": [
      "Scenario pkl file for any vehicle in front of stop sign_ba67827f saved successfully.\n",
      "Default scenario prediction correctly generated.\n",
      "/home/crdavids/Trinity-Sync/refbot/output/sm_predictions/val/ba67827f-6b99-3d2a-96ab-7c829eb999bb/the vehicle two cars in front of the ego vehicle_ba67827f_claude-3-5-sonnet_predictions.pkl\n",
      "Cached scenario prediction found\n"
     ]
    },
    {
     "name": "stderr",
     "output_type": "stream",
     "text": [
      "100/149:  90%|█████████ | 9/10 [04:20<00:25, 25.69s/it]"
     ]
    },
    {
     "name": "stdout",
     "output_type": "stream",
     "text": [
      "Scenario pkl file for the vehicle two cars in front of the ego vehicle_ba67827f saved successfully.\n",
      "/home/crdavids/Trinity-Sync/refbot/output/sm_predictions/val/ba67827f-6b99-3d2a-96ab-7c829eb999bb/vehicle two vehicles ahead is turning_ba67827f_claude-3-5-sonnet_predictions.pkl\n",
      "Cached scenario prediction found\n"
     ]
    },
    {
     "name": "stderr",
     "output_type": "stream",
     "text": [
      "100/149: 100%|██████████| 10/10 [04:30<00:00, 27.05s/it]\n"
     ]
    },
    {
     "name": "stdout",
     "output_type": "stream",
     "text": [
      "Scenario pkl file for vehicle two vehicles ahead is turning_ba67827f saved successfully.\n",
      "bbd19ca1-805a-3c22-8df3-cd7501aa06f3\n"
     ]
    },
    {
     "name": "stderr",
     "output_type": "stream",
     "text": [
      "101/149:   0%|          | 0/10 [00:00<?, ?it/s]"
     ]
    },
    {
     "name": "stdout",
     "output_type": "stream",
     "text": [
      "/home/crdavids/Trinity-Sync/refbot/output/sm_predictions/val/bbd19ca1-805a-3c22-8df3-cd7501aa06f3/motorcyclist_bbd19ca1_claude-3-5-sonnet_predictions.pkl\n",
      "Cached scenario prediction found\n"
     ]
    },
    {
     "name": "stderr",
     "output_type": "stream",
     "text": [
      "101/149:  10%|█         | 1/10 [00:04<00:40,  4.55s/it]"
     ]
    },
    {
     "name": "stdout",
     "output_type": "stream",
     "text": [
      "Scenario pkl file for motorcyclist_bbd19ca1 saved successfully.\n",
      "/home/crdavids/Trinity-Sync/refbot/output/sm_predictions/val/bbd19ca1-805a-3c22-8df3-cd7501aa06f3/the active vehicle in front of the the vehicle ahead_bbd19ca1_claude-3-5-sonnet_predictions.pkl\n",
      "the active vehicle in front of the the vehicle ahead definition saved to output/llm_scenario_predictions/claude-3-5-sonnet\n"
     ]
    },
    {
     "name": "stderr",
     "output_type": "stream",
     "text": [
      "101/149:  20%|██        | 2/10 [00:26<01:57, 14.63s/it]"
     ]
    },
    {
     "name": "stdout",
     "output_type": "stream",
     "text": [
      "Scenario pkl file for the active vehicle in front of the vehicle ahead_bbd19ca1 saved successfully.\n",
      "/home/crdavids/Trinity-Sync/refbot/output/sm_predictions/val/bbd19ca1-805a-3c22-8df3-cd7501aa06f3/vehicle hard braking with another vehicle ahead_bbd19ca1_claude-3-5-sonnet_predictions.pkl\n",
      "Cached scenario prediction found\n"
     ]
    },
    {
     "name": "stderr",
     "output_type": "stream",
     "text": [
      "101/149:  30%|███       | 3/10 [00:36<01:29, 12.81s/it]"
     ]
    },
    {
     "name": "stdout",
     "output_type": "stream",
     "text": [
      "Scenario pkl file for vehicle hard braking with another vehicle ahead_bbd19ca1 saved successfully.\n",
      "/home/crdavids/Trinity-Sync/refbot/output/sm_predictions/val/bbd19ca1-805a-3c22-8df3-cd7501aa06f3/bicycle facing toward a vehicle_bbd19ca1_claude-3-5-sonnet_predictions.pkl\n",
      "Cached scenario prediction found\n"
     ]
    },
    {
     "name": "stderr",
     "output_type": "stream",
     "text": [
      "101/149:  40%|████      | 4/10 [00:42<00:59,  9.97s/it]"
     ]
    },
    {
     "name": "stdout",
     "output_type": "stream",
     "text": [
      "Scenario pkl file for bicycle facing toward a vehicle_bbd19ca1 saved successfully.\n",
      "/home/crdavids/Trinity-Sync/refbot/output/sm_predictions/val/bbd19ca1-805a-3c22-8df3-cd7501aa06f3/group of people_bbd19ca1_claude-3-5-sonnet_predictions.pkl\n",
      "Cached scenario prediction found\n"
     ]
    },
    {
     "name": "stderr",
     "output_type": "stream",
     "text": [
      "101/149:  50%|█████     | 5/10 [00:53<00:51, 10.33s/it]"
     ]
    },
    {
     "name": "stdout",
     "output_type": "stream",
     "text": [
      "Scenario pkl file for group of people_bbd19ca1 saved successfully.\n",
      "/home/crdavids/Trinity-Sync/refbot/output/sm_predictions/val/bbd19ca1-805a-3c22-8df3-cd7501aa06f3/vehicle braking heavily_bbd19ca1_claude-3-5-sonnet_predictions.pkl\n",
      "Cached scenario prediction found\n"
     ]
    },
    {
     "name": "stderr",
     "output_type": "stream",
     "text": [
      "101/149:  60%|██████    | 6/10 [00:59<00:35,  8.79s/it]"
     ]
    },
    {
     "name": "stdout",
     "output_type": "stream",
     "text": [
      "Scenario pkl file for vehicle braking heavily_bbd19ca1 saved successfully.\n",
      "/home/crdavids/Trinity-Sync/refbot/output/sm_predictions/val/bbd19ca1-805a-3c22-8df3-cd7501aa06f3/pedestrians facing each other at close range, possibly conversing_bbd19ca1_claude-3-5-sonnet_predictions.pkl\n",
      "Cached scenario prediction found\n"
     ]
    },
    {
     "name": "stderr",
     "output_type": "stream",
     "text": [
      "101/149:  70%|███████   | 7/10 [01:09<00:27,  9.31s/it]"
     ]
    },
    {
     "name": "stdout",
     "output_type": "stream",
     "text": [
      "Scenario pkl file for pedestrians facing each other at close range, possibly conversing_bbd19ca1 saved successfully.\n",
      "/home/crdavids/Trinity-Sync/refbot/output/sm_predictions/val/bbd19ca1-805a-3c22-8df3-cd7501aa06f3/pedestrians over 30 meters away_bbd19ca1_claude-3-5-sonnet_predictions.pkl\n",
      "Cached scenario prediction found\n"
     ]
    },
    {
     "name": "stderr",
     "output_type": "stream",
     "text": [
      "101/149:  80%|████████  | 8/10 [01:14<00:15,  7.92s/it]"
     ]
    },
    {
     "name": "stdout",
     "output_type": "stream",
     "text": [
      "Scenario pkl file for pedestrians over 30 meters away_bbd19ca1 saved successfully.\n",
      "Default scenario prediction correctly generated.\n",
      "/home/crdavids/Trinity-Sync/refbot/output/sm_predictions/val/bbd19ca1-805a-3c22-8df3-cd7501aa06f3/vehicle facing and heading toward pedestrian group_bbd19ca1_claude-3-5-sonnet_predictions.pkl\n",
      "Cached scenario prediction found\n"
     ]
    },
    {
     "name": "stderr",
     "output_type": "stream",
     "text": [
      "101/149:  90%|█████████ | 9/10 [01:27<00:09,  9.45s/it]"
     ]
    },
    {
     "name": "stdout",
     "output_type": "stream",
     "text": [
      "Scenario pkl file for vehicle facing and heading toward pedestrian group_bbd19ca1 saved successfully.\n",
      "/home/crdavids/Trinity-Sync/refbot/output/sm_predictions/val/bbd19ca1-805a-3c22-8df3-cd7501aa06f3/ego vehicle following vehicle being overtaken on right_bbd19ca1_claude-3-5-sonnet_predictions.pkl\n",
      "Cached scenario prediction found\n"
     ]
    },
    {
     "name": "stderr",
     "output_type": "stream",
     "text": [
      "101/149: 100%|██████████| 10/10 [01:43<00:00, 10.31s/it]\n"
     ]
    },
    {
     "name": "stdout",
     "output_type": "stream",
     "text": [
      "Scenario pkl file for ego vehicle following vehicle being overtaken on right_bbd19ca1 saved successfully.\n",
      "bd90cd1a-38b6-33b7-adec-ba7d4207a8c0\n"
     ]
    },
    {
     "name": "stderr",
     "output_type": "stream",
     "text": [
      "102/149:   0%|          | 0/9 [00:00<?, ?it/s]"
     ]
    },
    {
     "name": "stdout",
     "output_type": "stream",
     "text": [
      "/home/crdavids/Trinity-Sync/refbot/output/sm_predictions/val/bd90cd1a-38b6-33b7-adec-ba7d4207a8c0/vehicle two vehicles ahead is changing lanes_bd90cd1a_claude-3-5-sonnet_predictions.pkl\n",
      "Cached scenario prediction found\n"
     ]
    },
    {
     "name": "stderr",
     "output_type": "stream",
     "text": [
      "102/149:  11%|█         | 1/9 [00:10<01:21, 10.16s/it]"
     ]
    },
    {
     "name": "stdout",
     "output_type": "stream",
     "text": [
      "Scenario pkl file for vehicle two vehicles ahead is changing lanes_bd90cd1a saved successfully.\n",
      "/home/crdavids/Trinity-Sync/refbot/output/sm_predictions/val/bd90cd1a-38b6-33b7-adec-ba7d4207a8c0/bus within 5 meters to either side of ego vehicle_bd90cd1a_claude-3-5-sonnet_predictions.pkl\n",
      "Cached scenario prediction found\n"
     ]
    },
    {
     "name": "stderr",
     "output_type": "stream",
     "text": [
      "102/149:  22%|██▏       | 2/9 [00:15<00:50,  7.22s/it]"
     ]
    },
    {
     "name": "stdout",
     "output_type": "stream",
     "text": [
      "Scenario pkl file for bus within 5 meters to either side of ego vehicle_bd90cd1a saved successfully.\n",
      "/home/crdavids/Trinity-Sync/refbot/output/sm_predictions/val/bd90cd1a-38b6-33b7-adec-ba7d4207a8c0/braking vehicle_bd90cd1a_claude-3-5-sonnet_predictions.pkl\n",
      "Cached scenario prediction found\n"
     ]
    },
    {
     "name": "stderr",
     "output_type": "stream",
     "text": [
      "102/149:  33%|███▎      | 3/9 [00:22<00:42,  7.09s/it]"
     ]
    },
    {
     "name": "stdout",
     "output_type": "stream",
     "text": [
      "Scenario pkl file for braking vehicle_bd90cd1a saved successfully.\n",
      "/home/crdavids/Trinity-Sync/refbot/output/sm_predictions/val/bd90cd1a-38b6-33b7-adec-ba7d4207a8c0/accelerating passenger vehicle_bd90cd1a_claude-3-5-sonnet_predictions.pkl\n",
      "Cached scenario prediction found\n"
     ]
    },
    {
     "name": "stderr",
     "output_type": "stream",
     "text": [
      "102/149:  44%|████▍     | 4/9 [00:29<00:35,  7.05s/it]"
     ]
    },
    {
     "name": "stdout",
     "output_type": "stream",
     "text": [
      "Scenario pkl file for accelerating passenger vehicle_bd90cd1a saved successfully.\n",
      "/home/crdavids/Trinity-Sync/refbot/output/sm_predictions/val/bd90cd1a-38b6-33b7-adec-ba7d4207a8c0/object that hasn't moved_bd90cd1a_claude-3-5-sonnet_predictions.pkl\n",
      "Cached scenario prediction found\n"
     ]
    },
    {
     "name": "stderr",
     "output_type": "stream",
     "text": [
      "102/149:  56%|█████▌    | 5/9 [00:34<00:24,  6.23s/it]"
     ]
    },
    {
     "name": "stdout",
     "output_type": "stream",
     "text": [
      "Scenario pkl file for object that hasn't moved_bd90cd1a saved successfully.\n",
      "Default scenario prediction correctly generated.\n",
      "/home/crdavids/Trinity-Sync/refbot/output/sm_predictions/val/bd90cd1a-38b6-33b7-adec-ba7d4207a8c0/two cars back from the ego vehicle_bd90cd1a_claude-3-5-sonnet_predictions.pkl\n",
      "Cached scenario prediction found\n"
     ]
    },
    {
     "name": "stderr",
     "output_type": "stream",
     "text": [
      "102/149:  67%|██████▋   | 6/9 [00:49<00:28,  9.34s/it]"
     ]
    },
    {
     "name": "stdout",
     "output_type": "stream",
     "text": [
      "Scenario pkl file for two cars back from the ego vehicle_bd90cd1a saved successfully.\n",
      "/home/crdavids/Trinity-Sync/refbot/output/sm_predictions/val/bd90cd1a-38b6-33b7-adec-ba7d4207a8c0/vehicle two vehicles ahead is turning_bd90cd1a_claude-3-5-sonnet_predictions.pkl\n",
      "Cached scenario prediction found\n"
     ]
    },
    {
     "name": "stderr",
     "output_type": "stream",
     "text": [
      "102/149:  78%|███████▊  | 7/9 [00:57<00:18,  9.05s/it]"
     ]
    },
    {
     "name": "stdout",
     "output_type": "stream",
     "text": [
      "Scenario pkl file for vehicle two vehicles ahead is turning_bd90cd1a saved successfully.\n",
      "/home/crdavids/Trinity-Sync/refbot/output/sm_predictions/val/bd90cd1a-38b6-33b7-adec-ba7d4207a8c0/the vehicle two cars in front of the ego vehicle_bd90cd1a_claude-3-5-sonnet_predictions.pkl\n",
      "Cached scenario prediction found\n"
     ]
    },
    {
     "name": "stderr",
     "output_type": "stream",
     "text": [
      "102/149:  89%|████████▉ | 8/9 [01:21<00:13, 13.67s/it]"
     ]
    },
    {
     "name": "stdout",
     "output_type": "stream",
     "text": [
      "Scenario pkl file for the vehicle two cars in front of the ego vehicle_bd90cd1a saved successfully.\n",
      "/home/crdavids/Trinity-Sync/refbot/output/sm_predictions/val/bd90cd1a-38b6-33b7-adec-ba7d4207a8c0/ego vehicle with vehicles on both sides_bd90cd1a_claude-3-5-sonnet_predictions.pkl\n",
      "Cached scenario prediction found\n"
     ]
    },
    {
     "name": "stderr",
     "output_type": "stream",
     "text": [
      "102/149: 100%|██████████| 9/9 [01:35<00:00, 10.60s/it]\n"
     ]
    },
    {
     "name": "stdout",
     "output_type": "stream",
     "text": [
      "Scenario pkl file for ego vehicle with vehicles on both sides_bd90cd1a saved successfully.\n",
      "bdb9d309-f14b-3ff6-ad1f-5d3f3f95a13e\n"
     ]
    },
    {
     "name": "stderr",
     "output_type": "stream",
     "text": [
      "103/149:   0%|          | 0/10 [00:00<?, ?it/s]"
     ]
    },
    {
     "name": "stdout",
     "output_type": "stream",
     "text": [
      "/home/crdavids/Trinity-Sync/refbot/output/sm_predictions/val/bdb9d309-f14b-3ff6-ad1f-5d3f3f95a13e/car turning right_bdb9d309_claude-3-5-sonnet_predictions.pkl\n",
      "Cached scenario prediction found\n"
     ]
    },
    {
     "name": "stderr",
     "output_type": "stream",
     "text": [
      "103/149:  10%|█         | 1/10 [00:11<01:45, 11.67s/it]"
     ]
    },
    {
     "name": "stdout",
     "output_type": "stream",
     "text": [
      "Scenario pkl file for car turning right_bdb9d309 saved successfully.\n",
      "/home/crdavids/Trinity-Sync/refbot/output/sm_predictions/val/bdb9d309-f14b-3ff6-ad1f-5d3f3f95a13e/making a left lane change while there is a vehicle to the right_bdb9d309_claude-3-5-sonnet_predictions.pkl\n",
      "Cached scenario prediction found\n"
     ]
    },
    {
     "name": "stderr",
     "output_type": "stream",
     "text": [
      "103/149:  20%|██        | 2/10 [00:27<01:53, 14.23s/it]"
     ]
    },
    {
     "name": "stdout",
     "output_type": "stream",
     "text": [
      "Scenario pkl file for making a left lane change while there is a vehicle to the right_bdb9d309 saved successfully.\n",
      "/home/crdavids/Trinity-Sync/refbot/output/sm_predictions/val/bdb9d309-f14b-3ff6-ad1f-5d3f3f95a13e/vehicle being followed by ego vehilce while being overtaken on right_bdb9d309_claude-3-5-sonnet_predictions.pkl\n",
      "vehicle being followed by ego vehilce while being overtaken on right definition saved to output/llm_scenario_predictions/claude-3-5-sonnet\n"
     ]
    },
    {
     "name": "stderr",
     "output_type": "stream",
     "text": [
      "103/149:  30%|███       | 3/10 [00:47<01:58, 16.97s/it]"
     ]
    },
    {
     "name": "stdout",
     "output_type": "stream",
     "text": [
      "Scenario pkl file for vehicle being followed by ego vehicle while being overtaken on right_bdb9d309 saved successfully.\n",
      "/home/crdavids/Trinity-Sync/refbot/output/sm_predictions/val/bdb9d309-f14b-3ff6-ad1f-5d3f3f95a13e/box trucks within 10 meters of an intersection_bdb9d309_claude-3-5-sonnet_predictions.pkl\n",
      "Cached scenario prediction found\n"
     ]
    },
    {
     "name": "stderr",
     "output_type": "stream",
     "text": [
      "103/149:  40%|████      | 4/10 [00:55<01:19, 13.27s/it]"
     ]
    },
    {
     "name": "stdout",
     "output_type": "stream",
     "text": [
      "Scenario pkl file for box trucks within 10 meters of an intersection_bdb9d309 saved successfully.\n",
      "/home/crdavids/Trinity-Sync/refbot/output/sm_predictions/val/bdb9d309-f14b-3ff6-ad1f-5d3f3f95a13e/two cars back from the ego vehicle_bdb9d309_claude-3-5-sonnet_predictions.pkl\n",
      "Cached scenario prediction found\n"
     ]
    },
    {
     "name": "stderr",
     "output_type": "stream",
     "text": [
      "103/149:  50%|█████     | 5/10 [01:23<01:32, 18.45s/it]"
     ]
    },
    {
     "name": "stdout",
     "output_type": "stream",
     "text": [
      "Scenario pkl file for two cars back from the ego vehicle_bdb9d309 saved successfully.\n",
      "/home/crdavids/Trinity-Sync/refbot/output/sm_predictions/val/bdb9d309-f14b-3ff6-ad1f-5d3f3f95a13e/box truck with multiple construction cones to its right_bdb9d309_claude-3-5-sonnet_predictions.pkl\n",
      "Cached scenario prediction found\n"
     ]
    },
    {
     "name": "stderr",
     "output_type": "stream",
     "text": [
      "103/149:  60%|██████    | 6/10 [01:32<01:00, 15.19s/it]"
     ]
    },
    {
     "name": "stdout",
     "output_type": "stream",
     "text": [
      "Scenario pkl file for box truck with multiple construction cones to its right_bdb9d309 saved successfully.\n",
      "/home/crdavids/Trinity-Sync/refbot/output/sm_predictions/val/bdb9d309-f14b-3ff6-ad1f-5d3f3f95a13e/passenger vehicle turning left at intersection_bdb9d309_claude-3-5-sonnet_predictions.pkl\n",
      "Cached scenario prediction found\n"
     ]
    },
    {
     "name": "stderr",
     "output_type": "stream",
     "text": [
      "103/149:  70%|███████   | 7/10 [01:43<00:41, 13.83s/it]"
     ]
    },
    {
     "name": "stdout",
     "output_type": "stream",
     "text": [
      "Scenario pkl file for passenger vehicle turning left at intersection_bdb9d309 saved successfully.\n",
      "/home/crdavids/Trinity-Sync/refbot/output/sm_predictions/val/bdb9d309-f14b-3ff6-ad1f-5d3f3f95a13e/ego vehicle following vehicle being overtaken on right_bdb9d309_claude-3-5-sonnet_predictions.pkl\n",
      "Cached scenario prediction found\n"
     ]
    },
    {
     "name": "stderr",
     "output_type": "stream",
     "text": [
      "103/149:  80%|████████  | 8/10 [02:14<00:39, 19.56s/it]"
     ]
    },
    {
     "name": "stdout",
     "output_type": "stream",
     "text": [
      "Scenario pkl file for ego vehicle following vehicle being overtaken on right_bdb9d309 saved successfully.\n",
      "/home/crdavids/Trinity-Sync/refbot/output/sm_predictions/val/bdb9d309-f14b-3ff6-ad1f-5d3f3f95a13e/passenger vehicle turning right_bdb9d309_claude-3-5-sonnet_predictions.pkl\n",
      "Cached scenario prediction found\n"
     ]
    },
    {
     "name": "stderr",
     "output_type": "stream",
     "text": [
      "103/149:  90%|█████████ | 9/10 [02:24<00:16, 16.59s/it]"
     ]
    },
    {
     "name": "stdout",
     "output_type": "stream",
     "text": [
      "Scenario pkl file for passenger vehicle turning right_bdb9d309 saved successfully.\n",
      "/home/crdavids/Trinity-Sync/refbot/output/sm_predictions/val/bdb9d309-f14b-3ff6-ad1f-5d3f3f95a13e/accelerating vehicle changing lanes to the right_bdb9d309_claude-3-5-sonnet_predictions.pkl\n",
      "Cached scenario prediction found\n"
     ]
    },
    {
     "name": "stderr",
     "output_type": "stream",
     "text": [
      "103/149: 100%|██████████| 10/10 [02:38<00:00, 15.83s/it]\n"
     ]
    },
    {
     "name": "stdout",
     "output_type": "stream",
     "text": [
      "Scenario pkl file for accelerating vehicle changing lanes to the right_bdb9d309 saved successfully.\n",
      "bf360aeb-1bbd-3c1e-b143-09cf83e4f2e4\n"
     ]
    },
    {
     "name": "stderr",
     "output_type": "stream",
     "text": [
      "104/149:   0%|          | 0/10 [00:00<?, ?it/s]"
     ]
    },
    {
     "name": "stdout",
     "output_type": "stream",
     "text": [
      "/home/crdavids/Trinity-Sync/refbot/output/sm_predictions/val/bf360aeb-1bbd-3c1e-b143-09cf83e4f2e4/vehicle with a bicycle to its right_bf360aeb_claude-3-5-sonnet_predictions.pkl\n",
      "Cached scenario prediction found\n"
     ]
    },
    {
     "name": "stderr",
     "output_type": "stream",
     "text": [
      "104/149:  10%|█         | 1/10 [00:20<03:03, 20.42s/it]"
     ]
    },
    {
     "name": "stdout",
     "output_type": "stream",
     "text": [
      "Scenario pkl file for vehicle with a bicycle to its right_bf360aeb saved successfully.\n",
      "/home/crdavids/Trinity-Sync/refbot/output/sm_predictions/val/bf360aeb-1bbd-3c1e-b143-09cf83e4f2e4/dog near pedestrian_bf360aeb_claude-3-5-sonnet_predictions.pkl\n",
      "Cached scenario prediction found\n"
     ]
    },
    {
     "name": "stderr",
     "output_type": "stream",
     "text": [
      "104/149:  20%|██        | 2/10 [00:31<01:58, 14.87s/it]"
     ]
    },
    {
     "name": "stdout",
     "output_type": "stream",
     "text": [
      "Scenario pkl file for dog near pedestrian_bf360aeb saved successfully.\n",
      "/home/crdavids/Trinity-Sync/refbot/output/sm_predictions/val/bf360aeb-1bbd-3c1e-b143-09cf83e4f2e4/vehicle behind another vehicle that has a pedestrian on its right side_bf360aeb_claude-3-5-sonnet_predictions.pkl\n",
      "Cached scenario prediction found\n"
     ]
    },
    {
     "name": "stderr",
     "output_type": "stream",
     "text": [
      "104/149:  30%|███       | 3/10 [01:40<04:37, 39.64s/it]"
     ]
    },
    {
     "name": "stdout",
     "output_type": "stream",
     "text": [
      "Scenario pkl file for vehicle behind another vehicle that has a pedestrian on its right side_bf360aeb saved successfully.\n",
      "/home/crdavids/Trinity-Sync/refbot/output/sm_predictions/val/bf360aeb-1bbd-3c1e-b143-09cf83e4f2e4/moving vehicles that are not on the road_bf360aeb_claude-3-5-sonnet_predictions.pkl\n",
      "Cached scenario prediction found\n"
     ]
    },
    {
     "name": "stderr",
     "output_type": "stream",
     "text": [
      "104/149:  40%|████      | 4/10 [01:50<02:46, 27.83s/it]"
     ]
    },
    {
     "name": "stdout",
     "output_type": "stream",
     "text": [
      "Scenario pkl file for moving vehicles that are not on the road_bf360aeb saved successfully.\n",
      "/home/crdavids/Trinity-Sync/refbot/output/sm_predictions/val/bf360aeb-1bbd-3c1e-b143-09cf83e4f2e4/dog near an intersection_bf360aeb_claude-3-5-sonnet_predictions.pkl\n",
      "Cached scenario prediction found\n"
     ]
    },
    {
     "name": "stderr",
     "output_type": "stream",
     "text": [
      "104/149:  50%|█████     | 5/10 [01:56<01:39, 19.94s/it]"
     ]
    },
    {
     "name": "stdout",
     "output_type": "stream",
     "text": [
      "Scenario pkl file for dog near an intersection_bf360aeb saved successfully.\n",
      "/home/crdavids/Trinity-Sync/refbot/output/sm_predictions/val/bf360aeb-1bbd-3c1e-b143-09cf83e4f2e4/pedestrian near bollard_bf360aeb_claude-3-5-sonnet_predictions.pkl\n",
      "Cached scenario prediction found\n"
     ]
    },
    {
     "name": "stderr",
     "output_type": "stream",
     "text": [
      "104/149:  60%|██████    | 6/10 [02:15<01:19, 19.82s/it]"
     ]
    },
    {
     "name": "stdout",
     "output_type": "stream",
     "text": [
      "Scenario pkl file for pedestrian near bollard_bf360aeb saved successfully.\n",
      "/home/crdavids/Trinity-Sync/refbot/output/sm_predictions/val/bf360aeb-1bbd-3c1e-b143-09cf83e4f2e4/dog on roadway_bf360aeb_claude-3-5-sonnet_predictions.pkl\n",
      "dog on roadway definition saved to output/llm_scenario_predictions/claude-3-5-sonnet\n"
     ]
    },
    {
     "name": "stderr",
     "output_type": "stream",
     "text": [
      "104/149:  70%|███████   | 7/10 [02:25<00:49, 16.54s/it]"
     ]
    },
    {
     "name": "stdout",
     "output_type": "stream",
     "text": [
      "Scenario pkl file for dog on roadway_bf360aeb saved successfully.\n",
      "/home/crdavids/Trinity-Sync/refbot/output/sm_predictions/val/bf360aeb-1bbd-3c1e-b143-09cf83e4f2e4/car turning right_bf360aeb_claude-3-5-sonnet_predictions.pkl\n",
      "Cached scenario prediction found\n"
     ]
    },
    {
     "name": "stderr",
     "output_type": "stream",
     "text": [
      "104/149:  80%|████████  | 8/10 [02:32<00:26, 13.42s/it]"
     ]
    },
    {
     "name": "stdout",
     "output_type": "stream",
     "text": [
      "Scenario pkl file for car turning right_bf360aeb saved successfully.\n",
      "/home/crdavids/Trinity-Sync/refbot/output/sm_predictions/val/bf360aeb-1bbd-3c1e-b143-09cf83e4f2e4/dog_bf360aeb_claude-3-5-sonnet_predictions.pkl\n",
      "Cached scenario prediction found\n"
     ]
    },
    {
     "name": "stderr",
     "output_type": "stream",
     "text": [
      "104/149:  90%|█████████ | 9/10 [02:38<00:11, 11.07s/it]"
     ]
    },
    {
     "name": "stdout",
     "output_type": "stream",
     "text": [
      "Scenario pkl file for dog_bf360aeb saved successfully.\n",
      "/home/crdavids/Trinity-Sync/refbot/output/sm_predictions/val/bf360aeb-1bbd-3c1e-b143-09cf83e4f2e4/vehicle with multiple pedestrians to the left_bf360aeb_claude-3-5-sonnet_predictions.pkl\n",
      "Cached scenario prediction found\n"
     ]
    },
    {
     "name": "stderr",
     "output_type": "stream",
     "text": [
      "104/149: 100%|██████████| 10/10 [03:29<00:00, 20.93s/it]\n"
     ]
    },
    {
     "name": "stdout",
     "output_type": "stream",
     "text": [
      "Scenario pkl file for vehicle with multiple pedestrians to the left_bf360aeb saved successfully.\n",
      "bf382949-3515-3c16-b505-319442937a43\n"
     ]
    },
    {
     "name": "stderr",
     "output_type": "stream",
     "text": [
      "105/149:   0%|          | 0/10 [00:00<?, ?it/s]"
     ]
    },
    {
     "name": "stdout",
     "output_type": "stream",
     "text": [
      "/home/crdavids/Trinity-Sync/refbot/output/sm_predictions/val/bf382949-3515-3c16-b505-319442937a43/ego vehicle following vehicle being overtaken on right_bf382949_claude-3-5-sonnet_predictions.pkl\n",
      "Cached scenario prediction found\n"
     ]
    },
    {
     "name": "stderr",
     "output_type": "stream",
     "text": [
      "105/149:  10%|█         | 1/10 [00:21<03:13, 21.53s/it]"
     ]
    },
    {
     "name": "stdout",
     "output_type": "stream",
     "text": [
      "Scenario pkl file for ego vehicle following vehicle being overtaken on right_bf382949 saved successfully.\n",
      "/home/crdavids/Trinity-Sync/refbot/output/sm_predictions/val/bf382949-3515-3c16-b505-319442937a43/the vehicle two cars in front of the ego vehicle_bf382949_claude-3-5-sonnet_predictions.pkl\n",
      "Cached scenario prediction found\n"
     ]
    },
    {
     "name": "stderr",
     "output_type": "stream",
     "text": [
      "105/149:  20%|██        | 2/10 [00:56<03:53, 29.20s/it]"
     ]
    },
    {
     "name": "stdout",
     "output_type": "stream",
     "text": [
      "Scenario pkl file for the vehicle two cars in front of the ego vehicle_bf382949 saved successfully.\n",
      "/home/crdavids/Trinity-Sync/refbot/output/sm_predictions/val/bf382949-3515-3c16-b505-319442937a43/two cars back from the ego vehicle_bf382949_claude-3-5-sonnet_predictions.pkl\n",
      "Cached scenario prediction found\n"
     ]
    },
    {
     "name": "stderr",
     "output_type": "stream",
     "text": [
      "105/149:  30%|███       | 3/10 [01:17<03:00, 25.72s/it]"
     ]
    },
    {
     "name": "stdout",
     "output_type": "stream",
     "text": [
      "Scenario pkl file for two cars back from the ego vehicle_bf382949 saved successfully.\n",
      "/home/crdavids/Trinity-Sync/refbot/output/sm_predictions/val/bf382949-3515-3c16-b505-319442937a43/pedestrian facing toward ego vehicle_bf382949_claude-3-5-sonnet_predictions.pkl\n",
      "Cached scenario prediction found\n"
     ]
    },
    {
     "name": "stderr",
     "output_type": "stream",
     "text": [
      "105/149:  40%|████      | 4/10 [01:23<01:47, 17.89s/it]"
     ]
    },
    {
     "name": "stdout",
     "output_type": "stream",
     "text": [
      "Scenario pkl file for pedestrian facing toward ego vehicle_bf382949 saved successfully.\n",
      "/home/crdavids/Trinity-Sync/refbot/output/sm_predictions/val/bf382949-3515-3c16-b505-319442937a43/vehicle two vehicles ahead is turning_bf382949_claude-3-5-sonnet_predictions.pkl\n",
      "Cached scenario prediction found\n"
     ]
    },
    {
     "name": "stderr",
     "output_type": "stream",
     "text": [
      "105/149:  50%|█████     | 5/10 [01:35<01:18, 15.71s/it]"
     ]
    },
    {
     "name": "stdout",
     "output_type": "stream",
     "text": [
      "Scenario pkl file for vehicle two vehicles ahead is turning_bf382949 saved successfully.\n",
      "/home/crdavids/Trinity-Sync/refbot/output/sm_predictions/val/bf382949-3515-3c16-b505-319442937a43/moving bus to the front-left of the ego vehicle_bf382949_claude-3-5-sonnet_predictions.pkl\n",
      "Cached scenario prediction found\n"
     ]
    },
    {
     "name": "stderr",
     "output_type": "stream",
     "text": [
      "105/149:  60%|██████    | 6/10 [01:40<00:48, 12.11s/it]"
     ]
    },
    {
     "name": "stdout",
     "output_type": "stream",
     "text": [
      "Scenario pkl file for moving bus to the front-left of the ego vehicle_bf382949 saved successfully.\n",
      "/home/crdavids/Trinity-Sync/refbot/output/sm_predictions/val/bf382949-3515-3c16-b505-319442937a43/oncoming vehicle changing lanes_bf382949_claude-3-5-sonnet_predictions.pkl\n",
      "Cached scenario prediction found\n"
     ]
    },
    {
     "name": "stderr",
     "output_type": "stream",
     "text": [
      "105/149:  70%|███████   | 7/10 [01:57<00:41, 13.73s/it]"
     ]
    },
    {
     "name": "stdout",
     "output_type": "stream",
     "text": [
      "Scenario pkl file for oncoming vehicle changing lanes_bf382949 saved successfully.\n",
      "/home/crdavids/Trinity-Sync/refbot/output/sm_predictions/val/bf382949-3515-3c16-b505-319442937a43/vehicle being followed by ego vehilce while being overtaken on right_bf382949_claude-3-5-sonnet_predictions.pkl\n",
      "vehicle being followed by ego vehilce while being overtaken on right definition saved to output/llm_scenario_predictions/claude-3-5-sonnet\n"
     ]
    },
    {
     "name": "stderr",
     "output_type": "stream",
     "text": [
      "105/149:  80%|████████  | 8/10 [02:27<00:37, 18.74s/it]"
     ]
    },
    {
     "name": "stdout",
     "output_type": "stream",
     "text": [
      "Scenario pkl file for vehicle being followed by ego vehicle while being overtaken on right_bf382949 saved successfully.\n",
      "/home/crdavids/Trinity-Sync/refbot/output/sm_predictions/val/bf382949-3515-3c16-b505-319442937a43/ego vehicle passing parked bus_bf382949_claude-3-5-sonnet_predictions.pkl\n",
      "ego vehicle passing parked bus definition saved to output/llm_scenario_predictions/claude-3-5-sonnet\n"
     ]
    },
    {
     "name": "stderr",
     "output_type": "stream",
     "text": [
      "105/149:  90%|█████████ | 9/10 [02:39<00:16, 16.81s/it]"
     ]
    },
    {
     "name": "stdout",
     "output_type": "stream",
     "text": [
      "Scenario pkl file for ego vehicle passing parked bus_bf382949 saved successfully.\n",
      "/home/crdavids/Trinity-Sync/refbot/output/sm_predictions/val/bf382949-3515-3c16-b505-319442937a43/vehicle behind another vehicle that has a pedestrian on its right side_bf382949_claude-3-5-sonnet_predictions.pkl\n",
      "Cached scenario prediction found\n"
     ]
    },
    {
     "name": "stderr",
     "output_type": "stream",
     "text": [
      "105/149: 100%|██████████| 10/10 [03:23<00:00, 20.34s/it]\n"
     ]
    },
    {
     "name": "stdout",
     "output_type": "stream",
     "text": [
      "Scenario pkl file for vehicle behind another vehicle that has a pedestrian on its right side_bf382949 saved successfully.\n",
      "c222c78d-b574-4b9d-82e1-96a4f3f8bb27\n"
     ]
    },
    {
     "name": "stderr",
     "output_type": "stream",
     "text": [
      "106/149:   0%|          | 0/10 [00:00<?, ?it/s]"
     ]
    },
    {
     "name": "stdout",
     "output_type": "stream",
     "text": [
      "/home/crdavids/Trinity-Sync/refbot/output/sm_predictions/val/c222c78d-b574-4b9d-82e1-96a4f3f8bb27/the vehicle two cars in front of the ego vehicle_c222c78d_claude-3-5-sonnet_predictions.pkl\n",
      "Cached scenario prediction found\n"
     ]
    },
    {
     "name": "stderr",
     "output_type": "stream",
     "text": [
      "106/149:  10%|█         | 1/10 [00:29<04:25, 29.55s/it]"
     ]
    },
    {
     "name": "stdout",
     "output_type": "stream",
     "text": [
      "Scenario pkl file for the vehicle two cars in front of the ego vehicle_c222c78d saved successfully.\n",
      "/home/crdavids/Trinity-Sync/refbot/output/sm_predictions/val/c222c78d-b574-4b9d-82e1-96a4f3f8bb27/passenger vehicle turning left at intersection_c222c78d_claude-3-5-sonnet_predictions.pkl\n",
      "Cached scenario prediction found\n"
     ]
    },
    {
     "name": "stderr",
     "output_type": "stream",
     "text": [
      "106/149:  20%|██        | 2/10 [00:36<02:11, 16.50s/it]"
     ]
    },
    {
     "name": "stdout",
     "output_type": "stream",
     "text": [
      "Scenario pkl file for passenger vehicle turning left at intersection_c222c78d saved successfully.\n",
      "/home/crdavids/Trinity-Sync/refbot/output/sm_predictions/val/c222c78d-b574-4b9d-82e1-96a4f3f8bb27/vehicle with multiple pedestrians to the left_c222c78d_claude-3-5-sonnet_predictions.pkl\n",
      "Cached scenario prediction found\n"
     ]
    },
    {
     "name": "stderr",
     "output_type": "stream",
     "text": [
      "106/149:  30%|███       | 3/10 [01:01<02:22, 20.42s/it]"
     ]
    },
    {
     "name": "stdout",
     "output_type": "stream",
     "text": [
      "Scenario pkl file for vehicle with multiple pedestrians to the left_c222c78d saved successfully.\n",
      "/home/crdavids/Trinity-Sync/refbot/output/sm_predictions/val/c222c78d-b574-4b9d-82e1-96a4f3f8bb27/truck without trailer_c222c78d_claude-3-5-sonnet_predictions.pkl\n",
      "Cached scenario prediction found\n"
     ]
    },
    {
     "name": "stderr",
     "output_type": "stream",
     "text": [
      "106/149:  40%|████      | 4/10 [01:07<01:27, 14.65s/it]"
     ]
    },
    {
     "name": "stdout",
     "output_type": "stream",
     "text": [
      "Scenario pkl file for truck without trailer_c222c78d saved successfully.\n",
      "Default scenario prediction correctly generated.\n",
      "/home/crdavids/Trinity-Sync/refbot/output/sm_predictions/val/c222c78d-b574-4b9d-82e1-96a4f3f8bb27/two cars back from the ego vehicle_c222c78d_claude-3-5-sonnet_predictions.pkl\n",
      "Cached scenario prediction found\n"
     ]
    },
    {
     "name": "stderr",
     "output_type": "stream",
     "text": [
      "106/149:  50%|█████     | 5/10 [01:19<01:08, 13.61s/it]"
     ]
    },
    {
     "name": "stdout",
     "output_type": "stream",
     "text": [
      "Scenario pkl file for two cars back from the ego vehicle_c222c78d saved successfully.\n",
      "/home/crdavids/Trinity-Sync/refbot/output/sm_predictions/val/c222c78d-b574-4b9d-82e1-96a4f3f8bb27/any vehicle in front of stop sign_c222c78d_claude-3-5-sonnet_predictions.pkl\n",
      "Cached scenario prediction found\n"
     ]
    },
    {
     "name": "stderr",
     "output_type": "stream",
     "text": [
      "106/149:  60%|██████    | 6/10 [01:45<01:11, 17.85s/it]"
     ]
    },
    {
     "name": "stdout",
     "output_type": "stream",
     "text": [
      "Scenario pkl file for any vehicle in front of stop sign_c222c78d saved successfully.\n",
      "Default scenario prediction correctly generated.\n",
      "/home/crdavids/Trinity-Sync/refbot/output/sm_predictions/val/c222c78d-b574-4b9d-82e1-96a4f3f8bb27/pedestrian facing toward ego vehicle_c222c78d_claude-3-5-sonnet_predictions.pkl\n",
      "Cached scenario prediction found\n"
     ]
    },
    {
     "name": "stderr",
     "output_type": "stream",
     "text": [
      "106/149:  70%|███████   | 7/10 [01:53<00:43, 14.53s/it]"
     ]
    },
    {
     "name": "stdout",
     "output_type": "stream",
     "text": [
      "Scenario pkl file for pedestrian facing toward ego vehicle_c222c78d saved successfully.\n",
      "/home/crdavids/Trinity-Sync/refbot/output/sm_predictions/val/c222c78d-b574-4b9d-82e1-96a4f3f8bb27/braking vehicle_c222c78d_claude-3-5-sonnet_predictions.pkl\n",
      "Cached scenario prediction found\n"
     ]
    },
    {
     "name": "stderr",
     "output_type": "stream",
     "text": [
      "106/149:  80%|████████  | 8/10 [01:59<00:24, 12.02s/it]"
     ]
    },
    {
     "name": "stdout",
     "output_type": "stream",
     "text": [
      "Scenario pkl file for braking vehicle_c222c78d saved successfully.\n",
      "/home/crdavids/Trinity-Sync/refbot/output/sm_predictions/val/c222c78d-b574-4b9d-82e1-96a4f3f8bb27/vehicle behind another vehicle that has a pedestrian on its right side_c222c78d_claude-3-5-sonnet_predictions.pkl\n",
      "Cached scenario prediction found\n"
     ]
    },
    {
     "name": "stderr",
     "output_type": "stream",
     "text": [
      "106/149:  90%|█████████ | 9/10 [02:31<00:18, 18.21s/it]"
     ]
    },
    {
     "name": "stdout",
     "output_type": "stream",
     "text": [
      "Scenario pkl file for vehicle behind another vehicle that has a pedestrian on its right side_c222c78d saved successfully.\n",
      "/home/crdavids/Trinity-Sync/refbot/output/sm_predictions/val/c222c78d-b574-4b9d-82e1-96a4f3f8bb27/parked vehicle_c222c78d_claude-3-5-sonnet_predictions.pkl\n",
      "Cached scenario prediction found\n"
     ]
    },
    {
     "name": "stderr",
     "output_type": "stream",
     "text": [
      "106/149: 100%|██████████| 10/10 [02:38<00:00, 15.85s/it]\n"
     ]
    },
    {
     "name": "stdout",
     "output_type": "stream",
     "text": [
      "Scenario pkl file for parked vehicle_c222c78d saved successfully.\n",
      "c2d44a70-9fd4-3298-ad0a-c4c9712e6f1e\n"
     ]
    },
    {
     "name": "stderr",
     "output_type": "stream",
     "text": [
      "107/149:   0%|          | 0/6 [00:00<?, ?it/s]"
     ]
    },
    {
     "name": "stdout",
     "output_type": "stream",
     "text": [
      "/home/crdavids/Trinity-Sync/refbot/output/sm_predictions/val/c2d44a70-9fd4-3298-ad0a-c4c9712e6f1e/parked vehicle_c2d44a70_claude-3-5-sonnet_predictions.pkl\n",
      "Cached scenario prediction found\n"
     ]
    },
    {
     "name": "stderr",
     "output_type": "stream",
     "text": [
      "107/149:  17%|█▋        | 1/6 [00:08<00:42,  8.49s/it]"
     ]
    },
    {
     "name": "stdout",
     "output_type": "stream",
     "text": [
      "Scenario pkl file for parked vehicle_c2d44a70 saved successfully.\n",
      "/home/crdavids/Trinity-Sync/refbot/output/sm_predictions/val/c2d44a70-9fd4-3298-ad0a-c4c9712e6f1e/vehicle facing toward parked vehicles_c2d44a70_claude-3-5-sonnet_predictions.pkl\n",
      "Cached scenario prediction found\n"
     ]
    },
    {
     "name": "stderr",
     "output_type": "stream",
     "text": [
      "107/149:  33%|███▎      | 2/6 [00:29<01:02, 15.64s/it]"
     ]
    },
    {
     "name": "stdout",
     "output_type": "stream",
     "text": [
      "Scenario pkl file for vehicle facing toward parked vehicles_c2d44a70 saved successfully.\n",
      "/home/crdavids/Trinity-Sync/refbot/output/sm_predictions/val/c2d44a70-9fd4-3298-ad0a-c4c9712e6f1e/braking vehicle_c2d44a70_claude-3-5-sonnet_predictions.pkl\n",
      "Cached scenario prediction found\n"
     ]
    },
    {
     "name": "stderr",
     "output_type": "stream",
     "text": [
      "107/149:  50%|█████     | 3/6 [00:36<00:35, 11.80s/it]"
     ]
    },
    {
     "name": "stdout",
     "output_type": "stream",
     "text": [
      "Scenario pkl file for braking vehicle_c2d44a70 saved successfully.\n",
      "/home/crdavids/Trinity-Sync/refbot/output/sm_predictions/val/c2d44a70-9fd4-3298-ad0a-c4c9712e6f1e/accelerating passenger vehicle_c2d44a70_claude-3-5-sonnet_predictions.pkl\n",
      "Cached scenario prediction found\n"
     ]
    },
    {
     "name": "stderr",
     "output_type": "stream",
     "text": [
      "107/149:  67%|██████▋   | 4/6 [00:44<00:20, 10.27s/it]"
     ]
    },
    {
     "name": "stdout",
     "output_type": "stream",
     "text": [
      "Scenario pkl file for accelerating passenger vehicle_c2d44a70 saved successfully.\n",
      "/home/crdavids/Trinity-Sync/refbot/output/sm_predictions/val/c2d44a70-9fd4-3298-ad0a-c4c9712e6f1e/at least active 2 vehicles within 15 meters behind ego vehicle_c2d44a70_claude-3-5-sonnet_predictions.pkl\n",
      "at least active 2 vehicles within 15 meters behind ego vehicle definition saved to output/llm_scenario_predictions/claude-3-5-sonnet\n"
     ]
    },
    {
     "name": "stderr",
     "output_type": "stream",
     "text": [
      "107/149:  83%|████████▎ | 5/6 [00:58<00:11, 11.87s/it]"
     ]
    },
    {
     "name": "stdout",
     "output_type": "stream",
     "text": [
      "Scenario pkl file for at least 2 active vehicles within 15 meters behind ego vehicle_c2d44a70 saved successfully.\n",
      "/home/crdavids/Trinity-Sync/refbot/output/sm_predictions/val/c2d44a70-9fd4-3298-ad0a-c4c9712e6f1e/two cars back from the ego vehicle_c2d44a70_claude-3-5-sonnet_predictions.pkl\n",
      "Cached scenario prediction found\n"
     ]
    },
    {
     "name": "stderr",
     "output_type": "stream",
     "text": [
      "107/149: 100%|██████████| 6/6 [01:15<00:00, 12.52s/it]\n"
     ]
    },
    {
     "name": "stdout",
     "output_type": "stream",
     "text": [
      "Scenario pkl file for two cars back from the ego vehicle_c2d44a70 saved successfully.\n",
      "c85a88a8-c916-30a7-923c-0c66bd3ebbd3\n"
     ]
    },
    {
     "name": "stderr",
     "output_type": "stream",
     "text": [
      "108/149:   0%|          | 0/10 [00:00<?, ?it/s]"
     ]
    },
    {
     "name": "stdout",
     "output_type": "stream",
     "text": [
      "/home/crdavids/Trinity-Sync/refbot/output/sm_predictions/val/c85a88a8-c916-30a7-923c-0c66bd3ebbd3/pedestrian crossing between bollards_c85a88a8_claude-3-5-sonnet_predictions.pkl\n",
      "Cached scenario prediction found\n"
     ]
    },
    {
     "name": "stderr",
     "output_type": "stream",
     "text": [
      "108/149:  10%|█         | 1/10 [00:23<03:28, 23.19s/it]"
     ]
    },
    {
     "name": "stdout",
     "output_type": "stream",
     "text": [
      "Scenario pkl file for pedestrian crossing between bollards_c85a88a8 saved successfully.\n",
      "/home/crdavids/Trinity-Sync/refbot/output/sm_predictions/val/c85a88a8-c916-30a7-923c-0c66bd3ebbd3/pedestrian near construction cone_c85a88a8_claude-3-5-sonnet_predictions.pkl\n",
      "Cached scenario prediction found\n"
     ]
    },
    {
     "name": "stderr",
     "output_type": "stream",
     "text": [
      "108/149:  20%|██        | 2/10 [00:40<02:37, 19.65s/it]"
     ]
    },
    {
     "name": "stdout",
     "output_type": "stream",
     "text": [
      "Scenario pkl file for pedestrian near construction cone_c85a88a8 saved successfully.\n",
      "/home/crdavids/Trinity-Sync/refbot/output/sm_predictions/val/c85a88a8-c916-30a7-923c-0c66bd3ebbd3/vehicle with a bicycle to its right_c85a88a8_claude-3-5-sonnet_predictions.pkl\n",
      "Cached scenario prediction found\n"
     ]
    },
    {
     "name": "stderr",
     "output_type": "stream",
     "text": [
      "108/149:  30%|███       | 3/10 [01:04<02:31, 21.67s/it]"
     ]
    },
    {
     "name": "stdout",
     "output_type": "stream",
     "text": [
      "Scenario pkl file for vehicle with a bicycle to its right_c85a88a8 saved successfully.\n",
      "/home/crdavids/Trinity-Sync/refbot/output/sm_predictions/val/c85a88a8-c916-30a7-923c-0c66bd3ebbd3/vehicle with multiple pedestrians to the left_c85a88a8_claude-3-5-sonnet_predictions.pkl\n",
      "Cached scenario prediction found\n"
     ]
    },
    {
     "name": "stderr",
     "output_type": "stream",
     "text": [
      "108/149:  40%|████      | 4/10 [02:03<03:39, 36.60s/it]"
     ]
    },
    {
     "name": "stdout",
     "output_type": "stream",
     "text": [
      "Scenario pkl file for vehicle with multiple pedestrians to the left_c85a88a8 saved successfully.\n",
      "/home/crdavids/Trinity-Sync/refbot/output/sm_predictions/val/c85a88a8-c916-30a7-923c-0c66bd3ebbd3/group of people_c85a88a8_claude-3-5-sonnet_predictions.pkl\n",
      "Cached scenario prediction found\n"
     ]
    },
    {
     "name": "stderr",
     "output_type": "stream",
     "text": [
      "108/149:  50%|█████     | 5/10 [03:03<03:44, 44.93s/it]"
     ]
    },
    {
     "name": "stdout",
     "output_type": "stream",
     "text": [
      "Scenario pkl file for group of people_c85a88a8 saved successfully.\n",
      "/home/crdavids/Trinity-Sync/refbot/output/sm_predictions/val/c85a88a8-c916-30a7-923c-0c66bd3ebbd3/pedestrian crossing between stopped buses_c85a88a8_claude-3-5-sonnet_predictions.pkl\n",
      "pedestrian crossing between stopped buses definition saved to output/llm_scenario_predictions/claude-3-5-sonnet\n"
     ]
    },
    {
     "name": "stderr",
     "output_type": "stream",
     "text": [
      "108/149:  60%|██████    | 6/10 [03:20<02:21, 35.44s/it]"
     ]
    },
    {
     "name": "stdout",
     "output_type": "stream",
     "text": [
      "Scenario pkl file for pedestrian crossing between stopped buses_c85a88a8 saved successfully.\n",
      "/home/crdavids/Trinity-Sync/refbot/output/sm_predictions/val/c85a88a8-c916-30a7-923c-0c66bd3ebbd3/a group of people_c85a88a8_claude-3-5-sonnet_predictions.pkl\n",
      "Cached scenario prediction found\n"
     ]
    },
    {
     "name": "stderr",
     "output_type": "stream",
     "text": [
      "108/149:  70%|███████   | 7/10 [04:20<02:09, 43.27s/it]"
     ]
    },
    {
     "name": "stdout",
     "output_type": "stream",
     "text": [
      "Scenario pkl file for a group of people_c85a88a8 saved successfully.\n",
      "/home/crdavids/Trinity-Sync/refbot/output/sm_predictions/val/c85a88a8-c916-30a7-923c-0c66bd3ebbd3/vehicle behind another vehicle that has a pedestrian on its right side_c85a88a8_claude-3-5-sonnet_predictions.pkl\n",
      "Cached scenario prediction found\n"
     ]
    },
    {
     "name": "stderr",
     "output_type": "stream",
     "text": [
      "108/149:  80%|████████  | 8/10 [05:37<01:48, 54.08s/it]"
     ]
    },
    {
     "name": "stdout",
     "output_type": "stream",
     "text": [
      "Scenario pkl file for vehicle behind another vehicle that has a pedestrian on its right side_c85a88a8 saved successfully.\n",
      "/home/crdavids/Trinity-Sync/refbot/output/sm_predictions/val/c85a88a8-c916-30a7-923c-0c66bd3ebbd3/oncoming vehicle changing lanes_c85a88a8_claude-3-5-sonnet_predictions.pkl\n",
      "Cached scenario prediction found\n"
     ]
    },
    {
     "name": "stderr",
     "output_type": "stream",
     "text": [
      "108/149:  90%|█████████ | 9/10 [05:49<00:41, 41.05s/it]"
     ]
    },
    {
     "name": "stdout",
     "output_type": "stream",
     "text": [
      "Scenario pkl file for oncoming vehicle changing lanes_c85a88a8 saved successfully.\n",
      "/home/crdavids/Trinity-Sync/refbot/output/sm_predictions/val/c85a88a8-c916-30a7-923c-0c66bd3ebbd3/pedestrian near bollard_c85a88a8_claude-3-5-sonnet_predictions.pkl\n",
      "Cached scenario prediction found\n"
     ]
    },
    {
     "name": "stderr",
     "output_type": "stream",
     "text": [
      "108/149: 100%|██████████| 10/10 [06:11<00:00, 37.19s/it]\n"
     ]
    },
    {
     "name": "stdout",
     "output_type": "stream",
     "text": [
      "Scenario pkl file for pedestrian near bollard_c85a88a8 saved successfully.\n",
      "c865c156-0f26-411c-a16c-be985333f675\n"
     ]
    },
    {
     "name": "stderr",
     "output_type": "stream",
     "text": [
      "109/149:   0%|          | 0/10 [00:00<?, ?it/s]"
     ]
    },
    {
     "name": "stdout",
     "output_type": "stream",
     "text": [
      "/home/crdavids/Trinity-Sync/refbot/output/sm_predictions/val/c865c156-0f26-411c-a16c-be985333f675/construction item on road_c865c156_claude-3-5-sonnet_predictions.pkl\n",
      "Cached scenario prediction found\n"
     ]
    },
    {
     "name": "stderr",
     "output_type": "stream",
     "text": [
      "109/149:  10%|█         | 1/10 [00:07<01:04,  7.13s/it]"
     ]
    },
    {
     "name": "stdout",
     "output_type": "stream",
     "text": [
      "Scenario pkl file for construction item on road_c865c156 saved successfully.\n",
      "/home/crdavids/Trinity-Sync/refbot/output/sm_predictions/val/c865c156-0f26-411c-a16c-be985333f675/ego vehicle with parked bicycles ahead_c865c156_claude-3-5-sonnet_predictions.pkl\n",
      "Cached scenario prediction found\n"
     ]
    },
    {
     "name": "stderr",
     "output_type": "stream",
     "text": [
      "109/149:  20%|██        | 2/10 [00:12<00:46,  5.84s/it]"
     ]
    },
    {
     "name": "stdout",
     "output_type": "stream",
     "text": [
      "Scenario pkl file for ego vehicle with parked bicycles ahead_c865c156 saved successfully.\n",
      "/home/crdavids/Trinity-Sync/refbot/output/sm_predictions/val/c865c156-0f26-411c-a16c-be985333f675/group of pedestrians ahead of the ego vehicle_c865c156_claude-3-5-sonnet_predictions.pkl\n",
      "Cached scenario prediction found\n"
     ]
    },
    {
     "name": "stderr",
     "output_type": "stream",
     "text": [
      "109/149:  30%|███       | 3/10 [00:19<00:44,  6.36s/it]"
     ]
    },
    {
     "name": "stdout",
     "output_type": "stream",
     "text": [
      "Scenario pkl file for group of pedestrians ahead of the ego vehicle_c865c156 saved successfully.\n",
      "/home/crdavids/Trinity-Sync/refbot/output/sm_predictions/val/c865c156-0f26-411c-a16c-be985333f675/vehicles within view of another vehicle_c865c156_claude-3-5-sonnet_predictions.pkl\n",
      "Cached scenario prediction found\n"
     ]
    },
    {
     "name": "stderr",
     "output_type": "stream",
     "text": [
      "109/149:  40%|████      | 4/10 [00:52<01:43, 17.18s/it]"
     ]
    },
    {
     "name": "stdout",
     "output_type": "stream",
     "text": [
      "Scenario pkl file for vehicles within view of another vehicle_c865c156 saved successfully.\n",
      "/home/crdavids/Trinity-Sync/refbot/output/sm_predictions/val/c865c156-0f26-411c-a16c-be985333f675/group of people_c865c156_claude-3-5-sonnet_predictions.pkl\n",
      "Cached scenario prediction found\n"
     ]
    },
    {
     "name": "stderr",
     "output_type": "stream",
     "text": [
      "109/149:  50%|█████     | 5/10 [01:13<01:32, 18.41s/it]"
     ]
    },
    {
     "name": "stdout",
     "output_type": "stream",
     "text": [
      "Scenario pkl file for group of people_c865c156 saved successfully.\n",
      "/home/crdavids/Trinity-Sync/refbot/output/sm_predictions/val/c865c156-0f26-411c-a16c-be985333f675/a group of people_c865c156_claude-3-5-sonnet_predictions.pkl\n",
      "Cached scenario prediction found\n"
     ]
    },
    {
     "name": "stderr",
     "output_type": "stream",
     "text": [
      "109/149:  60%|██████    | 6/10 [01:33<01:15, 18.94s/it]"
     ]
    },
    {
     "name": "stdout",
     "output_type": "stream",
     "text": [
      "Scenario pkl file for a group of people_c865c156 saved successfully.\n",
      "/home/crdavids/Trinity-Sync/refbot/output/sm_predictions/val/c865c156-0f26-411c-a16c-be985333f675/pedestrian near construction cone_c865c156_claude-3-5-sonnet_predictions.pkl\n",
      "Cached scenario prediction found\n"
     ]
    },
    {
     "name": "stderr",
     "output_type": "stream",
     "text": [
      "109/149:  70%|███████   | 7/10 [01:42<00:46, 15.61s/it]"
     ]
    },
    {
     "name": "stdout",
     "output_type": "stream",
     "text": [
      "Scenario pkl file for pedestrian near construction cone_c865c156 saved successfully.\n",
      "/home/crdavids/Trinity-Sync/refbot/output/sm_predictions/val/c865c156-0f26-411c-a16c-be985333f675/bicycle facing toward moving traffic_c865c156_claude-3-5-sonnet_predictions.pkl\n",
      "Cached scenario prediction found\n"
     ]
    },
    {
     "name": "stderr",
     "output_type": "stream",
     "text": [
      "109/149:  80%|████████  | 8/10 [01:50<00:26, 13.21s/it]"
     ]
    },
    {
     "name": "stdout",
     "output_type": "stream",
     "text": [
      "Scenario pkl file for bicycle facing toward moving traffic_c865c156 saved successfully.\n",
      "/home/crdavids/Trinity-Sync/refbot/output/sm_predictions/val/c865c156-0f26-411c-a16c-be985333f675/left lane change while there is a vehicle to the left_c865c156_claude-3-5-sonnet_predictions.pkl\n",
      "Cached scenario prediction found\n"
     ]
    },
    {
     "name": "stderr",
     "output_type": "stream",
     "text": [
      "109/149:  90%|█████████ | 9/10 [01:59<00:11, 12.00s/it]"
     ]
    },
    {
     "name": "stdout",
     "output_type": "stream",
     "text": [
      "Scenario pkl file for left lane change while there is a vehicle to the left_c865c156 saved successfully.\n",
      "/home/crdavids/Trinity-Sync/refbot/output/sm_predictions/val/c865c156-0f26-411c-a16c-be985333f675/making a left lane change while there is a vehicle to the right_c865c156_claude-3-5-sonnet_predictions.pkl\n",
      "Cached scenario prediction found\n"
     ]
    },
    {
     "name": "stderr",
     "output_type": "stream",
     "text": [
      "109/149: 100%|██████████| 10/10 [02:08<00:00, 12.87s/it]\n"
     ]
    },
    {
     "name": "stdout",
     "output_type": "stream",
     "text": [
      "Scenario pkl file for making a left lane change while there is a vehicle to the right_c865c156 saved successfully.\n",
      "c8ec7be0-92aa-3222-946e-fbcf398c841e\n"
     ]
    },
    {
     "name": "stderr",
     "output_type": "stream",
     "text": [
      "110/149:   0%|          | 0/10 [00:00<?, ?it/s]"
     ]
    },
    {
     "name": "stdout",
     "output_type": "stream",
     "text": [
      "/home/crdavids/Trinity-Sync/refbot/output/sm_predictions/val/c8ec7be0-92aa-3222-946e-fbcf398c841e/pedestrian crossing between bollards_c8ec7be0_claude-3-5-sonnet_predictions.pkl\n",
      "Cached scenario prediction found\n"
     ]
    },
    {
     "name": "stderr",
     "output_type": "stream",
     "text": [
      "110/149:  10%|█         | 1/10 [00:32<04:56, 32.97s/it]"
     ]
    },
    {
     "name": "stdout",
     "output_type": "stream",
     "text": [
      "Scenario pkl file for pedestrian crossing between bollards_c8ec7be0 saved successfully.\n",
      "/home/crdavids/Trinity-Sync/refbot/output/sm_predictions/val/c8ec7be0-92aa-3222-946e-fbcf398c841e/group of pedestrians ahead of the ego vehicle_c8ec7be0_claude-3-5-sonnet_predictions.pkl\n",
      "Cached scenario prediction found\n"
     ]
    },
    {
     "name": "stderr",
     "output_type": "stream",
     "text": [
      "110/149:  20%|██        | 2/10 [00:43<02:36, 19.52s/it]"
     ]
    },
    {
     "name": "stdout",
     "output_type": "stream",
     "text": [
      "Scenario pkl file for group of pedestrians ahead of the ego vehicle_c8ec7be0 saved successfully.\n",
      "/home/crdavids/Trinity-Sync/refbot/output/sm_predictions/val/c8ec7be0-92aa-3222-946e-fbcf398c841e/pedestrian crossing in front of vehicle at crosswalk_c8ec7be0_claude-3-5-sonnet_predictions.pkl\n",
      "Cached scenario prediction found\n"
     ]
    },
    {
     "name": "stderr",
     "output_type": "stream",
     "text": [
      "110/149:  30%|███       | 3/10 [00:54<01:52, 16.03s/it]"
     ]
    },
    {
     "name": "stdout",
     "output_type": "stream",
     "text": [
      "Scenario pkl file for pedestrian crossing in front of vehicle at crosswalk_c8ec7be0 saved successfully.\n",
      "Default scenario prediction correctly generated.\n",
      "/home/crdavids/Trinity-Sync/refbot/output/sm_predictions/val/c8ec7be0-92aa-3222-946e-fbcf398c841e/making a left lane change while there is a vehicle to the right_c8ec7be0_claude-3-5-sonnet_predictions.pkl\n",
      "Cached scenario prediction found\n"
     ]
    },
    {
     "name": "stderr",
     "output_type": "stream",
     "text": [
      "110/149:  40%|████      | 4/10 [01:07<01:27, 14.61s/it]"
     ]
    },
    {
     "name": "stdout",
     "output_type": "stream",
     "text": [
      "Scenario pkl file for making a left lane change while there is a vehicle to the right_c8ec7be0 saved successfully.\n",
      "/home/crdavids/Trinity-Sync/refbot/output/sm_predictions/val/c8ec7be0-92aa-3222-946e-fbcf398c841e/ego vehicle with parked bicycles ahead_c8ec7be0_claude-3-5-sonnet_predictions.pkl\n",
      "Cached scenario prediction found\n"
     ]
    },
    {
     "name": "stderr",
     "output_type": "stream",
     "text": [
      "110/149:  50%|█████     | 5/10 [01:15<01:01, 12.21s/it]"
     ]
    },
    {
     "name": "stdout",
     "output_type": "stream",
     "text": [
      "Scenario pkl file for ego vehicle with parked bicycles ahead_c8ec7be0 saved successfully.\n",
      "/home/crdavids/Trinity-Sync/refbot/output/sm_predictions/val/c8ec7be0-92aa-3222-946e-fbcf398c841e/pedestrian facing toward the bus_c8ec7be0_claude-3-5-sonnet_predictions.pkl\n",
      "Cached scenario prediction found\n"
     ]
    },
    {
     "name": "stderr",
     "output_type": "stream",
     "text": [
      "110/149:  60%|██████    | 6/10 [01:30<00:53, 13.33s/it]"
     ]
    },
    {
     "name": "stdout",
     "output_type": "stream",
     "text": [
      "Scenario pkl file for pedestrian facing toward the bus_c8ec7be0 saved successfully.\n",
      "/home/crdavids/Trinity-Sync/refbot/output/sm_predictions/val/c8ec7be0-92aa-3222-946e-fbcf398c841e/bus with multiple pedestrians waiting on the right side_c8ec7be0_claude-3-5-sonnet_predictions.pkl\n",
      "Cached scenario prediction found\n"
     ]
    },
    {
     "name": "stderr",
     "output_type": "stream",
     "text": [
      "110/149:  70%|███████   | 7/10 [01:41<00:37, 12.58s/it]"
     ]
    },
    {
     "name": "stdout",
     "output_type": "stream",
     "text": [
      "Scenario pkl file for bus with multiple pedestrians waiting on the right side_c8ec7be0 saved successfully.\n",
      "/home/crdavids/Trinity-Sync/refbot/output/sm_predictions/val/c8ec7be0-92aa-3222-946e-fbcf398c841e/group of people_c8ec7be0_claude-3-5-sonnet_predictions.pkl\n",
      "Cached scenario prediction found\n"
     ]
    },
    {
     "name": "stderr",
     "output_type": "stream",
     "text": [
      "110/149:  80%|████████  | 8/10 [02:16<00:39, 19.66s/it]"
     ]
    },
    {
     "name": "stdout",
     "output_type": "stream",
     "text": [
      "Scenario pkl file for group of people_c8ec7be0 saved successfully.\n",
      "/home/crdavids/Trinity-Sync/refbot/output/sm_predictions/val/c8ec7be0-92aa-3222-946e-fbcf398c841e/a group of people_c8ec7be0_claude-3-5-sonnet_predictions.pkl\n",
      "Cached scenario prediction found\n"
     ]
    },
    {
     "name": "stderr",
     "output_type": "stream",
     "text": [
      "110/149:  90%|█████████ | 9/10 [02:51<00:24, 24.34s/it]"
     ]
    },
    {
     "name": "stdout",
     "output_type": "stream",
     "text": [
      "Scenario pkl file for a group of people_c8ec7be0 saved successfully.\n",
      "/home/crdavids/Trinity-Sync/refbot/output/sm_predictions/val/c8ec7be0-92aa-3222-946e-fbcf398c841e/ego vehicle with vehicles on both sides_c8ec7be0_claude-3-5-sonnet_predictions.pkl\n",
      "Cached scenario prediction found\n"
     ]
    },
    {
     "name": "stderr",
     "output_type": "stream",
     "text": [
      "110/149: 100%|██████████| 10/10 [03:07<00:00, 18.74s/it]\n"
     ]
    },
    {
     "name": "stdout",
     "output_type": "stream",
     "text": [
      "Scenario pkl file for ego vehicle with vehicles on both sides_c8ec7be0 saved successfully.\n",
      "cae56e40-8470-3c9c-af75-6e444189488f\n"
     ]
    },
    {
     "name": "stderr",
     "output_type": "stream",
     "text": [
      "111/149:   0%|          | 0/10 [00:00<?, ?it/s]"
     ]
    },
    {
     "name": "stdout",
     "output_type": "stream",
     "text": [
      "/home/crdavids/Trinity-Sync/refbot/output/sm_predictions/val/cae56e40-8470-3c9c-af75-6e444189488f/group of pedestrians ahead of the ego vehicle_cae56e40_claude-3-5-sonnet_predictions.pkl\n",
      "Cached scenario prediction found\n"
     ]
    },
    {
     "name": "stderr",
     "output_type": "stream",
     "text": [
      "111/149:  10%|█         | 1/10 [00:09<01:23,  9.28s/it]"
     ]
    },
    {
     "name": "stdout",
     "output_type": "stream",
     "text": [
      "Scenario pkl file for group of pedestrians ahead of the ego vehicle_cae56e40 saved successfully.\n",
      "/home/crdavids/Trinity-Sync/refbot/output/sm_predictions/val/cae56e40-8470-3c9c-af75-6e444189488f/oncoming vehicle changing lanes_cae56e40_claude-3-5-sonnet_predictions.pkl\n",
      "Cached scenario prediction found\n"
     ]
    },
    {
     "name": "stderr",
     "output_type": "stream",
     "text": [
      "111/149:  20%|██        | 2/10 [00:24<01:41, 12.63s/it]"
     ]
    },
    {
     "name": "stdout",
     "output_type": "stream",
     "text": [
      "Scenario pkl file for oncoming vehicle changing lanes_cae56e40 saved successfully.\n",
      "/home/crdavids/Trinity-Sync/refbot/output/sm_predictions/val/cae56e40-8470-3c9c-af75-6e444189488f/vehicle behind another vehicle that has a pedestrian on its right side_cae56e40_claude-3-5-sonnet_predictions.pkl\n",
      "Cached scenario prediction found\n"
     ]
    },
    {
     "name": "stderr",
     "output_type": "stream",
     "text": [
      "111/149:  30%|███       | 3/10 [01:17<03:38, 31.17s/it]"
     ]
    },
    {
     "name": "stdout",
     "output_type": "stream",
     "text": [
      "Scenario pkl file for vehicle behind another vehicle that has a pedestrian on its right side_cae56e40 saved successfully.\n",
      "/home/crdavids/Trinity-Sync/refbot/output/sm_predictions/val/cae56e40-8470-3c9c-af75-6e444189488f/dog_cae56e40_claude-3-5-sonnet_predictions.pkl\n",
      "Cached scenario prediction found\n"
     ]
    },
    {
     "name": "stderr",
     "output_type": "stream",
     "text": [
      "111/149:  40%|████      | 4/10 [01:23<02:07, 21.30s/it]"
     ]
    },
    {
     "name": "stdout",
     "output_type": "stream",
     "text": [
      "Scenario pkl file for dog_cae56e40 saved successfully.\n",
      "/home/crdavids/Trinity-Sync/refbot/output/sm_predictions/val/cae56e40-8470-3c9c-af75-6e444189488f/dog near an intersection_cae56e40_claude-3-5-sonnet_predictions.pkl\n",
      "Cached scenario prediction found\n"
     ]
    },
    {
     "name": "stderr",
     "output_type": "stream",
     "text": [
      "111/149:  50%|█████     | 5/10 [01:29<01:19, 15.86s/it]"
     ]
    },
    {
     "name": "stdout",
     "output_type": "stream",
     "text": [
      "Scenario pkl file for dog near an intersection_cae56e40 saved successfully.\n",
      "/home/crdavids/Trinity-Sync/refbot/output/sm_predictions/val/cae56e40-8470-3c9c-af75-6e444189488f/vehicle with multiple pedestrians to the left_cae56e40_claude-3-5-sonnet_predictions.pkl\n",
      "Cached scenario prediction found\n"
     ]
    },
    {
     "name": "stderr",
     "output_type": "stream",
     "text": [
      "111/149:  60%|██████    | 6/10 [02:09<01:35, 23.80s/it]"
     ]
    },
    {
     "name": "stdout",
     "output_type": "stream",
     "text": [
      "Scenario pkl file for vehicle with multiple pedestrians to the left_cae56e40 saved successfully.\n",
      "/home/crdavids/Trinity-Sync/refbot/output/sm_predictions/val/cae56e40-8470-3c9c-af75-6e444189488f/vehicle with a bicycle to its right_cae56e40_claude-3-5-sonnet_predictions.pkl\n",
      "Cached scenario prediction found\n"
     ]
    },
    {
     "name": "stderr",
     "output_type": "stream",
     "text": [
      "111/149:  70%|███████   | 7/10 [02:32<01:11, 23.81s/it]"
     ]
    },
    {
     "name": "stdout",
     "output_type": "stream",
     "text": [
      "Scenario pkl file for vehicle with a bicycle to its right_cae56e40 saved successfully.\n",
      "/home/crdavids/Trinity-Sync/refbot/output/sm_predictions/val/cae56e40-8470-3c9c-af75-6e444189488f/dog near pedestrian_cae56e40_claude-3-5-sonnet_predictions.pkl\n",
      "Cached scenario prediction found\n"
     ]
    },
    {
     "name": "stderr",
     "output_type": "stream",
     "text": [
      "111/149:  80%|████████  | 8/10 [02:42<00:38, 19.13s/it]"
     ]
    },
    {
     "name": "stdout",
     "output_type": "stream",
     "text": [
      "Scenario pkl file for dog near pedestrian_cae56e40 saved successfully.\n",
      "/home/crdavids/Trinity-Sync/refbot/output/sm_predictions/val/cae56e40-8470-3c9c-af75-6e444189488f/a group of people_cae56e40_claude-3-5-sonnet_predictions.pkl\n",
      "Cached scenario prediction found\n"
     ]
    },
    {
     "name": "stderr",
     "output_type": "stream",
     "text": [
      "111/149:  90%|█████████ | 9/10 [02:59<00:18, 18.56s/it]"
     ]
    },
    {
     "name": "stdout",
     "output_type": "stream",
     "text": [
      "Scenario pkl file for a group of people_cae56e40 saved successfully.\n",
      "/home/crdavids/Trinity-Sync/refbot/output/sm_predictions/val/cae56e40-8470-3c9c-af75-6e444189488f/group of people_cae56e40_claude-3-5-sonnet_predictions.pkl\n",
      "Cached scenario prediction found\n"
     ]
    },
    {
     "name": "stderr",
     "output_type": "stream",
     "text": [
      "111/149: 100%|██████████| 10/10 [03:16<00:00, 19.65s/it]\n"
     ]
    },
    {
     "name": "stdout",
     "output_type": "stream",
     "text": [
      "Scenario pkl file for group of people_cae56e40 saved successfully.\n",
      "cd22abca-9150-3279-87a4-cb00ba517372\n"
     ]
    },
    {
     "name": "stderr",
     "output_type": "stream",
     "text": [
      "112/149:   0%|          | 0/10 [00:00<?, ?it/s]"
     ]
    },
    {
     "name": "stdout",
     "output_type": "stream",
     "text": [
      "/home/crdavids/Trinity-Sync/refbot/output/sm_predictions/val/cd22abca-9150-3279-87a4-cb00ba517372/group of pedestrians ahead of the ego vehicle_cd22abca_claude-3-5-sonnet_predictions.pkl\n",
      "Cached scenario prediction found\n"
     ]
    },
    {
     "name": "stderr",
     "output_type": "stream",
     "text": [
      "112/149:  10%|█         | 1/10 [00:12<01:48, 12.10s/it]"
     ]
    },
    {
     "name": "stdout",
     "output_type": "stream",
     "text": [
      "Scenario pkl file for group of pedestrians ahead of the ego vehicle_cd22abca saved successfully.\n",
      "/home/crdavids/Trinity-Sync/refbot/output/sm_predictions/val/cd22abca-9150-3279-87a4-cb00ba517372/pedestrian crossing in front of vehicle at crosswalk_cd22abca_claude-3-5-sonnet_predictions.pkl\n",
      "Cached scenario prediction found\n"
     ]
    },
    {
     "name": "stderr",
     "output_type": "stream",
     "text": [
      "112/149:  20%|██        | 2/10 [00:39<02:48, 21.07s/it]"
     ]
    },
    {
     "name": "stdout",
     "output_type": "stream",
     "text": [
      "Scenario pkl file for pedestrian crossing in front of vehicle at crosswalk_cd22abca saved successfully.\n",
      "Default scenario prediction correctly generated.\n",
      "/home/crdavids/Trinity-Sync/refbot/output/sm_predictions/val/cd22abca-9150-3279-87a4-cb00ba517372/ego vehicle near construction cone_cd22abca_claude-3-5-sonnet_predictions.pkl\n",
      "Cached scenario prediction found\n"
     ]
    },
    {
     "name": "stderr",
     "output_type": "stream",
     "text": [
      "112/149:  30%|███       | 3/10 [00:47<01:46, 15.15s/it]"
     ]
    },
    {
     "name": "stdout",
     "output_type": "stream",
     "text": [
      "Scenario pkl file for ego vehicle near construction cone_cd22abca saved successfully.\n",
      "/home/crdavids/Trinity-Sync/refbot/output/sm_predictions/val/cd22abca-9150-3279-87a4-cb00ba517372/passenger vehicle turning right_cd22abca_claude-3-5-sonnet_predictions.pkl\n",
      "Cached scenario prediction found\n"
     ]
    },
    {
     "name": "stderr",
     "output_type": "stream",
     "text": [
      "112/149:  40%|████      | 4/10 [00:55<01:13, 12.27s/it]"
     ]
    },
    {
     "name": "stdout",
     "output_type": "stream",
     "text": [
      "Scenario pkl file for passenger vehicle turning right_cd22abca saved successfully.\n",
      "/home/crdavids/Trinity-Sync/refbot/output/sm_predictions/val/cd22abca-9150-3279-87a4-cb00ba517372/ego vehicle approaching pedestrian at crosswalk_cd22abca_claude-3-5-sonnet_predictions.pkl\n",
      "Cached scenario prediction found\n"
     ]
    },
    {
     "name": "stderr",
     "output_type": "stream",
     "text": [
      "112/149:  50%|█████     | 5/10 [01:04<00:54, 10.96s/it]"
     ]
    },
    {
     "name": "stdout",
     "output_type": "stream",
     "text": [
      "Scenario pkl file for ego vehicle approaching pedestrian at crosswalk_cd22abca saved successfully.\n",
      "/home/crdavids/Trinity-Sync/refbot/output/sm_predictions/val/cd22abca-9150-3279-87a4-cb00ba517372/vehicle with multiple pedestrians to the left_cd22abca_claude-3-5-sonnet_predictions.pkl\n",
      "Cached scenario prediction found\n"
     ]
    },
    {
     "name": "stderr",
     "output_type": "stream",
     "text": [
      "112/149:  60%|██████    | 6/10 [01:59<01:44, 26.08s/it]"
     ]
    },
    {
     "name": "stdout",
     "output_type": "stream",
     "text": [
      "Scenario pkl file for vehicle with multiple pedestrians to the left_cd22abca saved successfully.\n",
      "/home/crdavids/Trinity-Sync/refbot/output/sm_predictions/val/cd22abca-9150-3279-87a4-cb00ba517372/vehicle facing a group of three or more pedestrians at a crosswalk within 10 meters_cd22abca_claude-3-5-sonnet_predictions.pkl\n",
      "Cached scenario prediction found\n"
     ]
    },
    {
     "name": "stderr",
     "output_type": "stream",
     "text": [
      "112/149:  70%|███████   | 7/10 [02:09<01:02, 20.83s/it]"
     ]
    },
    {
     "name": "stdout",
     "output_type": "stream",
     "text": [
      "Scenario pkl file for vehicle facing a group of three or more pedestrians at a crosswalk within 10 meters_cd22abca saved successfully.\n",
      "/home/crdavids/Trinity-Sync/refbot/output/sm_predictions/val/cd22abca-9150-3279-87a4-cb00ba517372/pedestrian near bollard_cd22abca_claude-3-5-sonnet_predictions.pkl\n",
      "Cached scenario prediction found\n"
     ]
    },
    {
     "name": "stderr",
     "output_type": "stream",
     "text": [
      "112/149:  80%|████████  | 8/10 [02:44<00:50, 25.22s/it]"
     ]
    },
    {
     "name": "stdout",
     "output_type": "stream",
     "text": [
      "Scenario pkl file for pedestrian near bollard_cd22abca saved successfully.\n",
      "/home/crdavids/Trinity-Sync/refbot/output/sm_predictions/val/cd22abca-9150-3279-87a4-cb00ba517372/pedestrian between moving vehicles on both sides_cd22abca_claude-3-5-sonnet_predictions.pkl\n",
      "Cached scenario prediction found\n"
     ]
    },
    {
     "name": "stderr",
     "output_type": "stream",
     "text": [
      "112/149:  90%|█████████ | 9/10 [03:05<00:23, 23.97s/it]"
     ]
    },
    {
     "name": "stdout",
     "output_type": "stream",
     "text": [
      "Scenario pkl file for pedestrian between moving vehicles on both sides_cd22abca saved successfully.\n",
      "/home/crdavids/Trinity-Sync/refbot/output/sm_predictions/val/cd22abca-9150-3279-87a4-cb00ba517372/a group of people_cd22abca_claude-3-5-sonnet_predictions.pkl\n",
      "Cached scenario prediction found\n"
     ]
    },
    {
     "name": "stderr",
     "output_type": "stream",
     "text": [
      "112/149: 100%|██████████| 10/10 [04:02<00:00, 24.24s/it]\n"
     ]
    },
    {
     "name": "stdout",
     "output_type": "stream",
     "text": [
      "Scenario pkl file for a group of people_cd22abca saved successfully.\n",
      "cf5aaa11-4f92-3377-a7a2-861f305023eb\n"
     ]
    },
    {
     "name": "stderr",
     "output_type": "stream",
     "text": [
      "113/149:   0%|          | 0/10 [00:00<?, ?it/s]"
     ]
    },
    {
     "name": "stdout",
     "output_type": "stream",
     "text": [
      "/home/crdavids/Trinity-Sync/refbot/output/sm_predictions/val/cf5aaa11-4f92-3377-a7a2-861f305023eb/oncoming vehicle changing lanes_cf5aaa11_claude-3-5-sonnet_predictions.pkl\n",
      "Cached scenario prediction found\n"
     ]
    },
    {
     "name": "stderr",
     "output_type": "stream",
     "text": [
      "113/149:  10%|█         | 1/10 [00:10<01:30, 10.11s/it]"
     ]
    },
    {
     "name": "stdout",
     "output_type": "stream",
     "text": [
      "Scenario pkl file for oncoming vehicle changing lanes_cf5aaa11 saved successfully.\n",
      "/home/crdavids/Trinity-Sync/refbot/output/sm_predictions/val/cf5aaa11-4f92-3377-a7a2-861f305023eb/braking vehicle_cf5aaa11_claude-3-5-sonnet_predictions.pkl\n",
      "Cached scenario prediction found\n"
     ]
    },
    {
     "name": "stderr",
     "output_type": "stream",
     "text": [
      "113/149:  20%|██        | 2/10 [00:18<01:11,  8.96s/it]"
     ]
    },
    {
     "name": "stdout",
     "output_type": "stream",
     "text": [
      "Scenario pkl file for braking vehicle_cf5aaa11 saved successfully.\n",
      "/home/crdavids/Trinity-Sync/refbot/output/sm_predictions/val/cf5aaa11-4f92-3377-a7a2-861f305023eb/left lane change while there is a vehicle to the left_cf5aaa11_claude-3-5-sonnet_predictions.pkl\n",
      "Cached scenario prediction found\n"
     ]
    },
    {
     "name": "stderr",
     "output_type": "stream",
     "text": [
      "113/149:  30%|███       | 3/10 [00:30<01:12, 10.31s/it]"
     ]
    },
    {
     "name": "stdout",
     "output_type": "stream",
     "text": [
      "Scenario pkl file for left lane change while there is a vehicle to the left_cf5aaa11 saved successfully.\n",
      "/home/crdavids/Trinity-Sync/refbot/output/sm_predictions/val/cf5aaa11-4f92-3377-a7a2-861f305023eb/accelerating passenger vehicle_cf5aaa11_claude-3-5-sonnet_predictions.pkl\n",
      "Cached scenario prediction found\n"
     ]
    },
    {
     "name": "stderr",
     "output_type": "stream",
     "text": [
      "113/149:  40%|████      | 4/10 [00:39<00:59,  9.89s/it]"
     ]
    },
    {
     "name": "stdout",
     "output_type": "stream",
     "text": [
      "Scenario pkl file for accelerating passenger vehicle_cf5aaa11 saved successfully.\n",
      "/home/crdavids/Trinity-Sync/refbot/output/sm_predictions/val/cf5aaa11-4f92-3377-a7a2-861f305023eb/pedestrian facing toward ego vehicle_cf5aaa11_claude-3-5-sonnet_predictions.pkl\n",
      "Cached scenario prediction found\n"
     ]
    },
    {
     "name": "stderr",
     "output_type": "stream",
     "text": [
      "113/149:  50%|█████     | 5/10 [00:47<00:45,  9.16s/it]"
     ]
    },
    {
     "name": "stdout",
     "output_type": "stream",
     "text": [
      "Scenario pkl file for pedestrian facing toward ego vehicle_cf5aaa11 saved successfully.\n",
      "/home/crdavids/Trinity-Sync/refbot/output/sm_predictions/val/cf5aaa11-4f92-3377-a7a2-861f305023eb/pedestrian to the back-right of the ego vehicle_cf5aaa11_claude-3-5-sonnet_predictions.pkl\n",
      "Cached scenario prediction found\n"
     ]
    },
    {
     "name": "stderr",
     "output_type": "stream",
     "text": [
      "113/149:  60%|██████    | 6/10 [00:55<00:34,  8.69s/it]"
     ]
    },
    {
     "name": "stdout",
     "output_type": "stream",
     "text": [
      "Scenario pkl file for pedestrian to the back-right of the ego vehicle_cf5aaa11 saved successfully.\n",
      "/home/crdavids/Trinity-Sync/refbot/output/sm_predictions/val/cf5aaa11-4f92-3377-a7a2-861f305023eb/parked vehicle_cf5aaa11_claude-3-5-sonnet_predictions.pkl\n",
      "Cached scenario prediction found\n"
     ]
    },
    {
     "name": "stderr",
     "output_type": "stream",
     "text": [
      "113/149:  70%|███████   | 7/10 [01:03<00:25,  8.52s/it]"
     ]
    },
    {
     "name": "stdout",
     "output_type": "stream",
     "text": [
      "Scenario pkl file for parked vehicle_cf5aaa11 saved successfully.\n",
      "/home/crdavids/Trinity-Sync/refbot/output/sm_predictions/val/cf5aaa11-4f92-3377-a7a2-861f305023eb/pedestrian near bollard_cf5aaa11_claude-3-5-sonnet_predictions.pkl\n",
      "Cached scenario prediction found\n"
     ]
    },
    {
     "name": "stderr",
     "output_type": "stream",
     "text": [
      "113/149:  80%|████████  | 8/10 [01:15<00:19,  9.78s/it]"
     ]
    },
    {
     "name": "stdout",
     "output_type": "stream",
     "text": [
      "Scenario pkl file for pedestrian near bollard_cf5aaa11 saved successfully.\n",
      "/home/crdavids/Trinity-Sync/refbot/output/sm_predictions/val/cf5aaa11-4f92-3377-a7a2-861f305023eb/making a left lane change while there is a vehicle to the right_cf5aaa11_claude-3-5-sonnet_predictions.pkl\n",
      "Cached scenario prediction found\n"
     ]
    },
    {
     "name": "stderr",
     "output_type": "stream",
     "text": [
      "113/149:  90%|█████████ | 9/10 [01:25<00:09,  9.74s/it]"
     ]
    },
    {
     "name": "stdout",
     "output_type": "stream",
     "text": [
      "Scenario pkl file for making a left lane change while there is a vehicle to the right_cf5aaa11 saved successfully.\n",
      "/home/crdavids/Trinity-Sync/refbot/output/sm_predictions/val/cf5aaa11-4f92-3377-a7a2-861f305023eb/pedestrian crossing at bollard_cf5aaa11_claude-3-5-sonnet_predictions.pkl\n",
      "Cached scenario prediction found\n"
     ]
    },
    {
     "name": "stderr",
     "output_type": "stream",
     "text": [
      "113/149: 100%|██████████| 10/10 [01:43<00:00, 10.30s/it]\n"
     ]
    },
    {
     "name": "stdout",
     "output_type": "stream",
     "text": [
      "Scenario pkl file for pedestrian crossing at bollard_cf5aaa11 saved successfully.\n",
      "d1395998-7e8a-417d-91e9-5ca6ec045ee1\n"
     ]
    },
    {
     "name": "stderr",
     "output_type": "stream",
     "text": [
      "114/149:   0%|          | 0/10 [00:00<?, ?it/s]"
     ]
    },
    {
     "name": "stdout",
     "output_type": "stream",
     "text": [
      "/home/crdavids/Trinity-Sync/refbot/output/sm_predictions/val/d1395998-7e8a-417d-91e9-5ca6ec045ee1/left lane change while there is a vehicle to the left_d1395998_claude-3-5-sonnet_predictions.pkl\n",
      "Cached scenario prediction found\n"
     ]
    },
    {
     "name": "stderr",
     "output_type": "stream",
     "text": [
      "114/149:  10%|█         | 1/10 [00:16<02:30, 16.68s/it]"
     ]
    },
    {
     "name": "stdout",
     "output_type": "stream",
     "text": [
      "Scenario pkl file for left lane change while there is a vehicle to the left_d1395998 saved successfully.\n",
      "/home/crdavids/Trinity-Sync/refbot/output/sm_predictions/val/d1395998-7e8a-417d-91e9-5ca6ec045ee1/vehicle two cars ahead is changing lanes_d1395998_claude-3-5-sonnet_predictions.pkl\n",
      "Cached scenario prediction found\n"
     ]
    },
    {
     "name": "stderr",
     "output_type": "stream",
     "text": [
      "114/149:  20%|██        | 2/10 [00:33<02:13, 16.74s/it]"
     ]
    },
    {
     "name": "stdout",
     "output_type": "stream",
     "text": [
      "Scenario pkl file for vehicle two cars ahead is changing lanes_d1395998 saved successfully.\n",
      "/home/crdavids/Trinity-Sync/refbot/output/sm_predictions/val/d1395998-7e8a-417d-91e9-5ca6ec045ee1/at least active 2 vehicles within 15 meters behind ego vehicle_d1395998_claude-3-5-sonnet_predictions.pkl\n",
      "at least active 2 vehicles within 15 meters behind ego vehicle definition saved to output/llm_scenario_predictions/claude-3-5-sonnet\n"
     ]
    },
    {
     "name": "stderr",
     "output_type": "stream",
     "text": [
      "114/149:  30%|███       | 3/10 [00:50<01:59, 17.03s/it]"
     ]
    },
    {
     "name": "stdout",
     "output_type": "stream",
     "text": [
      "Scenario pkl file for at least 2 active vehicles within 15 meters behind ego vehicle_d1395998 saved successfully.\n",
      "/home/crdavids/Trinity-Sync/refbot/output/sm_predictions/val/d1395998-7e8a-417d-91e9-5ca6ec045ee1/the vehicle two cars in front of the ego vehicle_d1395998_claude-3-5-sonnet_predictions.pkl\n",
      "Cached scenario prediction found\n"
     ]
    },
    {
     "name": "stderr",
     "output_type": "stream",
     "text": [
      "114/149:  40%|████      | 4/10 [01:17<02:06, 21.02s/it]"
     ]
    },
    {
     "name": "stdout",
     "output_type": "stream",
     "text": [
      "Scenario pkl file for the vehicle two cars in front of the ego vehicle_d1395998 saved successfully.\n",
      "/home/crdavids/Trinity-Sync/refbot/output/sm_predictions/val/d1395998-7e8a-417d-91e9-5ca6ec045ee1/bus changing lanes_d1395998_claude-3-5-sonnet_predictions.pkl\n",
      "Cached scenario prediction found\n"
     ]
    },
    {
     "name": "stderr",
     "output_type": "stream",
     "text": [
      "114/149:  50%|█████     | 5/10 [01:25<01:21, 16.26s/it]"
     ]
    },
    {
     "name": "stdout",
     "output_type": "stream",
     "text": [
      "Scenario pkl file for bus changing lanes_d1395998 saved successfully.\n",
      "/home/crdavids/Trinity-Sync/refbot/output/sm_predictions/val/d1395998-7e8a-417d-91e9-5ca6ec045ee1/pedestrian facing toward the bus_d1395998_claude-3-5-sonnet_predictions.pkl\n",
      "Cached scenario prediction found\n"
     ]
    },
    {
     "name": "stderr",
     "output_type": "stream",
     "text": [
      "114/149:  60%|██████    | 6/10 [01:37<00:58, 14.67s/it]"
     ]
    },
    {
     "name": "stdout",
     "output_type": "stream",
     "text": [
      "Scenario pkl file for pedestrian facing toward the bus_d1395998 saved successfully.\n",
      "/home/crdavids/Trinity-Sync/refbot/output/sm_predictions/val/d1395998-7e8a-417d-91e9-5ca6ec045ee1/vehicle two vehicles ahead is changing lanes_d1395998_claude-3-5-sonnet_predictions.pkl\n",
      "Cached scenario prediction found\n"
     ]
    },
    {
     "name": "stderr",
     "output_type": "stream",
     "text": [
      "114/149:  70%|███████   | 7/10 [01:51<00:43, 14.57s/it]"
     ]
    },
    {
     "name": "stdout",
     "output_type": "stream",
     "text": [
      "Scenario pkl file for vehicle two vehicles ahead is changing lanes_d1395998 saved successfully.\n",
      "/home/crdavids/Trinity-Sync/refbot/output/sm_predictions/val/d1395998-7e8a-417d-91e9-5ca6ec045ee1/ego vehicle following vehicle being overtaken on right_d1395998_claude-3-5-sonnet_predictions.pkl\n",
      "Cached scenario prediction found\n"
     ]
    },
    {
     "name": "stderr",
     "output_type": "stream",
     "text": [
      "114/149:  80%|████████  | 8/10 [02:11<00:32, 16.23s/it]"
     ]
    },
    {
     "name": "stdout",
     "output_type": "stream",
     "text": [
      "Scenario pkl file for ego vehicle following vehicle being overtaken on right_d1395998 saved successfully.\n",
      "/home/crdavids/Trinity-Sync/refbot/output/sm_predictions/val/d1395998-7e8a-417d-91e9-5ca6ec045ee1/vehicle being followed by ego vehilce while being overtaken on right_d1395998_claude-3-5-sonnet_predictions.pkl\n",
      "vehicle being followed by ego vehilce while being overtaken on right definition saved to output/llm_scenario_predictions/claude-3-5-sonnet\n"
     ]
    },
    {
     "name": "stderr",
     "output_type": "stream",
     "text": [
      "114/149:  90%|█████████ | 9/10 [02:29<00:16, 16.67s/it]"
     ]
    },
    {
     "name": "stdout",
     "output_type": "stream",
     "text": [
      "Scenario pkl file for vehicle being followed by ego vehicle while being overtaken on right_d1395998 saved successfully.\n",
      "/home/crdavids/Trinity-Sync/refbot/output/sm_predictions/val/d1395998-7e8a-417d-91e9-5ca6ec045ee1/oncoming vehicle changing lanes_d1395998_claude-3-5-sonnet_predictions.pkl\n",
      "Cached scenario prediction found\n"
     ]
    },
    {
     "name": "stderr",
     "output_type": "stream",
     "text": [
      "114/149: 100%|██████████| 10/10 [02:47<00:00, 16.77s/it]\n"
     ]
    },
    {
     "name": "stdout",
     "output_type": "stream",
     "text": [
      "Scenario pkl file for oncoming vehicle changing lanes_d1395998 saved successfully.\n",
      "d3ca0450-2167-38fb-b34b-449741cb38f3\n"
     ]
    },
    {
     "name": "stderr",
     "output_type": "stream",
     "text": [
      "115/149:   0%|          | 0/10 [00:00<?, ?it/s]"
     ]
    },
    {
     "name": "stdout",
     "output_type": "stream",
     "text": [
      "/home/crdavids/Trinity-Sync/refbot/output/sm_predictions/val/d3ca0450-2167-38fb-b34b-449741cb38f3/left lane change while there is a vehicle to the left_d3ca0450_claude-3-5-sonnet_predictions.pkl\n",
      "Cached scenario prediction found\n"
     ]
    },
    {
     "name": "stderr",
     "output_type": "stream",
     "text": [
      "115/149:  10%|█         | 1/10 [00:16<02:26, 16.32s/it]"
     ]
    },
    {
     "name": "stdout",
     "output_type": "stream",
     "text": [
      "Scenario pkl file for left lane change while there is a vehicle to the left_d3ca0450 saved successfully.\n",
      "/home/crdavids/Trinity-Sync/refbot/output/sm_predictions/val/d3ca0450-2167-38fb-b34b-449741cb38f3/passenger vehicle turning right_d3ca0450_claude-3-5-sonnet_predictions.pkl\n",
      "Cached scenario prediction found\n"
     ]
    },
    {
     "name": "stderr",
     "output_type": "stream",
     "text": [
      "115/149:  20%|██        | 2/10 [00:24<01:33, 11.66s/it]"
     ]
    },
    {
     "name": "stdout",
     "output_type": "stream",
     "text": [
      "Scenario pkl file for passenger vehicle turning right_d3ca0450 saved successfully.\n",
      "/home/crdavids/Trinity-Sync/refbot/output/sm_predictions/val/d3ca0450-2167-38fb-b34b-449741cb38f3/car turning right_d3ca0450_claude-3-5-sonnet_predictions.pkl\n",
      "Cached scenario prediction found\n"
     ]
    },
    {
     "name": "stderr",
     "output_type": "stream",
     "text": [
      "115/149:  30%|███       | 3/10 [00:33<01:11, 10.25s/it]"
     ]
    },
    {
     "name": "stdout",
     "output_type": "stream",
     "text": [
      "Scenario pkl file for car turning right_d3ca0450 saved successfully.\n",
      "/home/crdavids/Trinity-Sync/refbot/output/sm_predictions/val/d3ca0450-2167-38fb-b34b-449741cb38f3/the active vehicle in front of the the vehicle ahead_d3ca0450_claude-3-5-sonnet_predictions.pkl\n",
      "the active vehicle in front of the the vehicle ahead definition saved to output/llm_scenario_predictions/claude-3-5-sonnet\n"
     ]
    },
    {
     "name": "stderr",
     "output_type": "stream",
     "text": [
      "115/149:  40%|████      | 4/10 [00:54<01:27, 14.58s/it]"
     ]
    },
    {
     "name": "stdout",
     "output_type": "stream",
     "text": [
      "Scenario pkl file for the active vehicle in front of the vehicle ahead_d3ca0450 saved successfully.\n",
      "/home/crdavids/Trinity-Sync/refbot/output/sm_predictions/val/d3ca0450-2167-38fb-b34b-449741cb38f3/ego vehicle near construction cone_d3ca0450_claude-3-5-sonnet_predictions.pkl\n",
      "Cached scenario prediction found\n"
     ]
    },
    {
     "name": "stderr",
     "output_type": "stream",
     "text": [
      "115/149:  50%|█████     | 5/10 [01:01<00:59, 11.94s/it]"
     ]
    },
    {
     "name": "stdout",
     "output_type": "stream",
     "text": [
      "Scenario pkl file for ego vehicle near construction cone_d3ca0450 saved successfully.\n",
      "/home/crdavids/Trinity-Sync/refbot/output/sm_predictions/val/d3ca0450-2167-38fb-b34b-449741cb38f3/ego vehicle changing lanes to the left_d3ca0450_claude-3-5-sonnet_predictions.pkl\n",
      "Cached scenario prediction found\n"
     ]
    },
    {
     "name": "stderr",
     "output_type": "stream",
     "text": [
      "115/149:  60%|██████    | 6/10 [01:08<00:41, 10.30s/it]"
     ]
    },
    {
     "name": "stdout",
     "output_type": "stream",
     "text": [
      "Scenario pkl file for ego vehicle changing lanes to the left_d3ca0450 saved successfully.\n",
      "/home/crdavids/Trinity-Sync/refbot/output/sm_predictions/val/d3ca0450-2167-38fb-b34b-449741cb38f3/regular vehicles that are stopped or nearly stopped_d3ca0450_claude-3-5-sonnet_predictions.pkl\n",
      "Cached scenario prediction found\n"
     ]
    },
    {
     "name": "stderr",
     "output_type": "stream",
     "text": [
      "115/149:  70%|███████   | 7/10 [01:17<00:28,  9.60s/it]"
     ]
    },
    {
     "name": "stdout",
     "output_type": "stream",
     "text": [
      "Scenario pkl file for regular vehicles that are stopped or nearly stopped_d3ca0450 saved successfully.\n",
      "/home/crdavids/Trinity-Sync/refbot/output/sm_predictions/val/d3ca0450-2167-38fb-b34b-449741cb38f3/accelerating passenger vehicle_d3ca0450_claude-3-5-sonnet_predictions.pkl\n",
      "Cached scenario prediction found\n"
     ]
    },
    {
     "name": "stderr",
     "output_type": "stream",
     "text": [
      "115/149:  80%|████████  | 8/10 [01:26<00:18,  9.48s/it]"
     ]
    },
    {
     "name": "stdout",
     "output_type": "stream",
     "text": [
      "Scenario pkl file for accelerating passenger vehicle_d3ca0450 saved successfully.\n",
      "/home/crdavids/Trinity-Sync/refbot/output/sm_predictions/val/d3ca0450-2167-38fb-b34b-449741cb38f3/vehicle following another vehicle too closely_d3ca0450_claude-3-5-sonnet_predictions.pkl\n",
      "Cached scenario prediction found\n"
     ]
    },
    {
     "name": "stderr",
     "output_type": "stream",
     "text": [
      "115/149:  90%|█████████ | 9/10 [01:39<00:10, 10.52s/it]"
     ]
    },
    {
     "name": "stdout",
     "output_type": "stream",
     "text": [
      "Scenario pkl file for vehicle following another vehicle too closely_d3ca0450 saved successfully.\n",
      "/home/crdavids/Trinity-Sync/refbot/output/sm_predictions/val/d3ca0450-2167-38fb-b34b-449741cb38f3/construction item on road_d3ca0450_claude-3-5-sonnet_predictions.pkl\n",
      "Cached scenario prediction found\n"
     ]
    },
    {
     "name": "stderr",
     "output_type": "stream",
     "text": [
      "115/149: 100%|██████████| 10/10 [01:46<00:00, 10.63s/it]\n"
     ]
    },
    {
     "name": "stdout",
     "output_type": "stream",
     "text": [
      "Scenario pkl file for construction item on road_d3ca0450 saved successfully.\n",
      "d46ff5df-95e8-32da-a0d7-87f7b976a959\n"
     ]
    },
    {
     "name": "stderr",
     "output_type": "stream",
     "text": [
      "116/149:   0%|          | 0/10 [00:00<?, ?it/s]"
     ]
    },
    {
     "name": "stdout",
     "output_type": "stream",
     "text": [
      "/home/crdavids/Trinity-Sync/refbot/output/sm_predictions/val/d46ff5df-95e8-32da-a0d7-87f7b976a959/pedestrian near construction cone_d46ff5df_claude-3-5-sonnet_predictions.pkl\n",
      "Cached scenario prediction found\n"
     ]
    },
    {
     "name": "stderr",
     "output_type": "stream",
     "text": [
      "116/149:  10%|█         | 1/10 [00:32<04:56, 32.95s/it]"
     ]
    },
    {
     "name": "stdout",
     "output_type": "stream",
     "text": [
      "Scenario pkl file for pedestrian near construction cone_d46ff5df saved successfully.\n",
      "/home/crdavids/Trinity-Sync/refbot/output/sm_predictions/val/d46ff5df-95e8-32da-a0d7-87f7b976a959/group of pedestrians ahead of the ego vehicle_d46ff5df_claude-3-5-sonnet_predictions.pkl\n",
      "Cached scenario prediction found\n"
     ]
    },
    {
     "name": "stderr",
     "output_type": "stream",
     "text": [
      "116/149:  20%|██        | 2/10 [00:54<03:29, 26.15s/it]"
     ]
    },
    {
     "name": "stdout",
     "output_type": "stream",
     "text": [
      "Scenario pkl file for group of pedestrians ahead of the ego vehicle_d46ff5df saved successfully.\n",
      "/home/crdavids/Trinity-Sync/refbot/output/sm_predictions/val/d46ff5df-95e8-32da-a0d7-87f7b976a959/vehicle with multiple pedestrians to the left_d46ff5df_claude-3-5-sonnet_predictions.pkl\n",
      "Cached scenario prediction found\n"
     ]
    },
    {
     "name": "stderr",
     "output_type": "stream",
     "text": [
      "116/149:  30%|███       | 3/10 [02:19<06:11, 53.12s/it]"
     ]
    },
    {
     "name": "stdout",
     "output_type": "stream",
     "text": [
      "Scenario pkl file for vehicle with multiple pedestrians to the left_d46ff5df saved successfully.\n",
      "/home/crdavids/Trinity-Sync/refbot/output/sm_predictions/val/d46ff5df-95e8-32da-a0d7-87f7b976a959/passenger vehicle turning right_d46ff5df_claude-3-5-sonnet_predictions.pkl\n",
      "Cached scenario prediction found\n"
     ]
    },
    {
     "name": "stderr",
     "output_type": "stream",
     "text": [
      "116/149:  40%|████      | 4/10 [02:29<03:35, 35.96s/it]"
     ]
    },
    {
     "name": "stdout",
     "output_type": "stream",
     "text": [
      "Scenario pkl file for passenger vehicle turning right_d46ff5df saved successfully.\n",
      "/home/crdavids/Trinity-Sync/refbot/output/sm_predictions/val/d46ff5df-95e8-32da-a0d7-87f7b976a959/moving vehicles that are not on the road_d46ff5df_claude-3-5-sonnet_predictions.pkl\n",
      "Cached scenario prediction found\n"
     ]
    },
    {
     "name": "stderr",
     "output_type": "stream",
     "text": [
      "116/149:  50%|█████     | 5/10 [02:40<02:15, 27.19s/it]"
     ]
    },
    {
     "name": "stdout",
     "output_type": "stream",
     "text": [
      "Scenario pkl file for moving vehicles that are not on the road_d46ff5df saved successfully.\n",
      "/home/crdavids/Trinity-Sync/refbot/output/sm_predictions/val/d46ff5df-95e8-32da-a0d7-87f7b976a959/pedestrian crossing in front of vehicle at crosswalk_d46ff5df_claude-3-5-sonnet_predictions.pkl\n",
      "Cached scenario prediction found\n"
     ]
    },
    {
     "name": "stderr",
     "output_type": "stream",
     "text": [
      "116/149:  60%|██████    | 6/10 [03:21<02:07, 31.87s/it]"
     ]
    },
    {
     "name": "stdout",
     "output_type": "stream",
     "text": [
      "Scenario pkl file for pedestrian crossing in front of vehicle at crosswalk_d46ff5df saved successfully.\n",
      "Default scenario prediction correctly generated.\n",
      "/home/crdavids/Trinity-Sync/refbot/output/sm_predictions/val/d46ff5df-95e8-32da-a0d7-87f7b976a959/vehicle facing a group of three or more pedestrians at a crosswalk within 10 meters_d46ff5df_claude-3-5-sonnet_predictions.pkl\n",
      "Cached scenario prediction found\n"
     ]
    },
    {
     "name": "stderr",
     "output_type": "stream",
     "text": [
      "116/149:  70%|███████   | 7/10 [03:34<01:16, 25.48s/it]"
     ]
    },
    {
     "name": "stdout",
     "output_type": "stream",
     "text": [
      "Scenario pkl file for vehicle facing a group of three or more pedestrians at a crosswalk within 10 meters_d46ff5df saved successfully.\n",
      "/home/crdavids/Trinity-Sync/refbot/output/sm_predictions/val/d46ff5df-95e8-32da-a0d7-87f7b976a959/ego vehicle approaching pedestrian at crosswalk_d46ff5df_claude-3-5-sonnet_predictions.pkl\n",
      "Cached scenario prediction found\n"
     ]
    },
    {
     "name": "stderr",
     "output_type": "stream",
     "text": [
      "116/149:  80%|████████  | 8/10 [03:45<00:41, 20.90s/it]"
     ]
    },
    {
     "name": "stdout",
     "output_type": "stream",
     "text": [
      "Scenario pkl file for ego vehicle approaching pedestrian at crosswalk_d46ff5df saved successfully.\n",
      "/home/crdavids/Trinity-Sync/refbot/output/sm_predictions/val/d46ff5df-95e8-32da-a0d7-87f7b976a959/vehicle behind another vehicle that has a pedestrian on its right side_d46ff5df_claude-3-5-sonnet_predictions.pkl\n",
      "Cached scenario prediction found\n"
     ]
    },
    {
     "name": "stderr",
     "output_type": "stream",
     "text": [
      "116/149:  90%|█████████ | 9/10 [05:23<00:45, 45.00s/it]"
     ]
    },
    {
     "name": "stdout",
     "output_type": "stream",
     "text": [
      "Scenario pkl file for vehicle behind another vehicle that has a pedestrian on its right side_d46ff5df saved successfully.\n",
      "/home/crdavids/Trinity-Sync/refbot/output/sm_predictions/val/d46ff5df-95e8-32da-a0d7-87f7b976a959/group of people_d46ff5df_claude-3-5-sonnet_predictions.pkl\n",
      "Cached scenario prediction found\n"
     ]
    },
    {
     "name": "stderr",
     "output_type": "stream",
     "text": [
      "116/149: 100%|██████████| 10/10 [07:32<00:00, 45.25s/it]\n"
     ]
    },
    {
     "name": "stdout",
     "output_type": "stream",
     "text": [
      "Scenario pkl file for group of people_d46ff5df saved successfully.\n",
      "d5d6f11c-3026-3e0e-9d67-c111233e22de\n"
     ]
    },
    {
     "name": "stderr",
     "output_type": "stream",
     "text": [
      "117/149:   0%|          | 0/10 [00:00<?, ?it/s]"
     ]
    },
    {
     "name": "stdout",
     "output_type": "stream",
     "text": [
      "/home/crdavids/Trinity-Sync/refbot/output/sm_predictions/val/d5d6f11c-3026-3e0e-9d67-c111233e22de/bicyclist on intersection_d5d6f11c_claude-3-5-sonnet_predictions.pkl\n",
      "Cached scenario prediction found\n"
     ]
    },
    {
     "name": "stderr",
     "output_type": "stream",
     "text": [
      "117/149:  10%|█         | 1/10 [00:07<01:08,  7.64s/it]"
     ]
    },
    {
     "name": "stdout",
     "output_type": "stream",
     "text": [
      "Scenario pkl file for bicyclist on intersection_d5d6f11c saved successfully.\n",
      "/home/crdavids/Trinity-Sync/refbot/output/sm_predictions/val/d5d6f11c-3026-3e0e-9d67-c111233e22de/vehicle being followed by ego vehilce while being overtaken on right_d5d6f11c_claude-3-5-sonnet_predictions.pkl\n",
      "vehicle being followed by ego vehilce while being overtaken on right definition saved to output/llm_scenario_predictions/claude-3-5-sonnet\n"
     ]
    },
    {
     "name": "stderr",
     "output_type": "stream",
     "text": [
      "117/149:  20%|██        | 2/10 [00:55<04:11, 31.47s/it]"
     ]
    },
    {
     "name": "stdout",
     "output_type": "stream",
     "text": [
      "Scenario pkl file for vehicle being followed by ego vehicle while being overtaken on right_d5d6f11c saved successfully.\n",
      "/home/crdavids/Trinity-Sync/refbot/output/sm_predictions/val/d5d6f11c-3026-3e0e-9d67-c111233e22de/ego vehicle following vehicle being overtaken on right_d5d6f11c_claude-3-5-sonnet_predictions.pkl\n",
      "Cached scenario prediction found\n"
     ]
    },
    {
     "name": "stderr",
     "output_type": "stream",
     "text": [
      "117/149:  30%|███       | 3/10 [01:16<03:04, 26.40s/it]"
     ]
    },
    {
     "name": "stdout",
     "output_type": "stream",
     "text": [
      "Scenario pkl file for ego vehicle following vehicle being overtaken on right_d5d6f11c saved successfully.\n",
      "/home/crdavids/Trinity-Sync/refbot/output/sm_predictions/val/d5d6f11c-3026-3e0e-9d67-c111233e22de/at least active 2 vehicles within 15 meters behind ego vehicle_d5d6f11c_claude-3-5-sonnet_predictions.pkl\n",
      "at least active 2 vehicles within 15 meters behind ego vehicle definition saved to output/llm_scenario_predictions/claude-3-5-sonnet\n"
     ]
    },
    {
     "name": "stderr",
     "output_type": "stream",
     "text": [
      "117/149:  40%|████      | 4/10 [01:30<02:08, 21.49s/it]"
     ]
    },
    {
     "name": "stdout",
     "output_type": "stream",
     "text": [
      "Scenario pkl file for at least 2 active vehicles within 15 meters behind ego vehicle_d5d6f11c saved successfully.\n",
      "/home/crdavids/Trinity-Sync/refbot/output/sm_predictions/val/d5d6f11c-3026-3e0e-9d67-c111233e22de/moving vehicles that are not on the road_d5d6f11c_claude-3-5-sonnet_predictions.pkl\n",
      "Cached scenario prediction found\n"
     ]
    },
    {
     "name": "stderr",
     "output_type": "stream",
     "text": [
      "117/149:  50%|█████     | 5/10 [01:42<01:31, 18.29s/it]"
     ]
    },
    {
     "name": "stdout",
     "output_type": "stream",
     "text": [
      "Scenario pkl file for moving vehicles that are not on the road_d5d6f11c saved successfully.\n",
      "/home/crdavids/Trinity-Sync/refbot/output/sm_predictions/val/d5d6f11c-3026-3e0e-9d67-c111233e22de/bicycle on intersection_d5d6f11c_claude-3-5-sonnet_predictions.pkl\n",
      "bicycle on intersection definition saved to output/llm_scenario_predictions/claude-3-5-sonnet\n"
     ]
    },
    {
     "name": "stderr",
     "output_type": "stream",
     "text": [
      "117/149:  60%|██████    | 6/10 [01:54<01:04, 16.07s/it]"
     ]
    },
    {
     "name": "stdout",
     "output_type": "stream",
     "text": [
      "Scenario pkl file for bicycle on intersection_d5d6f11c saved successfully.\n",
      "/home/crdavids/Trinity-Sync/refbot/output/sm_predictions/val/d5d6f11c-3026-3e0e-9d67-c111233e22de/object that hasn't moved_d5d6f11c_claude-3-5-sonnet_predictions.pkl\n",
      "Cached scenario prediction found\n"
     ]
    },
    {
     "name": "stderr",
     "output_type": "stream",
     "text": [
      "117/149:  70%|███████   | 7/10 [01:59<00:37, 12.60s/it]"
     ]
    },
    {
     "name": "stdout",
     "output_type": "stream",
     "text": [
      "Scenario pkl file for object that hasn't moved_d5d6f11c saved successfully.\n",
      "Default scenario prediction correctly generated.\n",
      "/home/crdavids/Trinity-Sync/refbot/output/sm_predictions/val/d5d6f11c-3026-3e0e-9d67-c111233e22de/pedestrian facing toward ego vehicle_d5d6f11c_claude-3-5-sonnet_predictions.pkl\n",
      "Cached scenario prediction found\n"
     ]
    },
    {
     "name": "stderr",
     "output_type": "stream",
     "text": [
      "117/149:  80%|████████  | 8/10 [02:07<00:22, 11.02s/it]"
     ]
    },
    {
     "name": "stdout",
     "output_type": "stream",
     "text": [
      "Scenario pkl file for pedestrian facing toward ego vehicle_d5d6f11c saved successfully.\n",
      "/home/crdavids/Trinity-Sync/refbot/output/sm_predictions/val/d5d6f11c-3026-3e0e-9d67-c111233e22de/moving bus to the front-left of the ego vehicle_d5d6f11c_claude-3-5-sonnet_predictions.pkl\n",
      "Cached scenario prediction found\n"
     ]
    },
    {
     "name": "stderr",
     "output_type": "stream",
     "text": [
      "117/149:  90%|█████████ | 9/10 [02:13<00:09,  9.39s/it]"
     ]
    },
    {
     "name": "stdout",
     "output_type": "stream",
     "text": [
      "Scenario pkl file for moving bus to the front-left of the ego vehicle_d5d6f11c saved successfully.\n",
      "/home/crdavids/Trinity-Sync/refbot/output/sm_predictions/val/d5d6f11c-3026-3e0e-9d67-c111233e22de/ego vehicle two cars ahead of another vehicle_d5d6f11c_claude-3-5-sonnet_predictions.pkl\n",
      "Cached scenario prediction found\n"
     ]
    },
    {
     "name": "stderr",
     "output_type": "stream",
     "text": [
      "117/149: 100%|██████████| 10/10 [02:35<00:00, 15.51s/it]\n"
     ]
    },
    {
     "name": "stdout",
     "output_type": "stream",
     "text": [
      "Scenario pkl file for ego vehicle two cars ahead of another vehicle_d5d6f11c saved successfully.\n",
      "d5fa4d54-74ba-369c-a758-636441ad7f07\n"
     ]
    },
    {
     "name": "stderr",
     "output_type": "stream",
     "text": [
      "118/149:   0%|          | 0/10 [00:00<?, ?it/s]"
     ]
    },
    {
     "name": "stdout",
     "output_type": "stream",
     "text": [
      "/home/crdavids/Trinity-Sync/refbot/output/sm_predictions/val/d5fa4d54-74ba-369c-a758-636441ad7f07/passenger vehicle turning right_d5fa4d54_claude-3-5-sonnet_predictions.pkl\n",
      "Cached scenario prediction found\n"
     ]
    },
    {
     "name": "stderr",
     "output_type": "stream",
     "text": [
      "118/149:  10%|█         | 1/10 [00:09<01:29,  9.95s/it]"
     ]
    },
    {
     "name": "stdout",
     "output_type": "stream",
     "text": [
      "Scenario pkl file for passenger vehicle turning right_d5fa4d54 saved successfully.\n",
      "/home/crdavids/Trinity-Sync/refbot/output/sm_predictions/val/d5fa4d54-74ba-369c-a758-636441ad7f07/vehicle with a bicycle to its right_d5fa4d54_claude-3-5-sonnet_predictions.pkl\n",
      "Cached scenario prediction found\n"
     ]
    },
    {
     "name": "stderr",
     "output_type": "stream",
     "text": [
      "118/149:  20%|██        | 2/10 [00:28<02:01, 15.13s/it]"
     ]
    },
    {
     "name": "stdout",
     "output_type": "stream",
     "text": [
      "Scenario pkl file for vehicle with a bicycle to its right_d5fa4d54 saved successfully.\n",
      "/home/crdavids/Trinity-Sync/refbot/output/sm_predictions/val/d5fa4d54-74ba-369c-a758-636441ad7f07/motorcycle or pedestrian within 5 meters to the right of the ego vehicle_d5fa4d54_claude-3-5-sonnet_predictions.pkl\n",
      "Cached scenario prediction found\n"
     ]
    },
    {
     "name": "stderr",
     "output_type": "stream",
     "text": [
      "118/149:  30%|███       | 3/10 [00:40<01:35, 13.61s/it]"
     ]
    },
    {
     "name": "stdout",
     "output_type": "stream",
     "text": [
      "Scenario pkl file for motorcycle or pedestrian within 5 meters to the right of the ego vehicle_d5fa4d54 saved successfully.\n",
      "/home/crdavids/Trinity-Sync/refbot/output/sm_predictions/val/d5fa4d54-74ba-369c-a758-636441ad7f07/car following closely behind bicyclist_d5fa4d54_claude-3-5-sonnet_predictions.pkl\n",
      "Cached scenario prediction found\n"
     ]
    },
    {
     "name": "stderr",
     "output_type": "stream",
     "text": [
      "118/149:  40%|████      | 4/10 [00:48<01:08, 11.37s/it]"
     ]
    },
    {
     "name": "stdout",
     "output_type": "stream",
     "text": [
      "Scenario pkl file for car following closely behind bicyclist_d5fa4d54 saved successfully.\n",
      "/home/crdavids/Trinity-Sync/refbot/output/sm_predictions/val/d5fa4d54-74ba-369c-a758-636441ad7f07/motorcycle between two vehicles_d5fa4d54_claude-3-5-sonnet_predictions.pkl\n",
      "Cached scenario prediction found\n"
     ]
    },
    {
     "name": "stderr",
     "output_type": "stream",
     "text": [
      "118/149:  50%|█████     | 5/10 [00:56<00:50, 10.18s/it]"
     ]
    },
    {
     "name": "stdout",
     "output_type": "stream",
     "text": [
      "Scenario pkl file for motorcycle between two vehicles_d5fa4d54 saved successfully.\n",
      "/home/crdavids/Trinity-Sync/refbot/output/sm_predictions/val/d5fa4d54-74ba-369c-a758-636441ad7f07/passenger vehicle turning left at intersection_d5fa4d54_claude-3-5-sonnet_predictions.pkl\n",
      "Cached scenario prediction found\n"
     ]
    },
    {
     "name": "stderr",
     "output_type": "stream",
     "text": [
      "118/149:  60%|██████    | 6/10 [01:04<00:38,  9.50s/it]"
     ]
    },
    {
     "name": "stdout",
     "output_type": "stream",
     "text": [
      "Scenario pkl file for passenger vehicle turning left at intersection_d5fa4d54 saved successfully.\n",
      "/home/crdavids/Trinity-Sync/refbot/output/sm_predictions/val/d5fa4d54-74ba-369c-a758-636441ad7f07/ego vehicle with vehicles on both sides_d5fa4d54_claude-3-5-sonnet_predictions.pkl\n",
      "Cached scenario prediction found\n"
     ]
    },
    {
     "name": "stderr",
     "output_type": "stream",
     "text": [
      "118/149:  70%|███████   | 7/10 [01:18<00:32, 10.85s/it]"
     ]
    },
    {
     "name": "stdout",
     "output_type": "stream",
     "text": [
      "Scenario pkl file for ego vehicle with vehicles on both sides_d5fa4d54 saved successfully.\n",
      "/home/crdavids/Trinity-Sync/refbot/output/sm_predictions/val/d5fa4d54-74ba-369c-a758-636441ad7f07/accelerating truck_d5fa4d54_claude-3-5-sonnet_predictions.pkl\n",
      "Cached scenario prediction found\n"
     ]
    },
    {
     "name": "stderr",
     "output_type": "stream",
     "text": [
      "118/149:  80%|████████  | 8/10 [01:25<00:19,  9.65s/it]"
     ]
    },
    {
     "name": "stdout",
     "output_type": "stream",
     "text": [
      "Scenario pkl file for accelerating truck_d5fa4d54 saved successfully.\n",
      "/home/crdavids/Trinity-Sync/refbot/output/sm_predictions/val/d5fa4d54-74ba-369c-a758-636441ad7f07/ego vehicle approaching pedestrian at crosswalk_d5fa4d54_claude-3-5-sonnet_predictions.pkl\n",
      "Cached scenario prediction found\n"
     ]
    },
    {
     "name": "stderr",
     "output_type": "stream",
     "text": [
      "118/149:  90%|█████████ | 9/10 [01:34<00:09,  9.33s/it]"
     ]
    },
    {
     "name": "stdout",
     "output_type": "stream",
     "text": [
      "Scenario pkl file for ego vehicle approaching pedestrian at crosswalk_d5fa4d54 saved successfully.\n",
      "/home/crdavids/Trinity-Sync/refbot/output/sm_predictions/val/d5fa4d54-74ba-369c-a758-636441ad7f07/motorcycle between stopped vehicles_d5fa4d54_claude-3-5-sonnet_predictions.pkl\n",
      "Cached scenario prediction found\n"
     ]
    },
    {
     "name": "stderr",
     "output_type": "stream",
     "text": [
      "118/149: 100%|██████████| 10/10 [01:42<00:00, 10.23s/it]\n"
     ]
    },
    {
     "name": "stdout",
     "output_type": "stream",
     "text": [
      "Scenario pkl file for motorcycle between stopped vehicles_d5fa4d54 saved successfully.\n",
      "d770f926-bca8-31de-9790-73fbb7b6a890\n"
     ]
    },
    {
     "name": "stderr",
     "output_type": "stream",
     "text": [
      "119/149:   0%|          | 0/10 [00:00<?, ?it/s]"
     ]
    },
    {
     "name": "stdout",
     "output_type": "stream",
     "text": [
      "/home/crdavids/Trinity-Sync/refbot/output/sm_predictions/val/d770f926-bca8-31de-9790-73fbb7b6a890/vehicle two cars ahead is braking_d770f926_claude-3-5-sonnet_predictions.pkl\n",
      "Cached scenario prediction found\n"
     ]
    },
    {
     "name": "stderr",
     "output_type": "stream",
     "text": [
      "119/149:  10%|█         | 1/10 [00:52<07:50, 52.23s/it]"
     ]
    },
    {
     "name": "stdout",
     "output_type": "stream",
     "text": [
      "Scenario pkl file for vehicle two cars ahead is braking_d770f926 saved successfully.\n",
      "/home/crdavids/Trinity-Sync/refbot/output/sm_predictions/val/d770f926-bca8-31de-9790-73fbb7b6a890/the vehicle two cars in front of the ego vehicle_d770f926_claude-3-5-sonnet_predictions.pkl\n",
      "Cached scenario prediction found\n"
     ]
    },
    {
     "name": "stderr",
     "output_type": "stream",
     "text": [
      "119/149:  20%|██        | 2/10 [01:23<05:17, 39.75s/it]"
     ]
    },
    {
     "name": "stdout",
     "output_type": "stream",
     "text": [
      "Scenario pkl file for the vehicle two cars in front of the ego vehicle_d770f926 saved successfully.\n",
      "/home/crdavids/Trinity-Sync/refbot/output/sm_predictions/val/d770f926-bca8-31de-9790-73fbb7b6a890/bicycle on intersection_d770f926_claude-3-5-sonnet_predictions.pkl\n",
      "Cached scenario prediction found\n"
     ]
    },
    {
     "name": "stderr",
     "output_type": "stream",
     "text": [
      "119/149:  30%|███       | 3/10 [01:30<02:54, 24.93s/it]"
     ]
    },
    {
     "name": "stdout",
     "output_type": "stream",
     "text": [
      "Scenario pkl file for bicycle on intersection_d770f926 saved successfully.\n",
      "/home/crdavids/Trinity-Sync/refbot/output/sm_predictions/val/d770f926-bca8-31de-9790-73fbb7b6a890/left lane change while there is a vehicle to the left_d770f926_claude-3-5-sonnet_predictions.pkl\n",
      "Cached scenario prediction found\n"
     ]
    },
    {
     "name": "stderr",
     "output_type": "stream",
     "text": [
      "119/149:  40%|████      | 4/10 [01:45<02:06, 21.15s/it]"
     ]
    },
    {
     "name": "stdout",
     "output_type": "stream",
     "text": [
      "Scenario pkl file for left lane change while there is a vehicle to the left_d770f926 saved successfully.\n",
      "/home/crdavids/Trinity-Sync/refbot/output/sm_predictions/val/d770f926-bca8-31de-9790-73fbb7b6a890/pedestrian near bollard_d770f926_claude-3-5-sonnet_predictions.pkl\n",
      "Cached scenario prediction found\n"
     ]
    },
    {
     "name": "stderr",
     "output_type": "stream",
     "text": [
      "119/149:  50%|█████     | 5/10 [02:08<01:48, 21.62s/it]"
     ]
    },
    {
     "name": "stdout",
     "output_type": "stream",
     "text": [
      "Scenario pkl file for pedestrian near bollard_d770f926 saved successfully.\n",
      "/home/crdavids/Trinity-Sync/refbot/output/sm_predictions/val/d770f926-bca8-31de-9790-73fbb7b6a890/moving vehicles that are not on the road_d770f926_claude-3-5-sonnet_predictions.pkl\n",
      "Cached scenario prediction found\n"
     ]
    },
    {
     "name": "stderr",
     "output_type": "stream",
     "text": [
      "119/149:  60%|██████    | 6/10 [02:19<01:11, 17.90s/it]"
     ]
    },
    {
     "name": "stdout",
     "output_type": "stream",
     "text": [
      "Scenario pkl file for moving vehicles that are not on the road_d770f926 saved successfully.\n",
      "/home/crdavids/Trinity-Sync/refbot/output/sm_predictions/val/d770f926-bca8-31de-9790-73fbb7b6a890/accelerating passenger vehicle_d770f926_claude-3-5-sonnet_predictions.pkl\n",
      "Cached scenario prediction found\n"
     ]
    },
    {
     "name": "stderr",
     "output_type": "stream",
     "text": [
      "119/149:  70%|███████   | 7/10 [02:29<00:46, 15.47s/it]"
     ]
    },
    {
     "name": "stdout",
     "output_type": "stream",
     "text": [
      "Scenario pkl file for accelerating passenger vehicle_d770f926 saved successfully.\n",
      "/home/crdavids/Trinity-Sync/refbot/output/sm_predictions/val/d770f926-bca8-31de-9790-73fbb7b6a890/passenger vehicle turning right_d770f926_claude-3-5-sonnet_predictions.pkl\n",
      "Cached scenario prediction found\n"
     ]
    },
    {
     "name": "stderr",
     "output_type": "stream",
     "text": [
      "119/149:  80%|████████  | 8/10 [02:37<00:26, 13.22s/it]"
     ]
    },
    {
     "name": "stdout",
     "output_type": "stream",
     "text": [
      "Scenario pkl file for passenger vehicle turning right_d770f926 saved successfully.\n",
      "/home/crdavids/Trinity-Sync/refbot/output/sm_predictions/val/d770f926-bca8-31de-9790-73fbb7b6a890/vehicle with a bicycle to its right_d770f926_claude-3-5-sonnet_predictions.pkl\n",
      "Cached scenario prediction found\n"
     ]
    },
    {
     "name": "stderr",
     "output_type": "stream",
     "text": [
      "119/149:  90%|█████████ | 9/10 [02:56<00:14, 14.81s/it]"
     ]
    },
    {
     "name": "stdout",
     "output_type": "stream",
     "text": [
      "Scenario pkl file for vehicle with a bicycle to its right_d770f926 saved successfully.\n",
      "/home/crdavids/Trinity-Sync/refbot/output/sm_predictions/val/d770f926-bca8-31de-9790-73fbb7b6a890/car turning right_d770f926_claude-3-5-sonnet_predictions.pkl\n",
      "Cached scenario prediction found\n"
     ]
    },
    {
     "name": "stderr",
     "output_type": "stream",
     "text": [
      "119/149: 100%|██████████| 10/10 [03:04<00:00, 18.45s/it]\n"
     ]
    },
    {
     "name": "stdout",
     "output_type": "stream",
     "text": [
      "Scenario pkl file for car turning right_d770f926 saved successfully.\n",
      "d89f80be-76d0-3853-8daa-76605cf4ce5e\n"
     ]
    },
    {
     "name": "stderr",
     "output_type": "stream",
     "text": [
      "120/149:   0%|          | 0/12 [00:00<?, ?it/s]"
     ]
    },
    {
     "name": "stdout",
     "output_type": "stream",
     "text": [
      "/home/crdavids/Trinity-Sync/refbot/output/sm_predictions/val/d89f80be-76d0-3853-8daa-76605cf4ce5e/bicyclist on intersection_d89f80be_claude-3-5-sonnet_predictions.pkl\n",
      "Cached scenario prediction found\n"
     ]
    },
    {
     "name": "stderr",
     "output_type": "stream",
     "text": [
      "120/149:   8%|▊         | 1/12 [00:09<01:45,  9.62s/it]"
     ]
    },
    {
     "name": "stdout",
     "output_type": "stream",
     "text": [
      "Scenario pkl file for bicyclist on intersection_d89f80be saved successfully.\n",
      "/home/crdavids/Trinity-Sync/refbot/output/sm_predictions/val/d89f80be-76d0-3853-8daa-76605cf4ce5e/car following closely behind bicyclist_d89f80be_claude-3-5-sonnet_predictions.pkl\n",
      "Cached scenario prediction found\n"
     ]
    },
    {
     "name": "stderr",
     "output_type": "stream",
     "text": [
      "120/149:  17%|█▋        | 2/12 [00:18<01:33,  9.32s/it]"
     ]
    },
    {
     "name": "stdout",
     "output_type": "stream",
     "text": [
      "Scenario pkl file for car following closely behind bicyclist_d89f80be saved successfully.\n",
      "/home/crdavids/Trinity-Sync/refbot/output/sm_predictions/val/d89f80be-76d0-3853-8daa-76605cf4ce5e/bicycle traveling alongside parked vehicles_d89f80be_claude-3-5-sonnet_predictions.pkl\n",
      "Cached scenario prediction found\n"
     ]
    },
    {
     "name": "stderr",
     "output_type": "stream",
     "text": [
      "120/149:  25%|██▌       | 3/12 [00:36<01:59, 13.32s/it]"
     ]
    },
    {
     "name": "stdout",
     "output_type": "stream",
     "text": [
      "Scenario pkl file for bicycle traveling alongside parked vehicles_d89f80be saved successfully.\n",
      "/home/crdavids/Trinity-Sync/refbot/output/sm_predictions/val/d89f80be-76d0-3853-8daa-76605cf4ce5e/bicyclist riding in vehicle lane_d89f80be_claude-3-5-sonnet_predictions.pkl\n",
      "Cached scenario prediction found\n"
     ]
    },
    {
     "name": "stderr",
     "output_type": "stream",
     "text": [
      "120/149:  33%|███▎      | 4/12 [00:47<01:36, 12.11s/it]"
     ]
    },
    {
     "name": "stdout",
     "output_type": "stream",
     "text": [
      "Scenario pkl file for bicyclist riding in vehicle lane_d89f80be saved successfully.\n",
      "/home/crdavids/Trinity-Sync/refbot/output/sm_predictions/val/d89f80be-76d0-3853-8daa-76605cf4ce5e/bicycle on intersection_d89f80be_claude-3-5-sonnet_predictions.pkl\n",
      "Cached scenario prediction found\n"
     ]
    },
    {
     "name": "stderr",
     "output_type": "stream",
     "text": [
      "120/149:  42%|████▏     | 5/12 [00:57<01:19, 11.38s/it]"
     ]
    },
    {
     "name": "stdout",
     "output_type": "stream",
     "text": [
      "Scenario pkl file for bicycle on intersection_d89f80be saved successfully.\n",
      "/home/crdavids/Trinity-Sync/refbot/output/sm_predictions/val/d89f80be-76d0-3853-8daa-76605cf4ce5e/ego vehicle near construction barrel_d89f80be_claude-3-5-sonnet_predictions.pkl\n",
      "Cached scenario prediction found\n"
     ]
    },
    {
     "name": "stderr",
     "output_type": "stream",
     "text": [
      "120/149:  50%|█████     | 6/12 [01:05<01:01, 10.22s/it]"
     ]
    },
    {
     "name": "stdout",
     "output_type": "stream",
     "text": [
      "Scenario pkl file for ego vehicle near construction barrel_d89f80be saved successfully.\n",
      "/home/crdavids/Trinity-Sync/refbot/output/sm_predictions/val/d89f80be-76d0-3853-8daa-76605cf4ce5e/pedestrian in front of a bicyclist who is to the left of a vehicle_d89f80be_claude-3-5-sonnet_predictions.pkl\n",
      "Cached scenario prediction found\n"
     ]
    },
    {
     "name": "stderr",
     "output_type": "stream",
     "text": [
      "120/149:  58%|█████▊    | 7/12 [01:18<00:55, 11.14s/it]"
     ]
    },
    {
     "name": "stdout",
     "output_type": "stream",
     "text": [
      "Scenario pkl file for pedestrian in front of a bicyclist who is to the left of a vehicle_d89f80be saved successfully.\n",
      "/home/crdavids/Trinity-Sync/refbot/output/sm_predictions/val/d89f80be-76d0-3853-8daa-76605cf4ce5e/construction item on road_d89f80be_claude-3-5-sonnet_predictions.pkl\n",
      "Cached scenario prediction found\n"
     ]
    },
    {
     "name": "stderr",
     "output_type": "stream",
     "text": [
      "120/149:  67%|██████▋   | 8/12 [01:27<00:42, 10.57s/it]"
     ]
    },
    {
     "name": "stdout",
     "output_type": "stream",
     "text": [
      "Scenario pkl file for construction item on road_d89f80be saved successfully.\n",
      "/home/crdavids/Trinity-Sync/refbot/output/sm_predictions/val/d89f80be-76d0-3853-8daa-76605cf4ce5e/pedestrian crossing at bollard_d89f80be_claude-3-5-sonnet_predictions.pkl\n",
      "Cached scenario prediction found\n"
     ]
    },
    {
     "name": "stderr",
     "output_type": "stream",
     "text": [
      "120/149:  75%|███████▌  | 9/12 [01:59<00:52, 17.35s/it]"
     ]
    },
    {
     "name": "stdout",
     "output_type": "stream",
     "text": [
      "Scenario pkl file for pedestrian crossing at bollard_d89f80be saved successfully.\n",
      "/home/crdavids/Trinity-Sync/refbot/output/sm_predictions/val/d89f80be-76d0-3853-8daa-76605cf4ce5e/bicycle by passing parked vehicle_d89f80be_claude-3-5-sonnet_predictions.pkl\n",
      "bicycle by passing parked vehicle definition saved to output/llm_scenario_predictions/claude-3-5-sonnet\n"
     ]
    },
    {
     "name": "stderr",
     "output_type": "stream",
     "text": [
      "120/149:  83%|████████▎ | 10/12 [02:19<00:35, 17.94s/it]"
     ]
    },
    {
     "name": "stdout",
     "output_type": "stream",
     "text": [
      "Scenario pkl file for bicycle passing parked vehicle_d89f80be saved successfully.\n",
      "/home/crdavids/Trinity-Sync/refbot/output/sm_predictions/val/d89f80be-76d0-3853-8daa-76605cf4ce5e/bicycle near traffic cone_d89f80be_claude-3-5-sonnet_predictions.pkl\n",
      "bicycle near traffic cone definition saved to output/llm_scenario_predictions/claude-3-5-sonnet\n"
     ]
    },
    {
     "name": "stderr",
     "output_type": "stream",
     "text": [
      "120/149:  92%|█████████▏| 11/12 [02:34<00:17, 17.19s/it]"
     ]
    },
    {
     "name": "stdout",
     "output_type": "stream",
     "text": [
      "Scenario pkl file for bicycle near traffic cone_d89f80be saved successfully.\n",
      "/home/crdavids/Trinity-Sync/refbot/output/sm_predictions/val/d89f80be-76d0-3853-8daa-76605cf4ce5e/bicycle traveling alongside construction indicators_d89f80be_claude-3-5-sonnet_predictions.pkl\n",
      "bicycle traveling alongside construction indicators definition saved to output/llm_scenario_predictions/claude-3-5-sonnet\n"
     ]
    },
    {
     "name": "stderr",
     "output_type": "stream",
     "text": [
      "120/149: 100%|██████████| 12/12 [02:53<00:00, 14.46s/it]\n"
     ]
    },
    {
     "name": "stdout",
     "output_type": "stream",
     "text": [
      "Scenario pkl file for bicycle traveling alongside construction indicators_d89f80be saved successfully.\n",
      "da036982-92bf-36a8-b880-4ccf4e20b74e\n"
     ]
    },
    {
     "name": "stderr",
     "output_type": "stream",
     "text": [
      "121/149:   0%|          | 0/10 [00:00<?, ?it/s]"
     ]
    },
    {
     "name": "stdout",
     "output_type": "stream",
     "text": [
      "/home/crdavids/Trinity-Sync/refbot/output/sm_predictions/val/da036982-92bf-36a8-b880-4ccf4e20b74e/accelerating vehicle changing lanes to the right_da036982_claude-3-5-sonnet_predictions.pkl\n",
      "Cached scenario prediction found\n"
     ]
    },
    {
     "name": "stderr",
     "output_type": "stream",
     "text": [
      "121/149:  10%|█         | 1/10 [00:15<02:15, 15.10s/it]"
     ]
    },
    {
     "name": "stdout",
     "output_type": "stream",
     "text": [
      "Scenario pkl file for accelerating vehicle changing lanes to the right_da036982 saved successfully.\n",
      "/home/crdavids/Trinity-Sync/refbot/output/sm_predictions/val/da036982-92bf-36a8-b880-4ccf4e20b74e/pedestrian crossing between bollards_da036982_claude-3-5-sonnet_predictions.pkl\n",
      "Cached scenario prediction found\n"
     ]
    },
    {
     "name": "stderr",
     "output_type": "stream",
     "text": [
      "121/149:  20%|██        | 2/10 [00:32<02:12, 16.53s/it]"
     ]
    },
    {
     "name": "stdout",
     "output_type": "stream",
     "text": [
      "Scenario pkl file for pedestrian crossing between bollards_da036982 saved successfully.\n",
      "/home/crdavids/Trinity-Sync/refbot/output/sm_predictions/val/da036982-92bf-36a8-b880-4ccf4e20b74e/vehicle two vehicles ahead is changing lanes_da036982_claude-3-5-sonnet_predictions.pkl\n",
      "Cached scenario prediction found\n"
     ]
    },
    {
     "name": "stderr",
     "output_type": "stream",
     "text": [
      "121/149:  30%|███       | 3/10 [00:48<01:54, 16.30s/it]"
     ]
    },
    {
     "name": "stdout",
     "output_type": "stream",
     "text": [
      "Scenario pkl file for vehicle two vehicles ahead is changing lanes_da036982 saved successfully.\n",
      "/home/crdavids/Trinity-Sync/refbot/output/sm_predictions/val/da036982-92bf-36a8-b880-4ccf4e20b74e/vehicle two cars ahead is changing lanes_da036982_claude-3-5-sonnet_predictions.pkl\n",
      "Cached scenario prediction found\n"
     ]
    },
    {
     "name": "stderr",
     "output_type": "stream",
     "text": [
      "121/149:  40%|████      | 4/10 [01:07<01:43, 17.28s/it]"
     ]
    },
    {
     "name": "stdout",
     "output_type": "stream",
     "text": [
      "Scenario pkl file for vehicle two cars ahead is changing lanes_da036982 saved successfully.\n",
      "/home/crdavids/Trinity-Sync/refbot/output/sm_predictions/val/da036982-92bf-36a8-b880-4ccf4e20b74e/accelerating passenger vehicle_da036982_claude-3-5-sonnet_predictions.pkl\n",
      "Cached scenario prediction found\n"
     ]
    },
    {
     "name": "stderr",
     "output_type": "stream",
     "text": [
      "121/149:  50%|█████     | 5/10 [01:19<01:16, 15.37s/it]"
     ]
    },
    {
     "name": "stdout",
     "output_type": "stream",
     "text": [
      "Scenario pkl file for accelerating passenger vehicle_da036982 saved successfully.\n",
      "/home/crdavids/Trinity-Sync/refbot/output/sm_predictions/val/da036982-92bf-36a8-b880-4ccf4e20b74e/pedestrian near bollard_da036982_claude-3-5-sonnet_predictions.pkl\n",
      "Cached scenario prediction found\n"
     ]
    },
    {
     "name": "stderr",
     "output_type": "stream",
     "text": [
      "121/149:  60%|██████    | 6/10 [01:36<01:04, 16.11s/it]"
     ]
    },
    {
     "name": "stdout",
     "output_type": "stream",
     "text": [
      "Scenario pkl file for pedestrian near bollard_da036982 saved successfully.\n",
      "/home/crdavids/Trinity-Sync/refbot/output/sm_predictions/val/da036982-92bf-36a8-b880-4ccf4e20b74e/two cars back from the ego vehicle_da036982_claude-3-5-sonnet_predictions.pkl\n",
      "Cached scenario prediction found\n"
     ]
    },
    {
     "name": "stderr",
     "output_type": "stream",
     "text": [
      "121/149:  70%|███████   | 7/10 [01:59<00:54, 18.07s/it]"
     ]
    },
    {
     "name": "stdout",
     "output_type": "stream",
     "text": [
      "Scenario pkl file for two cars back from the ego vehicle_da036982 saved successfully.\n",
      "/home/crdavids/Trinity-Sync/refbot/output/sm_predictions/val/da036982-92bf-36a8-b880-4ccf4e20b74e/vehicle behind another vehicle that has a pedestrian on its right side_da036982_claude-3-5-sonnet_predictions.pkl\n",
      "Cached scenario prediction found\n"
     ]
    },
    {
     "name": "stderr",
     "output_type": "stream",
     "text": [
      "121/149:  80%|████████  | 8/10 [03:02<01:05, 32.57s/it]"
     ]
    },
    {
     "name": "stdout",
     "output_type": "stream",
     "text": [
      "Scenario pkl file for vehicle behind another vehicle that has a pedestrian on its right side_da036982 saved successfully.\n",
      "/home/crdavids/Trinity-Sync/refbot/output/sm_predictions/val/da036982-92bf-36a8-b880-4ccf4e20b74e/ego vehicle in dense traffic with lane-changing vehicles_da036982_claude-3-5-sonnet_predictions.pkl\n",
      "Cached scenario prediction found\n"
     ]
    },
    {
     "name": "stderr",
     "output_type": "stream",
     "text": [
      "121/149:  90%|█████████ | 9/10 [03:16<00:26, 26.77s/it]"
     ]
    },
    {
     "name": "stdout",
     "output_type": "stream",
     "text": [
      "Scenario pkl file for ego vehicle in dense traffic with lane-changing vehicles_da036982 saved successfully.\n",
      "/home/crdavids/Trinity-Sync/refbot/output/sm_predictions/val/da036982-92bf-36a8-b880-4ccf4e20b74e/at least active 2 vehicles within 15 meters behind ego vehicle_da036982_claude-3-5-sonnet_predictions.pkl\n",
      "at least active 2 vehicles within 15 meters behind ego vehicle definition saved to output/llm_scenario_predictions/claude-3-5-sonnet\n"
     ]
    },
    {
     "name": "stderr",
     "output_type": "stream",
     "text": [
      "121/149: 100%|██████████| 10/10 [03:33<00:00, 21.34s/it]\n"
     ]
    },
    {
     "name": "stdout",
     "output_type": "stream",
     "text": [
      "Scenario pkl file for at least 2 active vehicles within 15 meters behind ego vehicle_da036982 saved successfully.\n",
      "dafe14f5-825c-4e7a-9009-6dfdfdd5b030\n"
     ]
    },
    {
     "name": "stderr",
     "output_type": "stream",
     "text": [
      "122/149:   0%|          | 0/10 [00:00<?, ?it/s]"
     ]
    },
    {
     "name": "stdout",
     "output_type": "stream",
     "text": [
      "/home/crdavids/Trinity-Sync/refbot/output/sm_predictions/val/dafe14f5-825c-4e7a-9009-6dfdfdd5b030/construction item on road_dafe14f5_claude-3-5-sonnet_predictions.pkl\n",
      "Cached scenario prediction found\n"
     ]
    },
    {
     "name": "stderr",
     "output_type": "stream",
     "text": [
      "122/149:  10%|█         | 1/10 [00:08<01:20,  8.95s/it]"
     ]
    },
    {
     "name": "stdout",
     "output_type": "stream",
     "text": [
      "Scenario pkl file for construction item on road_dafe14f5 saved successfully.\n",
      "/home/crdavids/Trinity-Sync/refbot/output/sm_predictions/val/dafe14f5-825c-4e7a-9009-6dfdfdd5b030/bicycle traveling with vehicle traffic_dafe14f5_claude-3-5-sonnet_predictions.pkl\n",
      "Cached scenario prediction found\n"
     ]
    },
    {
     "name": "stderr",
     "output_type": "stream",
     "text": [
      "122/149:  20%|██        | 2/10 [01:30<06:52, 51.54s/it]"
     ]
    },
    {
     "name": "stdout",
     "output_type": "stream",
     "text": [
      "Scenario pkl file for bicycle traveling with vehicle traffic_dafe14f5 saved successfully.\n",
      "/home/crdavids/Trinity-Sync/refbot/output/sm_predictions/val/dafe14f5-825c-4e7a-9009-6dfdfdd5b030/pedestrian facing toward the bus_dafe14f5_claude-3-5-sonnet_predictions.pkl\n",
      "Cached scenario prediction found\n"
     ]
    },
    {
     "name": "stderr",
     "output_type": "stream",
     "text": [
      "122/149:  30%|███       | 3/10 [01:40<03:47, 32.46s/it]"
     ]
    },
    {
     "name": "stdout",
     "output_type": "stream",
     "text": [
      "Scenario pkl file for pedestrian facing toward the bus_dafe14f5 saved successfully.\n",
      "/home/crdavids/Trinity-Sync/refbot/output/sm_predictions/val/dafe14f5-825c-4e7a-9009-6dfdfdd5b030/bicycle between two vehicles traveling in same direction_dafe14f5_claude-3-5-sonnet_predictions.pkl\n",
      "Cached scenario prediction found\n"
     ]
    },
    {
     "name": "stderr",
     "output_type": "stream",
     "text": [
      "122/149:  40%|████      | 4/10 [01:48<02:17, 22.98s/it]"
     ]
    },
    {
     "name": "stdout",
     "output_type": "stream",
     "text": [
      "Scenario pkl file for bicycle between two vehicles traveling in same direction_dafe14f5 saved successfully.\n",
      "/home/crdavids/Trinity-Sync/refbot/output/sm_predictions/val/dafe14f5-825c-4e7a-9009-6dfdfdd5b030/bicyclist riding in vehicle lane_dafe14f5_claude-3-5-sonnet_predictions.pkl\n",
      "Cached scenario prediction found\n"
     ]
    },
    {
     "name": "stderr",
     "output_type": "stream",
     "text": [
      "122/149:  50%|█████     | 5/10 [01:56<01:28, 17.68s/it]"
     ]
    },
    {
     "name": "stdout",
     "output_type": "stream",
     "text": [
      "Scenario pkl file for bicyclist riding in vehicle lane_dafe14f5 saved successfully.\n",
      "/home/crdavids/Trinity-Sync/refbot/output/sm_predictions/val/dafe14f5-825c-4e7a-9009-6dfdfdd5b030/ego vehicle changing lanes to the left_dafe14f5_claude-3-5-sonnet_predictions.pkl\n",
      "Cached scenario prediction found\n"
     ]
    },
    {
     "name": "stderr",
     "output_type": "stream",
     "text": [
      "122/149:  60%|██████    | 6/10 [02:03<00:56, 14.11s/it]"
     ]
    },
    {
     "name": "stdout",
     "output_type": "stream",
     "text": [
      "Scenario pkl file for ego vehicle changing lanes to the left_dafe14f5 saved successfully.\n",
      "/home/crdavids/Trinity-Sync/refbot/output/sm_predictions/val/dafe14f5-825c-4e7a-9009-6dfdfdd5b030/bicycle facing toward a vehicle_dafe14f5_claude-3-5-sonnet_predictions.pkl\n",
      "Cached scenario prediction found\n"
     ]
    },
    {
     "name": "stderr",
     "output_type": "stream",
     "text": [
      "122/149:  70%|███████   | 7/10 [02:11<00:35, 11.86s/it]"
     ]
    },
    {
     "name": "stdout",
     "output_type": "stream",
     "text": [
      "Scenario pkl file for bicycle facing toward a vehicle_dafe14f5 saved successfully.\n",
      "/home/crdavids/Trinity-Sync/refbot/output/sm_predictions/val/dafe14f5-825c-4e7a-9009-6dfdfdd5b030/vehicle with a bicycle to its right_dafe14f5_claude-3-5-sonnet_predictions.pkl\n",
      "Cached scenario prediction found\n"
     ]
    },
    {
     "name": "stderr",
     "output_type": "stream",
     "text": [
      "122/149:  80%|████████  | 8/10 [02:22<00:23, 11.76s/it]"
     ]
    },
    {
     "name": "stdout",
     "output_type": "stream",
     "text": [
      "Scenario pkl file for vehicle with a bicycle to its right_dafe14f5 saved successfully.\n",
      "/home/crdavids/Trinity-Sync/refbot/output/sm_predictions/val/dafe14f5-825c-4e7a-9009-6dfdfdd5b030/bicycle facing toward moving traffic_dafe14f5_claude-3-5-sonnet_predictions.pkl\n",
      "Cached scenario prediction found\n"
     ]
    },
    {
     "name": "stderr",
     "output_type": "stream",
     "text": [
      "122/149:  90%|█████████ | 9/10 [02:32<00:11, 11.11s/it]"
     ]
    },
    {
     "name": "stdout",
     "output_type": "stream",
     "text": [
      "Scenario pkl file for bicycle facing toward moving traffic_dafe14f5 saved successfully.\n",
      "/home/crdavids/Trinity-Sync/refbot/output/sm_predictions/val/dafe14f5-825c-4e7a-9009-6dfdfdd5b030/ego vehicle near construction barrel_dafe14f5_claude-3-5-sonnet_predictions.pkl\n",
      "Cached scenario prediction found\n"
     ]
    },
    {
     "name": "stderr",
     "output_type": "stream",
     "text": [
      "122/149: 100%|██████████| 10/10 [02:38<00:00, 15.84s/it]\n"
     ]
    },
    {
     "name": "stdout",
     "output_type": "stream",
     "text": [
      "Scenario pkl file for ego vehicle near construction barrel_dafe14f5 saved successfully.\n",
      "dc9077b9-2fe0-3d18-9b97-8067ff090874\n"
     ]
    },
    {
     "name": "stderr",
     "output_type": "stream",
     "text": [
      "123/149:   0%|          | 0/11 [00:00<?, ?it/s]"
     ]
    },
    {
     "name": "stdout",
     "output_type": "stream",
     "text": [
      "/home/crdavids/Trinity-Sync/refbot/output/sm_predictions/val/dc9077b9-2fe0-3d18-9b97-8067ff090874/ego vehicle near construction barrel_dc9077b9_claude-3-5-sonnet_predictions.pkl\n",
      "Cached scenario prediction found\n"
     ]
    },
    {
     "name": "stderr",
     "output_type": "stream",
     "text": [
      "123/149:   9%|▉         | 1/11 [00:04<00:49,  4.98s/it]"
     ]
    },
    {
     "name": "stdout",
     "output_type": "stream",
     "text": [
      "Scenario pkl file for ego vehicle near construction barrel_dc9077b9 saved successfully.\n",
      "/home/crdavids/Trinity-Sync/refbot/output/sm_predictions/val/dc9077b9-2fe0-3d18-9b97-8067ff090874/pedestrians over 30 meters away_dc9077b9_claude-3-5-sonnet_predictions.pkl\n",
      "Cached scenario prediction found\n"
     ]
    },
    {
     "name": "stderr",
     "output_type": "stream",
     "text": [
      "123/149:  18%|█▊        | 2/11 [00:09<00:40,  4.49s/it]"
     ]
    },
    {
     "name": "stdout",
     "output_type": "stream",
     "text": [
      "Scenario pkl file for pedestrians over 30 meters away_dc9077b9 saved successfully.\n",
      "Default scenario prediction correctly generated.\n",
      "/home/crdavids/Trinity-Sync/refbot/output/sm_predictions/val/dc9077b9-2fe0-3d18-9b97-8067ff090874/bicycle traveling with vehicle traffic_dc9077b9_claude-3-5-sonnet_predictions.pkl\n",
      "Cached scenario prediction found\n"
     ]
    },
    {
     "name": "stderr",
     "output_type": "stream",
     "text": [
      "123/149:  27%|██▋       | 3/11 [00:28<01:28, 11.06s/it]"
     ]
    },
    {
     "name": "stdout",
     "output_type": "stream",
     "text": [
      "Scenario pkl file for bicycle traveling with vehicle traffic_dc9077b9 saved successfully.\n",
      "/home/crdavids/Trinity-Sync/refbot/output/sm_predictions/val/dc9077b9-2fe0-3d18-9b97-8067ff090874/vehicle to the back right of the ego vehicle_dc9077b9_claude-3-5-sonnet_predictions.pkl\n",
      "Cached scenario prediction found\n"
     ]
    },
    {
     "name": "stderr",
     "output_type": "stream",
     "text": [
      "123/149:  36%|███▋      | 4/11 [00:33<01:02,  8.91s/it]"
     ]
    },
    {
     "name": "stdout",
     "output_type": "stream",
     "text": [
      "Scenario pkl file for vehicle to the back right of the ego vehicle_dc9077b9 saved successfully.\n",
      "/home/crdavids/Trinity-Sync/refbot/output/sm_predictions/val/dc9077b9-2fe0-3d18-9b97-8067ff090874/vehicle facing toward parked vehicles_dc9077b9_claude-3-5-sonnet_predictions.pkl\n",
      "Cached scenario prediction found\n"
     ]
    },
    {
     "name": "stderr",
     "output_type": "stream",
     "text": [
      "123/149:  45%|████▌     | 5/11 [00:40<00:48,  8.13s/it]"
     ]
    },
    {
     "name": "stdout",
     "output_type": "stream",
     "text": [
      "Scenario pkl file for vehicle facing toward parked vehicles_dc9077b9 saved successfully.\n",
      "/home/crdavids/Trinity-Sync/refbot/output/sm_predictions/val/dc9077b9-2fe0-3d18-9b97-8067ff090874/vehicles within view of another vehicle_dc9077b9_claude-3-5-sonnet_predictions.pkl\n",
      "Cached scenario prediction found\n"
     ]
    },
    {
     "name": "stderr",
     "output_type": "stream",
     "text": [
      "123/149:  55%|█████▍    | 6/11 [00:53<00:49,  9.85s/it]"
     ]
    },
    {
     "name": "stdout",
     "output_type": "stream",
     "text": [
      "Scenario pkl file for vehicles within view of another vehicle_dc9077b9 saved successfully.\n",
      "/home/crdavids/Trinity-Sync/refbot/output/sm_predictions/val/dc9077b9-2fe0-3d18-9b97-8067ff090874/bicycle sharing lane as a regular vehicle_dc9077b9_claude-3-5-sonnet_predictions.pkl\n",
      "bicycle sharing lane as a regular vehicle definition saved to output/llm_scenario_predictions/claude-3-5-sonnet\n"
     ]
    },
    {
     "name": "stderr",
     "output_type": "stream",
     "text": [
      "123/149:  64%|██████▎   | 7/11 [01:10<00:49, 12.27s/it]"
     ]
    },
    {
     "name": "stdout",
     "output_type": "stream",
     "text": [
      "Scenario pkl file for bicycle sharing lane with regular vehicle_dc9077b9 saved successfully.\n",
      "/home/crdavids/Trinity-Sync/refbot/output/sm_predictions/val/dc9077b9-2fe0-3d18-9b97-8067ff090874/bicycle facing toward a vehicle_dc9077b9_claude-3-5-sonnet_predictions.pkl\n",
      "Cached scenario prediction found\n"
     ]
    },
    {
     "name": "stderr",
     "output_type": "stream",
     "text": [
      "123/149:  73%|███████▎  | 8/11 [01:15<00:29,  9.89s/it]"
     ]
    },
    {
     "name": "stdout",
     "output_type": "stream",
     "text": [
      "Scenario pkl file for bicycle facing toward a vehicle_dc9077b9 saved successfully.\n",
      "/home/crdavids/Trinity-Sync/refbot/output/sm_predictions/val/dc9077b9-2fe0-3d18-9b97-8067ff090874/bicycle in same lane as a vehicle_dc9077b9_claude-3-5-sonnet_predictions.pkl\n",
      "Cached scenario prediction found\n"
     ]
    },
    {
     "name": "stderr",
     "output_type": "stream",
     "text": [
      "123/149:  82%|████████▏ | 9/11 [01:26<00:20, 10.14s/it]"
     ]
    },
    {
     "name": "stdout",
     "output_type": "stream",
     "text": [
      "Scenario pkl file for bicycle in same lane as a vehicle_dc9077b9 saved successfully.\n",
      "/home/crdavids/Trinity-Sync/refbot/output/sm_predictions/val/dc9077b9-2fe0-3d18-9b97-8067ff090874/bicycle in vehicle lane with vehicle_dc9077b9_claude-3-5-sonnet_predictions.pkl\n",
      "Cached scenario prediction found\n"
     ]
    },
    {
     "name": "stderr",
     "output_type": "stream",
     "text": [
      "123/149:  91%|█████████ | 10/11 [01:41<00:11, 11.69s/it]"
     ]
    },
    {
     "name": "stdout",
     "output_type": "stream",
     "text": [
      "Scenario pkl file for bicycle in vehicle lane with vehicle_dc9077b9 saved successfully.\n",
      "/home/crdavids/Trinity-Sync/refbot/output/sm_predictions/val/dc9077b9-2fe0-3d18-9b97-8067ff090874/vehicle at a stop sign_dc9077b9_claude-3-5-sonnet_predictions.pkl\n",
      "Cached scenario prediction found\n"
     ]
    },
    {
     "name": "stderr",
     "output_type": "stream",
     "text": [
      "123/149: 100%|██████████| 11/11 [01:54<00:00, 10.42s/it]\n"
     ]
    },
    {
     "name": "stdout",
     "output_type": "stream",
     "text": [
      "Scenario pkl file for vehicle at a stop sign_dc9077b9 saved successfully.\n",
      "de56b100-508b-3479-81fe-735349f8e8de\n"
     ]
    },
    {
     "name": "stderr",
     "output_type": "stream",
     "text": [
      "124/149:   0%|          | 0/10 [00:00<?, ?it/s]"
     ]
    },
    {
     "name": "stdout",
     "output_type": "stream",
     "text": [
      "/home/crdavids/Trinity-Sync/refbot/output/sm_predictions/val/de56b100-508b-3479-81fe-735349f8e8de/vehicle behind another vehicle that has a pedestrian on its right side_de56b100_claude-3-5-sonnet_predictions.pkl\n",
      "Cached scenario prediction found\n"
     ]
    },
    {
     "name": "stderr",
     "output_type": "stream",
     "text": [
      "124/149:  10%|█         | 1/10 [00:31<04:44, 31.61s/it]"
     ]
    },
    {
     "name": "stdout",
     "output_type": "stream",
     "text": [
      "Scenario pkl file for vehicle behind another vehicle that has a pedestrian on its right side_de56b100 saved successfully.\n",
      "/home/crdavids/Trinity-Sync/refbot/output/sm_predictions/val/de56b100-508b-3479-81fe-735349f8e8de/left lane change while there is a vehicle to the left_de56b100_claude-3-5-sonnet_predictions.pkl\n",
      "Cached scenario prediction found\n"
     ]
    },
    {
     "name": "stderr",
     "output_type": "stream",
     "text": [
      "124/149:  20%|██        | 2/10 [00:42<02:36, 19.53s/it]"
     ]
    },
    {
     "name": "stdout",
     "output_type": "stream",
     "text": [
      "Scenario pkl file for left lane change while there is a vehicle to the left_de56b100 saved successfully.\n",
      "/home/crdavids/Trinity-Sync/refbot/output/sm_predictions/val/de56b100-508b-3479-81fe-735349f8e8de/any vehicle in front of stop sign_de56b100_claude-3-5-sonnet_predictions.pkl\n",
      "Cached scenario prediction found\n"
     ]
    },
    {
     "name": "stderr",
     "output_type": "stream",
     "text": [
      "124/149:  30%|███       | 3/10 [01:09<02:38, 22.68s/it]"
     ]
    },
    {
     "name": "stdout",
     "output_type": "stream",
     "text": [
      "Scenario pkl file for any vehicle in front of stop sign_de56b100 saved successfully.\n",
      "Default scenario prediction correctly generated.\n",
      "/home/crdavids/Trinity-Sync/refbot/output/sm_predictions/val/de56b100-508b-3479-81fe-735349f8e8de/pedestrian near construction cone_de56b100_claude-3-5-sonnet_predictions.pkl\n",
      "Cached scenario prediction found\n"
     ]
    },
    {
     "name": "stderr",
     "output_type": "stream",
     "text": [
      "124/149:  40%|████      | 4/10 [01:22<01:53, 18.85s/it]"
     ]
    },
    {
     "name": "stdout",
     "output_type": "stream",
     "text": [
      "Scenario pkl file for pedestrian near construction cone_de56b100 saved successfully.\n",
      "/home/crdavids/Trinity-Sync/refbot/output/sm_predictions/val/de56b100-508b-3479-81fe-735349f8e8de/ego vehicle near construction cone_de56b100_claude-3-5-sonnet_predictions.pkl\n",
      "Cached scenario prediction found\n"
     ]
    },
    {
     "name": "stderr",
     "output_type": "stream",
     "text": [
      "124/149:  50%|█████     | 5/10 [01:29<01:12, 14.55s/it]"
     ]
    },
    {
     "name": "stdout",
     "output_type": "stream",
     "text": [
      "Scenario pkl file for ego vehicle near construction cone_de56b100 saved successfully.\n",
      "/home/crdavids/Trinity-Sync/refbot/output/sm_predictions/val/de56b100-508b-3479-81fe-735349f8e8de/oncoming vehicle changing lanes_de56b100_claude-3-5-sonnet_predictions.pkl\n",
      "Cached scenario prediction found\n"
     ]
    },
    {
     "name": "stderr",
     "output_type": "stream",
     "text": [
      "124/149:  60%|██████    | 6/10 [01:37<00:49, 12.48s/it]"
     ]
    },
    {
     "name": "stdout",
     "output_type": "stream",
     "text": [
      "Scenario pkl file for oncoming vehicle changing lanes_de56b100 saved successfully.\n",
      "/home/crdavids/Trinity-Sync/refbot/output/sm_predictions/val/de56b100-508b-3479-81fe-735349f8e8de/making a left lane change while there is a vehicle to the right_de56b100_claude-3-5-sonnet_predictions.pkl\n",
      "Cached scenario prediction found\n"
     ]
    },
    {
     "name": "stderr",
     "output_type": "stream",
     "text": [
      "124/149:  70%|███████   | 7/10 [01:45<00:32, 10.88s/it]"
     ]
    },
    {
     "name": "stdout",
     "output_type": "stream",
     "text": [
      "Scenario pkl file for making a left lane change while there is a vehicle to the right_de56b100 saved successfully.\n",
      "/home/crdavids/Trinity-Sync/refbot/output/sm_predictions/val/de56b100-508b-3479-81fe-735349f8e8de/accelerating passenger vehicle_de56b100_claude-3-5-sonnet_predictions.pkl\n",
      "Cached scenario prediction found\n"
     ]
    },
    {
     "name": "stderr",
     "output_type": "stream",
     "text": [
      "124/149:  80%|████████  | 8/10 [01:51<00:18,  9.50s/it]"
     ]
    },
    {
     "name": "stdout",
     "output_type": "stream",
     "text": [
      "Scenario pkl file for accelerating passenger vehicle_de56b100 saved successfully.\n",
      "/home/crdavids/Trinity-Sync/refbot/output/sm_predictions/val/de56b100-508b-3479-81fe-735349f8e8de/ego vehicle changing lanes to the left_de56b100_claude-3-5-sonnet_predictions.pkl\n",
      "Cached scenario prediction found\n"
     ]
    },
    {
     "name": "stderr",
     "output_type": "stream",
     "text": [
      "124/149:  90%|█████████ | 9/10 [01:56<00:08,  8.16s/it]"
     ]
    },
    {
     "name": "stdout",
     "output_type": "stream",
     "text": [
      "Scenario pkl file for ego vehicle changing lanes to the left_de56b100 saved successfully.\n",
      "/home/crdavids/Trinity-Sync/refbot/output/sm_predictions/val/de56b100-508b-3479-81fe-735349f8e8de/a group of people_de56b100_claude-3-5-sonnet_predictions.pkl\n",
      "Cached scenario prediction found\n"
     ]
    },
    {
     "name": "stderr",
     "output_type": "stream",
     "text": [
      "124/149: 100%|██████████| 10/10 [02:08<00:00, 12.81s/it]\n"
     ]
    },
    {
     "name": "stdout",
     "output_type": "stream",
     "text": [
      "Scenario pkl file for a group of people_de56b100 saved successfully.\n",
      "de9cf513-a0cd-3389-bc79-3f9f6f261317\n"
     ]
    },
    {
     "name": "stderr",
     "output_type": "stream",
     "text": [
      "125/149:   0%|          | 0/10 [00:00<?, ?it/s]"
     ]
    },
    {
     "name": "stdout",
     "output_type": "stream",
     "text": [
      "/home/crdavids/Trinity-Sync/refbot/output/sm_predictions/val/de9cf513-a0cd-3389-bc79-3f9f6f261317/accelerating truck_de9cf513_claude-3-5-sonnet_predictions.pkl\n",
      "Cached scenario prediction found\n"
     ]
    },
    {
     "name": "stderr",
     "output_type": "stream",
     "text": [
      "125/149:  10%|█         | 1/10 [00:06<00:59,  6.62s/it]"
     ]
    },
    {
     "name": "stdout",
     "output_type": "stream",
     "text": [
      "Scenario pkl file for accelerating truck_de9cf513 saved successfully.\n",
      "/home/crdavids/Trinity-Sync/refbot/output/sm_predictions/val/de9cf513-a0cd-3389-bc79-3f9f6f261317/vehicle two vehicles ahead is changing lanes_de9cf513_claude-3-5-sonnet_predictions.pkl\n",
      "Cached scenario prediction found\n"
     ]
    },
    {
     "name": "stderr",
     "output_type": "stream",
     "text": [
      "125/149:  20%|██        | 2/10 [00:18<01:18,  9.82s/it]"
     ]
    },
    {
     "name": "stdout",
     "output_type": "stream",
     "text": [
      "Scenario pkl file for vehicle two vehicles ahead is changing lanes_de9cf513 saved successfully.\n",
      "/home/crdavids/Trinity-Sync/refbot/output/sm_predictions/val/de9cf513-a0cd-3389-bc79-3f9f6f261317/vehicle two cars ahead is braking_de9cf513_claude-3-5-sonnet_predictions.pkl\n",
      "Cached scenario prediction found\n"
     ]
    },
    {
     "name": "stderr",
     "output_type": "stream",
     "text": [
      "125/149:  30%|███       | 3/10 [00:56<02:39, 22.78s/it]"
     ]
    },
    {
     "name": "stdout",
     "output_type": "stream",
     "text": [
      "Scenario pkl file for vehicle two cars ahead is braking_de9cf513 saved successfully.\n",
      "/home/crdavids/Trinity-Sync/refbot/output/sm_predictions/val/de9cf513-a0cd-3389-bc79-3f9f6f261317/the vehicle two cars in front of the ego vehicle_de9cf513_claude-3-5-sonnet_predictions.pkl\n",
      "Cached scenario prediction found\n"
     ]
    },
    {
     "name": "stderr",
     "output_type": "stream",
     "text": [
      "125/149:  40%|████      | 4/10 [01:23<02:26, 24.41s/it]"
     ]
    },
    {
     "name": "stdout",
     "output_type": "stream",
     "text": [
      "Scenario pkl file for the vehicle two cars in front of the ego vehicle_de9cf513 saved successfully.\n",
      "/home/crdavids/Trinity-Sync/refbot/output/sm_predictions/val/de9cf513-a0cd-3389-bc79-3f9f6f261317/accelerating vehicle changing lanes to the right_de9cf513_claude-3-5-sonnet_predictions.pkl\n",
      "Cached scenario prediction found\n"
     ]
    },
    {
     "name": "stderr",
     "output_type": "stream",
     "text": [
      "125/149:  50%|█████     | 5/10 [01:33<01:35, 19.19s/it]"
     ]
    },
    {
     "name": "stdout",
     "output_type": "stream",
     "text": [
      "Scenario pkl file for accelerating vehicle changing lanes to the right_de9cf513 saved successfully.\n",
      "/home/crdavids/Trinity-Sync/refbot/output/sm_predictions/val/de9cf513-a0cd-3389-bc79-3f9f6f261317/vehicle approaching multiple pedestrians at crosswalk_de9cf513_claude-3-5-sonnet_predictions.pkl\n",
      "Cached scenario prediction found\n"
     ]
    },
    {
     "name": "stderr",
     "output_type": "stream",
     "text": [
      "125/149:  60%|██████    | 6/10 [01:42<01:02, 15.64s/it]"
     ]
    },
    {
     "name": "stdout",
     "output_type": "stream",
     "text": [
      "Scenario pkl file for vehicle approaching multiple pedestrians at crosswalk_de9cf513 saved successfully.\n",
      "/home/crdavids/Trinity-Sync/refbot/output/sm_predictions/val/de9cf513-a0cd-3389-bc79-3f9f6f261317/vehicle two cars ahead is changing lanes_de9cf513_claude-3-5-sonnet_predictions.pkl\n",
      "Cached scenario prediction found\n"
     ]
    },
    {
     "name": "stderr",
     "output_type": "stream",
     "text": [
      "125/149:  70%|███████   | 7/10 [01:55<00:44, 14.67s/it]"
     ]
    },
    {
     "name": "stdout",
     "output_type": "stream",
     "text": [
      "Scenario pkl file for vehicle two cars ahead is changing lanes_de9cf513 saved successfully.\n",
      "/home/crdavids/Trinity-Sync/refbot/output/sm_predictions/val/de9cf513-a0cd-3389-bc79-3f9f6f261317/a group of people_de9cf513_claude-3-5-sonnet_predictions.pkl\n",
      "Cached scenario prediction found\n"
     ]
    },
    {
     "name": "stderr",
     "output_type": "stream",
     "text": [
      "125/149:  80%|████████  | 8/10 [02:31<00:42, 21.45s/it]"
     ]
    },
    {
     "name": "stdout",
     "output_type": "stream",
     "text": [
      "Scenario pkl file for a group of people_de9cf513 saved successfully.\n",
      "/home/crdavids/Trinity-Sync/refbot/output/sm_predictions/val/de9cf513-a0cd-3389-bc79-3f9f6f261317/ego vehicle following vehicle being overtaken on right_de9cf513_claude-3-5-sonnet_predictions.pkl\n",
      "Cached scenario prediction found\n"
     ]
    },
    {
     "name": "stderr",
     "output_type": "stream",
     "text": [
      "125/149:  90%|█████████ | 9/10 [02:44<00:18, 18.98s/it]"
     ]
    },
    {
     "name": "stdout",
     "output_type": "stream",
     "text": [
      "Scenario pkl file for ego vehicle following vehicle being overtaken on right_de9cf513 saved successfully.\n",
      "/home/crdavids/Trinity-Sync/refbot/output/sm_predictions/val/de9cf513-a0cd-3389-bc79-3f9f6f261317/vehicle to the back right of the ego vehicle_de9cf513_claude-3-5-sonnet_predictions.pkl\n",
      "Cached scenario prediction found\n"
     ]
    },
    {
     "name": "stderr",
     "output_type": "stream",
     "text": [
      "125/149: 100%|██████████| 10/10 [02:55<00:00, 17.52s/it]\n"
     ]
    },
    {
     "name": "stdout",
     "output_type": "stream",
     "text": [
      "Scenario pkl file for vehicle to the back right of the ego vehicle_de9cf513 saved successfully.\n",
      "ded5ef6e-46ea-3a66-9180-18a6fa0a2db4\n"
     ]
    },
    {
     "name": "stderr",
     "output_type": "stream",
     "text": [
      "126/149:   0%|          | 0/10 [00:00<?, ?it/s]"
     ]
    },
    {
     "name": "stdout",
     "output_type": "stream",
     "text": [
      "/home/crdavids/Trinity-Sync/refbot/output/sm_predictions/val/ded5ef6e-46ea-3a66-9180-18a6fa0a2db4/ego vehicle changing lanes to the left_ded5ef6e_claude-3-5-sonnet_predictions.pkl\n",
      "Cached scenario prediction found\n"
     ]
    },
    {
     "name": "stderr",
     "output_type": "stream",
     "text": [
      "126/149:  10%|█         | 1/10 [00:05<00:46,  5.17s/it]"
     ]
    },
    {
     "name": "stdout",
     "output_type": "stream",
     "text": [
      "Scenario pkl file for ego vehicle changing lanes to the left_ded5ef6e saved successfully.\n",
      "/home/crdavids/Trinity-Sync/refbot/output/sm_predictions/val/ded5ef6e-46ea-3a66-9180-18a6fa0a2db4/vehicle with multiple pedestrians to the left_ded5ef6e_claude-3-5-sonnet_predictions.pkl\n",
      "Cached scenario prediction found\n"
     ]
    },
    {
     "name": "stderr",
     "output_type": "stream",
     "text": [
      "126/149:  20%|██        | 2/10 [00:18<01:17,  9.69s/it]"
     ]
    },
    {
     "name": "stdout",
     "output_type": "stream",
     "text": [
      "Scenario pkl file for vehicle with multiple pedestrians to the left_ded5ef6e saved successfully.\n",
      "/home/crdavids/Trinity-Sync/refbot/output/sm_predictions/val/ded5ef6e-46ea-3a66-9180-18a6fa0a2db4/pedestrian facing toward ego vehicle_ded5ef6e_claude-3-5-sonnet_predictions.pkl\n",
      "Cached scenario prediction found\n"
     ]
    },
    {
     "name": "stderr",
     "output_type": "stream",
     "text": [
      "126/149:  30%|███       | 3/10 [00:22<00:51,  7.34s/it]"
     ]
    },
    {
     "name": "stdout",
     "output_type": "stream",
     "text": [
      "Scenario pkl file for pedestrian facing toward ego vehicle_ded5ef6e saved successfully.\n",
      "/home/crdavids/Trinity-Sync/refbot/output/sm_predictions/val/ded5ef6e-46ea-3a66-9180-18a6fa0a2db4/vehicle being followed by ego vehilce while being overtaken on right_ded5ef6e_claude-3-5-sonnet_predictions.pkl\n",
      "vehicle being followed by ego vehilce while being overtaken on right definition saved to output/llm_scenario_predictions/claude-3-5-sonnet\n"
     ]
    },
    {
     "name": "stderr",
     "output_type": "stream",
     "text": [
      "126/149:  40%|████      | 4/10 [00:34<00:54,  9.06s/it]"
     ]
    },
    {
     "name": "stdout",
     "output_type": "stream",
     "text": [
      "Scenario pkl file for vehicle being followed by ego vehicle while being overtaken on right_ded5ef6e saved successfully.\n",
      "/home/crdavids/Trinity-Sync/refbot/output/sm_predictions/val/ded5ef6e-46ea-3a66-9180-18a6fa0a2db4/pedestrian between moving vehicles on both sides_ded5ef6e_claude-3-5-sonnet_predictions.pkl\n",
      "Cached scenario prediction found\n"
     ]
    },
    {
     "name": "stderr",
     "output_type": "stream",
     "text": [
      "126/149:  50%|█████     | 5/10 [00:43<00:45,  9.06s/it]"
     ]
    },
    {
     "name": "stdout",
     "output_type": "stream",
     "text": [
      "Scenario pkl file for pedestrian between moving vehicles on both sides_ded5ef6e saved successfully.\n",
      "/home/crdavids/Trinity-Sync/refbot/output/sm_predictions/val/ded5ef6e-46ea-3a66-9180-18a6fa0a2db4/ego vehicle changing lanes to the right with a vehicle ahead_ded5ef6e_claude-3-5-sonnet_predictions.pkl\n",
      "Cached scenario prediction found\n"
     ]
    },
    {
     "name": "stderr",
     "output_type": "stream",
     "text": [
      "126/149:  60%|██████    | 6/10 [00:51<00:34,  8.62s/it]"
     ]
    },
    {
     "name": "stdout",
     "output_type": "stream",
     "text": [
      "Scenario pkl file for ego vehicle changing lanes to the right with a vehicle ahead_ded5ef6e saved successfully.\n",
      "/home/crdavids/Trinity-Sync/refbot/output/sm_predictions/val/ded5ef6e-46ea-3a66-9180-18a6fa0a2db4/moving bus to the front-left of the ego vehicle_ded5ef6e_claude-3-5-sonnet_predictions.pkl\n",
      "Cached scenario prediction found\n"
     ]
    },
    {
     "name": "stderr",
     "output_type": "stream",
     "text": [
      "126/149:  70%|███████   | 7/10 [00:55<00:21,  7.12s/it]"
     ]
    },
    {
     "name": "stdout",
     "output_type": "stream",
     "text": [
      "Scenario pkl file for moving bus to the front-left of the ego vehicle_ded5ef6e saved successfully.\n",
      "/home/crdavids/Trinity-Sync/refbot/output/sm_predictions/val/ded5ef6e-46ea-3a66-9180-18a6fa0a2db4/parked vehicle_ded5ef6e_claude-3-5-sonnet_predictions.pkl\n",
      "Cached scenario prediction found\n"
     ]
    },
    {
     "name": "stderr",
     "output_type": "stream",
     "text": [
      "126/149:  80%|████████  | 8/10 [01:00<00:13,  6.63s/it]"
     ]
    },
    {
     "name": "stdout",
     "output_type": "stream",
     "text": [
      "Scenario pkl file for parked vehicle_ded5ef6e saved successfully.\n",
      "/home/crdavids/Trinity-Sync/refbot/output/sm_predictions/val/ded5ef6e-46ea-3a66-9180-18a6fa0a2db4/ego vehicle following vehicle being overtaken on right_ded5ef6e_claude-3-5-sonnet_predictions.pkl\n",
      "Cached scenario prediction found\n"
     ]
    },
    {
     "name": "stderr",
     "output_type": "stream",
     "text": [
      "126/149:  90%|█████████ | 9/10 [01:12<00:08,  8.17s/it]"
     ]
    },
    {
     "name": "stdout",
     "output_type": "stream",
     "text": [
      "Scenario pkl file for ego vehicle following vehicle being overtaken on right_ded5ef6e saved successfully.\n",
      "/home/crdavids/Trinity-Sync/refbot/output/sm_predictions/val/ded5ef6e-46ea-3a66-9180-18a6fa0a2db4/making a left lane change while there is a vehicle to the right_ded5ef6e_claude-3-5-sonnet_predictions.pkl\n",
      "Cached scenario prediction found\n"
     ]
    },
    {
     "name": "stderr",
     "output_type": "stream",
     "text": [
      "126/149: 100%|██████████| 10/10 [01:19<00:00,  7.92s/it]\n"
     ]
    },
    {
     "name": "stdout",
     "output_type": "stream",
     "text": [
      "Scenario pkl file for making a left lane change while there is a vehicle to the right_ded5ef6e saved successfully.\n",
      "dfc32963-1524-34f4-9f5e-0292f0f223ae\n"
     ]
    },
    {
     "name": "stderr",
     "output_type": "stream",
     "text": [
      "127/149:   0%|          | 0/10 [00:00<?, ?it/s]"
     ]
    },
    {
     "name": "stdout",
     "output_type": "stream",
     "text": [
      "/home/crdavids/Trinity-Sync/refbot/output/sm_predictions/val/dfc32963-1524-34f4-9f5e-0292f0f223ae/vehicle with a bicycle to its right_dfc32963_claude-3-5-sonnet_predictions.pkl\n",
      "Cached scenario prediction found\n"
     ]
    },
    {
     "name": "stderr",
     "output_type": "stream",
     "text": [
      "127/149:  10%|█         | 1/10 [00:21<03:12, 21.39s/it]"
     ]
    },
    {
     "name": "stdout",
     "output_type": "stream",
     "text": [
      "Scenario pkl file for vehicle with a bicycle to its right_dfc32963 saved successfully.\n",
      "/home/crdavids/Trinity-Sync/refbot/output/sm_predictions/val/dfc32963-1524-34f4-9f5e-0292f0f223ae/ego vehicle changing lanes to the left_dfc32963_claude-3-5-sonnet_predictions.pkl\n",
      "Cached scenario prediction found\n"
     ]
    },
    {
     "name": "stderr",
     "output_type": "stream",
     "text": [
      "127/149:  20%|██        | 2/10 [00:30<01:51, 13.94s/it]"
     ]
    },
    {
     "name": "stdout",
     "output_type": "stream",
     "text": [
      "Scenario pkl file for ego vehicle changing lanes to the left_dfc32963 saved successfully.\n",
      "/home/crdavids/Trinity-Sync/refbot/output/sm_predictions/val/dfc32963-1524-34f4-9f5e-0292f0f223ae/ego vehicle merging between two regular vehicles_dfc32963_claude-3-5-sonnet_predictions.pkl\n",
      "Cached scenario prediction found\n"
     ]
    },
    {
     "name": "stderr",
     "output_type": "stream",
     "text": [
      "127/149:  30%|███       | 3/10 [00:39<01:24, 12.03s/it]"
     ]
    },
    {
     "name": "stdout",
     "output_type": "stream",
     "text": [
      "Scenario pkl file for ego vehicle merging between two regular vehicles_dfc32963 saved successfully.\n",
      "/home/crdavids/Trinity-Sync/refbot/output/sm_predictions/val/dfc32963-1524-34f4-9f5e-0292f0f223ae/vehicle with multiple pedestrians to the left_dfc32963_claude-3-5-sonnet_predictions.pkl\n",
      "Cached scenario prediction found\n"
     ]
    },
    {
     "name": "stderr",
     "output_type": "stream",
     "text": [
      "127/149:  40%|████      | 4/10 [01:47<03:24, 34.02s/it]"
     ]
    },
    {
     "name": "stdout",
     "output_type": "stream",
     "text": [
      "Scenario pkl file for vehicle with multiple pedestrians to the left_dfc32963 saved successfully.\n",
      "/home/crdavids/Trinity-Sync/refbot/output/sm_predictions/val/dfc32963-1524-34f4-9f5e-0292f0f223ae/dog near pedestrian_dfc32963_claude-3-5-sonnet_predictions.pkl\n",
      "Cached scenario prediction found\n"
     ]
    },
    {
     "name": "stderr",
     "output_type": "stream",
     "text": [
      "127/149:  50%|█████     | 5/10 [01:59<02:10, 26.20s/it]"
     ]
    },
    {
     "name": "stdout",
     "output_type": "stream",
     "text": [
      "Scenario pkl file for dog near pedestrian_dfc32963 saved successfully.\n",
      "/home/crdavids/Trinity-Sync/refbot/output/sm_predictions/val/dfc32963-1524-34f4-9f5e-0292f0f223ae/pedestrian between moving vehicles on both sides_dfc32963_claude-3-5-sonnet_predictions.pkl\n",
      "Cached scenario prediction found\n"
     ]
    },
    {
     "name": "stderr",
     "output_type": "stream",
     "text": [
      "127/149:  60%|██████    | 6/10 [02:20<01:37, 24.33s/it]"
     ]
    },
    {
     "name": "stdout",
     "output_type": "stream",
     "text": [
      "Scenario pkl file for pedestrian between moving vehicles on both sides_dfc32963 saved successfully.\n",
      "/home/crdavids/Trinity-Sync/refbot/output/sm_predictions/val/dfc32963-1524-34f4-9f5e-0292f0f223ae/motorcycle or pedestrian within 5 meters to the right of the ego vehicle_dfc32963_claude-3-5-sonnet_predictions.pkl\n",
      "Cached scenario prediction found\n"
     ]
    },
    {
     "name": "stderr",
     "output_type": "stream",
     "text": [
      "127/149:  70%|███████   | 7/10 [02:33<01:01, 20.62s/it]"
     ]
    },
    {
     "name": "stdout",
     "output_type": "stream",
     "text": [
      "Scenario pkl file for motorcycle or pedestrian within 5 meters to the right of the ego vehicle_dfc32963 saved successfully.\n",
      "/home/crdavids/Trinity-Sync/refbot/output/sm_predictions/val/dfc32963-1524-34f4-9f5e-0292f0f223ae/dog_dfc32963_claude-3-5-sonnet_predictions.pkl\n",
      "Cached scenario prediction found\n"
     ]
    },
    {
     "name": "stderr",
     "output_type": "stream",
     "text": [
      "127/149:  80%|████████  | 8/10 [02:40<00:32, 16.37s/it]"
     ]
    },
    {
     "name": "stdout",
     "output_type": "stream",
     "text": [
      "Scenario pkl file for dog_dfc32963 saved successfully.\n",
      "/home/crdavids/Trinity-Sync/refbot/output/sm_predictions/val/dfc32963-1524-34f4-9f5e-0292f0f223ae/ego vehicle with parked bicycles ahead_dfc32963_claude-3-5-sonnet_predictions.pkl\n",
      "Cached scenario prediction found\n"
     ]
    },
    {
     "name": "stderr",
     "output_type": "stream",
     "text": [
      "127/149:  90%|█████████ | 9/10 [02:49<00:13, 13.97s/it]"
     ]
    },
    {
     "name": "stdout",
     "output_type": "stream",
     "text": [
      "Scenario pkl file for ego vehicle with parked bicycles ahead_dfc32963 saved successfully.\n",
      "/home/crdavids/Trinity-Sync/refbot/output/sm_predictions/val/dfc32963-1524-34f4-9f5e-0292f0f223ae/group of people_dfc32963_claude-3-5-sonnet_predictions.pkl\n",
      "Cached scenario prediction found\n"
     ]
    },
    {
     "name": "stderr",
     "output_type": "stream",
     "text": [
      "127/149: 100%|██████████| 10/10 [04:24<00:00, 26.47s/it]\n"
     ]
    },
    {
     "name": "stdout",
     "output_type": "stream",
     "text": [
      "Scenario pkl file for group of people_dfc32963 saved successfully.\n",
      "dfc6d65f-20f5-389d-a5cd-81c1c7ecb11f\n"
     ]
    },
    {
     "name": "stderr",
     "output_type": "stream",
     "text": [
      "128/149:   0%|          | 0/10 [00:00<?, ?it/s]"
     ]
    },
    {
     "name": "stdout",
     "output_type": "stream",
     "text": [
      "/home/crdavids/Trinity-Sync/refbot/output/sm_predictions/val/dfc6d65f-20f5-389d-a5cd-81c1c7ecb11f/group of people_dfc6d65f_claude-3-5-sonnet_predictions.pkl\n",
      "Cached scenario prediction found\n"
     ]
    },
    {
     "name": "stderr",
     "output_type": "stream",
     "text": [
      "128/149:  10%|█         | 1/10 [00:53<08:00, 53.35s/it]"
     ]
    },
    {
     "name": "stdout",
     "output_type": "stream",
     "text": [
      "Scenario pkl file for group of people_dfc6d65f saved successfully.\n",
      "/home/crdavids/Trinity-Sync/refbot/output/sm_predictions/val/dfc6d65f-20f5-389d-a5cd-81c1c7ecb11f/two cars back from the ego vehicle_dfc6d65f_claude-3-5-sonnet_predictions.pkl\n",
      "Cached scenario prediction found\n"
     ]
    },
    {
     "name": "stderr",
     "output_type": "stream",
     "text": [
      "128/149:  20%|██        | 2/10 [01:11<04:22, 32.82s/it]"
     ]
    },
    {
     "name": "stdout",
     "output_type": "stream",
     "text": [
      "Scenario pkl file for two cars back from the ego vehicle_dfc6d65f saved successfully.\n",
      "/home/crdavids/Trinity-Sync/refbot/output/sm_predictions/val/dfc6d65f-20f5-389d-a5cd-81c1c7ecb11f/vehicle behind another vehicle that has a pedestrian on its right side_dfc6d65f_claude-3-5-sonnet_predictions.pkl\n",
      "Cached scenario prediction found\n"
     ]
    },
    {
     "name": "stderr",
     "output_type": "stream",
     "text": [
      "128/149:  30%|███       | 3/10 [02:31<06:18, 54.09s/it]"
     ]
    },
    {
     "name": "stdout",
     "output_type": "stream",
     "text": [
      "Scenario pkl file for vehicle behind another vehicle that has a pedestrian on its right side_dfc6d65f saved successfully.\n",
      "/home/crdavids/Trinity-Sync/refbot/output/sm_predictions/val/dfc6d65f-20f5-389d-a5cd-81c1c7ecb11f/ego vehicle changing lanes to the right with a vehicle ahead_dfc6d65f_claude-3-5-sonnet_predictions.pkl\n",
      "Cached scenario prediction found\n"
     ]
    },
    {
     "name": "stderr",
     "output_type": "stream",
     "text": [
      "128/149:  40%|████      | 4/10 [02:43<03:46, 37.74s/it]"
     ]
    },
    {
     "name": "stdout",
     "output_type": "stream",
     "text": [
      "Scenario pkl file for ego vehicle changing lanes to the right with a vehicle ahead_dfc6d65f saved successfully.\n",
      "/home/crdavids/Trinity-Sync/refbot/output/sm_predictions/val/dfc6d65f-20f5-389d-a5cd-81c1c7ecb11f/a group of people_dfc6d65f_claude-3-5-sonnet_predictions.pkl\n",
      "Cached scenario prediction found\n"
     ]
    },
    {
     "name": "stderr",
     "output_type": "stream",
     "text": [
      "128/149:  50%|█████     | 5/10 [03:36<03:36, 43.24s/it]"
     ]
    },
    {
     "name": "stdout",
     "output_type": "stream",
     "text": [
      "Scenario pkl file for a group of people_dfc6d65f saved successfully.\n",
      "/home/crdavids/Trinity-Sync/refbot/output/sm_predictions/val/dfc6d65f-20f5-389d-a5cd-81c1c7ecb11f/ego vehicle approaching pedestrian at crosswalk_dfc6d65f_claude-3-5-sonnet_predictions.pkl\n",
      "Cached scenario prediction found\n"
     ]
    },
    {
     "name": "stderr",
     "output_type": "stream",
     "text": [
      "128/149:  60%|██████    | 6/10 [03:47<02:09, 32.31s/it]"
     ]
    },
    {
     "name": "stdout",
     "output_type": "stream",
     "text": [
      "Scenario pkl file for ego vehicle approaching pedestrian at crosswalk_dfc6d65f saved successfully.\n",
      "/home/crdavids/Trinity-Sync/refbot/output/sm_predictions/val/dfc6d65f-20f5-389d-a5cd-81c1c7ecb11f/vehicle with multiple pedestrians to the left_dfc6d65f_claude-3-5-sonnet_predictions.pkl\n",
      "Cached scenario prediction found\n"
     ]
    },
    {
     "name": "stderr",
     "output_type": "stream",
     "text": [
      "128/149:  70%|███████   | 7/10 [04:48<02:04, 41.42s/it]"
     ]
    },
    {
     "name": "stdout",
     "output_type": "stream",
     "text": [
      "Scenario pkl file for vehicle with multiple pedestrians to the left_dfc6d65f saved successfully.\n",
      "/home/crdavids/Trinity-Sync/refbot/output/sm_predictions/val/dfc6d65f-20f5-389d-a5cd-81c1c7ecb11f/ego vehicle changing lanes to the left_dfc6d65f_claude-3-5-sonnet_predictions.pkl\n",
      "Cached scenario prediction found\n"
     ]
    },
    {
     "name": "stderr",
     "output_type": "stream",
     "text": [
      "128/149:  80%|████████  | 8/10 [04:56<01:02, 31.03s/it]"
     ]
    },
    {
     "name": "stdout",
     "output_type": "stream",
     "text": [
      "Scenario pkl file for ego vehicle changing lanes to the left_dfc6d65f saved successfully.\n",
      "/home/crdavids/Trinity-Sync/refbot/output/sm_predictions/val/dfc6d65f-20f5-389d-a5cd-81c1c7ecb11f/ego vehicle two cars ahead of another vehicle_dfc6d65f_claude-3-5-sonnet_predictions.pkl\n",
      "Cached scenario prediction found\n"
     ]
    },
    {
     "name": "stderr",
     "output_type": "stream",
     "text": [
      "128/149:  90%|█████████ | 9/10 [05:06<00:24, 24.45s/it]"
     ]
    },
    {
     "name": "stdout",
     "output_type": "stream",
     "text": [
      "Scenario pkl file for ego vehicle two cars ahead of another vehicle_dfc6d65f saved successfully.\n",
      "/home/crdavids/Trinity-Sync/refbot/output/sm_predictions/val/dfc6d65f-20f5-389d-a5cd-81c1c7ecb11f/group of pedestrians ahead of the ego vehicle_dfc6d65f_claude-3-5-sonnet_predictions.pkl\n",
      "Cached scenario prediction found\n"
     ]
    },
    {
     "name": "stderr",
     "output_type": "stream",
     "text": [
      "128/149: 100%|██████████| 10/10 [05:20<00:00, 32.03s/it]\n"
     ]
    },
    {
     "name": "stdout",
     "output_type": "stream",
     "text": [
      "Scenario pkl file for group of pedestrians ahead of the ego vehicle_dfc6d65f saved successfully.\n",
      "e0ea281b-6956-3605-b720-71b54ec87d25\n"
     ]
    },
    {
     "name": "stderr",
     "output_type": "stream",
     "text": [
      "129/149:   0%|          | 0/10 [00:00<?, ?it/s]"
     ]
    },
    {
     "name": "stdout",
     "output_type": "stream",
     "text": [
      "/home/crdavids/Trinity-Sync/refbot/output/sm_predictions/val/e0ea281b-6956-3605-b720-71b54ec87d25/construction barrel with at least 2 construction cones within 3 meters_e0ea281b_claude-3-5-sonnet_predictions.pkl\n",
      "construction barrel with at least 2 construction cones within 3 meters definition saved to output/llm_scenario_predictions/claude-3-5-sonnet\n"
     ]
    },
    {
     "name": "stderr",
     "output_type": "stream",
     "text": [
      "129/149:  10%|█         | 1/10 [00:21<03:15, 21.76s/it]"
     ]
    },
    {
     "name": "stdout",
     "output_type": "stream",
     "text": [
      "Scenario pkl file for construction barrel with at least 2 construction cones within 3 meters_e0ea281b saved successfully.\n",
      "/home/crdavids/Trinity-Sync/refbot/output/sm_predictions/val/e0ea281b-6956-3605-b720-71b54ec87d25/vehicle accelerating on intersection_e0ea281b_claude-3-5-sonnet_predictions.pkl\n",
      "Cached scenario prediction found\n"
     ]
    },
    {
     "name": "stderr",
     "output_type": "stream",
     "text": [
      "129/149:  20%|██        | 2/10 [00:31<01:58, 14.87s/it]"
     ]
    },
    {
     "name": "stdout",
     "output_type": "stream",
     "text": [
      "Scenario pkl file for vehicle accelerating on intersection_e0ea281b saved successfully.\n",
      "/home/crdavids/Trinity-Sync/refbot/output/sm_predictions/val/e0ea281b-6956-3605-b720-71b54ec87d25/vehicle two cars ahead is braking_e0ea281b_claude-3-5-sonnet_predictions.pkl\n",
      "Cached scenario prediction found\n"
     ]
    },
    {
     "name": "stderr",
     "output_type": "stream",
     "text": [
      "129/149:  30%|███       | 3/10 [01:06<02:45, 23.71s/it]"
     ]
    },
    {
     "name": "stdout",
     "output_type": "stream",
     "text": [
      "Scenario pkl file for vehicle two cars ahead is braking_e0ea281b saved successfully.\n",
      "/home/crdavids/Trinity-Sync/refbot/output/sm_predictions/val/e0ea281b-6956-3605-b720-71b54ec87d25/vehicle two vehicles ahead is braking_e0ea281b_claude-3-5-sonnet_predictions.pkl\n",
      "Cached scenario prediction found\n"
     ]
    },
    {
     "name": "stderr",
     "output_type": "stream",
     "text": [
      "129/149:  40%|████      | 4/10 [01:29<02:22, 23.74s/it]"
     ]
    },
    {
     "name": "stdout",
     "output_type": "stream",
     "text": [
      "Scenario pkl file for vehicle two vehicles ahead is braking_e0ea281b saved successfully.\n",
      "/home/crdavids/Trinity-Sync/refbot/output/sm_predictions/val/e0ea281b-6956-3605-b720-71b54ec87d25/oncoming vehicle changing lanes_e0ea281b_claude-3-5-sonnet_predictions.pkl\n",
      "Cached scenario prediction found\n"
     ]
    },
    {
     "name": "stderr",
     "output_type": "stream",
     "text": [
      "129/149:  50%|█████     | 5/10 [01:39<01:34, 18.84s/it]"
     ]
    },
    {
     "name": "stdout",
     "output_type": "stream",
     "text": [
      "Scenario pkl file for oncoming vehicle changing lanes_e0ea281b saved successfully.\n",
      "/home/crdavids/Trinity-Sync/refbot/output/sm_predictions/val/e0ea281b-6956-3605-b720-71b54ec87d25/vehicle two vehicles ahead is changing lanes_e0ea281b_claude-3-5-sonnet_predictions.pkl\n",
      "Cached scenario prediction found\n"
     ]
    },
    {
     "name": "stderr",
     "output_type": "stream",
     "text": [
      "129/149:  60%|██████    | 6/10 [01:50<01:03, 15.90s/it]"
     ]
    },
    {
     "name": "stdout",
     "output_type": "stream",
     "text": [
      "Scenario pkl file for vehicle two vehicles ahead is changing lanes_e0ea281b saved successfully.\n",
      "/home/crdavids/Trinity-Sync/refbot/output/sm_predictions/val/e0ea281b-6956-3605-b720-71b54ec87d25/ego vehicle near construction barrel_e0ea281b_claude-3-5-sonnet_predictions.pkl\n",
      "Cached scenario prediction found\n"
     ]
    },
    {
     "name": "stderr",
     "output_type": "stream",
     "text": [
      "129/149:  70%|███████   | 7/10 [01:57<00:39, 13.08s/it]"
     ]
    },
    {
     "name": "stdout",
     "output_type": "stream",
     "text": [
      "Scenario pkl file for ego vehicle near construction barrel_e0ea281b saved successfully.\n",
      "/home/crdavids/Trinity-Sync/refbot/output/sm_predictions/val/e0ea281b-6956-3605-b720-71b54ec87d25/any vehicle in front of stop sign_e0ea281b_claude-3-5-sonnet_predictions.pkl\n",
      "Cached scenario prediction found\n"
     ]
    },
    {
     "name": "stderr",
     "output_type": "stream",
     "text": [
      "129/149:  80%|████████  | 8/10 [02:24<00:35, 17.64s/it]"
     ]
    },
    {
     "name": "stdout",
     "output_type": "stream",
     "text": [
      "Scenario pkl file for any vehicle in front of stop sign_e0ea281b saved successfully.\n",
      "Default scenario prediction correctly generated.\n",
      "/home/crdavids/Trinity-Sync/refbot/output/sm_predictions/val/e0ea281b-6956-3605-b720-71b54ec87d25/vehicle being crossed by a pedestrian_e0ea281b_claude-3-5-sonnet_predictions.pkl\n",
      "Cached scenario prediction found\n"
     ]
    },
    {
     "name": "stderr",
     "output_type": "stream",
     "text": [
      "129/149:  90%|█████████ | 9/10 [03:10<00:26, 26.26s/it]"
     ]
    },
    {
     "name": "stdout",
     "output_type": "stream",
     "text": [
      "Scenario pkl file for vehicle being crossed by a pedestrian_e0ea281b saved successfully.\n",
      "/home/crdavids/Trinity-Sync/refbot/output/sm_predictions/val/e0ea281b-6956-3605-b720-71b54ec87d25/ego vehicle approaching construction barrels with a vehicle turning right ahead_e0ea281b_claude-3-5-sonnet_predictions.pkl\n",
      "Cached scenario prediction found\n"
     ]
    },
    {
     "name": "stderr",
     "output_type": "stream",
     "text": [
      "129/149: 100%|██████████| 10/10 [03:20<00:00, 20.07s/it]\n"
     ]
    },
    {
     "name": "stdout",
     "output_type": "stream",
     "text": [
      "Scenario pkl file for ego vehicle approaching construction barrels with a vehicle turning right ahead_e0ea281b saved successfully.\n",
      "e13c06cb-cd01-380e-946f-6d92ac1af49d\n"
     ]
    },
    {
     "name": "stderr",
     "output_type": "stream",
     "text": [
      "130/149:   0%|          | 0/10 [00:00<?, ?it/s]"
     ]
    },
    {
     "name": "stdout",
     "output_type": "stream",
     "text": [
      "/home/crdavids/Trinity-Sync/refbot/output/sm_predictions/val/e13c06cb-cd01-380e-946f-6d92ac1af49d/ego vehicle with parked bicycles ahead_e13c06cb_claude-3-5-sonnet_predictions.pkl\n",
      "Cached scenario prediction found\n"
     ]
    },
    {
     "name": "stderr",
     "output_type": "stream",
     "text": [
      "130/149:  10%|█         | 1/10 [00:07<01:08,  7.58s/it]"
     ]
    },
    {
     "name": "stdout",
     "output_type": "stream",
     "text": [
      "Scenario pkl file for ego vehicle with parked bicycles ahead_e13c06cb saved successfully.\n",
      "/home/crdavids/Trinity-Sync/refbot/output/sm_predictions/val/e13c06cb-cd01-380e-946f-6d92ac1af49d/vehicle with multiple pedestrians to the left_e13c06cb_claude-3-5-sonnet_predictions.pkl\n",
      "Cached scenario prediction found\n"
     ]
    },
    {
     "name": "stderr",
     "output_type": "stream",
     "text": [
      "130/149:  20%|██        | 2/10 [01:25<06:29, 48.70s/it]"
     ]
    },
    {
     "name": "stdout",
     "output_type": "stream",
     "text": [
      "Scenario pkl file for vehicle with multiple pedestrians to the left_e13c06cb saved successfully.\n",
      "/home/crdavids/Trinity-Sync/refbot/output/sm_predictions/val/e13c06cb-cd01-380e-946f-6d92ac1af49d/moving vehicles that are not on the road_e13c06cb_claude-3-5-sonnet_predictions.pkl\n",
      "Cached scenario prediction found\n"
     ]
    },
    {
     "name": "stderr",
     "output_type": "stream",
     "text": [
      "130/149:  30%|███       | 3/10 [01:40<03:53, 33.39s/it]"
     ]
    },
    {
     "name": "stdout",
     "output_type": "stream",
     "text": [
      "Scenario pkl file for moving vehicles that are not on the road_e13c06cb saved successfully.\n",
      "/home/crdavids/Trinity-Sync/refbot/output/sm_predictions/val/e13c06cb-cd01-380e-946f-6d92ac1af49d/two cars back from the ego vehicle_e13c06cb_claude-3-5-sonnet_predictions.pkl\n",
      "Cached scenario prediction found\n"
     ]
    },
    {
     "name": "stderr",
     "output_type": "stream",
     "text": [
      "130/149:  40%|████      | 4/10 [02:07<03:05, 30.87s/it]"
     ]
    },
    {
     "name": "stdout",
     "output_type": "stream",
     "text": [
      "Scenario pkl file for two cars back from the ego vehicle_e13c06cb saved successfully.\n",
      "/home/crdavids/Trinity-Sync/refbot/output/sm_predictions/val/e13c06cb-cd01-380e-946f-6d92ac1af49d/pedestrian near bollard_e13c06cb_claude-3-5-sonnet_predictions.pkl\n",
      "Cached scenario prediction found\n"
     ]
    },
    {
     "name": "stderr",
     "output_type": "stream",
     "text": [
      "130/149:  50%|█████     | 5/10 [02:18<01:59, 23.90s/it]"
     ]
    },
    {
     "name": "stdout",
     "output_type": "stream",
     "text": [
      "Scenario pkl file for pedestrian near bollard_e13c06cb saved successfully.\n",
      "/home/crdavids/Trinity-Sync/refbot/output/sm_predictions/val/e13c06cb-cd01-380e-946f-6d92ac1af49d/group of pedestrians ahead of the ego vehicle_e13c06cb_claude-3-5-sonnet_predictions.pkl\n",
      "Cached scenario prediction found\n"
     ]
    },
    {
     "name": "stderr",
     "output_type": "stream",
     "text": [
      "130/149:  60%|██████    | 6/10 [02:28<01:16, 19.01s/it]"
     ]
    },
    {
     "name": "stdout",
     "output_type": "stream",
     "text": [
      "Scenario pkl file for group of pedestrians ahead of the ego vehicle_e13c06cb saved successfully.\n",
      "/home/crdavids/Trinity-Sync/refbot/output/sm_predictions/val/e13c06cb-cd01-380e-946f-6d92ac1af49d/vehicle behind another vehicle that has a pedestrian on its right side_e13c06cb_claude-3-5-sonnet_predictions.pkl\n",
      "Cached scenario prediction found\n"
     ]
    },
    {
     "name": "stderr",
     "output_type": "stream",
     "text": [
      "130/149:  70%|███████   | 7/10 [04:17<02:25, 48.52s/it]"
     ]
    },
    {
     "name": "stdout",
     "output_type": "stream",
     "text": [
      "Scenario pkl file for vehicle behind another vehicle that has a pedestrian on its right side_e13c06cb saved successfully.\n",
      "/home/crdavids/Trinity-Sync/refbot/output/sm_predictions/val/e13c06cb-cd01-380e-946f-6d92ac1af49d/a group of people_e13c06cb_claude-3-5-sonnet_predictions.pkl\n",
      "Cached scenario prediction found\n"
     ]
    },
    {
     "name": "stderr",
     "output_type": "stream",
     "text": [
      "130/149:  80%|████████  | 8/10 [04:46<01:24, 42.20s/it]"
     ]
    },
    {
     "name": "stdout",
     "output_type": "stream",
     "text": [
      "Scenario pkl file for a group of people_e13c06cb saved successfully.\n",
      "/home/crdavids/Trinity-Sync/refbot/output/sm_predictions/val/e13c06cb-cd01-380e-946f-6d92ac1af49d/group of people_e13c06cb_claude-3-5-sonnet_predictions.pkl\n",
      "Cached scenario prediction found\n"
     ]
    },
    {
     "name": "stderr",
     "output_type": "stream",
     "text": [
      "130/149:  90%|█████████ | 9/10 [05:14<00:37, 37.91s/it]"
     ]
    },
    {
     "name": "stdout",
     "output_type": "stream",
     "text": [
      "Scenario pkl file for group of people_e13c06cb saved successfully.\n",
      "/home/crdavids/Trinity-Sync/refbot/output/sm_predictions/val/e13c06cb-cd01-380e-946f-6d92ac1af49d/vehicle two cars ahead is being crossed by a pedestrian_e13c06cb_claude-3-5-sonnet_predictions.pkl\n",
      "Cached scenario prediction found\n"
     ]
    },
    {
     "name": "stderr",
     "output_type": "stream",
     "text": [
      "130/149: 100%|██████████| 10/10 [05:34<00:00, 33.41s/it]\n"
     ]
    },
    {
     "name": "stdout",
     "output_type": "stream",
     "text": [
      "Scenario pkl file for vehicle two cars ahead is being crossed by a pedestrian_e13c06cb saved successfully.\n",
      "e1d68dde-22a9-3918-a526-0850b21ff2eb\n"
     ]
    },
    {
     "name": "stderr",
     "output_type": "stream",
     "text": [
      "131/149:   0%|          | 0/12 [00:00<?, ?it/s]"
     ]
    },
    {
     "name": "stdout",
     "output_type": "stream",
     "text": [
      "/home/crdavids/Trinity-Sync/refbot/output/sm_predictions/val/e1d68dde-22a9-3918-a526-0850b21ff2eb/bicycle facing toward moving traffic_e1d68dde_claude-3-5-sonnet_predictions.pkl\n",
      "Cached scenario prediction found\n"
     ]
    },
    {
     "name": "stderr",
     "output_type": "stream",
     "text": [
      "131/149:   8%|▊         | 1/12 [00:08<01:37,  8.86s/it]"
     ]
    },
    {
     "name": "stdout",
     "output_type": "stream",
     "text": [
      "Scenario pkl file for bicycle facing toward moving traffic_e1d68dde saved successfully.\n",
      "/home/crdavids/Trinity-Sync/refbot/output/sm_predictions/val/e1d68dde-22a9-3918-a526-0850b21ff2eb/bicycle sharing lane as a regular vehicle_e1d68dde_claude-3-5-sonnet_predictions.pkl\n",
      "bicycle sharing lane as a regular vehicle definition saved to output/llm_scenario_predictions/claude-3-5-sonnet\n"
     ]
    },
    {
     "name": "stderr",
     "output_type": "stream",
     "text": [
      "131/149:  17%|█▋        | 2/12 [00:27<02:24, 14.41s/it]"
     ]
    },
    {
     "name": "stdout",
     "output_type": "stream",
     "text": [
      "Scenario pkl file for bicycle sharing lane with regular vehicle_e1d68dde saved successfully.\n",
      "/home/crdavids/Trinity-Sync/refbot/output/sm_predictions/val/e1d68dde-22a9-3918-a526-0850b21ff2eb/bicycle facing toward a vehicle_e1d68dde_claude-3-5-sonnet_predictions.pkl\n",
      "Cached scenario prediction found\n"
     ]
    },
    {
     "name": "stderr",
     "output_type": "stream",
     "text": [
      "131/149:  25%|██▌       | 3/12 [00:34<01:40, 11.19s/it]"
     ]
    },
    {
     "name": "stdout",
     "output_type": "stream",
     "text": [
      "Scenario pkl file for bicycle facing toward a vehicle_e1d68dde saved successfully.\n",
      "/home/crdavids/Trinity-Sync/refbot/output/sm_predictions/val/e1d68dde-22a9-3918-a526-0850b21ff2eb/the active vehicle in front of the the vehicle ahead_e1d68dde_claude-3-5-sonnet_predictions.pkl\n",
      "the active vehicle in front of the the vehicle ahead definition saved to output/llm_scenario_predictions/claude-3-5-sonnet\n"
     ]
    },
    {
     "name": "stderr",
     "output_type": "stream",
     "text": [
      "131/149:  33%|███▎      | 4/12 [00:51<01:46, 13.33s/it]"
     ]
    },
    {
     "name": "stdout",
     "output_type": "stream",
     "text": [
      "Scenario pkl file for the active vehicle in front of the vehicle ahead_e1d68dde saved successfully.\n",
      "/home/crdavids/Trinity-Sync/refbot/output/sm_predictions/val/e1d68dde-22a9-3918-a526-0850b21ff2eb/group of at least 3 moving bicyclists within 5 meters of each other_e1d68dde_claude-3-5-sonnet_predictions.pkl\n",
      "group of at least 3 moving bicyclists within 5 meters of each other definition saved to output/llm_scenario_predictions/claude-3-5-sonnet\n"
     ]
    },
    {
     "name": "stderr",
     "output_type": "stream",
     "text": [
      "131/149:  42%|████▏     | 5/12 [01:05<01:36, 13.77s/it]"
     ]
    },
    {
     "name": "stdout",
     "output_type": "stream",
     "text": [
      "Scenario pkl file for group of at least 3 moving bicyclists within 5 meters of each other_e1d68dde saved successfully.\n",
      "/home/crdavids/Trinity-Sync/refbot/output/sm_predictions/val/e1d68dde-22a9-3918-a526-0850b21ff2eb/vehicle with multiple bicycles ahead_e1d68dde_claude-3-5-sonnet_predictions.pkl\n",
      "Cached scenario prediction found\n"
     ]
    },
    {
     "name": "stderr",
     "output_type": "stream",
     "text": [
      "131/149:  50%|█████     | 6/12 [01:13<01:10, 11.82s/it]"
     ]
    },
    {
     "name": "stdout",
     "output_type": "stream",
     "text": [
      "Scenario pkl file for vehicle with multiple bicycles ahead_e1d68dde saved successfully.\n",
      "/home/crdavids/Trinity-Sync/refbot/output/sm_predictions/val/e1d68dde-22a9-3918-a526-0850b21ff2eb/bicycle in same lane as a vehicle_e1d68dde_claude-3-5-sonnet_predictions.pkl\n",
      "Cached scenario prediction found\n"
     ]
    },
    {
     "name": "stderr",
     "output_type": "stream",
     "text": [
      "131/149:  58%|█████▊    | 7/12 [01:30<01:07, 13.42s/it]"
     ]
    },
    {
     "name": "stdout",
     "output_type": "stream",
     "text": [
      "Scenario pkl file for bicycle in same lane as a vehicle_e1d68dde saved successfully.\n",
      "/home/crdavids/Trinity-Sync/refbot/output/sm_predictions/val/e1d68dde-22a9-3918-a526-0850b21ff2eb/bicycle in vehicle lane with vehicle_e1d68dde_claude-3-5-sonnet_predictions.pkl\n",
      "Cached scenario prediction found\n"
     ]
    },
    {
     "name": "stderr",
     "output_type": "stream",
     "text": [
      "131/149:  67%|██████▋   | 8/12 [01:45<00:55, 13.83s/it]"
     ]
    },
    {
     "name": "stdout",
     "output_type": "stream",
     "text": [
      "Scenario pkl file for bicycle in vehicle lane with vehicle_e1d68dde saved successfully.\n",
      "/home/crdavids/Trinity-Sync/refbot/output/sm_predictions/val/e1d68dde-22a9-3918-a526-0850b21ff2eb/passenger vehicle swerving left_e1d68dde_claude-3-5-sonnet_predictions.pkl\n",
      "Cached scenario prediction found\n"
     ]
    },
    {
     "name": "stderr",
     "output_type": "stream",
     "text": [
      "131/149:  75%|███████▌  | 9/12 [01:53<00:35, 11.99s/it]"
     ]
    },
    {
     "name": "stdout",
     "output_type": "stream",
     "text": [
      "Scenario pkl file for passenger vehicle swerving left_e1d68dde saved successfully.\n",
      "/home/crdavids/Trinity-Sync/refbot/output/sm_predictions/val/e1d68dde-22a9-3918-a526-0850b21ff2eb/vehicles within view of another vehicle_e1d68dde_claude-3-5-sonnet_predictions.pkl\n",
      "Cached scenario prediction found\n"
     ]
    },
    {
     "name": "stderr",
     "output_type": "stream",
     "text": [
      "131/149:  83%|████████▎ | 10/12 [02:13<00:29, 14.53s/it]"
     ]
    },
    {
     "name": "stdout",
     "output_type": "stream",
     "text": [
      "Scenario pkl file for vehicles within view of another vehicle_e1d68dde saved successfully.\n",
      "/home/crdavids/Trinity-Sync/refbot/output/sm_predictions/val/e1d68dde-22a9-3918-a526-0850b21ff2eb/pedestrians over 30 meters away_e1d68dde_claude-3-5-sonnet_predictions.pkl\n",
      "Cached scenario prediction found\n"
     ]
    },
    {
     "name": "stderr",
     "output_type": "stream",
     "text": [
      "131/149:  92%|█████████▏| 11/12 [02:19<00:12, 12.04s/it]"
     ]
    },
    {
     "name": "stdout",
     "output_type": "stream",
     "text": [
      "Scenario pkl file for pedestrians over 30 meters away_e1d68dde saved successfully.\n",
      "Default scenario prediction correctly generated.\n",
      "/home/crdavids/Trinity-Sync/refbot/output/sm_predictions/val/e1d68dde-22a9-3918-a526-0850b21ff2eb/ego vehicle approaching cyclist in same lane_e1d68dde_claude-3-5-sonnet_predictions.pkl\n",
      "ego vehicle approaching cyclist in same lane definition saved to output/llm_scenario_predictions/claude-3-5-sonnet\n"
     ]
    },
    {
     "name": "stderr",
     "output_type": "stream",
     "text": [
      "131/149: 100%|██████████| 12/12 [02:38<00:00, 13.22s/it]\n"
     ]
    },
    {
     "name": "stdout",
     "output_type": "stream",
     "text": [
      "Scenario pkl file for ego vehicle approaching cyclist in same lane_e1d68dde saved successfully.\n",
      "e2e921fe-e489-3656-a0a2-5e17bd399ddf\n"
     ]
    },
    {
     "name": "stderr",
     "output_type": "stream",
     "text": [
      "132/149:   0%|          | 0/10 [00:00<?, ?it/s]"
     ]
    },
    {
     "name": "stdout",
     "output_type": "stream",
     "text": [
      "/home/crdavids/Trinity-Sync/refbot/output/sm_predictions/val/e2e921fe-e489-3656-a0a2-5e17bd399ddf/box trucks within 10 meters of an intersection_e2e921fe_claude-3-5-sonnet_predictions.pkl\n",
      "Cached scenario prediction found\n"
     ]
    },
    {
     "name": "stderr",
     "output_type": "stream",
     "text": [
      "132/149:  10%|█         | 1/10 [00:05<00:48,  5.35s/it]"
     ]
    },
    {
     "name": "stdout",
     "output_type": "stream",
     "text": [
      "Scenario pkl file for box trucks within 10 meters of an intersection_e2e921fe saved successfully.\n",
      "/home/crdavids/Trinity-Sync/refbot/output/sm_predictions/val/e2e921fe-e489-3656-a0a2-5e17bd399ddf/vehicle two cars ahead is changing lanes_e2e921fe_claude-3-5-sonnet_predictions.pkl\n",
      "Cached scenario prediction found\n"
     ]
    },
    {
     "name": "stderr",
     "output_type": "stream",
     "text": [
      "132/149:  20%|██        | 2/10 [00:26<01:56, 14.54s/it]"
     ]
    },
    {
     "name": "stdout",
     "output_type": "stream",
     "text": [
      "Scenario pkl file for vehicle two cars ahead is changing lanes_e2e921fe saved successfully.\n",
      "/home/crdavids/Trinity-Sync/refbot/output/sm_predictions/val/e2e921fe-e489-3656-a0a2-5e17bd399ddf/vehicle with multiple pedestrians to the left_e2e921fe_claude-3-5-sonnet_predictions.pkl\n",
      "Cached scenario prediction found\n"
     ]
    },
    {
     "name": "stderr",
     "output_type": "stream",
     "text": [
      "132/149:  30%|███       | 3/10 [00:56<02:30, 21.50s/it]"
     ]
    },
    {
     "name": "stdout",
     "output_type": "stream",
     "text": [
      "Scenario pkl file for vehicle with multiple pedestrians to the left_e2e921fe saved successfully.\n",
      "/home/crdavids/Trinity-Sync/refbot/output/sm_predictions/val/e2e921fe-e489-3656-a0a2-5e17bd399ddf/vehicle two cars ahead is braking_e2e921fe_claude-3-5-sonnet_predictions.pkl\n",
      "Cached scenario prediction found\n"
     ]
    },
    {
     "name": "stderr",
     "output_type": "stream",
     "text": [
      "132/149:  40%|████      | 4/10 [02:11<04:15, 42.61s/it]"
     ]
    },
    {
     "name": "stdout",
     "output_type": "stream",
     "text": [
      "Scenario pkl file for vehicle two cars ahead is braking_e2e921fe saved successfully.\n",
      "/home/crdavids/Trinity-Sync/refbot/output/sm_predictions/val/e2e921fe-e489-3656-a0a2-5e17bd399ddf/multiple buses within 50 meters ahead_e2e921fe_claude-3-5-sonnet_predictions.pkl\n",
      "Cached scenario prediction found\n"
     ]
    },
    {
     "name": "stderr",
     "output_type": "stream",
     "text": [
      "132/149:  50%|█████     | 5/10 [02:18<02:30, 30.07s/it]"
     ]
    },
    {
     "name": "stdout",
     "output_type": "stream",
     "text": [
      "Scenario pkl file for multiple buses within 50 meters ahead_e2e921fe saved successfully.\n",
      "/home/crdavids/Trinity-Sync/refbot/output/sm_predictions/val/e2e921fe-e489-3656-a0a2-5e17bd399ddf/moving bus to the front-left of the ego vehicle_e2e921fe_claude-3-5-sonnet_predictions.pkl\n",
      "Cached scenario prediction found\n"
     ]
    },
    {
     "name": "stderr",
     "output_type": "stream",
     "text": [
      "132/149:  60%|██████    | 6/10 [02:23<01:25, 21.37s/it]"
     ]
    },
    {
     "name": "stdout",
     "output_type": "stream",
     "text": [
      "Scenario pkl file for moving bus to the front-left of the ego vehicle_e2e921fe saved successfully.\n",
      "/home/crdavids/Trinity-Sync/refbot/output/sm_predictions/val/e2e921fe-e489-3656-a0a2-5e17bd399ddf/box truck in the same lane as a school bus_e2e921fe_claude-3-5-sonnet_predictions.pkl\n",
      "box truck in the same lane as a school bus definition saved to output/llm_scenario_predictions/claude-3-5-sonnet\n"
     ]
    },
    {
     "name": "stderr",
     "output_type": "stream",
     "text": [
      "132/149:  70%|███████   | 7/10 [02:33<00:53, 17.75s/it]"
     ]
    },
    {
     "name": "stdout",
     "output_type": "stream",
     "text": [
      "Scenario pkl file for box truck in the same lane as a school bus_e2e921fe saved successfully.\n",
      "/home/crdavids/Trinity-Sync/refbot/output/sm_predictions/val/e2e921fe-e489-3656-a0a2-5e17bd399ddf/making a left lane change while there is a vehicle to the right_e2e921fe_claude-3-5-sonnet_predictions.pkl\n",
      "Cached scenario prediction found\n"
     ]
    },
    {
     "name": "stderr",
     "output_type": "stream",
     "text": [
      "132/149:  80%|████████  | 8/10 [02:42<00:29, 14.99s/it]"
     ]
    },
    {
     "name": "stdout",
     "output_type": "stream",
     "text": [
      "Scenario pkl file for making a left lane change while there is a vehicle to the right_e2e921fe saved successfully.\n",
      "/home/crdavids/Trinity-Sync/refbot/output/sm_predictions/val/e2e921fe-e489-3656-a0a2-5e17bd399ddf/accelerating passenger vehicle_e2e921fe_claude-3-5-sonnet_predictions.pkl\n",
      "Cached scenario prediction found\n"
     ]
    },
    {
     "name": "stderr",
     "output_type": "stream",
     "text": [
      "132/149:  90%|█████████ | 9/10 [02:49<00:12, 12.48s/it]"
     ]
    },
    {
     "name": "stdout",
     "output_type": "stream",
     "text": [
      "Scenario pkl file for accelerating passenger vehicle_e2e921fe saved successfully.\n",
      "/home/crdavids/Trinity-Sync/refbot/output/sm_predictions/val/e2e921fe-e489-3656-a0a2-5e17bd399ddf/bus with another bus in its lane_e2e921fe_claude-3-5-sonnet_predictions.pkl\n",
      "Cached scenario prediction found\n"
     ]
    },
    {
     "name": "stderr",
     "output_type": "stream",
     "text": [
      "132/149: 100%|██████████| 10/10 [02:56<00:00, 17.65s/it]\n"
     ]
    },
    {
     "name": "stdout",
     "output_type": "stream",
     "text": [
      "Scenario pkl file for bus with another bus in its lane_e2e921fe saved successfully.\n",
      "e42aa296-0e5d-4733-87ec-131a82f917bc\n"
     ]
    },
    {
     "name": "stderr",
     "output_type": "stream",
     "text": [
      "133/149:   0%|          | 0/10 [00:00<?, ?it/s]"
     ]
    },
    {
     "name": "stdout",
     "output_type": "stream",
     "text": [
      "/home/crdavids/Trinity-Sync/refbot/output/sm_predictions/val/e42aa296-0e5d-4733-87ec-131a82f917bc/vehicle two cars ahead is being crossed by a pedestrian_e42aa296_claude-3-5-sonnet_predictions.pkl\n",
      "Cached scenario prediction found\n"
     ]
    },
    {
     "name": "stderr",
     "output_type": "stream",
     "text": [
      "133/149:  10%|█         | 1/10 [00:29<04:25, 29.47s/it]"
     ]
    },
    {
     "name": "stdout",
     "output_type": "stream",
     "text": [
      "Scenario pkl file for vehicle two cars ahead is being crossed by a pedestrian_e42aa296 saved successfully.\n",
      "/home/crdavids/Trinity-Sync/refbot/output/sm_predictions/val/e42aa296-0e5d-4733-87ec-131a82f917bc/stopped car_e42aa296_claude-3-5-sonnet_predictions.pkl\n",
      "Cached scenario prediction found\n"
     ]
    },
    {
     "name": "stderr",
     "output_type": "stream",
     "text": [
      "133/149:  20%|██        | 2/10 [00:37<02:16, 17.05s/it]"
     ]
    },
    {
     "name": "stdout",
     "output_type": "stream",
     "text": [
      "Scenario pkl file for stopped car_e42aa296 saved successfully.\n",
      "/home/crdavids/Trinity-Sync/refbot/output/sm_predictions/val/e42aa296-0e5d-4733-87ec-131a82f917bc/vehicle two vehicles ahead is being crossed by a pedestrian_e42aa296_claude-3-5-sonnet_predictions.pkl\n",
      "Cached scenario prediction found\n"
     ]
    },
    {
     "name": "stderr",
     "output_type": "stream",
     "text": [
      "133/149:  30%|███       | 3/10 [02:26<06:53, 59.08s/it]"
     ]
    },
    {
     "name": "stdout",
     "output_type": "stream",
     "text": [
      "Scenario pkl file for vehicle two vehicles ahead is being crossed by a pedestrian_e42aa296 saved successfully.\n",
      "/home/crdavids/Trinity-Sync/refbot/output/sm_predictions/val/e42aa296-0e5d-4733-87ec-131a82f917bc/ego vehicle near bollard_e42aa296_claude-3-5-sonnet_predictions.pkl\n",
      "Cached scenario prediction found\n"
     ]
    },
    {
     "name": "stderr",
     "output_type": "stream",
     "text": [
      "133/149:  40%|████      | 4/10 [02:37<03:59, 39.88s/it]"
     ]
    },
    {
     "name": "stdout",
     "output_type": "stream",
     "text": [
      "Scenario pkl file for ego vehicle near bollard_e42aa296 saved successfully.\n",
      "/home/crdavids/Trinity-Sync/refbot/output/sm_predictions/val/e42aa296-0e5d-4733-87ec-131a82f917bc/vehicle directly facing a moving pedestrian from 5-15 meters away_e42aa296_claude-3-5-sonnet_predictions.pkl\n",
      "Cached scenario prediction found\n"
     ]
    },
    {
     "name": "stderr",
     "output_type": "stream",
     "text": [
      "133/149:  50%|█████     | 5/10 [02:49<02:29, 29.99s/it]"
     ]
    },
    {
     "name": "stdout",
     "output_type": "stream",
     "text": [
      "Scenario pkl file for vehicle directly facing a moving pedestrian from 5-15 meters away_e42aa296 saved successfully.\n",
      "/home/crdavids/Trinity-Sync/refbot/output/sm_predictions/val/e42aa296-0e5d-4733-87ec-131a82f917bc/pedestrian crossing at bollard_e42aa296_claude-3-5-sonnet_predictions.pkl\n",
      "Cached scenario prediction found\n"
     ]
    },
    {
     "name": "stderr",
     "output_type": "stream",
     "text": [
      "133/149:  60%|██████    | 6/10 [04:16<03:16, 49.17s/it]"
     ]
    },
    {
     "name": "stdout",
     "output_type": "stream",
     "text": [
      "Scenario pkl file for pedestrian crossing at bollard_e42aa296 saved successfully.\n",
      "/home/crdavids/Trinity-Sync/refbot/output/sm_predictions/val/e42aa296-0e5d-4733-87ec-131a82f917bc/moving vehicles that are not on the road_e42aa296_claude-3-5-sonnet_predictions.pkl\n",
      "Cached scenario prediction found\n"
     ]
    },
    {
     "name": "stderr",
     "output_type": "stream",
     "text": [
      "133/149:  70%|███████   | 7/10 [04:25<01:48, 36.24s/it]"
     ]
    },
    {
     "name": "stdout",
     "output_type": "stream",
     "text": [
      "Scenario pkl file for moving vehicles that are not on the road_e42aa296 saved successfully.\n",
      "/home/crdavids/Trinity-Sync/refbot/output/sm_predictions/val/e42aa296-0e5d-4733-87ec-131a82f917bc/accelerating vehicle changing lanes to the right_e42aa296_claude-3-5-sonnet_predictions.pkl\n",
      "Cached scenario prediction found\n"
     ]
    },
    {
     "name": "stderr",
     "output_type": "stream",
     "text": [
      "133/149:  80%|████████  | 8/10 [04:35<00:55, 27.91s/it]"
     ]
    },
    {
     "name": "stdout",
     "output_type": "stream",
     "text": [
      "Scenario pkl file for accelerating vehicle changing lanes to the right_e42aa296 saved successfully.\n",
      "/home/crdavids/Trinity-Sync/refbot/output/sm_predictions/val/e42aa296-0e5d-4733-87ec-131a82f917bc/pedestrian near construction cone_e42aa296_claude-3-5-sonnet_predictions.pkl\n",
      "Cached scenario prediction found\n"
     ]
    },
    {
     "name": "stderr",
     "output_type": "stream",
     "text": [
      "133/149:  90%|█████████ | 9/10 [04:49<00:23, 23.51s/it]"
     ]
    },
    {
     "name": "stdout",
     "output_type": "stream",
     "text": [
      "Scenario pkl file for pedestrian near construction cone_e42aa296 saved successfully.\n",
      "/home/crdavids/Trinity-Sync/refbot/output/sm_predictions/val/e42aa296-0e5d-4733-87ec-131a82f917bc/pedestrian facing toward the bus_e42aa296_claude-3-5-sonnet_predictions.pkl\n",
      "Cached scenario prediction found\n"
     ]
    },
    {
     "name": "stderr",
     "output_type": "stream",
     "text": [
      "133/149: 100%|██████████| 10/10 [05:05<00:00, 30.51s/it]\n"
     ]
    },
    {
     "name": "stdout",
     "output_type": "stream",
     "text": [
      "Scenario pkl file for pedestrian facing toward the bus_e42aa296 saved successfully.\n",
      "e50e7698-de3d-355f-aca2-eddd09c09533\n"
     ]
    },
    {
     "name": "stderr",
     "output_type": "stream",
     "text": [
      "134/149:   0%|          | 0/10 [00:00<?, ?it/s]"
     ]
    },
    {
     "name": "stdout",
     "output_type": "stream",
     "text": [
      "/home/crdavids/Trinity-Sync/refbot/output/sm_predictions/val/e50e7698-de3d-355f-aca2-eddd09c09533/bicycle sharing lane as a regular vehicle_e50e7698_claude-3-5-sonnet_predictions.pkl\n",
      "bicycle sharing lane as a regular vehicle definition saved to output/llm_scenario_predictions/claude-3-5-sonnet\n"
     ]
    },
    {
     "name": "stderr",
     "output_type": "stream",
     "text": [
      "134/149:  10%|█         | 1/10 [00:19<02:51, 19.05s/it]"
     ]
    },
    {
     "name": "stdout",
     "output_type": "stream",
     "text": [
      "Scenario pkl file for bicycle sharing lane with regular vehicle_e50e7698 saved successfully.\n",
      "/home/crdavids/Trinity-Sync/refbot/output/sm_predictions/val/e50e7698-de3d-355f-aca2-eddd09c09533/group of pedestrians ahead of the ego vehicle_e50e7698_claude-3-5-sonnet_predictions.pkl\n",
      "Cached scenario prediction found\n"
     ]
    },
    {
     "name": "stderr",
     "output_type": "stream",
     "text": [
      "134/149:  20%|██        | 2/10 [00:32<02:06, 15.82s/it]"
     ]
    },
    {
     "name": "stdout",
     "output_type": "stream",
     "text": [
      "Scenario pkl file for group of pedestrians ahead of the ego vehicle_e50e7698 saved successfully.\n",
      "/home/crdavids/Trinity-Sync/refbot/output/sm_predictions/val/e50e7698-de3d-355f-aca2-eddd09c09533/group of people_e50e7698_claude-3-5-sonnet_predictions.pkl\n",
      "Cached scenario prediction found\n"
     ]
    },
    {
     "name": "stderr",
     "output_type": "stream",
     "text": [
      "134/149:  30%|███       | 3/10 [02:14<06:26, 55.22s/it]"
     ]
    },
    {
     "name": "stdout",
     "output_type": "stream",
     "text": [
      "Scenario pkl file for group of people_e50e7698 saved successfully.\n",
      "/home/crdavids/Trinity-Sync/refbot/output/sm_predictions/val/e50e7698-de3d-355f-aca2-eddd09c09533/accelerating truck_e50e7698_claude-3-5-sonnet_predictions.pkl\n",
      "Cached scenario prediction found\n"
     ]
    },
    {
     "name": "stderr",
     "output_type": "stream",
     "text": [
      "134/149:  40%|████      | 4/10 [02:21<03:37, 36.28s/it]"
     ]
    },
    {
     "name": "stdout",
     "output_type": "stream",
     "text": [
      "Scenario pkl file for accelerating truck_e50e7698 saved successfully.\n",
      "/home/crdavids/Trinity-Sync/refbot/output/sm_predictions/val/e50e7698-de3d-355f-aca2-eddd09c09533/ego vehicle approaching pedestrian at crosswalk_e50e7698_claude-3-5-sonnet_predictions.pkl\n",
      "Cached scenario prediction found\n"
     ]
    },
    {
     "name": "stderr",
     "output_type": "stream",
     "text": [
      "134/149:  50%|█████     | 5/10 [02:33<02:16, 27.26s/it]"
     ]
    },
    {
     "name": "stdout",
     "output_type": "stream",
     "text": [
      "Scenario pkl file for ego vehicle approaching pedestrian at crosswalk_e50e7698 saved successfully.\n",
      "/home/crdavids/Trinity-Sync/refbot/output/sm_predictions/val/e50e7698-de3d-355f-aca2-eddd09c09533/bicycle facing toward a vehicle_e50e7698_claude-3-5-sonnet_predictions.pkl\n",
      "Cached scenario prediction found\n"
     ]
    },
    {
     "name": "stderr",
     "output_type": "stream",
     "text": [
      "134/149:  60%|██████    | 6/10 [02:43<01:25, 21.39s/it]"
     ]
    },
    {
     "name": "stdout",
     "output_type": "stream",
     "text": [
      "Scenario pkl file for bicycle facing toward a vehicle_e50e7698 saved successfully.\n",
      "/home/crdavids/Trinity-Sync/refbot/output/sm_predictions/val/e50e7698-de3d-355f-aca2-eddd09c09533/bicycle traveling alongside parked vehicles_e50e7698_claude-3-5-sonnet_predictions.pkl\n",
      "Cached scenario prediction found\n"
     ]
    },
    {
     "name": "stderr",
     "output_type": "stream",
     "text": [
      "134/149:  70%|███████   | 7/10 [03:10<01:10, 23.45s/it]"
     ]
    },
    {
     "name": "stdout",
     "output_type": "stream",
     "text": [
      "Scenario pkl file for bicycle traveling alongside parked vehicles_e50e7698 saved successfully.\n",
      "/home/crdavids/Trinity-Sync/refbot/output/sm_predictions/val/e50e7698-de3d-355f-aca2-eddd09c09533/vehicle approaching multiple pedestrians at crosswalk_e50e7698_claude-3-5-sonnet_predictions.pkl\n",
      "Cached scenario prediction found\n"
     ]
    },
    {
     "name": "stderr",
     "output_type": "stream",
     "text": [
      "134/149:  80%|████████  | 8/10 [03:22<00:39, 19.80s/it]"
     ]
    },
    {
     "name": "stdout",
     "output_type": "stream",
     "text": [
      "Scenario pkl file for vehicle approaching multiple pedestrians at crosswalk_e50e7698 saved successfully.\n",
      "/home/crdavids/Trinity-Sync/refbot/output/sm_predictions/val/e50e7698-de3d-355f-aca2-eddd09c09533/pedestrian near construction cone_e50e7698_claude-3-5-sonnet_predictions.pkl\n",
      "Cached scenario prediction found\n"
     ]
    },
    {
     "name": "stderr",
     "output_type": "stream",
     "text": [
      "134/149:  90%|█████████ | 9/10 [03:44<00:20, 20.27s/it]"
     ]
    },
    {
     "name": "stdout",
     "output_type": "stream",
     "text": [
      "Scenario pkl file for pedestrian near construction cone_e50e7698 saved successfully.\n",
      "/home/crdavids/Trinity-Sync/refbot/output/sm_predictions/val/e50e7698-de3d-355f-aca2-eddd09c09533/vehicle facing a group of three or more pedestrians at a crosswalk within 10 meters_e50e7698_claude-3-5-sonnet_predictions.pkl\n",
      "Cached scenario prediction found\n"
     ]
    },
    {
     "name": "stderr",
     "output_type": "stream",
     "text": [
      "134/149: 100%|██████████| 10/10 [03:56<00:00, 23.63s/it]\n"
     ]
    },
    {
     "name": "stdout",
     "output_type": "stream",
     "text": [
      "Scenario pkl file for vehicle facing a group of three or more pedestrians at a crosswalk within 10 meters_e50e7698 saved successfully.\n",
      "e72ef05c-8b94-3885-a34f-fff3b2b954b4\n"
     ]
    },
    {
     "name": "stderr",
     "output_type": "stream",
     "text": [
      "135/149:   0%|          | 0/10 [00:00<?, ?it/s]"
     ]
    },
    {
     "name": "stdout",
     "output_type": "stream",
     "text": [
      "/home/crdavids/Trinity-Sync/refbot/output/sm_predictions/val/e72ef05c-8b94-3885-a34f-fff3b2b954b4/stationary object_e72ef05c_claude-3-5-sonnet_predictions.pkl\n",
      "Cached scenario prediction found\n"
     ]
    },
    {
     "name": "stderr",
     "output_type": "stream",
     "text": [
      "135/149:  10%|█         | 1/10 [00:13<02:04, 13.85s/it]"
     ]
    },
    {
     "name": "stdout",
     "output_type": "stream",
     "text": [
      "Scenario pkl file for stationary object_e72ef05c saved successfully.\n",
      "/home/crdavids/Trinity-Sync/refbot/output/sm_predictions/val/e72ef05c-8b94-3885-a34f-fff3b2b954b4/vehicle two vehicles ahead is at a stop sign_e72ef05c_claude-3-5-sonnet_predictions.pkl\n",
      "Cached scenario prediction found\n"
     ]
    },
    {
     "name": "stderr",
     "output_type": "stream",
     "text": [
      "135/149:  20%|██        | 2/10 [00:27<01:50, 13.83s/it]"
     ]
    },
    {
     "name": "stdout",
     "output_type": "stream",
     "text": [
      "Scenario pkl file for vehicle two vehicles ahead is at a stop sign_e72ef05c saved successfully.\n",
      "/home/crdavids/Trinity-Sync/refbot/output/sm_predictions/val/e72ef05c-8b94-3885-a34f-fff3b2b954b4/ego vehicle with vehicles on both sides_e72ef05c_claude-3-5-sonnet_predictions.pkl\n",
      "Cached scenario prediction found\n"
     ]
    },
    {
     "name": "stderr",
     "output_type": "stream",
     "text": [
      "135/149:  30%|███       | 3/10 [00:45<01:49, 15.58s/it]"
     ]
    },
    {
     "name": "stdout",
     "output_type": "stream",
     "text": [
      "Scenario pkl file for ego vehicle with vehicles on both sides_e72ef05c saved successfully.\n",
      "/home/crdavids/Trinity-Sync/refbot/output/sm_predictions/val/e72ef05c-8b94-3885-a34f-fff3b2b954b4/pedestrian near construction cone_e72ef05c_claude-3-5-sonnet_predictions.pkl\n",
      "Cached scenario prediction found\n"
     ]
    },
    {
     "name": "stderr",
     "output_type": "stream",
     "text": [
      "135/149:  40%|████      | 4/10 [01:02<01:36, 16.14s/it]"
     ]
    },
    {
     "name": "stdout",
     "output_type": "stream",
     "text": [
      "Scenario pkl file for pedestrian near construction cone_e72ef05c saved successfully.\n",
      "/home/crdavids/Trinity-Sync/refbot/output/sm_predictions/val/e72ef05c-8b94-3885-a34f-fff3b2b954b4/the vehicle two cars in front of the ego vehicle_e72ef05c_claude-3-5-sonnet_predictions.pkl\n",
      "Cached scenario prediction found\n"
     ]
    },
    {
     "name": "stderr",
     "output_type": "stream",
     "text": [
      "135/149:  50%|█████     | 5/10 [01:29<01:40, 20.10s/it]"
     ]
    },
    {
     "name": "stdout",
     "output_type": "stream",
     "text": [
      "Scenario pkl file for the vehicle two cars in front of the ego vehicle_e72ef05c saved successfully.\n",
      "/home/crdavids/Trinity-Sync/refbot/output/sm_predictions/val/e72ef05c-8b94-3885-a34f-fff3b2b954b4/vehicle facing and heading toward pedestrian group_e72ef05c_claude-3-5-sonnet_predictions.pkl\n",
      "Cached scenario prediction found\n"
     ]
    },
    {
     "name": "stderr",
     "output_type": "stream",
     "text": [
      "135/149:  60%|██████    | 6/10 [01:58<01:31, 22.99s/it]"
     ]
    },
    {
     "name": "stdout",
     "output_type": "stream",
     "text": [
      "Scenario pkl file for vehicle facing and heading toward pedestrian group_e72ef05c saved successfully.\n",
      "/home/crdavids/Trinity-Sync/refbot/output/sm_predictions/val/e72ef05c-8b94-3885-a34f-fff3b2b954b4/vehicle behind another vehicle that has a pedestrian on its right side_e72ef05c_claude-3-5-sonnet_predictions.pkl\n",
      "Cached scenario prediction found\n"
     ]
    },
    {
     "name": "stderr",
     "output_type": "stream",
     "text": [
      "135/149:  70%|███████   | 7/10 [02:45<01:33, 31.09s/it]"
     ]
    },
    {
     "name": "stdout",
     "output_type": "stream",
     "text": [
      "Scenario pkl file for vehicle behind another vehicle that has a pedestrian on its right side_e72ef05c saved successfully.\n",
      "/home/crdavids/Trinity-Sync/refbot/output/sm_predictions/val/e72ef05c-8b94-3885-a34f-fff3b2b954b4/a group of people_e72ef05c_claude-3-5-sonnet_predictions.pkl\n",
      "Cached scenario prediction found\n"
     ]
    },
    {
     "name": "stderr",
     "output_type": "stream",
     "text": [
      "135/149:  80%|████████  | 8/10 [03:10<00:58, 29.11s/it]"
     ]
    },
    {
     "name": "stdout",
     "output_type": "stream",
     "text": [
      "Scenario pkl file for a group of people_e72ef05c saved successfully.\n",
      "/home/crdavids/Trinity-Sync/refbot/output/sm_predictions/val/e72ef05c-8b94-3885-a34f-fff3b2b954b4/vehicle two vehicles ahead is turning_e72ef05c_claude-3-5-sonnet_predictions.pkl\n",
      "Cached scenario prediction found\n"
     ]
    },
    {
     "name": "stderr",
     "output_type": "stream",
     "text": [
      "135/149:  90%|█████████ | 9/10 [03:22<00:23, 23.68s/it]"
     ]
    },
    {
     "name": "stdout",
     "output_type": "stream",
     "text": [
      "Scenario pkl file for vehicle two vehicles ahead is turning_e72ef05c saved successfully.\n",
      "/home/crdavids/Trinity-Sync/refbot/output/sm_predictions/val/e72ef05c-8b94-3885-a34f-fff3b2b954b4/group of people_e72ef05c_claude-3-5-sonnet_predictions.pkl\n",
      "Cached scenario prediction found\n"
     ]
    },
    {
     "name": "stderr",
     "output_type": "stream",
     "text": [
      "135/149: 100%|██████████| 10/10 [03:46<00:00, 22.68s/it]\n"
     ]
    },
    {
     "name": "stdout",
     "output_type": "stream",
     "text": [
      "Scenario pkl file for group of people_e72ef05c saved successfully.\n",
      "e8c9fd64-fdd2-422d-a2a2-6f47500d1d12\n"
     ]
    },
    {
     "name": "stderr",
     "output_type": "stream",
     "text": [
      "136/149:   0%|          | 0/10 [00:00<?, ?it/s]"
     ]
    },
    {
     "name": "stdout",
     "output_type": "stream",
     "text": [
      "/home/crdavids/Trinity-Sync/refbot/output/sm_predictions/val/e8c9fd64-fdd2-422d-a2a2-6f47500d1d12/vehicle passing stopped truck with pedestrian nearby_e8c9fd64_claude-3-5-sonnet_predictions.pkl\n",
      "Cached scenario prediction found\n"
     ]
    },
    {
     "name": "stderr",
     "output_type": "stream",
     "text": [
      "136/149:  10%|█         | 1/10 [00:16<02:26, 16.31s/it]"
     ]
    },
    {
     "name": "stdout",
     "output_type": "stream",
     "text": [
      "Scenario pkl file for vehicle passing stopped truck with pedestrian nearby_e8c9fd64 saved successfully.\n",
      "/home/crdavids/Trinity-Sync/refbot/output/sm_predictions/val/e8c9fd64-fdd2-422d-a2a2-6f47500d1d12/motorcycle between stopped vehicles_e8c9fd64_claude-3-5-sonnet_predictions.pkl\n",
      "Cached scenario prediction found\n"
     ]
    },
    {
     "name": "stderr",
     "output_type": "stream",
     "text": [
      "136/149:  20%|██        | 2/10 [00:26<01:43, 12.92s/it]"
     ]
    },
    {
     "name": "stdout",
     "output_type": "stream",
     "text": [
      "Scenario pkl file for motorcycle between stopped vehicles_e8c9fd64 saved successfully.\n",
      "/home/crdavids/Trinity-Sync/refbot/output/sm_predictions/val/e8c9fd64-fdd2-422d-a2a2-6f47500d1d12/oncoming vehicle changing lanes_e8c9fd64_claude-3-5-sonnet_predictions.pkl\n",
      "Cached scenario prediction found\n"
     ]
    },
    {
     "name": "stderr",
     "output_type": "stream",
     "text": [
      "136/149:  30%|███       | 3/10 [00:37<01:23, 11.93s/it]"
     ]
    },
    {
     "name": "stdout",
     "output_type": "stream",
     "text": [
      "Scenario pkl file for oncoming vehicle changing lanes_e8c9fd64 saved successfully.\n",
      "/home/crdavids/Trinity-Sync/refbot/output/sm_predictions/val/e8c9fd64-fdd2-422d-a2a2-6f47500d1d12/group of pedestrians ahead of the ego vehicle_e8c9fd64_claude-3-5-sonnet_predictions.pkl\n",
      "Cached scenario prediction found\n"
     ]
    },
    {
     "name": "stderr",
     "output_type": "stream",
     "text": [
      "136/149:  40%|████      | 4/10 [00:50<01:12, 12.12s/it]"
     ]
    },
    {
     "name": "stdout",
     "output_type": "stream",
     "text": [
      "Scenario pkl file for group of pedestrians ahead of the ego vehicle_e8c9fd64 saved successfully.\n",
      "/home/crdavids/Trinity-Sync/refbot/output/sm_predictions/val/e8c9fd64-fdd2-422d-a2a2-6f47500d1d12/accelerating truck_e8c9fd64_claude-3-5-sonnet_predictions.pkl\n",
      "Cached scenario prediction found\n"
     ]
    },
    {
     "name": "stderr",
     "output_type": "stream",
     "text": [
      "136/149:  50%|█████     | 5/10 [00:56<00:50, 10.04s/it]"
     ]
    },
    {
     "name": "stdout",
     "output_type": "stream",
     "text": [
      "Scenario pkl file for accelerating truck_e8c9fd64 saved successfully.\n",
      "/home/crdavids/Trinity-Sync/refbot/output/sm_predictions/val/e8c9fd64-fdd2-422d-a2a2-6f47500d1d12/ego vehicle near construction cone_e8c9fd64_claude-3-5-sonnet_predictions.pkl\n",
      "Cached scenario prediction found\n"
     ]
    },
    {
     "name": "stderr",
     "output_type": "stream",
     "text": [
      "136/149:  60%|██████    | 6/10 [01:03<00:36,  9.09s/it]"
     ]
    },
    {
     "name": "stdout",
     "output_type": "stream",
     "text": [
      "Scenario pkl file for ego vehicle near construction cone_e8c9fd64 saved successfully.\n",
      "/home/crdavids/Trinity-Sync/refbot/output/sm_predictions/val/e8c9fd64-fdd2-422d-a2a2-6f47500d1d12/vehicle with a bicycle to its right_e8c9fd64_claude-3-5-sonnet_predictions.pkl\n",
      "Cached scenario prediction found\n"
     ]
    },
    {
     "name": "stderr",
     "output_type": "stream",
     "text": [
      "136/149:  70%|███████   | 7/10 [01:24<00:38, 12.98s/it]"
     ]
    },
    {
     "name": "stdout",
     "output_type": "stream",
     "text": [
      "Scenario pkl file for vehicle with a bicycle to its right_e8c9fd64 saved successfully.\n",
      "/home/crdavids/Trinity-Sync/refbot/output/sm_predictions/val/e8c9fd64-fdd2-422d-a2a2-6f47500d1d12/ego vehicle with parked bicycles ahead_e8c9fd64_claude-3-5-sonnet_predictions.pkl\n",
      "Cached scenario prediction found\n"
     ]
    },
    {
     "name": "stderr",
     "output_type": "stream",
     "text": [
      "136/149:  80%|████████  | 8/10 [01:32<00:22, 11.47s/it]"
     ]
    },
    {
     "name": "stdout",
     "output_type": "stream",
     "text": [
      "Scenario pkl file for ego vehicle with parked bicycles ahead_e8c9fd64 saved successfully.\n",
      "/home/crdavids/Trinity-Sync/refbot/output/sm_predictions/val/e8c9fd64-fdd2-422d-a2a2-6f47500d1d12/motorcycle between two vehicles_e8c9fd64_claude-3-5-sonnet_predictions.pkl\n",
      "Cached scenario prediction found\n"
     ]
    },
    {
     "name": "stderr",
     "output_type": "stream",
     "text": [
      "136/149:  90%|█████████ | 9/10 [01:40<00:10, 10.28s/it]"
     ]
    },
    {
     "name": "stdout",
     "output_type": "stream",
     "text": [
      "Scenario pkl file for motorcycle between two vehicles_e8c9fd64 saved successfully.\n",
      "/home/crdavids/Trinity-Sync/refbot/output/sm_predictions/val/e8c9fd64-fdd2-422d-a2a2-6f47500d1d12/group of people_e8c9fd64_claude-3-5-sonnet_predictions.pkl\n",
      "Cached scenario prediction found\n"
     ]
    },
    {
     "name": "stderr",
     "output_type": "stream",
     "text": [
      "136/149: 100%|██████████| 10/10 [03:10<00:00, 19.09s/it]\n"
     ]
    },
    {
     "name": "stdout",
     "output_type": "stream",
     "text": [
      "Scenario pkl file for group of people_e8c9fd64 saved successfully.\n",
      "ecbe6def-7560-352c-8822-b2b92613e1e4\n"
     ]
    },
    {
     "name": "stderr",
     "output_type": "stream",
     "text": [
      "137/149:   0%|          | 0/10 [00:00<?, ?it/s]"
     ]
    },
    {
     "name": "stdout",
     "output_type": "stream",
     "text": [
      "/home/crdavids/Trinity-Sync/refbot/output/sm_predictions/val/ecbe6def-7560-352c-8822-b2b92613e1e4/making a left lane change while there is a vehicle to the right_ecbe6def_claude-3-5-sonnet_predictions.pkl\n",
      "Cached scenario prediction found\n"
     ]
    },
    {
     "name": "stderr",
     "output_type": "stream",
     "text": [
      "137/149:  10%|█         | 1/10 [00:14<02:14, 14.90s/it]"
     ]
    },
    {
     "name": "stdout",
     "output_type": "stream",
     "text": [
      "Scenario pkl file for making a left lane change while there is a vehicle to the right_ecbe6def saved successfully.\n",
      "/home/crdavids/Trinity-Sync/refbot/output/sm_predictions/val/ecbe6def-7560-352c-8822-b2b92613e1e4/ego vehicle with vehicles on both sides_ecbe6def_claude-3-5-sonnet_predictions.pkl\n",
      "Cached scenario prediction found\n"
     ]
    },
    {
     "name": "stderr",
     "output_type": "stream",
     "text": [
      "137/149:  20%|██        | 2/10 [00:37<02:33, 19.16s/it]"
     ]
    },
    {
     "name": "stdout",
     "output_type": "stream",
     "text": [
      "Scenario pkl file for ego vehicle with vehicles on both sides_ecbe6def saved successfully.\n",
      "/home/crdavids/Trinity-Sync/refbot/output/sm_predictions/val/ecbe6def-7560-352c-8822-b2b92613e1e4/passenger vehicle turning right_ecbe6def_claude-3-5-sonnet_predictions.pkl\n",
      "Cached scenario prediction found\n"
     ]
    },
    {
     "name": "stderr",
     "output_type": "stream",
     "text": [
      "137/149:  30%|███       | 3/10 [00:47<01:46, 15.21s/it]"
     ]
    },
    {
     "name": "stdout",
     "output_type": "stream",
     "text": [
      "Scenario pkl file for passenger vehicle turning right_ecbe6def saved successfully.\n",
      "/home/crdavids/Trinity-Sync/refbot/output/sm_predictions/val/ecbe6def-7560-352c-8822-b2b92613e1e4/vehicle being followed by ego vehilce while being overtaken on right_ecbe6def_claude-3-5-sonnet_predictions.pkl\n",
      "vehicle being followed by ego vehilce while being overtaken on right definition saved to output/llm_scenario_predictions/claude-3-5-sonnet\n"
     ]
    },
    {
     "name": "stderr",
     "output_type": "stream",
     "text": [
      "137/149:  40%|████      | 4/10 [01:04<01:35, 15.87s/it]"
     ]
    },
    {
     "name": "stdout",
     "output_type": "stream",
     "text": [
      "Scenario pkl file for vehicle being followed by ego vehicle while being overtaken on right_ecbe6def saved successfully.\n",
      "/home/crdavids/Trinity-Sync/refbot/output/sm_predictions/val/ecbe6def-7560-352c-8822-b2b92613e1e4/pedestrian crossing between bollards_ecbe6def_claude-3-5-sonnet_predictions.pkl\n",
      "Cached scenario prediction found\n"
     ]
    },
    {
     "name": "stderr",
     "output_type": "stream",
     "text": [
      "137/149:  50%|█████     | 5/10 [01:34<01:45, 21.06s/it]"
     ]
    },
    {
     "name": "stdout",
     "output_type": "stream",
     "text": [
      "Scenario pkl file for pedestrian crossing between bollards_ecbe6def saved successfully.\n",
      "/home/crdavids/Trinity-Sync/refbot/output/sm_predictions/val/ecbe6def-7560-352c-8822-b2b92613e1e4/pedestrian near construction cone_ecbe6def_claude-3-5-sonnet_predictions.pkl\n",
      "Cached scenario prediction found\n"
     ]
    },
    {
     "name": "stderr",
     "output_type": "stream",
     "text": [
      "137/149:  60%|██████    | 6/10 [01:52<01:19, 19.88s/it]"
     ]
    },
    {
     "name": "stdout",
     "output_type": "stream",
     "text": [
      "Scenario pkl file for pedestrian near construction cone_ecbe6def saved successfully.\n",
      "/home/crdavids/Trinity-Sync/refbot/output/sm_predictions/val/ecbe6def-7560-352c-8822-b2b92613e1e4/ego vehicle changing lanes to the left_ecbe6def_claude-3-5-sonnet_predictions.pkl\n",
      "Cached scenario prediction found\n"
     ]
    },
    {
     "name": "stderr",
     "output_type": "stream",
     "text": [
      "137/149:  70%|███████   | 7/10 [02:00<00:48, 16.15s/it]"
     ]
    },
    {
     "name": "stdout",
     "output_type": "stream",
     "text": [
      "Scenario pkl file for ego vehicle changing lanes to the left_ecbe6def saved successfully.\n",
      "/home/crdavids/Trinity-Sync/refbot/output/sm_predictions/val/ecbe6def-7560-352c-8822-b2b92613e1e4/car turning right_ecbe6def_claude-3-5-sonnet_predictions.pkl\n",
      "Cached scenario prediction found\n"
     ]
    },
    {
     "name": "stderr",
     "output_type": "stream",
     "text": [
      "137/149:  80%|████████  | 8/10 [02:10<00:28, 14.07s/it]"
     ]
    },
    {
     "name": "stdout",
     "output_type": "stream",
     "text": [
      "Scenario pkl file for car turning right_ecbe6def saved successfully.\n",
      "/home/crdavids/Trinity-Sync/refbot/output/sm_predictions/val/ecbe6def-7560-352c-8822-b2b92613e1e4/the vehicle two cars in front of the ego vehicle_ecbe6def_claude-3-5-sonnet_predictions.pkl\n",
      "Cached scenario prediction found\n"
     ]
    },
    {
     "name": "stderr",
     "output_type": "stream",
     "text": [
      "137/149:  90%|█████████ | 9/10 [02:52<00:22, 22.85s/it]"
     ]
    },
    {
     "name": "stdout",
     "output_type": "stream",
     "text": [
      "Scenario pkl file for the vehicle two cars in front of the ego vehicle_ecbe6def saved successfully.\n",
      "/home/crdavids/Trinity-Sync/refbot/output/sm_predictions/val/ecbe6def-7560-352c-8822-b2b92613e1e4/group of three people_ecbe6def_claude-3-5-sonnet_predictions.pkl\n",
      "Cached scenario prediction found\n"
     ]
    },
    {
     "name": "stderr",
     "output_type": "stream",
     "text": [
      "137/149: 100%|██████████| 10/10 [03:16<00:00, 19.69s/it]\n"
     ]
    },
    {
     "name": "stdout",
     "output_type": "stream",
     "text": [
      "Scenario pkl file for group of three people_ecbe6def saved successfully.\n",
      "eec284b2-840a-3c75-aa42-04d2e309bbe1\n"
     ]
    },
    {
     "name": "stderr",
     "output_type": "stream",
     "text": [
      "138/149:   0%|          | 0/7 [00:00<?, ?it/s]"
     ]
    },
    {
     "name": "stdout",
     "output_type": "stream",
     "text": [
      "/home/crdavids/Trinity-Sync/refbot/output/sm_predictions/val/eec284b2-840a-3c75-aa42-04d2e309bbe1/bicycle facing toward a vehicle_eec284b2_claude-3-5-sonnet_predictions.pkl\n",
      "Cached scenario prediction found\n"
     ]
    },
    {
     "name": "stderr",
     "output_type": "stream",
     "text": [
      "138/149:  14%|█▍        | 1/7 [00:05<00:33,  5.56s/it]"
     ]
    },
    {
     "name": "stdout",
     "output_type": "stream",
     "text": [
      "Scenario pkl file for bicycle facing toward a vehicle_eec284b2 saved successfully.\n",
      "/home/crdavids/Trinity-Sync/refbot/output/sm_predictions/val/eec284b2-840a-3c75-aa42-04d2e309bbe1/parked vehicle_eec284b2_claude-3-5-sonnet_predictions.pkl\n",
      "Cached scenario prediction found\n"
     ]
    },
    {
     "name": "stderr",
     "output_type": "stream",
     "text": [
      "138/149:  29%|██▊       | 2/7 [00:13<00:33,  6.68s/it]"
     ]
    },
    {
     "name": "stdout",
     "output_type": "stream",
     "text": [
      "Scenario pkl file for parked vehicle_eec284b2 saved successfully.\n",
      "/home/crdavids/Trinity-Sync/refbot/output/sm_predictions/val/eec284b2-840a-3c75-aa42-04d2e309bbe1/ego vehicle two cars ahead of another vehicle_eec284b2_claude-3-5-sonnet_predictions.pkl\n",
      "Cached scenario prediction found\n"
     ]
    },
    {
     "name": "stderr",
     "output_type": "stream",
     "text": [
      "138/149:  43%|████▎     | 3/7 [00:22<00:32,  8.14s/it]"
     ]
    },
    {
     "name": "stdout",
     "output_type": "stream",
     "text": [
      "Scenario pkl file for ego vehicle two cars ahead of another vehicle_eec284b2 saved successfully.\n",
      "/home/crdavids/Trinity-Sync/refbot/output/sm_predictions/val/eec284b2-840a-3c75-aa42-04d2e309bbe1/bicycle traveling with vehicle traffic_eec284b2_claude-3-5-sonnet_predictions.pkl\n",
      "Cached scenario prediction found\n"
     ]
    },
    {
     "name": "stderr",
     "output_type": "stream",
     "text": [
      "138/149:  57%|█████▋    | 4/7 [00:44<00:40, 13.57s/it]"
     ]
    },
    {
     "name": "stdout",
     "output_type": "stream",
     "text": [
      "Scenario pkl file for bicycle traveling with vehicle traffic_eec284b2 saved successfully.\n",
      "/home/crdavids/Trinity-Sync/refbot/output/sm_predictions/val/eec284b2-840a-3c75-aa42-04d2e309bbe1/at least active 2 vehicles within 15 meters behind ego vehicle_eec284b2_claude-3-5-sonnet_predictions.pkl\n",
      "at least active 2 vehicles within 15 meters behind ego vehicle definition saved to output/llm_scenario_predictions/claude-3-5-sonnet\n"
     ]
    },
    {
     "name": "stderr",
     "output_type": "stream",
     "text": [
      "138/149:  71%|███████▏  | 5/7 [00:58<00:27, 13.60s/it]"
     ]
    },
    {
     "name": "stdout",
     "output_type": "stream",
     "text": [
      "Scenario pkl file for at least 2 active vehicles within 15 meters behind ego vehicle_eec284b2 saved successfully.\n",
      "/home/crdavids/Trinity-Sync/refbot/output/sm_predictions/val/eec284b2-840a-3c75-aa42-04d2e309bbe1/object that hasn't moved_eec284b2_claude-3-5-sonnet_predictions.pkl\n",
      "Cached scenario prediction found\n"
     ]
    },
    {
     "name": "stderr",
     "output_type": "stream",
     "text": [
      "138/149:  86%|████████▌ | 6/7 [01:02<00:10, 10.42s/it]"
     ]
    },
    {
     "name": "stdout",
     "output_type": "stream",
     "text": [
      "Scenario pkl file for object that hasn't moved_eec284b2 saved successfully.\n",
      "Default scenario prediction correctly generated.\n",
      "/home/crdavids/Trinity-Sync/refbot/output/sm_predictions/val/eec284b2-840a-3c75-aa42-04d2e309bbe1/vehicle behind another vehicle that has a pedestrian on its right side_eec284b2_claude-3-5-sonnet_predictions.pkl\n",
      "Cached scenario prediction found\n"
     ]
    },
    {
     "name": "stderr",
     "output_type": "stream",
     "text": [
      "138/149: 100%|██████████| 7/7 [01:22<00:00, 11.74s/it]\n"
     ]
    },
    {
     "name": "stdout",
     "output_type": "stream",
     "text": [
      "Scenario pkl file for vehicle behind another vehicle that has a pedestrian on its right side_eec284b2 saved successfully.\n",
      "f1275002-842e-3571-8f7d-05816bc7cf56\n"
     ]
    },
    {
     "name": "stderr",
     "output_type": "stream",
     "text": [
      "139/149:   0%|          | 0/10 [00:00<?, ?it/s]"
     ]
    },
    {
     "name": "stdout",
     "output_type": "stream",
     "text": [
      "/home/crdavids/Trinity-Sync/refbot/output/sm_predictions/val/f1275002-842e-3571-8f7d-05816bc7cf56/dog near an intersection_f1275002_claude-3-5-sonnet_predictions.pkl\n",
      "Cached scenario prediction found\n"
     ]
    },
    {
     "name": "stderr",
     "output_type": "stream",
     "text": [
      "139/149:  10%|█         | 1/10 [00:08<01:15,  8.37s/it]"
     ]
    },
    {
     "name": "stdout",
     "output_type": "stream",
     "text": [
      "Scenario pkl file for dog near an intersection_f1275002 saved successfully.\n",
      "/home/crdavids/Trinity-Sync/refbot/output/sm_predictions/val/f1275002-842e-3571-8f7d-05816bc7cf56/ego vehicle approaching stopped delivery truck_f1275002_claude-3-5-sonnet_predictions.pkl\n",
      "Cached scenario prediction found\n"
     ]
    },
    {
     "name": "stderr",
     "output_type": "stream",
     "text": [
      "139/149:  20%|██        | 2/10 [00:16<01:05,  8.13s/it]"
     ]
    },
    {
     "name": "stdout",
     "output_type": "stream",
     "text": [
      "Scenario pkl file for ego vehicle approaching stopped delivery truck_f1275002 saved successfully.\n",
      "/home/crdavids/Trinity-Sync/refbot/output/sm_predictions/val/f1275002-842e-3571-8f7d-05816bc7cf56/dog on roadway_f1275002_claude-3-5-sonnet_predictions.pkl\n",
      "Cached scenario prediction found\n"
     ]
    },
    {
     "name": "stderr",
     "output_type": "stream",
     "text": [
      "139/149:  30%|███       | 3/10 [00:24<00:56,  8.11s/it]"
     ]
    },
    {
     "name": "stdout",
     "output_type": "stream",
     "text": [
      "Scenario pkl file for dog on roadway_f1275002 saved successfully.\n",
      "/home/crdavids/Trinity-Sync/refbot/output/sm_predictions/val/f1275002-842e-3571-8f7d-05816bc7cf56/dog crossing in front of vehicle_f1275002_claude-3-5-sonnet_predictions.pkl\n",
      "dog crossing in front of vehicle definition saved to output/llm_scenario_predictions/claude-3-5-sonnet\n"
     ]
    },
    {
     "name": "stderr",
     "output_type": "stream",
     "text": [
      "139/149:  40%|████      | 4/10 [00:41<01:10, 11.71s/it]"
     ]
    },
    {
     "name": "stdout",
     "output_type": "stream",
     "text": [
      "Scenario pkl file for dog crossing in front of vehicle_f1275002 saved successfully.\n",
      "/home/crdavids/Trinity-Sync/refbot/output/sm_predictions/val/f1275002-842e-3571-8f7d-05816bc7cf56/box truck with multiple construction cones to its right_f1275002_claude-3-5-sonnet_predictions.pkl\n",
      "Cached scenario prediction found\n"
     ]
    },
    {
     "name": "stderr",
     "output_type": "stream",
     "text": [
      "139/149:  50%|█████     | 5/10 [00:50<00:54, 10.81s/it]"
     ]
    },
    {
     "name": "stdout",
     "output_type": "stream",
     "text": [
      "Scenario pkl file for box truck with multiple construction cones to its right_f1275002 saved successfully.\n",
      "/home/crdavids/Trinity-Sync/refbot/output/sm_predictions/val/f1275002-842e-3571-8f7d-05816bc7cf56/ego vehicle near construction cone_f1275002_claude-3-5-sonnet_predictions.pkl\n",
      "Cached scenario prediction found\n"
     ]
    },
    {
     "name": "stderr",
     "output_type": "stream",
     "text": [
      "139/149:  60%|██████    | 6/10 [00:59<00:40, 10.02s/it]"
     ]
    },
    {
     "name": "stdout",
     "output_type": "stream",
     "text": [
      "Scenario pkl file for ego vehicle near construction cone_f1275002 saved successfully.\n",
      "/home/crdavids/Trinity-Sync/refbot/output/sm_predictions/val/f1275002-842e-3571-8f7d-05816bc7cf56/vehicle following another vehicle too closely_f1275002_claude-3-5-sonnet_predictions.pkl\n",
      "Cached scenario prediction found\n"
     ]
    },
    {
     "name": "stderr",
     "output_type": "stream",
     "text": [
      "139/149:  70%|███████   | 7/10 [01:18<00:39, 13.07s/it]"
     ]
    },
    {
     "name": "stdout",
     "output_type": "stream",
     "text": [
      "Scenario pkl file for vehicle following another vehicle too closely_f1275002 saved successfully.\n",
      "/home/crdavids/Trinity-Sync/refbot/output/sm_predictions/val/f1275002-842e-3571-8f7d-05816bc7cf56/vehicle moving at crawling speed_f1275002_claude-3-5-sonnet_predictions.pkl\n",
      "Cached scenario prediction found\n"
     ]
    },
    {
     "name": "stderr",
     "output_type": "stream",
     "text": [
      "139/149:  80%|████████  | 8/10 [01:27<00:23, 11.80s/it]"
     ]
    },
    {
     "name": "stdout",
     "output_type": "stream",
     "text": [
      "Scenario pkl file for vehicle moving at crawling speed_f1275002 saved successfully.\n",
      "/home/crdavids/Trinity-Sync/refbot/output/sm_predictions/val/f1275002-842e-3571-8f7d-05816bc7cf56/parked box trucks_f1275002_claude-3-5-sonnet_predictions.pkl\n",
      "Cached scenario prediction found\n"
     ]
    },
    {
     "name": "stderr",
     "output_type": "stream",
     "text": [
      "139/149:  90%|█████████ | 9/10 [01:35<00:10, 10.40s/it]"
     ]
    },
    {
     "name": "stdout",
     "output_type": "stream",
     "text": [
      "Scenario pkl file for parked box trucks_f1275002 saved successfully.\n",
      "/home/crdavids/Trinity-Sync/refbot/output/sm_predictions/val/f1275002-842e-3571-8f7d-05816bc7cf56/vehicle within 5 meters of a bicycle_f1275002_claude-3-5-sonnet_predictions.pkl\n",
      "Cached scenario prediction found\n"
     ]
    },
    {
     "name": "stderr",
     "output_type": "stream",
     "text": [
      "139/149: 100%|██████████| 10/10 [01:55<00:00, 11.56s/it]\n"
     ]
    },
    {
     "name": "stdout",
     "output_type": "stream",
     "text": [
      "Scenario pkl file for vehicle within 5 meters of a bicycle_f1275002 saved successfully.\n",
      "f2576c8a-da9b-450e-88cf-a70af1b0eadf\n"
     ]
    },
    {
     "name": "stderr",
     "output_type": "stream",
     "text": [
      "140/149:   0%|          | 0/10 [00:00<?, ?it/s]"
     ]
    },
    {
     "name": "stdout",
     "output_type": "stream",
     "text": [
      "/home/crdavids/Trinity-Sync/refbot/output/sm_predictions/val/f2576c8a-da9b-450e-88cf-a70af1b0eadf/ego vehicle near construction cone_f2576c8a_claude-3-5-sonnet_predictions.pkl\n",
      "Cached scenario prediction found\n"
     ]
    },
    {
     "name": "stderr",
     "output_type": "stream",
     "text": [
      "140/149:  10%|█         | 1/10 [00:11<01:42, 11.41s/it]"
     ]
    },
    {
     "name": "stdout",
     "output_type": "stream",
     "text": [
      "Scenario pkl file for ego vehicle near construction cone_f2576c8a saved successfully.\n",
      "/home/crdavids/Trinity-Sync/refbot/output/sm_predictions/val/f2576c8a-da9b-450e-88cf-a70af1b0eadf/construction item on road_f2576c8a_claude-3-5-sonnet_predictions.pkl\n",
      "Cached scenario prediction found\n"
     ]
    },
    {
     "name": "stderr",
     "output_type": "stream",
     "text": [
      "140/149:  20%|██        | 2/10 [00:23<01:32, 11.62s/it]"
     ]
    },
    {
     "name": "stdout",
     "output_type": "stream",
     "text": [
      "Scenario pkl file for construction item on road_f2576c8a saved successfully.\n",
      "/home/crdavids/Trinity-Sync/refbot/output/sm_predictions/val/f2576c8a-da9b-450e-88cf-a70af1b0eadf/ego vehicle near construction barrel_f2576c8a_claude-3-5-sonnet_predictions.pkl\n",
      "Cached scenario prediction found\n"
     ]
    },
    {
     "name": "stderr",
     "output_type": "stream",
     "text": [
      "140/149:  30%|███       | 3/10 [00:34<01:19, 11.34s/it]"
     ]
    },
    {
     "name": "stdout",
     "output_type": "stream",
     "text": [
      "Scenario pkl file for ego vehicle near construction barrel_f2576c8a saved successfully.\n",
      "/home/crdavids/Trinity-Sync/refbot/output/sm_predictions/val/f2576c8a-da9b-450e-88cf-a70af1b0eadf/vehicle with multiple construction cones on the left side_f2576c8a_claude-3-5-sonnet_predictions.pkl\n",
      "Cached scenario prediction found\n"
     ]
    },
    {
     "name": "stderr",
     "output_type": "stream",
     "text": [
      "140/149:  40%|████      | 4/10 [01:25<02:43, 27.27s/it]"
     ]
    },
    {
     "name": "stdout",
     "output_type": "stream",
     "text": [
      "Scenario pkl file for vehicle with multiple construction cones on the left side_f2576c8a saved successfully.\n",
      "/home/crdavids/Trinity-Sync/refbot/output/sm_predictions/val/f2576c8a-da9b-450e-88cf-a70af1b0eadf/construction barrel with at least 2 construction cones within 3 meters_f2576c8a_claude-3-5-sonnet_predictions.pkl\n",
      "Cached scenario prediction found\n"
     ]
    },
    {
     "name": "stderr",
     "output_type": "stream",
     "text": [
      "140/149:  50%|█████     | 5/10 [02:16<02:58, 35.72s/it]"
     ]
    },
    {
     "name": "stdout",
     "output_type": "stream",
     "text": [
      "Scenario pkl file for construction barrel with at least 2 construction cones within 3 meters_f2576c8a saved successfully.\n",
      "/home/crdavids/Trinity-Sync/refbot/output/sm_predictions/val/f2576c8a-da9b-450e-88cf-a70af1b0eadf/vehicle two cars ahead is braking_f2576c8a_claude-3-5-sonnet_predictions.pkl\n",
      "Cached scenario prediction found\n"
     ]
    },
    {
     "name": "stderr",
     "output_type": "stream",
     "text": [
      "140/149:  60%|██████    | 6/10 [02:34<01:59, 29.77s/it]"
     ]
    },
    {
     "name": "stdout",
     "output_type": "stream",
     "text": [
      "Scenario pkl file for vehicle two cars ahead is braking_f2576c8a saved successfully.\n",
      "/home/crdavids/Trinity-Sync/refbot/output/sm_predictions/val/f2576c8a-da9b-450e-88cf-a70af1b0eadf/ego vehicle changing lanes near construction zone_f2576c8a_claude-3-5-sonnet_predictions.pkl\n",
      "Cached scenario prediction found\n"
     ]
    },
    {
     "name": "stderr",
     "output_type": "stream",
     "text": [
      "140/149:  70%|███████   | 7/10 [02:47<01:12, 24.25s/it]"
     ]
    },
    {
     "name": "stdout",
     "output_type": "stream",
     "text": [
      "Scenario pkl file for ego vehicle changing lanes near construction zone_f2576c8a saved successfully.\n",
      "/home/crdavids/Trinity-Sync/refbot/output/sm_predictions/val/f2576c8a-da9b-450e-88cf-a70af1b0eadf/vehicle two vehicles ahead is changing lanes_f2576c8a_claude-3-5-sonnet_predictions.pkl\n",
      "Cached scenario prediction found\n"
     ]
    },
    {
     "name": "stderr",
     "output_type": "stream",
     "text": [
      "140/149:  80%|████████  | 8/10 [02:58<00:39, 19.87s/it]"
     ]
    },
    {
     "name": "stdout",
     "output_type": "stream",
     "text": [
      "Scenario pkl file for vehicle two vehicles ahead is changing lanes_f2576c8a saved successfully.\n",
      "/home/crdavids/Trinity-Sync/refbot/output/sm_predictions/val/f2576c8a-da9b-450e-88cf-a70af1b0eadf/vehicle two cars ahead is changing lanes_f2576c8a_claude-3-5-sonnet_predictions.pkl\n",
      "Cached scenario prediction found\n"
     ]
    },
    {
     "name": "stderr",
     "output_type": "stream",
     "text": [
      "140/149:  90%|█████████ | 9/10 [03:09<00:17, 17.11s/it]"
     ]
    },
    {
     "name": "stdout",
     "output_type": "stream",
     "text": [
      "Scenario pkl file for vehicle two cars ahead is changing lanes_f2576c8a saved successfully.\n",
      "/home/crdavids/Trinity-Sync/refbot/output/sm_predictions/val/f2576c8a-da9b-450e-88cf-a70af1b0eadf/ego vehicle changing lanes to the left_f2576c8a_claude-3-5-sonnet_predictions.pkl\n",
      "Cached scenario prediction found\n"
     ]
    },
    {
     "name": "stderr",
     "output_type": "stream",
     "text": [
      "140/149: 100%|██████████| 10/10 [03:17<00:00, 19.73s/it]\n"
     ]
    },
    {
     "name": "stdout",
     "output_type": "stream",
     "text": [
      "Scenario pkl file for ego vehicle changing lanes to the left_f2576c8a saved successfully.\n",
      "f292cc5c-7a90-360d-b62a-074c643bdf59\n"
     ]
    },
    {
     "name": "stderr",
     "output_type": "stream",
     "text": [
      "141/149:   0%|          | 0/10 [00:00<?, ?it/s]"
     ]
    },
    {
     "name": "stdout",
     "output_type": "stream",
     "text": [
      "/home/crdavids/Trinity-Sync/refbot/output/sm_predictions/val/f292cc5c-7a90-360d-b62a-074c643bdf59/ego vehicle with parked bicycles ahead_f292cc5c_claude-3-5-sonnet_predictions.pkl\n",
      "Cached scenario prediction found\n"
     ]
    },
    {
     "name": "stderr",
     "output_type": "stream",
     "text": [
      "141/149:  10%|█         | 1/10 [00:07<01:11,  7.92s/it]"
     ]
    },
    {
     "name": "stdout",
     "output_type": "stream",
     "text": [
      "Scenario pkl file for ego vehicle with parked bicycles ahead_f292cc5c saved successfully.\n",
      "/home/crdavids/Trinity-Sync/refbot/output/sm_predictions/val/f292cc5c-7a90-360d-b62a-074c643bdf59/ego vehicle approaching crossing pedestrians_f292cc5c_claude-3-5-sonnet_predictions.pkl\n",
      "Cached scenario prediction found\n"
     ]
    },
    {
     "name": "stderr",
     "output_type": "stream",
     "text": [
      "141/149:  20%|██        | 2/10 [00:18<01:16,  9.52s/it]"
     ]
    },
    {
     "name": "stdout",
     "output_type": "stream",
     "text": [
      "Scenario pkl file for ego vehicle approaching crossing pedestrians_f292cc5c saved successfully.\n",
      "/home/crdavids/Trinity-Sync/refbot/output/sm_predictions/val/f292cc5c-7a90-360d-b62a-074c643bdf59/accelerating vehicle changing lanes to the right_f292cc5c_claude-3-5-sonnet_predictions.pkl\n",
      "Cached scenario prediction found\n"
     ]
    },
    {
     "name": "stderr",
     "output_type": "stream",
     "text": [
      "141/149:  30%|███       | 3/10 [00:32<01:20, 11.53s/it]"
     ]
    },
    {
     "name": "stdout",
     "output_type": "stream",
     "text": [
      "Scenario pkl file for accelerating vehicle changing lanes to the right_f292cc5c saved successfully.\n",
      "/home/crdavids/Trinity-Sync/refbot/output/sm_predictions/val/f292cc5c-7a90-360d-b62a-074c643bdf59/passenger vehicle turning right_f292cc5c_claude-3-5-sonnet_predictions.pkl\n",
      "Cached scenario prediction found\n"
     ]
    },
    {
     "name": "stderr",
     "output_type": "stream",
     "text": [
      "141/149:  40%|████      | 4/10 [00:41<01:04, 10.68s/it]"
     ]
    },
    {
     "name": "stdout",
     "output_type": "stream",
     "text": [
      "Scenario pkl file for passenger vehicle turning right_f292cc5c saved successfully.\n",
      "/home/crdavids/Trinity-Sync/refbot/output/sm_predictions/val/f292cc5c-7a90-360d-b62a-074c643bdf59/multiple pedestrians crossing ahead_f292cc5c_claude-3-5-sonnet_predictions.pkl\n",
      "Cached scenario prediction found\n"
     ]
    },
    {
     "name": "stderr",
     "output_type": "stream",
     "text": [
      "141/149:  50%|█████     | 5/10 [01:09<01:24, 16.80s/it]"
     ]
    },
    {
     "name": "stdout",
     "output_type": "stream",
     "text": [
      "Scenario pkl file for multiple pedestrians crossing ahead_f292cc5c saved successfully.\n",
      "/home/crdavids/Trinity-Sync/refbot/output/sm_predictions/val/f292cc5c-7a90-360d-b62a-074c643bdf59/vehicle directly facing a moving pedestrian from 5-15 meters away_f292cc5c_claude-3-5-sonnet_predictions.pkl\n",
      "Cached scenario prediction found\n"
     ]
    },
    {
     "name": "stderr",
     "output_type": "stream",
     "text": [
      "141/149:  60%|██████    | 6/10 [01:22<01:01, 15.40s/it]"
     ]
    },
    {
     "name": "stdout",
     "output_type": "stream",
     "text": [
      "Scenario pkl file for vehicle directly facing a moving pedestrian from 5-15 meters away_f292cc5c saved successfully.\n",
      "/home/crdavids/Trinity-Sync/refbot/output/sm_predictions/val/f292cc5c-7a90-360d-b62a-074c643bdf59/ego vehicle in dense traffic with lane-changing vehicles_f292cc5c_claude-3-5-sonnet_predictions.pkl\n",
      "Cached scenario prediction found\n"
     ]
    },
    {
     "name": "stderr",
     "output_type": "stream",
     "text": [
      "141/149:  70%|███████   | 7/10 [01:35<00:43, 14.63s/it]"
     ]
    },
    {
     "name": "stdout",
     "output_type": "stream",
     "text": [
      "Scenario pkl file for ego vehicle in dense traffic with lane-changing vehicles_f292cc5c saved successfully.\n",
      "/home/crdavids/Trinity-Sync/refbot/output/sm_predictions/val/f292cc5c-7a90-360d-b62a-074c643bdf59/pedestrian between moving vehicles on both sides_f292cc5c_claude-3-5-sonnet_predictions.pkl\n",
      "Cached scenario prediction found\n"
     ]
    },
    {
     "name": "stderr",
     "output_type": "stream",
     "text": [
      "141/149:  80%|████████  | 8/10 [01:54<00:32, 16.16s/it]"
     ]
    },
    {
     "name": "stdout",
     "output_type": "stream",
     "text": [
      "Scenario pkl file for pedestrian between moving vehicles on both sides_f292cc5c saved successfully.\n",
      "/home/crdavids/Trinity-Sync/refbot/output/sm_predictions/val/f292cc5c-7a90-360d-b62a-074c643bdf59/car turning right_f292cc5c_claude-3-5-sonnet_predictions.pkl\n",
      "Cached scenario prediction found\n"
     ]
    },
    {
     "name": "stderr",
     "output_type": "stream",
     "text": [
      "141/149:  90%|█████████ | 9/10 [02:03<00:13, 13.94s/it]"
     ]
    },
    {
     "name": "stdout",
     "output_type": "stream",
     "text": [
      "Scenario pkl file for car turning right_f292cc5c saved successfully.\n",
      "/home/crdavids/Trinity-Sync/refbot/output/sm_predictions/val/f292cc5c-7a90-360d-b62a-074c643bdf59/vehicle being followed by ego vehilce while being overtaken on right_f292cc5c_claude-3-5-sonnet_predictions.pkl\n",
      "vehicle being followed by ego vehilce while being overtaken on right definition saved to output/llm_scenario_predictions/claude-3-5-sonnet\n"
     ]
    },
    {
     "name": "stderr",
     "output_type": "stream",
     "text": [
      "141/149: 100%|██████████| 10/10 [02:40<00:00, 16.09s/it]\n"
     ]
    },
    {
     "name": "stdout",
     "output_type": "stream",
     "text": [
      "Scenario pkl file for vehicle being followed by ego vehicle while being overtaken on right_f292cc5c saved successfully.\n",
      "f3cd0d0d-8b71-3266-9732-d9f0d5778eb6\n"
     ]
    },
    {
     "name": "stderr",
     "output_type": "stream",
     "text": [
      "142/149:   0%|          | 0/10 [00:00<?, ?it/s]"
     ]
    },
    {
     "name": "stdout",
     "output_type": "stream",
     "text": [
      "/home/crdavids/Trinity-Sync/refbot/output/sm_predictions/val/f3cd0d0d-8b71-3266-9732-d9f0d5778eb6/pedestrian facing toward the bus_f3cd0d0d_claude-3-5-sonnet_predictions.pkl\n",
      "Cached scenario prediction found\n"
     ]
    },
    {
     "name": "stderr",
     "output_type": "stream",
     "text": [
      "142/149:  10%|█         | 1/10 [00:13<02:02, 13.63s/it]"
     ]
    },
    {
     "name": "stdout",
     "output_type": "stream",
     "text": [
      "Scenario pkl file for pedestrian facing toward the bus_f3cd0d0d saved successfully.\n",
      "/home/crdavids/Trinity-Sync/refbot/output/sm_predictions/val/f3cd0d0d-8b71-3266-9732-d9f0d5778eb6/construction item on road_f3cd0d0d_claude-3-5-sonnet_predictions.pkl\n",
      "Cached scenario prediction found\n"
     ]
    },
    {
     "name": "stderr",
     "output_type": "stream",
     "text": [
      "142/149:  20%|██        | 2/10 [00:23<01:31, 11.42s/it]"
     ]
    },
    {
     "name": "stdout",
     "output_type": "stream",
     "text": [
      "Scenario pkl file for construction item on road_f3cd0d0d saved successfully.\n",
      "/home/crdavids/Trinity-Sync/refbot/output/sm_predictions/val/f3cd0d0d-8b71-3266-9732-d9f0d5778eb6/vehicle being followed by ego vehilce while being overtaken on right_f3cd0d0d_claude-3-5-sonnet_predictions.pkl\n",
      "vehicle being followed by ego vehilce while being overtaken on right definition saved to output/llm_scenario_predictions/claude-3-5-sonnet\n"
     ]
    },
    {
     "name": "stderr",
     "output_type": "stream",
     "text": [
      "142/149:  30%|███       | 3/10 [00:43<01:47, 15.30s/it]"
     ]
    },
    {
     "name": "stdout",
     "output_type": "stream",
     "text": [
      "Scenario pkl file for vehicle being followed by ego vehicle while being overtaken on right_f3cd0d0d saved successfully.\n",
      "/home/crdavids/Trinity-Sync/refbot/output/sm_predictions/val/f3cd0d0d-8b71-3266-9732-d9f0d5778eb6/two cars back from the ego vehicle_f3cd0d0d_claude-3-5-sonnet_predictions.pkl\n",
      "Cached scenario prediction found\n"
     ]
    },
    {
     "name": "stderr",
     "output_type": "stream",
     "text": [
      "142/149:  40%|████      | 4/10 [01:05<01:47, 17.90s/it]"
     ]
    },
    {
     "name": "stdout",
     "output_type": "stream",
     "text": [
      "Scenario pkl file for two cars back from the ego vehicle_f3cd0d0d saved successfully.\n",
      "/home/crdavids/Trinity-Sync/refbot/output/sm_predictions/val/f3cd0d0d-8b71-3266-9732-d9f0d5778eb6/ego vehicle in dense traffic with lane-changing vehicles_f3cd0d0d_claude-3-5-sonnet_predictions.pkl\n",
      "Cached scenario prediction found\n"
     ]
    },
    {
     "name": "stderr",
     "output_type": "stream",
     "text": [
      "142/149:  50%|█████     | 5/10 [01:18<01:21, 16.21s/it]"
     ]
    },
    {
     "name": "stdout",
     "output_type": "stream",
     "text": [
      "Scenario pkl file for ego vehicle in dense traffic with lane-changing vehicles_f3cd0d0d saved successfully.\n",
      "/home/crdavids/Trinity-Sync/refbot/output/sm_predictions/val/f3cd0d0d-8b71-3266-9732-d9f0d5778eb6/left lane change while there is a vehicle to the left_f3cd0d0d_claude-3-5-sonnet_predictions.pkl\n",
      "Cached scenario prediction found\n"
     ]
    },
    {
     "name": "stderr",
     "output_type": "stream",
     "text": [
      "142/149:  60%|██████    | 6/10 [01:34<01:04, 16.14s/it]"
     ]
    },
    {
     "name": "stdout",
     "output_type": "stream",
     "text": [
      "Scenario pkl file for left lane change while there is a vehicle to the left_f3cd0d0d saved successfully.\n",
      "/home/crdavids/Trinity-Sync/refbot/output/sm_predictions/val/f3cd0d0d-8b71-3266-9732-d9f0d5778eb6/making a left lane change while there is a vehicle to the right_f3cd0d0d_claude-3-5-sonnet_predictions.pkl\n",
      "Cached scenario prediction found\n"
     ]
    },
    {
     "name": "stderr",
     "output_type": "stream",
     "text": [
      "142/149:  70%|███████   | 7/10 [01:47<00:45, 15.17s/it]"
     ]
    },
    {
     "name": "stdout",
     "output_type": "stream",
     "text": [
      "Scenario pkl file for making a left lane change while there is a vehicle to the right_f3cd0d0d saved successfully.\n",
      "/home/crdavids/Trinity-Sync/refbot/output/sm_predictions/val/f3cd0d0d-8b71-3266-9732-d9f0d5778eb6/ego vehicle near construction barrel_f3cd0d0d_claude-3-5-sonnet_predictions.pkl\n",
      "Cached scenario prediction found\n"
     ]
    },
    {
     "name": "stderr",
     "output_type": "stream",
     "text": [
      "142/149:  80%|████████  | 8/10 [01:55<00:25, 12.92s/it]"
     ]
    },
    {
     "name": "stdout",
     "output_type": "stream",
     "text": [
      "Scenario pkl file for ego vehicle near construction barrel_f3cd0d0d saved successfully.\n",
      "/home/crdavids/Trinity-Sync/refbot/output/sm_predictions/val/f3cd0d0d-8b71-3266-9732-d9f0d5778eb6/ego vehicle following vehicle being overtaken on right_f3cd0d0d_claude-3-5-sonnet_predictions.pkl\n",
      "Cached scenario prediction found\n"
     ]
    },
    {
     "name": "stderr",
     "output_type": "stream",
     "text": [
      "142/149:  90%|█████████ | 9/10 [02:17<00:15, 15.82s/it]"
     ]
    },
    {
     "name": "stdout",
     "output_type": "stream",
     "text": [
      "Scenario pkl file for ego vehicle following vehicle being overtaken on right_f3cd0d0d saved successfully.\n",
      "/home/crdavids/Trinity-Sync/refbot/output/sm_predictions/val/f3cd0d0d-8b71-3266-9732-d9f0d5778eb6/oncoming vehicle changing lanes_f3cd0d0d_claude-3-5-sonnet_predictions.pkl\n",
      "Cached scenario prediction found\n"
     ]
    },
    {
     "name": "stderr",
     "output_type": "stream",
     "text": [
      "142/149: 100%|██████████| 10/10 [02:37<00:00, 15.76s/it]\n"
     ]
    },
    {
     "name": "stdout",
     "output_type": "stream",
     "text": [
      "Scenario pkl file for oncoming vehicle changing lanes_f3cd0d0d saved successfully.\n",
      "f4c94798-4d77-36ab-bdc5-c1194e5e7aff\n"
     ]
    },
    {
     "name": "stderr",
     "output_type": "stream",
     "text": [
      "143/149:   0%|          | 0/10 [00:00<?, ?it/s]"
     ]
    },
    {
     "name": "stdout",
     "output_type": "stream",
     "text": [
      "/home/crdavids/Trinity-Sync/refbot/output/sm_predictions/val/f4c94798-4d77-36ab-bdc5-c1194e5e7aff/city bus_f4c94798_claude-3-5-sonnet_predictions.pkl\n",
      "Cached scenario prediction found\n"
     ]
    },
    {
     "name": "stderr",
     "output_type": "stream",
     "text": [
      "143/149:  10%|█         | 1/10 [00:06<01:02,  6.99s/it]"
     ]
    },
    {
     "name": "stdout",
     "output_type": "stream",
     "text": [
      "Scenario pkl file for city bus_f4c94798 saved successfully.\n",
      "/home/crdavids/Trinity-Sync/refbot/output/sm_predictions/val/f4c94798-4d77-36ab-bdc5-c1194e5e7aff/ego vehicle approaching pedestrian at crosswalk_f4c94798_claude-3-5-sonnet_predictions.pkl\n",
      "Cached scenario prediction found\n"
     ]
    },
    {
     "name": "stderr",
     "output_type": "stream",
     "text": [
      "143/149:  20%|██        | 2/10 [00:15<01:03,  7.91s/it]"
     ]
    },
    {
     "name": "stdout",
     "output_type": "stream",
     "text": [
      "Scenario pkl file for ego vehicle approaching pedestrian at crosswalk_f4c94798 saved successfully.\n",
      "/home/crdavids/Trinity-Sync/refbot/output/sm_predictions/val/f4c94798-4d77-36ab-bdc5-c1194e5e7aff/vehicle turning right with pedestrian waiting_f4c94798_claude-3-5-sonnet_predictions.pkl\n",
      "Cached scenario prediction found\n"
     ]
    },
    {
     "name": "stderr",
     "output_type": "stream",
     "text": [
      "143/149:  30%|███       | 3/10 [00:35<01:34, 13.46s/it]"
     ]
    },
    {
     "name": "stdout",
     "output_type": "stream",
     "text": [
      "Scenario pkl file for vehicle turning right with pedestrian waiting_f4c94798 saved successfully.\n",
      "/home/crdavids/Trinity-Sync/refbot/output/sm_predictions/val/f4c94798-4d77-36ab-bdc5-c1194e5e7aff/passenger vehicle turning left at intersection_f4c94798_claude-3-5-sonnet_predictions.pkl\n",
      "Cached scenario prediction found\n"
     ]
    },
    {
     "name": "stderr",
     "output_type": "stream",
     "text": [
      "143/149:  40%|████      | 4/10 [00:43<01:07, 11.33s/it]"
     ]
    },
    {
     "name": "stdout",
     "output_type": "stream",
     "text": [
      "Scenario pkl file for passenger vehicle turning left at intersection_f4c94798 saved successfully.\n",
      "/home/crdavids/Trinity-Sync/refbot/output/sm_predictions/val/f4c94798-4d77-36ab-bdc5-c1194e5e7aff/vehicle changing lanes to the right_f4c94798_claude-3-5-sonnet_predictions.pkl\n",
      "Cached scenario prediction found\n"
     ]
    },
    {
     "name": "stderr",
     "output_type": "stream",
     "text": [
      "143/149:  50%|█████     | 5/10 [00:54<00:55, 11.10s/it]"
     ]
    },
    {
     "name": "stdout",
     "output_type": "stream",
     "text": [
      "Scenario pkl file for vehicle changing lanes to the right_f4c94798 saved successfully.\n",
      "/home/crdavids/Trinity-Sync/refbot/output/sm_predictions/val/f4c94798-4d77-36ab-bdc5-c1194e5e7aff/pedestrian facing toward the bus_f4c94798_claude-3-5-sonnet_predictions.pkl\n",
      "Cached scenario prediction found\n"
     ]
    },
    {
     "name": "stderr",
     "output_type": "stream",
     "text": [
      "143/149:  60%|██████    | 6/10 [01:09<00:50, 12.59s/it]"
     ]
    },
    {
     "name": "stdout",
     "output_type": "stream",
     "text": [
      "Scenario pkl file for pedestrian facing toward the bus_f4c94798 saved successfully.\n",
      "/home/crdavids/Trinity-Sync/refbot/output/sm_predictions/val/f4c94798-4d77-36ab-bdc5-c1194e5e7aff/passenger vehicle swerving left_f4c94798_claude-3-5-sonnet_predictions.pkl\n",
      "Cached scenario prediction found\n"
     ]
    },
    {
     "name": "stderr",
     "output_type": "stream",
     "text": [
      "143/149:  70%|███████   | 7/10 [01:20<00:36, 12.06s/it]"
     ]
    },
    {
     "name": "stdout",
     "output_type": "stream",
     "text": [
      "Scenario pkl file for passenger vehicle swerving left_f4c94798 saved successfully.\n",
      "/home/crdavids/Trinity-Sync/refbot/output/sm_predictions/val/f4c94798-4d77-36ab-bdc5-c1194e5e7aff/multiple buses within 50 meters ahead_f4c94798_claude-3-5-sonnet_predictions.pkl\n",
      "Cached scenario prediction found\n"
     ]
    },
    {
     "name": "stderr",
     "output_type": "stream",
     "text": [
      "143/149:  80%|████████  | 8/10 [01:35<00:26, 13.01s/it]"
     ]
    },
    {
     "name": "stdout",
     "output_type": "stream",
     "text": [
      "Scenario pkl file for multiple buses within 50 meters ahead_f4c94798 saved successfully.\n",
      "/home/crdavids/Trinity-Sync/refbot/output/sm_predictions/val/f4c94798-4d77-36ab-bdc5-c1194e5e7aff/vehicle two vehicles ahead is at a stop sign_f4c94798_claude-3-5-sonnet_predictions.pkl\n",
      "Cached scenario prediction found\n",
      "Correct lane segment not found for stop sign!\n",
      "Correct lane segment not found for stop sign!\n",
      "Correct lane segment not found for stop sign!\n",
      "Correct lane segment not found for stop sign!\n"
     ]
    }
   ],
   "source": [
    "import json\n",
    "from tqdm import tqdm\n",
    "from pathlib import Path\n",
    "from refAV.paths import SM_PRED_DIR, LLM_DEF_DIR\n",
    "from refAV.eval import create_baseline_prediction\n",
    "\n",
    "log_prompt_input_path = Path('av2_sm_downloads/log_prompt_pairs_val.json')\n",
    "with open(log_prompt_input_path, 'rb') as f:\n",
    "\tlog_prompts = json.load(f)\n",
    "\n",
    "method_name = 'claude-3-5-sonnet'\n",
    "for i, (log_id, prompts) in enumerate(log_prompts.items()):\n",
    "\tprint(log_id)\n",
    "\tfor prompt in tqdm(prompts, desc=f'{i}/{len(log_prompts)}'):\n",
    "\t\tcreate_baseline_prediction(prompt, log_id, SM_PRED_DIR / 'val', LLM_DEF_DIR, method_name=method_name)"
   ]
  },
  {
   "cell_type": "markdown",
   "metadata": {},
   "source": [
    "The combine_matching_pkls function will combine all prediction and ground truth .pkl files into a single .pkl file. This is the .pkl file that is used for submission to the leaderboard. Running evaluate_pkls will the predicted tracks across four metrics: HOTA-Temporal, HOTA, timestamp-level F1, and scenario-level F1."
   ]
  },
  {
   "cell_type": "code",
   "execution_count": null,
   "metadata": {},
   "outputs": [],
   "source": [
    "from pathlib import Path\n",
    "from refAV.paths import SM_DATA_DIR, SM_PRED_DIR\n",
    "from refAV.eval import combine_matching_pkls, evaluate_pkls\n",
    "\n",
    "eval_output_dir = Path(f'output/evaluation/val')\n",
    "combine_matching_pkls(SM_DATA_DIR / 'val', SM_PRED_DIR / 'val', eval_output_dir, method_name=method_name)\n",
    "evaluate_pkls(eval_output_dir / f'{method_name}_predictions.pkl', eval_output_dir / 'combined_gt.pkl')\n",
    "\n"
   ]
  },
  {
   "cell_type": "markdown",
   "metadata": {},
   "source": [
    "If the evaluate function executes successfully, your predictions .pkl file is ready to submit to the EvalAI server for evaluation. Create a profile at EvalAI [EvalAI](https://eval.ai/) in to receive an account token. This code will submit to the validation set.\n",
    "\n",
    "```bash\n",
    "pip install evalai\n",
    "evalai set_token <EvalAI_account_token>\n",
    "evalai challenge 2469 phase 4899 submit --file output/evaluation/val/combined_predictions.pkl --large\n",
    "```"
   ]
  }
 ],
 "metadata": {
  "kernelspec": {
   "display_name": "refbot",
   "language": "python",
   "name": "python3"
  },
  "language_info": {
   "codemirror_mode": {
    "name": "ipython",
    "version": 3
   },
   "file_extension": ".py",
   "mimetype": "text/x-python",
   "name": "python",
   "nbconvert_exporter": "python",
   "pygments_lexer": "ipython3",
   "version": "3.12.9"
  }
 },
 "nbformat": 4,
 "nbformat_minor": 2
}
