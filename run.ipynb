{
 "cells": [
  {
   "cell_type": "code",
   "execution_count": null,
   "metadata": {},
   "outputs": [],
   "source": [
    "from pathlib import Path\n",
    "from refAV.paths import *\n",
    "from refAV.dataset_conversion import separate_scenario_mining_annotations, pickle_to_feather\n",
    "\n",
    "sm_val_feather = Path('av2_sm_downloads/scenario_mining_val_annotations.feather')\n",
    "separate_scenario_mining_annotations(sm_val_feather, SM_DATA_DIR)\n",
    "pickle_to_feather()"
   ]
  },
  {
   "cell_type": "code",
   "execution_count": null,
   "metadata": {},
   "outputs": [],
   "source": []
  },
  {
   "cell_type": "code",
   "execution_count": null,
   "metadata": {},
   "outputs": [],
   "source": []
  }
 ],
 "metadata": {
  "language_info": {
   "name": "python"
  }
 },
 "nbformat": 4,
 "nbformat_minor": 2
}
